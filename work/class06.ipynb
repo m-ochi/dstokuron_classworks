{
 "cells": [
  {
   "cell_type": "code",
   "execution_count": 1,
   "id": "08a375fe-3261-4d61-8e3c-24eae295f55a",
   "metadata": {},
   "outputs": [],
   "source": [
    "import nltk"
   ]
  },
  {
   "cell_type": "markdown",
   "id": "a22955ea-1085-4625-a49c-eb1f2992a113",
   "metadata": {},
   "source": [
    "## 分かち書き(英語)"
   ]
  },
  {
   "cell_type": "code",
   "execution_count": 2,
   "id": "131b9afa-eb03-4ecc-aa26-1283ea3d0fbb",
   "metadata": {},
   "outputs": [],
   "source": [
    "sentence = r'''US President Donald Trump has celebrated the 100th day of his second term in office with a campaign-style speech, touting his achievements and targeting political foes. Hailing what he called a \"revolution of common sense\", he told a crowd of supporters in Michigan that he was using his presidency to deliver \"profound change\".\n",
    "The Republican mocked his Democratic predecessor, Joe Biden, and aimed fresh criticism at the US Federal Reserve's chairman, while dismissing polls that show his own popularity slipping.'''"
   ]
  },
  {
   "cell_type": "code",
   "execution_count": 3,
   "id": "13f12139-4944-4da8-93ca-68b7b2f9b56e",
   "metadata": {
    "scrolled": true
   },
   "outputs": [
    {
     "name": "stdout",
     "output_type": "stream",
     "text": [
      "US President Donald Trump has celebrated the 100th day of his second term in office with a campaign-style speech, touting his achievements and targeting political foes. Hailing what he called a \"revolution of common sense\", he told a crowd of supporters in Michigan that he was using his presidency to deliver \"profound change\".\n",
      "The Republican mocked his Democratic predecessor, Joe Biden, and aimed fresh criticism at the US Federal Reserve's chairman, while dismissing polls that show his own popularity slipping.\n"
     ]
    }
   ],
   "source": [
    "print(sentence)"
   ]
  },
  {
   "cell_type": "code",
   "execution_count": 4,
   "id": "882a2f52-d3b4-4e3c-9136-428c3c4dde0d",
   "metadata": {},
   "outputs": [
    {
     "data": {
      "text/plain": [
       "['US',\n",
       " 'President',\n",
       " 'Donald',\n",
       " 'Trump',\n",
       " 'has',\n",
       " 'celebrated',\n",
       " 'the',\n",
       " '100th',\n",
       " 'day',\n",
       " 'of',\n",
       " 'his',\n",
       " 'second',\n",
       " 'term',\n",
       " 'in',\n",
       " 'office',\n",
       " 'with',\n",
       " 'a',\n",
       " 'campaign-style',\n",
       " 'speech,',\n",
       " 'touting',\n",
       " 'his',\n",
       " 'achievements',\n",
       " 'and',\n",
       " 'targeting',\n",
       " 'political',\n",
       " 'foes.',\n",
       " 'Hailing',\n",
       " 'what',\n",
       " 'he',\n",
       " 'called',\n",
       " 'a',\n",
       " '\"revolution',\n",
       " 'of',\n",
       " 'common',\n",
       " 'sense\",',\n",
       " 'he',\n",
       " 'told',\n",
       " 'a',\n",
       " 'crowd',\n",
       " 'of',\n",
       " 'supporters',\n",
       " 'in',\n",
       " 'Michigan',\n",
       " 'that',\n",
       " 'he',\n",
       " 'was',\n",
       " 'using',\n",
       " 'his',\n",
       " 'presidency',\n",
       " 'to',\n",
       " 'deliver',\n",
       " '\"profound',\n",
       " 'change\".\\nThe',\n",
       " 'Republican',\n",
       " 'mocked',\n",
       " 'his',\n",
       " 'Democratic',\n",
       " 'predecessor,',\n",
       " 'Joe',\n",
       " 'Biden,',\n",
       " 'and',\n",
       " 'aimed',\n",
       " 'fresh',\n",
       " 'criticism',\n",
       " 'at',\n",
       " 'the',\n",
       " 'US',\n",
       " 'Federal',\n",
       " \"Reserve's\",\n",
       " 'chairman,',\n",
       " 'while',\n",
       " 'dismissing',\n",
       " 'polls',\n",
       " 'that',\n",
       " 'show',\n",
       " 'his',\n",
       " 'own',\n",
       " 'popularity',\n",
       " 'slipping.']"
      ]
     },
     "execution_count": 4,
     "metadata": {},
     "output_type": "execute_result"
    }
   ],
   "source": [
    "sentence.split(' ')"
   ]
  },
  {
   "cell_type": "code",
   "execution_count": 5,
   "id": "15746fd3-52ef-461d-95f7-e4485bcec83c",
   "metadata": {},
   "outputs": [
    {
     "name": "stderr",
     "output_type": "stream",
     "text": [
      "[nltk_data] Downloading package punkt_tab to /home/jovyan/nltk_data...\n",
      "[nltk_data]   Unzipping tokenizers/punkt_tab.zip.\n"
     ]
    },
    {
     "data": {
      "text/plain": [
       "True"
      ]
     },
     "execution_count": 5,
     "metadata": {},
     "output_type": "execute_result"
    }
   ],
   "source": [
    "from nltk import word_tokenize\n",
    "\n",
    "nltk.download('punkt_tab')"
   ]
  },
  {
   "cell_type": "code",
   "execution_count": 6,
   "id": "73d622d4-ff1a-47b6-9688-857463babc15",
   "metadata": {
    "scrolled": true
   },
   "outputs": [],
   "source": [
    "words = word_tokenize(sentence)"
   ]
  },
  {
   "cell_type": "code",
   "execution_count": 7,
   "id": "6b239484-12de-42ca-be1c-635051c6a86c",
   "metadata": {},
   "outputs": [
    {
     "data": {
      "text/plain": [
       "['US',\n",
       " 'President',\n",
       " 'Donald',\n",
       " 'Trump',\n",
       " 'has',\n",
       " 'celebrated',\n",
       " 'the',\n",
       " '100th',\n",
       " 'day',\n",
       " 'of',\n",
       " 'his',\n",
       " 'second',\n",
       " 'term',\n",
       " 'in',\n",
       " 'office',\n",
       " 'with',\n",
       " 'a',\n",
       " 'campaign-style',\n",
       " 'speech',\n",
       " ',',\n",
       " 'touting',\n",
       " 'his',\n",
       " 'achievements',\n",
       " 'and',\n",
       " 'targeting',\n",
       " 'political',\n",
       " 'foes',\n",
       " '.',\n",
       " 'Hailing',\n",
       " 'what',\n",
       " 'he',\n",
       " 'called',\n",
       " 'a',\n",
       " '``',\n",
       " 'revolution',\n",
       " 'of',\n",
       " 'common',\n",
       " 'sense',\n",
       " \"''\",\n",
       " ',',\n",
       " 'he',\n",
       " 'told',\n",
       " 'a',\n",
       " 'crowd',\n",
       " 'of',\n",
       " 'supporters',\n",
       " 'in',\n",
       " 'Michigan',\n",
       " 'that',\n",
       " 'he',\n",
       " 'was',\n",
       " 'using',\n",
       " 'his',\n",
       " 'presidency',\n",
       " 'to',\n",
       " 'deliver',\n",
       " '``',\n",
       " 'profound',\n",
       " 'change',\n",
       " \"''\",\n",
       " '.',\n",
       " 'The',\n",
       " 'Republican',\n",
       " 'mocked',\n",
       " 'his',\n",
       " 'Democratic',\n",
       " 'predecessor',\n",
       " ',',\n",
       " 'Joe',\n",
       " 'Biden',\n",
       " ',',\n",
       " 'and',\n",
       " 'aimed',\n",
       " 'fresh',\n",
       " 'criticism',\n",
       " 'at',\n",
       " 'the',\n",
       " 'US',\n",
       " 'Federal',\n",
       " 'Reserve',\n",
       " \"'s\",\n",
       " 'chairman',\n",
       " ',',\n",
       " 'while',\n",
       " 'dismissing',\n",
       " 'polls',\n",
       " 'that',\n",
       " 'show',\n",
       " 'his',\n",
       " 'own',\n",
       " 'popularity',\n",
       " 'slipping',\n",
       " '.']"
      ]
     },
     "execution_count": 7,
     "metadata": {},
     "output_type": "execute_result"
    }
   ],
   "source": [
    "words"
   ]
  },
  {
   "cell_type": "markdown",
   "id": "dac4cb1c-5e01-4c6b-81fa-611e0964e95c",
   "metadata": {},
   "source": [
    "## 形態素解析(英語)"
   ]
  },
  {
   "cell_type": "code",
   "execution_count": 8,
   "id": "425dd7d7-0db7-43cf-a01b-24001d345be4",
   "metadata": {},
   "outputs": [],
   "source": [
    "from nltk import pos_tag"
   ]
  },
  {
   "cell_type": "code",
   "execution_count": 9,
   "id": "90bb56e4-b412-4a13-80bd-02e939c515dd",
   "metadata": {},
   "outputs": [
    {
     "name": "stderr",
     "output_type": "stream",
     "text": [
      "[nltk_data] Downloading package averaged_perceptron_tagger_eng to\n",
      "[nltk_data]     /home/jovyan/nltk_data...\n",
      "[nltk_data]   Unzipping taggers/averaged_perceptron_tagger_eng.zip.\n"
     ]
    },
    {
     "data": {
      "text/plain": [
       "True"
      ]
     },
     "execution_count": 9,
     "metadata": {},
     "output_type": "execute_result"
    }
   ],
   "source": [
    "nltk.download('averaged_perceptron_tagger_eng')"
   ]
  },
  {
   "cell_type": "code",
   "execution_count": 10,
   "id": "21695eb5-b676-4f8c-8f82-328b87140bad",
   "metadata": {},
   "outputs": [
    {
     "data": {
      "text/plain": [
       "[('US', 'NNP'),\n",
       " ('President', 'NNP'),\n",
       " ('Donald', 'NNP'),\n",
       " ('Trump', 'NNP'),\n",
       " ('has', 'VBZ'),\n",
       " ('celebrated', 'VBN'),\n",
       " ('the', 'DT'),\n",
       " ('100th', 'JJ'),\n",
       " ('day', 'NN'),\n",
       " ('of', 'IN'),\n",
       " ('his', 'PRP$'),\n",
       " ('second', 'JJ'),\n",
       " ('term', 'NN'),\n",
       " ('in', 'IN'),\n",
       " ('office', 'NN'),\n",
       " ('with', 'IN'),\n",
       " ('a', 'DT'),\n",
       " ('campaign-style', 'JJ'),\n",
       " ('speech', 'NN'),\n",
       " (',', ','),\n",
       " ('touting', 'VBG'),\n",
       " ('his', 'PRP$'),\n",
       " ('achievements', 'NNS'),\n",
       " ('and', 'CC'),\n",
       " ('targeting', 'VBG'),\n",
       " ('political', 'JJ'),\n",
       " ('foes', 'NNS'),\n",
       " ('.', '.'),\n",
       " ('Hailing', 'VBG'),\n",
       " ('what', 'WP'),\n",
       " ('he', 'PRP'),\n",
       " ('called', 'VBD'),\n",
       " ('a', 'DT'),\n",
       " ('``', '``'),\n",
       " ('revolution', 'NN'),\n",
       " ('of', 'IN'),\n",
       " ('common', 'JJ'),\n",
       " ('sense', 'NN'),\n",
       " (\"''\", \"''\"),\n",
       " (',', ','),\n",
       " ('he', 'PRP'),\n",
       " ('told', 'VBD'),\n",
       " ('a', 'DT'),\n",
       " ('crowd', 'NN'),\n",
       " ('of', 'IN'),\n",
       " ('supporters', 'NNS'),\n",
       " ('in', 'IN'),\n",
       " ('Michigan', 'NNP'),\n",
       " ('that', 'IN'),\n",
       " ('he', 'PRP'),\n",
       " ('was', 'VBD'),\n",
       " ('using', 'VBG'),\n",
       " ('his', 'PRP$'),\n",
       " ('presidency', 'NN'),\n",
       " ('to', 'TO'),\n",
       " ('deliver', 'VB'),\n",
       " ('``', '``'),\n",
       " ('profound', 'JJ'),\n",
       " ('change', 'NN'),\n",
       " (\"''\", \"''\"),\n",
       " ('.', '.'),\n",
       " ('The', 'DT'),\n",
       " ('Republican', 'JJ'),\n",
       " ('mocked', 'VBD'),\n",
       " ('his', 'PRP$'),\n",
       " ('Democratic', 'JJ'),\n",
       " ('predecessor', 'NN'),\n",
       " (',', ','),\n",
       " ('Joe', 'NNP'),\n",
       " ('Biden', 'NNP'),\n",
       " (',', ','),\n",
       " ('and', 'CC'),\n",
       " ('aimed', 'VBN'),\n",
       " ('fresh', 'JJ'),\n",
       " ('criticism', 'NN'),\n",
       " ('at', 'IN'),\n",
       " ('the', 'DT'),\n",
       " ('US', 'NNP'),\n",
       " ('Federal', 'NNP'),\n",
       " ('Reserve', 'NNP'),\n",
       " (\"'s\", 'POS'),\n",
       " ('chairman', 'NN'),\n",
       " (',', ','),\n",
       " ('while', 'IN'),\n",
       " ('dismissing', 'VBG'),\n",
       " ('polls', 'NNS'),\n",
       " ('that', 'WDT'),\n",
       " ('show', 'VBP'),\n",
       " ('his', 'PRP$'),\n",
       " ('own', 'JJ'),\n",
       " ('popularity', 'NN'),\n",
       " ('slipping', 'NN'),\n",
       " ('.', '.')]"
      ]
     },
     "execution_count": 10,
     "metadata": {},
     "output_type": "execute_result"
    }
   ],
   "source": [
    "pos_tag(words)"
   ]
  },
  {
   "cell_type": "markdown",
   "id": "9205a64f-4c52-4221-9678-20286c0f63f3",
   "metadata": {},
   "source": [
    "## 分かち書き（日本語）"
   ]
  },
  {
   "cell_type": "code",
   "execution_count": 11,
   "id": "fd1ffd3d-9304-4aa0-8ecb-0951016c4e53",
   "metadata": {},
   "outputs": [],
   "source": [
    "import janome\n",
    "from janome.tokenizer import Tokenizer"
   ]
  },
  {
   "cell_type": "code",
   "execution_count": 12,
   "id": "673aab4a-f86e-4816-a848-f5f18a19c4f2",
   "metadata": {},
   "outputs": [],
   "source": [
    "sentence = r'''誰にも看取られず、静かにこの世を去っていく人たちがいる。発見されるまでに数週間かかることもあり、遺体は傷む。地域や友人とのつながりが次第に消えていった人たち。'''"
   ]
  },
  {
   "cell_type": "code",
   "execution_count": 13,
   "id": "cf85af09-eb19-4be9-90c5-8811c85ffe7f",
   "metadata": {},
   "outputs": [],
   "source": [
    "t = Tokenizer()"
   ]
  },
  {
   "cell_type": "code",
   "execution_count": 14,
   "id": "58abf830-0d23-458b-b910-9c19575468ce",
   "metadata": {},
   "outputs": [
    {
     "data": {
      "text/plain": [
       "['誰',\n",
       " 'に',\n",
       " 'も',\n",
       " '看取ら',\n",
       " 'れ',\n",
       " 'ず',\n",
       " '、',\n",
       " '静か',\n",
       " 'に',\n",
       " 'この世',\n",
       " 'を',\n",
       " '去っ',\n",
       " 'て',\n",
       " 'いく',\n",
       " '人',\n",
       " 'たち',\n",
       " 'が',\n",
       " 'いる',\n",
       " '。',\n",
       " '発見',\n",
       " 'さ',\n",
       " 'れる',\n",
       " 'まで',\n",
       " 'に',\n",
       " '数',\n",
       " '週間',\n",
       " 'かかる',\n",
       " 'こと',\n",
       " 'も',\n",
       " 'あり',\n",
       " '、',\n",
       " '遺体',\n",
       " 'は',\n",
       " '傷む',\n",
       " '。',\n",
       " '地域',\n",
       " 'や',\n",
       " '友人',\n",
       " 'と',\n",
       " 'の',\n",
       " 'つながり',\n",
       " 'が',\n",
       " '次第に',\n",
       " '消え',\n",
       " 'て',\n",
       " 'いっ',\n",
       " 'た',\n",
       " '人',\n",
       " 'たち',\n",
       " '。']"
      ]
     },
     "execution_count": 14,
     "metadata": {},
     "output_type": "execute_result"
    }
   ],
   "source": [
    "list(t.tokenize(sentence, wakati=True))"
   ]
  },
  {
   "cell_type": "markdown",
   "id": "3a393851-e141-4d51-9358-4f973eb45c92",
   "metadata": {},
   "source": [
    "## 形態素分析（日本語）"
   ]
  },
  {
   "cell_type": "code",
   "execution_count": 15,
   "id": "a7fb9f99-ecdb-41c1-8251-bb0b567db33d",
   "metadata": {},
   "outputs": [
    {
     "name": "stdout",
     "output_type": "stream",
     "text": [
      "誰\t名詞,代名詞,一般,*,*,*,誰,ダレ,ダレ\n",
      "に\t助詞,格助詞,一般,*,*,*,に,ニ,ニ\n",
      "も\t助詞,係助詞,*,*,*,*,も,モ,モ\n",
      "看取ら\t動詞,自立,*,*,五段・ラ行,未然形,看取る,ミトラ,ミトラ\n",
      "れ\t動詞,接尾,*,*,一段,未然形,れる,レ,レ\n",
      "ず\t助動詞,*,*,*,特殊・ヌ,連用ニ接続,ぬ,ズ,ズ\n",
      "、\t記号,読点,*,*,*,*,、,、,、\n",
      "静か\t名詞,形容動詞語幹,*,*,*,*,静か,シズカ,シズカ\n",
      "に\t助詞,副詞化,*,*,*,*,に,ニ,ニ\n",
      "この世\t名詞,一般,*,*,*,*,この世,コノヨ,コノヨ\n",
      "を\t助詞,格助詞,一般,*,*,*,を,ヲ,ヲ\n",
      "去っ\t動詞,自立,*,*,五段・ラ行,連用タ接続,去る,サッ,サッ\n",
      "て\t助詞,接続助詞,*,*,*,*,て,テ,テ\n",
      "いく\t動詞,非自立,*,*,五段・カ行促音便,基本形,いく,イク,イク\n",
      "人\t名詞,一般,*,*,*,*,人,ヒト,ヒト\n",
      "たち\t名詞,接尾,一般,*,*,*,たち,タチ,タチ\n",
      "が\t助詞,格助詞,一般,*,*,*,が,ガ,ガ\n",
      "いる\t動詞,自立,*,*,一段,基本形,いる,イル,イル\n",
      "。\t記号,句点,*,*,*,*,。,。,。\n",
      "発見\t名詞,サ変接続,*,*,*,*,発見,ハッケン,ハッケン\n",
      "さ\t動詞,自立,*,*,サ変・スル,未然レル接続,する,サ,サ\n",
      "れる\t動詞,接尾,*,*,一段,基本形,れる,レル,レル\n",
      "まで\t助詞,副助詞,*,*,*,*,まで,マデ,マデ\n",
      "に\t助詞,格助詞,一般,*,*,*,に,ニ,ニ\n",
      "数\t名詞,数,*,*,*,*,数,スウ,スー\n",
      "週間\t名詞,接尾,助数詞,*,*,*,週間,シュウカン,シューカン\n",
      "かかる\t動詞,自立,*,*,五段・ラ行,基本形,かかる,カカル,カカル\n",
      "こと\t名詞,非自立,一般,*,*,*,こと,コト,コト\n",
      "も\t助詞,係助詞,*,*,*,*,も,モ,モ\n",
      "あり\t動詞,自立,*,*,五段・ラ行,連用形,ある,アリ,アリ\n",
      "、\t記号,読点,*,*,*,*,、,、,、\n",
      "遺体\t名詞,一般,*,*,*,*,遺体,イタイ,イタイ\n",
      "は\t助詞,係助詞,*,*,*,*,は,ハ,ワ\n",
      "傷む\t動詞,自立,*,*,五段・マ行,基本形,傷む,イタム,イタム\n",
      "。\t記号,句点,*,*,*,*,。,。,。\n",
      "地域\t名詞,一般,*,*,*,*,地域,チイキ,チイキ\n",
      "や\t助詞,並立助詞,*,*,*,*,や,ヤ,ヤ\n",
      "友人\t名詞,一般,*,*,*,*,友人,ユウジン,ユージン\n",
      "と\t助詞,格助詞,一般,*,*,*,と,ト,ト\n",
      "の\t助詞,連体化,*,*,*,*,の,ノ,ノ\n",
      "つながり\t名詞,一般,*,*,*,*,つながり,ツナガリ,ツナガリ\n",
      "が\t助詞,格助詞,一般,*,*,*,が,ガ,ガ\n",
      "次第に\t副詞,一般,*,*,*,*,次第に,シダイニ,シダイニ\n",
      "消え\t動詞,自立,*,*,一段,連用形,消える,キエ,キエ\n",
      "て\t助詞,接続助詞,*,*,*,*,て,テ,テ\n",
      "いっ\t動詞,非自立,*,*,五段・カ行促音便,連用タ接続,いく,イッ,イッ\n",
      "た\t助動詞,*,*,*,特殊・タ,基本形,た,タ,タ\n",
      "人\t名詞,一般,*,*,*,*,人,ヒト,ヒト\n",
      "たち\t名詞,接尾,一般,*,*,*,たち,タチ,タチ\n",
      "。\t記号,句点,*,*,*,*,。,。,。\n"
     ]
    }
   ],
   "source": [
    "for token in t.tokenize(sentence):\n",
    "    print(token)"
   ]
  },
  {
   "cell_type": "code",
   "execution_count": 16,
   "id": "193d7ad8-cd70-4f35-b0fd-14a86658803a",
   "metadata": {},
   "outputs": [
    {
     "data": {
      "text/plain": [
       "['US',\n",
       " 'President',\n",
       " 'Donald',\n",
       " 'Trump',\n",
       " 'has',\n",
       " 'celebrated',\n",
       " 'the',\n",
       " '100th',\n",
       " 'day',\n",
       " 'of',\n",
       " 'his',\n",
       " 'second',\n",
       " 'term',\n",
       " 'in',\n",
       " 'office',\n",
       " 'with',\n",
       " 'a',\n",
       " 'campaign-style',\n",
       " 'speech',\n",
       " ',',\n",
       " 'touting',\n",
       " 'his',\n",
       " 'achievements',\n",
       " 'and',\n",
       " 'targeting',\n",
       " 'political',\n",
       " 'foes',\n",
       " '.',\n",
       " 'Hailing',\n",
       " 'what',\n",
       " 'he',\n",
       " 'called',\n",
       " 'a',\n",
       " '``',\n",
       " 'revolution',\n",
       " 'of',\n",
       " 'common',\n",
       " 'sense',\n",
       " \"''\",\n",
       " ',',\n",
       " 'he',\n",
       " 'told',\n",
       " 'a',\n",
       " 'crowd',\n",
       " 'of',\n",
       " 'supporters',\n",
       " 'in',\n",
       " 'Michigan',\n",
       " 'that',\n",
       " 'he',\n",
       " 'was',\n",
       " 'using',\n",
       " 'his',\n",
       " 'presidency',\n",
       " 'to',\n",
       " 'deliver',\n",
       " '``',\n",
       " 'profound',\n",
       " 'change',\n",
       " \"''\",\n",
       " '.',\n",
       " 'The',\n",
       " 'Republican',\n",
       " 'mocked',\n",
       " 'his',\n",
       " 'Democratic',\n",
       " 'predecessor',\n",
       " ',',\n",
       " 'Joe',\n",
       " 'Biden',\n",
       " ',',\n",
       " 'and',\n",
       " 'aimed',\n",
       " 'fresh',\n",
       " 'criticism',\n",
       " 'at',\n",
       " 'the',\n",
       " 'US',\n",
       " 'Federal',\n",
       " 'Reserve',\n",
       " \"'s\",\n",
       " 'chairman',\n",
       " ',',\n",
       " 'while',\n",
       " 'dismissing',\n",
       " 'polls',\n",
       " 'that',\n",
       " 'show',\n",
       " 'his',\n",
       " 'own',\n",
       " 'popularity',\n",
       " 'slipping',\n",
       " '.']"
      ]
     },
     "execution_count": 16,
     "metadata": {},
     "output_type": "execute_result"
    }
   ],
   "source": [
    "words"
   ]
  },
  {
   "cell_type": "markdown",
   "id": "2af3ddab-31ac-43db-a52d-77591951933b",
   "metadata": {},
   "source": [
    "## 分かち書きのlatticeの確認"
   ]
  },
  {
   "cell_type": "code",
   "execution_count": 17,
   "id": "069c3a83-0d2c-4f2e-8c77-0eb0ff4d5b21",
   "metadata": {},
   "outputs": [
    {
     "name": "stdout",
     "output_type": "stream",
     "text": [
      "大分大学\t名詞,固有名詞,組織,*,*,*,大分大学,オオイタダイガク,オーイタダイガク\n",
      "の\t助詞,連体化,*,*,*,*,の,ノ,ノ\n",
      "略称\t名詞,サ変接続,*,*,*,*,略称,リャクショウ,リャクショー\n",
      "は\t助詞,係助詞,*,*,*,*,は,ハ,ワ\n",
      "分\t接頭詞,名詞接続,*,*,*,*,分,ブン,ブン\n",
      "大\t名詞,一般,*,*,*,*,大,ダイ,ダイ\n",
      "です\t助動詞,*,*,*,特殊・デス,基本形,です,デス,デス\n",
      "Graph was successfully output to lattice.gv.png\n"
     ]
    }
   ],
   "source": [
    "!echo \"大分大学の略称は分大です\" | janome -g"
   ]
  },
  {
   "cell_type": "markdown",
   "id": "13529fd9-670c-4cad-97e3-629e07118c1e",
   "metadata": {},
   "source": [
    "## 語幹化"
   ]
  },
  {
   "cell_type": "code",
   "execution_count": 18,
   "id": "378e8da7-53eb-40d6-a816-916fd6c42cd9",
   "metadata": {},
   "outputs": [],
   "source": [
    "#from nltk.stem.porter import PorterStemmer\n",
    "from nltk.stem.lancaster import LancasterStemmer"
   ]
  },
  {
   "cell_type": "code",
   "execution_count": 19,
   "id": "35914c81-354d-475d-8cb8-369bd92b518e",
   "metadata": {},
   "outputs": [],
   "source": [
    "#s = PorterStemmer()\n",
    "s = LancasterStemmer()"
   ]
  },
  {
   "cell_type": "code",
   "execution_count": 20,
   "id": "db821777-ebb6-49d3-9824-ddffb3765890",
   "metadata": {},
   "outputs": [
    {
     "data": {
      "text/plain": [
       "'mov'"
      ]
     },
     "execution_count": 20,
     "metadata": {},
     "output_type": "execute_result"
    }
   ],
   "source": [
    "s.stem(\"moving\")"
   ]
  },
  {
   "cell_type": "code",
   "execution_count": 21,
   "id": "56de7d20-83e0-4afd-a484-ba17b5967f08",
   "metadata": {},
   "outputs": [
    {
     "data": {
      "text/plain": [
       "'country'"
      ]
     },
     "execution_count": 21,
     "metadata": {},
     "output_type": "execute_result"
    }
   ],
   "source": [
    "s.stem(\"countries\")"
   ]
  },
  {
   "cell_type": "code",
   "execution_count": 22,
   "id": "03094eff-f437-4796-8932-e5b1f4a8fac3",
   "metadata": {},
   "outputs": [
    {
     "data": {
      "text/plain": [
       "'childr'"
      ]
     },
     "execution_count": 22,
     "metadata": {},
     "output_type": "execute_result"
    }
   ],
   "source": [
    "s.stem(\"children\")"
   ]
  },
  {
   "cell_type": "markdown",
   "id": "a3eace8f-1f34-4d83-b6ad-d81c26e12592",
   "metadata": {},
   "source": [
    "## 原型化"
   ]
  },
  {
   "cell_type": "code",
   "execution_count": 23,
   "id": "463654d2-384c-4103-b5b6-c992c3691381",
   "metadata": {},
   "outputs": [
    {
     "name": "stderr",
     "output_type": "stream",
     "text": [
      "[nltk_data] Downloading package wordnet to /home/jovyan/nltk_data...\n"
     ]
    },
    {
     "data": {
      "text/plain": [
       "True"
      ]
     },
     "execution_count": 23,
     "metadata": {},
     "output_type": "execute_result"
    }
   ],
   "source": [
    "from nltk.stem import WordNetLemmatizer\n",
    "from nltk.corpus import wordnet\n",
    "nltk.download('wordnet')"
   ]
  },
  {
   "cell_type": "code",
   "execution_count": 24,
   "id": "61e2a28a-06af-4752-ab5e-126f382c8b6a",
   "metadata": {},
   "outputs": [],
   "source": [
    "l = WordNetLemmatizer()"
   ]
  },
  {
   "cell_type": "code",
   "execution_count": 25,
   "id": "fd0fbba3-5a9e-4d24-a862-25851546d441",
   "metadata": {},
   "outputs": [
    {
     "data": {
      "text/plain": [
       "'moving'"
      ]
     },
     "execution_count": 25,
     "metadata": {},
     "output_type": "execute_result"
    }
   ],
   "source": [
    "l.lemmatize(\"moving\")"
   ]
  },
  {
   "cell_type": "code",
   "execution_count": 26,
   "id": "13519a69-9254-405e-af90-763db8d6e617",
   "metadata": {},
   "outputs": [
    {
     "data": {
      "text/plain": [
       "'country'"
      ]
     },
     "execution_count": 26,
     "metadata": {},
     "output_type": "execute_result"
    }
   ],
   "source": [
    "l.lemmatize(\"countries\")"
   ]
  },
  {
   "cell_type": "code",
   "execution_count": 27,
   "id": "91657f97-1ae1-40f7-8ab7-c62a90f4a9b3",
   "metadata": {},
   "outputs": [
    {
     "data": {
      "text/plain": [
       "'child'"
      ]
     },
     "execution_count": 27,
     "metadata": {},
     "output_type": "execute_result"
    }
   ],
   "source": [
    "l.lemmatize(\"children\")"
   ]
  },
  {
   "cell_type": "markdown",
   "id": "5b5da961-ef47-4279-a206-d630657a7e44",
   "metadata": {},
   "source": [
    "## Bag of Words"
   ]
  },
  {
   "cell_type": "code",
   "execution_count": 28,
   "id": "053354dc-7eeb-4f8b-9b07-43f5109b33cb",
   "metadata": {},
   "outputs": [],
   "source": [
    "import requests\n",
    "from bs4 import BeautifulSoup\n",
    "import re"
   ]
  },
  {
   "cell_type": "code",
   "execution_count": 29,
   "id": "4b1259c6-722f-4e57-ab96-c18187473ea0",
   "metadata": {},
   "outputs": [],
   "source": [
    "def getText(url):\n",
    "    # 青空文庫からテキストデータを取得\n",
    "    response = requests.get(url)\n",
    "    soup = BeautifulSoup(response.content, 'html.parser')\n",
    "    text = soup.find('div', {'class': 'main_text'}).text\n",
    "    cleaned_text = re.sub(r'[\\r\\n\\u3000]', '', text)\n",
    "\n",
    "    return cleaned_text"
   ]
  },
  {
   "cell_type": "code",
   "execution_count": 30,
   "id": "fcce8d15-8a30-40b3-b7ac-757806ff93d6",
   "metadata": {},
   "outputs": [],
   "source": [
    "# 山月記\n",
    "titleurl = \"https://www.aozora.gr.jp/cards/000119/files/624_14544.html\""
   ]
  },
  {
   "cell_type": "code",
   "execution_count": 31,
   "id": "684bd0e4-ee11-42d7-9916-29b2f2bf4cef",
   "metadata": {},
   "outputs": [],
   "source": [
    "c0 = getText(titleurl)"
   ]
  },
  {
   "cell_type": "code",
   "execution_count": 32,
   "id": "6453d23f-3246-4b4d-900f-f95128b2af18",
   "metadata": {},
   "outputs": [
    {
     "data": {
      "text/plain": [
       "'隴西の李徴は博学才穎、天宝の末年、若くして名を虎榜に連ね、ついで江南尉に補せられたが、性、狷介、自ら恃むところ頗る厚く、賤吏に甘んずるを潔しとしなかった。いくばくもなく官を退いた後は、故山、略に帰臥し、人と交を絶って、ひたすら詩作に耽った。下吏となって長く膝を俗悪な大官の前に屈するよりは、詩家としての名を死後百年に遺そうとしたのである。しかし、文名は容易に揚らず、生活は日を逐うて苦しくなる。李徴は漸く焦躁に駆られて来た。この頃からその容貌も峭刻となり、肉落ち骨秀で、眼光のみ徒らに炯々として、曾て進士に登第した頃の豊頬の美少年の俤は、何処に求めようもない。数年の後、貧窮に堪えず、妻子の衣食のために遂に節を屈して、再び東へ赴き、一地方官吏の職を奉ずることになった。一方、これは、己の詩業に半ば絶望したためでもある。曾ての同輩は既に遥か高位に進み、彼が昔、鈍物として歯牙にもかけなかったその連中の下命を拝さねばならぬことが、往年の儁才李徴の自尊心を如何に傷けたかは、想像に難くない。彼は怏々として楽しまず、狂悖の性は愈々抑え難くなった。一年の後、公用で旅に出、汝水のほとりに宿った時、遂に発狂した。或夜半、急に顔色を変えて寝床から起上ると、何か訳の分らぬことを叫びつつそのまま下にとび下りて、闇の中へ駈出した。彼は二度と戻って来なかった。附近の山野を捜索しても、何の手掛りもない。その後李徴がどうなったかを知る者は、誰もなかった。翌年、監察御史、陳郡の袁という者、勅命を奉じて嶺南に使し、途に商於の地に宿った。次の朝未だ暗い中に出発しようとしたところ、駅吏が言うことに、これから先の道に人喰虎が出る故、旅人は白昼でなければ、通れない。今はまだ朝が早いから、今少し待たれたが宜しいでしょうと。袁は、しかし、供廻りの多勢なのを恃み、駅吏の言葉を斥けて、出発した。残月の光をたよりに林中の草地を通って行った時、果して一匹の猛虎が叢の中から躍り出た。虎は、あわや袁に躍りかかるかと見えたが、忽ち身を飜して、元の叢に隠れた。叢の中から人間の声で「あぶないところだった」と繰返し呟くのが聞えた。その声に袁は聞き憶えがあった。驚懼の中にも、彼は咄嗟に思いあたって、叫んだ。「その声は、我が友、李徴子ではないか？」袁は李徴と同年に進士の第に登り、友人の少かった李徴にとっては、最も親しい友であった。温和な袁の性格が'"
      ]
     },
     "execution_count": 32,
     "metadata": {},
     "output_type": "execute_result"
    }
   ],
   "source": [
    "c0[0:1000]"
   ]
  },
  {
   "cell_type": "code",
   "execution_count": 33,
   "id": "2ebf87fb-77cb-4e51-824d-de8e7e3ec56a",
   "metadata": {},
   "outputs": [],
   "source": [
    "# 智恵子抄\n",
    "titleurl = \"https://www.aozora.gr.jp/cards/001168/files/46669_25695.html\""
   ]
  },
  {
   "cell_type": "code",
   "execution_count": 34,
   "id": "b43926db-8c07-4430-9bfe-fa797d83d9cf",
   "metadata": {},
   "outputs": [],
   "source": [
    "c1 = getText(titleurl)"
   ]
  },
  {
   "cell_type": "code",
   "execution_count": 35,
   "id": "40f79489-23a0-4a15-81de-d655cf6d53d8",
   "metadata": {},
   "outputs": [
    {
     "data": {
      "text/plain": [
       "'人にいやなんですあなたのいつてしまふのが――花よりさきに実のなるやうな種子よりさきに芽の出るやうな夏から春のすぐ来るやうなそんな理窟に合はない不自然をどうかしないでゐて下さい型のやうな旦那さまとまるい字をかくそのあなたとかう考へてさへなぜか私は泣かれます小鳥のやうに臆病で大風のやうにわがままなあなたがお嫁にゆくなんていやなんですあなたのいつてしまふのが――なぜさうたやすくさあ何といひませう――まあ言はばその身を売る気になれるんでせうあなたはその身を売るんです一人の世界から万人の世界へそして男に負けて無意味に負けてああ何といふ醜悪事でせうまるでさうチシアンの画いた絵が鶴巻町へ買物に出るのです私は淋しいかなしい何といふ気はないけれどちやうどあなたの下すつたあのグロキシニヤの大きな花の腐つてゆくのを見る様な私を棄てて腐つてゆくのを見る様な空を旅してゆく鳥のゆくへをぢつとみてゐる様な浪の砕けるあの悲しい自棄のこころはかない淋しい焼けつく様な――それでも恋とはちがひますサンタマリアちがひますちがひます何がどうとはもとより知らねどいやなんですあなたのいつてしまふのが――おまけにお嫁にゆくなんてよその男のこころのままになるなんて明治四五・七［＃改ページ］或る夜のこころ七月の夜の月は見よ、ポプラアの林に熱を病めりかすかに漂ふシクラメンの香りは言葉なき君が唇にすすり泣けり森も、道も、草も、遠き街もいはれなきかなしみにもだえてほのかに白き溜息を吐けりならびゆくわかき二人は手を取りて黒き土を踏めりみえざる魔神はあまき酒を傾け地にとどろく終列車のひびきは人の運命をあざわらふに似たり魂はしのびやかに痙攣をおこし印度更紗の帯はやや汗ばみて拝火教徒の忍黙をつづけむとすこころよ、こころよわがこころよ、めざめよ君がこころよ、めざめよこはなに事を意味するならむ断ちがたく、苦しく、のがれまほしく又あまく、去りがたく、堪へがたく――こころよ、こころよ病の床を起き出でよそのアツシシユの仮睡をふりすてよされど眼に見ゆるもの今はみな狂ほしきなり七月の夜の月も見よ、ポプラアの林に熱を病めりやみがたき病よわがこころは温室の草の上うつくしき毒虫の為にさいなまるこころよ、こころよ――あはれ何を呼びたまふや今は無言の領する夜半なるものを――大正元・八［＃改ページ］涙世は今、いみじき事に悩み人は日比谷に近く夜ごとに集ひ泣け'"
      ]
     },
     "execution_count": 35,
     "metadata": {},
     "output_type": "execute_result"
    }
   ],
   "source": [
    "c1[0:1000]"
   ]
  },
  {
   "cell_type": "code",
   "execution_count": 36,
   "id": "6f583217-9b2b-4a23-a885-ea00a170411a",
   "metadata": {},
   "outputs": [],
   "source": [
    "# 羅生門\n",
    "titleurl = \"https://www.aozora.gr.jp/cards/000879/files/127_15260.html\""
   ]
  },
  {
   "cell_type": "code",
   "execution_count": 37,
   "id": "8d3f867e-501b-4dbf-a2f9-15c92afe69ad",
   "metadata": {},
   "outputs": [],
   "source": [
    "c2 = getText(titleurl)"
   ]
  },
  {
   "cell_type": "code",
   "execution_count": 38,
   "id": "ddabb18e-9a04-423e-850a-d536cb301699",
   "metadata": {},
   "outputs": [
    {
     "data": {
      "text/plain": [
       "'ある日の暮方の事である。一人の下人が、羅生門の下で雨やみを待っていた。広い門の下には、この男のほかに誰もいない。ただ、所々丹塗の剥げた、大きな円柱に、蟋蟀が一匹とまっている。羅生門が、朱雀大路にある以上は、この男のほかにも、雨やみをする市女笠や揉烏帽子が、もう二三人はありそうなものである。それが、この男のほかには誰もいない。何故かと云うと、この二三年、京都には、地震とか辻風とか火事とか饑饉とか云う災がつづいて起った。そこで洛中のさびれ方は一通りではない。旧記によると、仏像や仏具を打砕いて、その丹がついたり、金銀の箔がついたりした木を、路ばたにつみ重ねて、薪の料に売っていたと云う事である。洛中がその始末であるから、羅生門の修理などは、元より誰も捨てて顧る者がなかった。するとその荒れ果てたのをよい事にして、狐狸が棲む。盗人が棲む。とうとうしまいには、引取り手のない死人を、この門へ持って来て、棄てて行くと云う習慣さえ出来た。そこで、日の目が見えなくなると、誰でも気味を悪るがって、この門の近所へは足ぶみをしない事になってしまったのである。その代りまた鴉がどこからか、たくさん集って来た。昼間見ると、その鴉が何羽となく輪を描いて、高い鴟尾のまわりを啼きながら、飛びまわっている。ことに門の上の空が、夕焼けであかくなる時には、それが胡麻をまいたようにはっきり見えた。鴉は、勿論、門の上にある死人の肉を、啄みに来るのである。――もっとも今日は、刻限が遅いせいか、一羽も見えない。ただ、所々、崩れかかった、そうしてその崩れ目に長い草のはえた石段の上に、鴉の糞が、点々と白くこびりついているのが見える。下人は七段ある石段の一番上の段に、洗いざらした紺の襖の尻を据えて、右の頬に出来た、大きな面皰を気にしながら、ぼんやり、雨のふるのを眺めていた。作者はさっき、「下人が雨やみを待っていた」と書いた。しかし、下人は雨がやんでも、格別どうしようと云う当てはない。ふだんなら、勿論、主人の家へ帰る可き筈である。所がその主人からは、四五日前に暇を出された。前にも書いたように、当時京都の町は一通りならず衰微していた。今この下人が、永年、使われていた主人から、暇を出されたのも、実はこの衰微の小さな余波にほかならない。だから「下人が雨やみを待っていた」と云うよりも「雨にふりこめられた下人が、行き所がなくて、途方にく'"
      ]
     },
     "execution_count": 38,
     "metadata": {},
     "output_type": "execute_result"
    }
   ],
   "source": [
    "c2[0:1000]"
   ]
  },
  {
   "cell_type": "code",
   "execution_count": 39,
   "id": "49a964c3-310e-40c6-95aa-9edd7e0cd121",
   "metadata": {},
   "outputs": [],
   "source": [
    "# 蜘蛛の糸\n",
    "titleurl = \"https://www.aozora.gr.jp/cards/000879/files/92_14545.html\""
   ]
  },
  {
   "cell_type": "code",
   "execution_count": 40,
   "id": "7b8df9c9-51d7-41a9-b219-b0990989497d",
   "metadata": {},
   "outputs": [],
   "source": [
    "c3 = getText(titleurl)"
   ]
  },
  {
   "cell_type": "code",
   "execution_count": 41,
   "id": "088c93d0-6a63-4789-b9b0-3da8fdc01221",
   "metadata": {
    "scrolled": true
   },
   "outputs": [
    {
     "data": {
      "text/plain": [
       "'一ある日の事でございます。御釈迦様は極楽の蓮池のふちを、独りでぶらぶら御歩きになっていらっしゃいました。池の中に咲いている蓮の花は、みんな玉のようにまっ白で、そのまん中にある金色の蕊からは、何とも云えない好い匂が、絶間なくあたりへ溢れて居ります。極楽は丁度朝なのでございましょう。やがて御釈迦様はその池のふちに御佇みになって、水の面を蔽っている蓮の葉の間から、ふと下の容子を御覧になりました。この極楽の蓮池の下は、丁度地獄の底に当って居りますから、水晶のような水を透き徹して、三途の河や針の山の景色が、丁度覗き眼鏡を見るように、はっきりと見えるのでございます。するとその地獄の底に、陀多と云う男が一人、ほかの罪人と一しょに蠢いている姿が、御眼に止まりました。この陀多と云う男は、人を殺したり家に火をつけたり、いろいろ悪事を働いた大泥坊でございますが、それでもたった一つ、善い事を致した覚えがございます。と申しますのは、ある時この男が深い林の中を通りますと、小さな蜘蛛が一匹、路ばたを這って行くのが見えました。そこで陀多は早速足を挙げて、踏み殺そうと致しましたが、「いや、いや、これも小さいながら、命のあるものに違いない。その命を無暗にとると云う事は、いくら何でも可哀そうだ。」と、こう急に思い返して、とうとうその蜘蛛を殺さずに助けてやったからでございます。御釈迦様は地獄の容子を御覧になりながら、この陀多には蜘蛛を助けた事があるのを御思い出しになりました。そうしてそれだけの善い事をした報には、出来るなら、この男を地獄から救い出してやろうと御考えになりました。幸い、側を見ますと、翡翠のような色をした蓮の葉の上に、極楽の蜘蛛が一匹、美しい銀色の糸をかけて居ります。御釈迦様はその蜘蛛の糸をそっと御手に御取りになって、玉のような白蓮の間から、遥か下にある地獄の底へ、まっすぐにそれを御下しなさいました。二こちらは地獄の底の血の池で、ほかの罪人と一しょに、浮いたり沈んだりしていた陀多でございます。何しろどちらを見ても、まっ暗で、たまにそのくら暗からぼんやり浮き上っているものがあると思いますと、それは恐しい針の山の針が光るのでございますから、その心細さと云ったらございません。その上あたりは墓の中のようにしんと静まり返って、たまに聞えるものと云っては、ただ罪人がつく微な嘆息ばかりでございます。これはこ'"
      ]
     },
     "execution_count": 41,
     "metadata": {},
     "output_type": "execute_result"
    }
   ],
   "source": [
    "c3[0:1000]"
   ]
  },
  {
   "cell_type": "markdown",
   "id": "98f602be-8c81-4836-aa47-0de44f78aaa3",
   "metadata": {},
   "source": [
    "### wordlistの作成"
   ]
  },
  {
   "cell_type": "code",
   "execution_count": 42,
   "id": "77babf10-7651-4ccd-84cc-d9402bb4c5c6",
   "metadata": {},
   "outputs": [],
   "source": [
    "t = Tokenizer()"
   ]
  },
  {
   "cell_type": "code",
   "execution_count": 43,
   "id": "a2184c40-2683-4512-9a8b-1d38aa280a71",
   "metadata": {},
   "outputs": [],
   "source": [
    "c0ws = list(t.tokenize(c0[0:1000], wakati=True))"
   ]
  },
  {
   "cell_type": "code",
   "execution_count": 44,
   "id": "a4405b50-2d48-4ab3-80c0-92ea603eb0a0",
   "metadata": {},
   "outputs": [],
   "source": [
    "#c0ws"
   ]
  },
  {
   "cell_type": "code",
   "execution_count": 45,
   "id": "04ade931-64aa-4634-bbff-953f139d04fa",
   "metadata": {},
   "outputs": [],
   "source": [
    "c1ws = list(t.tokenize(c1[0:1000], wakati=True))\n",
    "c2ws = list(t.tokenize(c2[0:1000], wakati=True))\n",
    "c3ws = list(t.tokenize(c3[0:1000], wakati=True))"
   ]
  },
  {
   "cell_type": "code",
   "execution_count": 46,
   "id": "0b6704af-3fc4-405c-bbca-625baadbc658",
   "metadata": {},
   "outputs": [],
   "source": [
    "import collections as cl"
   ]
  },
  {
   "cell_type": "code",
   "execution_count": 47,
   "id": "57540ff9-4d1d-4133-8a7c-c6054a6c2a50",
   "metadata": {},
   "outputs": [],
   "source": [
    "def wordcount(ws):\n",
    "    wc = cl.defaultdict(int)\n",
    "    for w in ws:\n",
    "        wc[w] += 1\n",
    "\n",
    "    return wc"
   ]
  },
  {
   "cell_type": "code",
   "execution_count": 48,
   "id": "d54edd42-bc7c-42b3-82b0-d60993858606",
   "metadata": {},
   "outputs": [],
   "source": [
    "c0wc = wordcount(c0ws)\n",
    "c1wc = wordcount(c1ws)\n",
    "c2wc = wordcount(c2ws)\n",
    "c3wc = wordcount(c3ws)"
   ]
  },
  {
   "cell_type": "code",
   "execution_count": 49,
   "id": "54e05a0b-6782-4f18-90a7-455c4bcfac66",
   "metadata": {},
   "outputs": [],
   "source": [
    "vocab = set(c0wc.keys()) | set(c1wc.keys()) | set(c2wc.keys()) | set(c3wc.keys())"
   ]
  },
  {
   "cell_type": "code",
   "execution_count": 50,
   "id": "21556a47-ae5a-4fa3-a546-85041ed2486a",
   "metadata": {},
   "outputs": [
    {
     "data": {
      "text/plain": [
       "867"
      ]
     },
     "execution_count": 50,
     "metadata": {},
     "output_type": "execute_result"
    }
   ],
   "source": [
    "len(vocab)"
   ]
  },
  {
   "cell_type": "code",
   "execution_count": 51,
   "id": "49b1704d-5601-4b4d-ada6-f5744bbcf2d3",
   "metadata": {},
   "outputs": [],
   "source": [
    "#vocab"
   ]
  },
  {
   "cell_type": "code",
   "execution_count": 52,
   "id": "bfdc9c9c-8a17-4738-a946-06b59f3413d4",
   "metadata": {},
   "outputs": [],
   "source": [
    "#c0wc"
   ]
  },
  {
   "cell_type": "markdown",
   "id": "073c834b-423a-4981-8a7c-c8fdcbe4db32",
   "metadata": {},
   "source": [
    "### Cos類似度の計算\n",
    "- $\\boldsymbol{x}=(x_0,x_1,...,x_n) \\in \\mathbb{R}^n$\n",
    "- $\\boldsymbol{y}=(y_0,y_1,...,y_n) \\in \\mathbb{R}^n$\n",
    "- このとき $cos \\theta$ は以下のように計算\n",
    "- $cos \\theta = \\frac{\\boldsymbol{x} \\cdot \\boldsymbol{y}}{\\lVert x \\lVert \\lVert y \\lVert}$\n",
    "- $\\lVert x \\lVert$はノルム（長さ）を表し、1に規格化した場合、単に内積を取る\n",
    "- つまり、$\\boldsymbol{x} \\cdot \\boldsymbol{y} = x_0y_0+x_1y_1+\\cdots+x_ny_n=\\Sigma_{i=0}^n x_iy_i$"
   ]
  },
  {
   "cell_type": "code",
   "execution_count": 53,
   "id": "b2aa4576-4083-44c7-a040-5ff90a368ab5",
   "metadata": {},
   "outputs": [],
   "source": [
    "import sklearn\n",
    "import numpy as np"
   ]
  },
  {
   "cell_type": "code",
   "execution_count": 54,
   "id": "2f8a5d68-93ef-474d-ac63-57f7129c4d78",
   "metadata": {},
   "outputs": [],
   "source": [
    "a = [1,0,1,1,1,1,0,1,1]\n",
    "b = [0,1,1,1,1,0,1,1,1]"
   ]
  },
  {
   "cell_type": "code",
   "execution_count": 55,
   "id": "b7cda99f-e332-4c59-a8d7-d68de606c86d",
   "metadata": {},
   "outputs": [],
   "source": [
    "from sklearn.metrics.pairwise import cosine_similarity"
   ]
  },
  {
   "cell_type": "code",
   "execution_count": 56,
   "id": "79ed0624-6900-48b2-8da0-25dfa293c7ff",
   "metadata": {},
   "outputs": [
    {
     "data": {
      "text/plain": [
       "array([[0.71428571]])"
      ]
     },
     "execution_count": 56,
     "metadata": {},
     "output_type": "execute_result"
    }
   ],
   "source": [
    "cosine_similarity([a],[b])"
   ]
  },
  {
   "cell_type": "code",
   "execution_count": 57,
   "id": "5c7eae57-413a-4153-b1eb-b157bc6b42d7",
   "metadata": {},
   "outputs": [],
   "source": [
    "def cos_sim(v1, v2):\n",
    "    return np.dot(v1, v2) / (np.linalg.norm(v1) * np.linalg.norm(v2))"
   ]
  },
  {
   "cell_type": "code",
   "execution_count": 58,
   "id": "cd983faf-dbc3-4af3-a500-8d7f4ee42750",
   "metadata": {
    "scrolled": true
   },
   "outputs": [
    {
     "data": {
      "text/plain": [
       "0.7142857142857142"
      ]
     },
     "execution_count": 58,
     "metadata": {},
     "output_type": "execute_result"
    }
   ],
   "source": [
    "cos_sim(a,b)"
   ]
  },
  {
   "cell_type": "markdown",
   "id": "b4379463-bdd3-4080-95a0-edb7846f6b83",
   "metadata": {},
   "source": [
    "## 全単語でのコサイン類似度の比較"
   ]
  },
  {
   "cell_type": "markdown",
   "id": "c9553fbc-0d22-4475-9166-09cd2c548498",
   "metadata": {},
   "source": [
    "#### ベクトル化"
   ]
  },
  {
   "cell_type": "code",
   "execution_count": 59,
   "id": "5674bd7c-1bf7-4601-a650-e2be4fc7eaf2",
   "metadata": {},
   "outputs": [],
   "source": [
    "def vectolizer(wcdic, vocablist):\n",
    "    vec = np.zeros((len(vocablist)),dtype=np.float32)\n",
    "    for w, c in wcdic.items():\n",
    "        idx = vocablist.index(w)\n",
    "        vec[idx] = c\n",
    "\n",
    "    return vec"
   ]
  },
  {
   "cell_type": "code",
   "execution_count": 60,
   "id": "e0698889-c0e7-4995-b538-65d7f98620c6",
   "metadata": {},
   "outputs": [],
   "source": [
    "def calcTopFreqWord(wcdic,n=None, isprint=True):\n",
    "    topdic = {}\n",
    "    if isprint is True:\n",
    "        print(\"Ranking,Word,Count\")\n",
    "        \n",
    "    for i, (w, c) in enumerate(sorted(wcdic.items(), key=lambda x:-x[1])):\n",
    "        if n is not None and i+1 > n:\n",
    "            break\n",
    "\n",
    "        topdic[w] = c\n",
    "        if isprint is True:\n",
    "            print(f\"{i+1},{w},{c}\")\n",
    "\n",
    "    return topdic"
   ]
  },
  {
   "cell_type": "code",
   "execution_count": 61,
   "id": "295c0e37-36a3-4f47-bc79-80e0cb3f90b5",
   "metadata": {},
   "outputs": [],
   "source": [
    "c0all = calcTopFreqWord(c0wc,isprint=False)\n",
    "c1all = calcTopFreqWord(c1wc,isprint=False)\n",
    "c2all = calcTopFreqWord(c2wc,isprint=False)\n",
    "c3all = calcTopFreqWord(c3wc,isprint=False)"
   ]
  },
  {
   "cell_type": "code",
   "execution_count": 62,
   "id": "231d2227-7842-4a57-95a6-9af859b1292c",
   "metadata": {},
   "outputs": [],
   "source": [
    "vocab = sorted(list(set(c0all.keys()) | set(c1all.keys()) | set(c2all.keys()) | set(c3all.keys())))"
   ]
  },
  {
   "cell_type": "code",
   "execution_count": 153,
   "id": "ca88a703-c182-400a-8ce3-ddf26e1c7b13",
   "metadata": {
    "scrolled": true
   },
   "outputs": [
    {
     "data": {
      "text/plain": [
       "{'#Cinderace',\n",
       " '#EXPO2025',\n",
       " '#Vtuber好きさんと繋がりたい',\n",
       " '#aibo',\n",
       " '#aibofan',\n",
       " '#aiboのいる生活',\n",
       " '#bow4workshop',\n",
       " '#fanart',\n",
       " '#japan',\n",
       " '#kirobomini',\n",
       " '#momoポートレート',\n",
       " '#myakumyaku',\n",
       " '#mystorywithaibo',\n",
       " '#osaka',\n",
       " '#procreate',\n",
       " '#いのちの輝き',\n",
       " '#おはようVtuber',\n",
       " '#こむたん万博2025',\n",
       " '#てやホリ',\n",
       " '#とうらぶおもち部',\n",
       " '#とうらぶぬい部',\n",
       " '#にっこりーノ',\n",
       " '#ぬいぐるみ',\n",
       " '#みんなのミャクミャク投稿',\n",
       " '#アイボ',\n",
       " '#アナログ絵',\n",
       " '#イベント',\n",
       " '#イラスト',\n",
       " '#エースバーン',\n",
       " '#ガチャ',\n",
       " '#キテミテ中之島',\n",
       " '#キロボミニ',\n",
       " '#サガ絵',\n",
       " '#ダルマ',\n",
       " '#バルーンアート',\n",
       " '#フィットボクシング',\n",
       " '#フィットボクシング3',\n",
       " '#ペンギンカフェ',\n",
       " '#ポケモンfit',\n",
       " '#ミャクミャク',\n",
       " '#ミャクミャクくん',\n",
       " '#メカ子',\n",
       " '#ロマサガ2R',\n",
       " '#万博',\n",
       " '#企業公式が毎朝地元の天気を言い合う',\n",
       " '#写真好きな人と繋がりたい',\n",
       " '#大阪',\n",
       " '#大阪万博',\n",
       " '#大阪万博2025',\n",
       " '#大阪関西万博',\n",
       " '#大阪関西万博2025',\n",
       " '#旅',\n",
       " '#絵描きさんと繋がりたい',\n",
       " '#透明水彩',\n",
       " '#郷土玩具ぬいぐるみ',\n",
       " '#青空おやつ部',\n",
       " '#鳩笛',\n",
       " 'AR',\n",
       " 'ATC',\n",
       " 'B',\n",
       " 'CM',\n",
       " 'EXPO',\n",
       " 'FitBoxing',\n",
       " 'ILLUSTRATIONMAKING',\n",
       " 'JR',\n",
       " 'LOVOT',\n",
       " 'MARUZENJUNKUDO',\n",
       " 'OK',\n",
       " 'P',\n",
       " 'PokemonGO',\n",
       " 'Q',\n",
       " 'SomewhereinanundergroundfacilityinOsaka',\n",
       " 'TOTAL',\n",
       " 'X',\n",
       " 'YouTube',\n",
       " 'aibo',\n",
       " 'ar',\n",
       " 'blobcatururun',\n",
       " 'kSq',\n",
       " 'love',\n",
       " 'news',\n",
       " 'or',\n",
       " 'question',\n",
       " 'tohk',\n",
       " 'tohkLZRn',\n",
       " 'ぁいいっすね',\n",
       " 'ぁもっと',\n",
       " 'あか',\n",
       " 'あと',\n",
       " 'あま',\n",
       " 'ぃけん',\n",
       " 'い',\n",
       " 'いかに',\n",
       " 'いただき',\n",
       " 'いっぱい',\n",
       " 'いつも',\n",
       " 'いのち',\n",
       " 'ぅっっと',\n",
       " 'うち',\n",
       " 'うり',\n",
       " 'うれしい',\n",
       " 'うろ',\n",
       " 'おしまい',\n",
       " 'おばさん',\n",
       " 'おみやげ',\n",
       " 'お湯',\n",
       " 'お迎え',\n",
       " 'かな',\n",
       " 'かなり',\n",
       " 'かわいい',\n",
       " 'かわいく',\n",
       " 'かんぜん',\n",
       " 'きっかけ',\n",
       " 'くじ',\n",
       " 'こ',\n",
       " 'ご時世',\n",
       " 'ご飯',\n",
       " 'せんべい',\n",
       " 'そのうち',\n",
       " 'そのもの',\n",
       " 'たこ焼き',\n",
       " 'だるま',\n",
       " 'ちい',\n",
       " 'ちゃんと',\n",
       " 'ちょうど',\n",
       " 'ちょこちょこ',\n",
       " 'っぽい',\n",
       " 'っぽく',\n",
       " 'てる',\n",
       " 'とこ',\n",
       " 'とっても',\n",
       " 'どうしても',\n",
       " 'ない',\n",
       " 'なかっ',\n",
       " 'なつ',\n",
       " 'なんせ',\n",
       " 'ぬい',\n",
       " 'ぬいぐるみ',\n",
       " 'はやう',\n",
       " 'ばん',\n",
       " 'ひつじ',\n",
       " 'びだしとび',\n",
       " 'びよ',\n",
       " 'まち',\n",
       " 'まとめ',\n",
       " 'まんじゅう',\n",
       " 'みゃく',\n",
       " 'みやげ',\n",
       " 'めっちゃ',\n",
       " 'もう',\n",
       " 'もちろん',\n",
       " 'もっと',\n",
       " 'ゃんさんこんにちはですよねこれだけだと',\n",
       " 'ゆみ',\n",
       " 'よかっ',\n",
       " 'よく',\n",
       " 'よろしく',\n",
       " 'よろしけれ',\n",
       " 'わ',\n",
       " 'アクスタ',\n",
       " 'アテンド',\n",
       " 'アレ',\n",
       " 'アート',\n",
       " 'アートイベントキテミテ',\n",
       " 'イコ',\n",
       " 'イマイチ',\n",
       " 'ウォーター',\n",
       " 'オフィシャルストア',\n",
       " 'オルタ',\n",
       " 'オンライン',\n",
       " 'オープニングセレモニー',\n",
       " 'カスタム',\n",
       " 'カステラ',\n",
       " 'カップ',\n",
       " 'カップラーメン',\n",
       " 'カフェ',\n",
       " 'カラー',\n",
       " 'キッズ',\n",
       " 'キャス',\n",
       " 'キャスニキ',\n",
       " 'キャラクター',\n",
       " 'キャラクターミャクミャク',\n",
       " 'キャラメル',\n",
       " 'キャラメルズ',\n",
       " 'キロボミニ',\n",
       " 'キン肉マン',\n",
       " 'キーホルダー',\n",
       " 'ギャル',\n",
       " 'クイズ',\n",
       " 'クッキー',\n",
       " 'グッズ',\n",
       " 'グッドスマイルカンパニー',\n",
       " 'グリコ',\n",
       " 'グレー',\n",
       " 'ケツデカミャクミャク',\n",
       " 'ケーブル',\n",
       " 'ゲスト',\n",
       " 'ゲート',\n",
       " 'ココ',\n",
       " 'コミティア',\n",
       " 'コミャク',\n",
       " 'コラボ',\n",
       " 'コリエミャクミャク',\n",
       " 'コレ',\n",
       " 'コーデ',\n",
       " 'コーナー',\n",
       " 'ゴム',\n",
       " 'サンリオ',\n",
       " 'シノビー',\n",
       " 'シュシュ',\n",
       " 'ショップ',\n",
       " 'ショー',\n",
       " 'シール',\n",
       " 'スタッフ',\n",
       " 'ステッカー',\n",
       " 'ストッパー',\n",
       " 'スパン',\n",
       " 'スペシャル',\n",
       " 'スポーツ',\n",
       " 'セット',\n",
       " 'セミファイナルメンバースパローキャットナズナジャニス',\n",
       " 'ソッコー',\n",
       " 'タイプ',\n",
       " 'タイミング',\n",
       " 'タン',\n",
       " 'ダルマ',\n",
       " 'ダークミャクミャク',\n",
       " 'チェコ',\n",
       " 'チェーン',\n",
       " 'チャック',\n",
       " 'チャン',\n",
       " 'チラーミィ',\n",
       " 'チーズ',\n",
       " 'ツイ',\n",
       " 'デカ',\n",
       " 'デスクマットオンラインショップ',\n",
       " 'ニャクニャク',\n",
       " 'ニヤ',\n",
       " 'ネイル',\n",
       " 'ハンパ',\n",
       " 'バス',\n",
       " 'バラビ',\n",
       " 'バルト',\n",
       " 'パビリオン',\n",
       " 'ビル',\n",
       " 'ビーナス',\n",
       " 'ピンズ',\n",
       " 'ファイル',\n",
       " 'フィギュア',\n",
       " 'ブログ',\n",
       " 'プラザ',\n",
       " 'ヘア',\n",
       " 'ベネチアンガラス',\n",
       " 'ペンギン',\n",
       " 'ホシ',\n",
       " 'ホリ',\n",
       " 'ボコボコ',\n",
       " 'ボール',\n",
       " 'ポップアップストア',\n",
       " 'ポーチ',\n",
       " 'ポーランド',\n",
       " 'マスコット',\n",
       " 'マンナンライフ',\n",
       " 'ミクササイズ',\n",
       " 'ミャクミャク',\n",
       " 'ミャクミャクウルトラ',\n",
       " 'ミャクミャクサブレ',\n",
       " 'ミャクミャクサンリオキャラクターズサンリオ',\n",
       " 'ミャクミャクピンズ',\n",
       " 'ムク',\n",
       " 'ムシャクシャ',\n",
       " 'ムック',\n",
       " 'モグモグ',\n",
       " 'モール',\n",
       " 'ライオン',\n",
       " 'ライセンス',\n",
       " 'ラングドシャ',\n",
       " 'ラーメン',\n",
       " 'リアル',\n",
       " 'リング',\n",
       " 'ルビィ',\n",
       " 'レ',\n",
       " 'レストラン',\n",
       " 'レネ',\n",
       " 'ロゴ',\n",
       " 'ロマン',\n",
       " '・',\n",
       " 'ー',\n",
       " 'ーーーー',\n",
       " 'ーーーーーーーーーーーー',\n",
       " '七星',\n",
       " '万博',\n",
       " '三越',\n",
       " '上',\n",
       " '並び方',\n",
       " '中',\n",
       " '中之島',\n",
       " '丸',\n",
       " '丸ビル',\n",
       " '丸善',\n",
       " '京都',\n",
       " '人',\n",
       " '人形',\n",
       " '人気',\n",
       " '仁清',\n",
       " '付き合い',\n",
       " '仲間',\n",
       " '休園',\n",
       " '会場',\n",
       " '会社',\n",
       " '何だか',\n",
       " '作品',\n",
       " '作家',\n",
       " '信条',\n",
       " '儀式',\n",
       " '兄ちゃん',\n",
       " '児童',\n",
       " '八尾',\n",
       " '写真',\n",
       " '冷蔵庫',\n",
       " '初',\n",
       " '前髪',\n",
       " '剣',\n",
       " '動物',\n",
       " '単眼',\n",
       " '卵焼き',\n",
       " '友人',\n",
       " '友達',\n",
       " '口',\n",
       " '古代',\n",
       " '可愛い',\n",
       " '可愛かっ',\n",
       " '台座',\n",
       " '同館',\n",
       " '味',\n",
       " '命',\n",
       " '和上',\n",
       " '商品',\n",
       " '四天王寺',\n",
       " '回し',\n",
       " '国宝',\n",
       " '国際',\n",
       " '土',\n",
       " '土産',\n",
       " '地下',\n",
       " '均',\n",
       " '坐像',\n",
       " '場所',\n",
       " '声',\n",
       " '売店',\n",
       " '多かっ',\n",
       " '夜間',\n",
       " '夢',\n",
       " '大阪',\n",
       " '天気',\n",
       " '天狗',\n",
       " '天王寺',\n",
       " '太',\n",
       " '太い',\n",
       " '夫',\n",
       " '奈良',\n",
       " '好戦',\n",
       " '姿',\n",
       " '娘',\n",
       " '嫁',\n",
       " '嬉しかっ',\n",
       " '学童',\n",
       " '客',\n",
       " '寺',\n",
       " '寺社',\n",
       " '寿',\n",
       " '小さい',\n",
       " '尻',\n",
       " '尻尾',\n",
       " '屋上',\n",
       " '屋根',\n",
       " '山本',\n",
       " '左上',\n",
       " '市内',\n",
       " '市立',\n",
       " '帰り',\n",
       " '帽子',\n",
       " '弓',\n",
       " '引き続き',\n",
       " '弟',\n",
       " '強い',\n",
       " '形',\n",
       " '待ち合わせ',\n",
       " '後ろ姿',\n",
       " '御朱印',\n",
       " '怖い',\n",
       " '性格',\n",
       " '怪獣',\n",
       " '悔しかっ',\n",
       " '悪い',\n",
       " '意欲',\n",
       " '愚痴',\n",
       " '感',\n",
       " '感じ',\n",
       " '感想',\n",
       " '感覚',\n",
       " '憑依',\n",
       " '手',\n",
       " '手元',\n",
       " '手描き',\n",
       " '持国天',\n",
       " '指',\n",
       " '政治',\n",
       " '教科書',\n",
       " '数',\n",
       " '文',\n",
       " '文学',\n",
       " '新幹線',\n",
       " '方法',\n",
       " '日本',\n",
       " '早め',\n",
       " '旬',\n",
       " '明るく',\n",
       " '時代',\n",
       " '晴れ',\n",
       " '暑',\n",
       " '書',\n",
       " '最初',\n",
       " '最後',\n",
       " '最高',\n",
       " '月',\n",
       " '木',\n",
       " '木製',\n",
       " '本',\n",
       " '本店',\n",
       " '本当',\n",
       " '本当に',\n",
       " '本物',\n",
       " '机上',\n",
       " '東',\n",
       " '果てしなく',\n",
       " '柴犬',\n",
       " '梅雨',\n",
       " '楽しかっ',\n",
       " '概念',\n",
       " '次',\n",
       " '欲しい',\n",
       " '欲しかっ',\n",
       " '武田',\n",
       " '歴史',\n",
       " '気味悪い',\n",
       " '水辺',\n",
       " '浄瑠璃',\n",
       " '液状',\n",
       " '無い',\n",
       " '爪',\n",
       " '特に',\n",
       " '狐',\n",
       " '猛暑',\n",
       " '現代',\n",
       " '現地',\n",
       " '現状',\n",
       " '生き物',\n",
       " '畑',\n",
       " '番号',\n",
       " '番外',\n",
       " '異例',\n",
       " '疲れ',\n",
       " '白虎',\n",
       " '目',\n",
       " '目当て',\n",
       " '目玉',\n",
       " '県',\n",
       " '真っ裸',\n",
       " '真冬',\n",
       " '真鍮',\n",
       " '知識',\n",
       " '砂時計',\n",
       " '祭り',\n",
       " '穢れ',\n",
       " '空間',\n",
       " '童子',\n",
       " '端っこ',\n",
       " '笑',\n",
       " '答え',\n",
       " '糖分',\n",
       " '糞',\n",
       " '素晴らしい',\n",
       " '縄文',\n",
       " '羊',\n",
       " '美味しい',\n",
       " '美味しかっ',\n",
       " '美術館',\n",
       " '耐久',\n",
       " '職人',\n",
       " '職場',\n",
       " '背中',\n",
       " '胴',\n",
       " '脳裏',\n",
       " '腕',\n",
       " '自分',\n",
       " '良',\n",
       " '良い',\n",
       " '良かっ',\n",
       " '良き',\n",
       " '色絵',\n",
       " '花',\n",
       " '芸術',\n",
       " '苦い',\n",
       " '蒟蒻',\n",
       " '蓋',\n",
       " '虫',\n",
       " '術',\n",
       " '西日本',\n",
       " '親子',\n",
       " '観',\n",
       " '話題',\n",
       " '読売新聞',\n",
       " '豚',\n",
       " '貫之',\n",
       " '赤',\n",
       " '足腰',\n",
       " '跡',\n",
       " '身体',\n",
       " '輝き',\n",
       " '輪っか',\n",
       " '逆',\n",
       " '逆立ち',\n",
       " '通天閣',\n",
       " '過敏',\n",
       " '道',\n",
       " '道具',\n",
       " '遠巻き',\n",
       " '部分',\n",
       " '酸っぱい',\n",
       " '野村',\n",
       " '鈍い',\n",
       " '鑑真',\n",
       " '関西',\n",
       " '雉香炉',\n",
       " '難易',\n",
       " '雨',\n",
       " '雨宿り',\n",
       " '雰囲気',\n",
       " '雲形',\n",
       " '霧雨',\n",
       " '青',\n",
       " '青い',\n",
       " '頭',\n",
       " '額田王',\n",
       " '顔',\n",
       " '飛鳥',\n",
       " '飯',\n",
       " '飴',\n",
       " '饅',\n",
       " '饅頭',\n",
       " '首',\n",
       " '駅',\n",
       " '高い',\n",
       " '高校生',\n",
       " '鳥',\n",
       " '麺',\n",
       " '黄色',\n",
       " '黒',\n",
       " '龍'}"
      ]
     },
     "execution_count": 153,
     "metadata": {},
     "output_type": "execute_result"
    }
   ],
   "source": [
    "vocab"
   ]
  },
  {
   "cell_type": "code",
   "execution_count": 64,
   "id": "9015e942-d4f9-426b-a4ff-8acfe6f7154f",
   "metadata": {},
   "outputs": [
    {
     "data": {
      "text/plain": [
       "867"
      ]
     },
     "execution_count": 64,
     "metadata": {},
     "output_type": "execute_result"
    }
   ],
   "source": [
    "len(vocab)"
   ]
  },
  {
   "cell_type": "code",
   "execution_count": 65,
   "id": "559a13c5-7722-4e83-ac67-72126e5eeea6",
   "metadata": {},
   "outputs": [],
   "source": [
    "c0vec = vectolizer(c0all, vocab)\n",
    "c1vec = vectolizer(c1all, vocab)\n",
    "c2vec = vectolizer(c2all, vocab)\n",
    "c3vec = vectolizer(c3all, vocab)"
   ]
  },
  {
   "cell_type": "code",
   "execution_count": 151,
   "id": "c3d4a5e2-7917-4184-af4f-e44f21b69c5a",
   "metadata": {},
   "outputs": [
    {
     "data": {
      "text/plain": [
       "array([0.        , 0.        , 0.00782411, 0.00062593, 0.00062593,\n",
       "       0.        , 0.        , 0.        , 0.        , 0.00257024,\n",
       "       0.        , 0.        , 0.        , 0.00128512, 0.        ,\n",
       "       0.        , 0.        , 0.00062593, 0.00128512, 0.        ,\n",
       "       0.00128512, 0.        , 0.        , 0.        , 0.        ,\n",
       "       0.        , 0.        , 0.        , 0.        , 0.        ,\n",
       "       0.        , 0.        , 0.        , 0.        , 0.        ,\n",
       "       0.00156482, 0.        , 0.        , 0.        , 0.00071645,\n",
       "       0.        , 0.        , 0.        , 0.        , 0.        ,\n",
       "       0.        , 0.        , 0.        , 0.        , 0.00128512,\n",
       "       0.        , 0.        , 0.        , 0.        , 0.        ,\n",
       "       0.        , 0.        , 0.00514048, 0.        , 0.00031296,\n",
       "       0.        , 0.00071645, 0.00128512, 0.        , 0.        ,\n",
       "       0.00031296, 0.        , 0.        , 0.        , 0.        ,\n",
       "       0.        , 0.        , 0.        , 0.        , 0.        ,\n",
       "       0.        , 0.        , 0.00143289, 0.        , 0.        ,\n",
       "       0.        , 0.        , 0.00071645, 0.        , 0.        ,\n",
       "       0.        , 0.        , 0.        , 0.        , 0.00093889,\n",
       "       0.        , 0.        , 0.        , 0.        , 0.        ,\n",
       "       0.        , 0.        , 0.        , 0.00128512, 0.00128512,\n",
       "       0.        , 0.        , 0.        , 0.        , 0.        ,\n",
       "       0.        , 0.        , 0.        , 0.        , 0.        ,\n",
       "       0.        , 0.00257024, 0.00128512, 0.        , 0.        ,\n",
       "       0.00071645, 0.        , 0.00128512, 0.        , 0.        ,\n",
       "       0.        , 0.        , 0.        , 0.        , 0.00128512,\n",
       "       0.        , 0.        , 0.00128512, 0.        , 0.        ,\n",
       "       0.        , 0.        , 0.        , 0.        , 0.00128512,\n",
       "       0.        , 0.        , 0.        , 0.00128512, 0.        ,\n",
       "       0.        , 0.        , 0.00257024, 0.00514048, 0.        ,\n",
       "       0.00128512, 0.        , 0.        , 0.        , 0.00031296,\n",
       "       0.        , 0.        , 0.        , 0.        , 0.        ,\n",
       "       0.00286578, 0.        , 0.        , 0.00031296, 0.00128512,\n",
       "       0.        , 0.        , 0.00125186, 0.        , 0.        ,\n",
       "       0.00031296, 0.00031296, 0.        , 0.        , 0.        ,\n",
       "       0.        , 0.00128512, 0.00257024, 0.00071645, 0.        ,\n",
       "       0.        , 0.        , 0.00128512, 0.        , 0.        ,\n",
       "       0.        , 0.        , 0.        , 0.        , 0.        ,\n",
       "       0.00128512, 0.        , 0.        , 0.        , 0.        ,\n",
       "       0.        , 0.        , 0.        , 0.        , 0.        ,\n",
       "       0.        , 0.        , 0.        , 0.        , 0.        ,\n",
       "       0.        , 0.        , 0.00128512, 0.        , 0.        ,\n",
       "       0.        , 0.        , 0.        , 0.        , 0.        ,\n",
       "       0.        , 0.        , 0.        , 0.00128512, 0.        ,\n",
       "       0.        , 0.        , 0.        , 0.        , 0.        ,\n",
       "       0.        , 0.        , 0.00071645, 0.        , 0.        ,\n",
       "       0.        , 0.        , 0.00128512, 0.        , 0.        ,\n",
       "       0.        , 0.        , 0.        , 0.        , 0.        ,\n",
       "       0.        , 0.        , 0.        , 0.        , 0.        ,\n",
       "       0.        , 0.        , 0.        , 0.        , 0.        ,\n",
       "       0.        , 0.        , 0.        , 0.        , 0.        ,\n",
       "       0.00031296, 0.        , 0.00031296, 0.        , 0.00128512,\n",
       "       0.00071645, 0.        , 0.        , 0.00062593, 0.        ,\n",
       "       0.        , 0.        , 0.        , 0.        , 0.        ,\n",
       "       0.        , 0.        , 0.        , 0.        , 0.        ,\n",
       "       0.        , 0.        , 0.        , 0.        , 0.        ,\n",
       "       0.        , 0.00128512, 0.        , 0.        , 0.        ,\n",
       "       0.        , 0.        , 0.        , 0.        , 0.        ,\n",
       "       0.        , 0.00128512, 0.00062593, 0.        , 0.        ,\n",
       "       0.        , 0.00128512, 0.        , 0.00128512, 0.        ,\n",
       "       0.        , 0.        , 0.00429867, 0.        , 0.        ,\n",
       "       0.        , 0.        , 0.        , 0.00128512, 0.        ,\n",
       "       0.        , 0.        , 0.        , 0.00128512, 0.        ,\n",
       "       0.        , 0.00128512, 0.00062593, 0.        , 0.        ,\n",
       "       0.        , 0.        , 0.        , 0.        , 0.        ,\n",
       "       0.        , 0.        , 0.        , 0.        , 0.        ,\n",
       "       0.00128512, 0.        , 0.        , 0.        , 0.00128512,\n",
       "       0.        , 0.00128512, 0.00128512, 0.00128512, 0.        ,\n",
       "       0.        , 0.00128512, 0.        , 0.        , 0.00128512,\n",
       "       0.00031296, 0.00128512, 0.00128512, 0.        , 0.        ,\n",
       "       0.00128512, 0.        , 0.00128512, 0.00071645, 0.        ,\n",
       "       0.00128512, 0.00071645, 0.        , 0.        , 0.00257024,\n",
       "       0.00128512, 0.        , 0.00071645, 0.        , 0.        ,\n",
       "       0.00128512, 0.        , 0.        , 0.00031296, 0.00128512,\n",
       "       0.00128512, 0.00128512, 0.        , 0.00128512, 0.        ,\n",
       "       0.        , 0.00257024, 0.00128512, 0.        , 0.00385536,\n",
       "       0.00128512, 0.00128512, 0.        , 0.        , 0.00128512,\n",
       "       0.        , 0.        , 0.00128512, 0.00128512, 0.00257024,\n",
       "       0.00385536, 0.        , 0.        , 0.00128512, 0.        ,\n",
       "       0.        , 0.00128512, 0.        , 0.        , 0.        ,\n",
       "       0.00128512, 0.        , 0.        , 0.00128512, 0.        ,\n",
       "       0.        , 0.        , 0.00071645, 0.00128512, 0.        ,\n",
       "       0.        , 0.        , 0.00128512, 0.        , 0.        ,\n",
       "       0.        , 0.00385536, 0.        , 0.        , 0.00128512,\n",
       "       0.        , 0.        , 0.00128512, 0.        , 0.00071645,\n",
       "       0.        , 0.        , 0.00128512, 0.        , 0.        ,\n",
       "       0.        , 0.00128512, 0.00128512, 0.00128512, 0.        ,\n",
       "       0.        , 0.00128512, 0.00128512, 0.        , 0.        ,\n",
       "       0.        , 0.00071645, 0.        , 0.00128512, 0.00128512,\n",
       "       0.00128512, 0.        , 0.        , 0.        , 0.        ,\n",
       "       0.00128512, 0.00128512, 0.00257024, 0.00128512, 0.00128512,\n",
       "       0.        , 0.        , 0.        , 0.00128512, 0.00128512,\n",
       "       0.        , 0.        , 0.00128512, 0.00128512, 0.        ,\n",
       "       0.00128512, 0.00128512, 0.        , 0.00128512, 0.00128512,\n",
       "       0.        , 0.        , 0.        , 0.00128512, 0.00286578,\n",
       "       0.        , 0.        , 0.        , 0.        , 0.        ,\n",
       "       0.        , 0.        , 0.        , 0.00514048, 0.00128512,\n",
       "       0.00128512, 0.        , 0.00385536, 0.00128512, 0.00071645,\n",
       "       0.        , 0.        , 0.00899584, 0.        , 0.        ,\n",
       "       0.        , 0.00128512, 0.00128512, 0.        , 0.00128512,\n",
       "       0.        , 0.        , 0.00071645, 0.00257024, 0.00128512,\n",
       "       0.00257024, 0.        , 0.        , 0.00128512, 0.        ,\n",
       "       0.        , 0.        , 0.        , 0.00128512, 0.00128512,\n",
       "       0.        , 0.00128512, 0.00128512, 0.00128512, 0.00071645,\n",
       "       0.00128512, 0.        , 0.        , 0.        , 0.00128512,\n",
       "       0.00128512, 0.        , 0.00128512, 0.00071645, 0.        ,\n",
       "       0.        , 0.00128512, 0.        , 0.        , 0.        ,\n",
       "       0.        , 0.00128512, 0.        , 0.00128512, 0.00128512,\n",
       "       0.        , 0.        , 0.00128512, 0.00128512, 0.        ,\n",
       "       0.00128512, 0.        , 0.        , 0.00128512, 0.00071645,\n",
       "       0.00128512, 0.00128512, 0.00031296, 0.        , 0.        ,\n",
       "       0.        , 0.        , 0.00128512, 0.        , 0.        ,\n",
       "       0.00128512, 0.        , 0.        , 0.00062593, 0.        ,\n",
       "       0.        , 0.00128512, 0.        , 0.        , 0.        ,\n",
       "       0.        , 0.        , 0.00257024, 0.00128512, 0.        ,\n",
       "       0.00143289, 0.        , 0.00128512, 0.00128512, 0.        ,\n",
       "       0.00771072, 0.00143289, 0.        , 0.00128512, 0.00031296,\n",
       "       0.00128512, 0.        , 0.        , 0.        , 0.        ,\n",
       "       0.00128512, 0.        , 0.00128512, 0.00128512, 0.        ,\n",
       "       0.00128512, 0.        , 0.        , 0.00128512, 0.        ,\n",
       "       0.00128512, 0.00128512, 0.        , 0.        , 0.        ,\n",
       "       0.        , 0.        , 0.        , 0.        , 0.00071645,\n",
       "       0.        , 0.        , 0.00128512, 0.        , 0.00128512,\n",
       "       0.00128512, 0.        , 0.        , 0.        , 0.        ,\n",
       "       0.        , 0.        , 0.        , 0.        , 0.        ,\n",
       "       0.        , 0.        , 0.        , 0.        , 0.        ,\n",
       "       0.00128512, 0.        , 0.        , 0.        , 0.        ,\n",
       "       0.00128512, 0.00128512, 0.        , 0.        , 0.        ,\n",
       "       0.00128512, 0.        , 0.        , 0.        , 0.        ,\n",
       "       0.        , 0.00128512, 0.        , 0.        , 0.00071645,\n",
       "       0.        , 0.        , 0.00128512, 0.00128512, 0.        ,\n",
       "       0.        , 0.00128512, 0.00128512, 0.        , 0.        ,\n",
       "       0.        , 0.        , 0.00128512, 0.        , 0.        ,\n",
       "       0.        , 0.00128512, 0.00128512, 0.00128512, 0.        ,\n",
       "       0.        , 0.00128512, 0.        , 0.00128512, 0.        ,\n",
       "       0.00128512, 0.        , 0.        , 0.        , 0.00128512,\n",
       "       0.        , 0.        , 0.00128512, 0.        , 0.        ,\n",
       "       0.00128512, 0.        , 0.        , 0.00128512, 0.        ,\n",
       "       0.        , 0.00257024, 0.        , 0.        , 0.00128512,\n",
       "       0.        , 0.        , 0.        , 0.        , 0.        ,\n",
       "       0.00128512, 0.00128512, 0.        , 0.00128512, 0.        ,\n",
       "       0.        , 0.        , 0.00128512, 0.        , 0.00128512,\n",
       "       0.        , 0.        , 0.        , 0.        , 0.00143289,\n",
       "       0.00128512, 0.00128512, 0.        , 0.00128512, 0.00128512,\n",
       "       0.00071645, 0.        , 0.        , 0.00128512, 0.        ,\n",
       "       0.00128512, 0.00128512, 0.        , 0.        , 0.        ,\n",
       "       0.        , 0.        , 0.00128512, 0.00071645, 0.        ,\n",
       "       0.00128512, 0.        , 0.00128512, 0.        , 0.        ,\n",
       "       0.        , 0.        , 0.        , 0.        , 0.00257024,\n",
       "       0.        , 0.        , 0.        , 0.        , 0.        ,\n",
       "       0.        , 0.00128512, 0.        , 0.00128512, 0.        ,\n",
       "       0.00771072, 0.00128512, 0.        , 0.        , 0.00031296,\n",
       "       0.        , 0.        , 0.        , 0.        , 0.        ,\n",
       "       0.00128512, 0.        , 0.00128512, 0.00071645, 0.00128512,\n",
       "       0.00128512, 0.00128512, 0.00128512, 0.00071645, 0.00128512,\n",
       "       0.        , 0.00128512, 0.        , 0.00128512, 0.00128512,\n",
       "       0.00128512, 0.        , 0.        , 0.        , 0.        ,\n",
       "       0.        , 0.        , 0.        , 0.00128512, 0.00128512,\n",
       "       0.00071645, 0.        , 0.        , 0.        , 0.        ,\n",
       "       0.00128512, 0.        , 0.00128512, 0.00071645, 0.        ,\n",
       "       0.        , 0.00128512, 0.        , 0.00128512, 0.00128512,\n",
       "       0.00128512, 0.00128512, 0.00257024, 0.00257024, 0.        ,\n",
       "       0.        , 0.00071645, 0.        , 0.        , 0.00071645,\n",
       "       0.00128512, 0.00128512, 0.        , 0.        , 0.        ,\n",
       "       0.        , 0.        , 0.        , 0.        , 0.00128512,\n",
       "       0.        , 0.        , 0.00128512, 0.        , 0.        ,\n",
       "       0.00128512, 0.        , 0.00128512, 0.00128512, 0.00128512,\n",
       "       0.00128512, 0.        , 0.        , 0.00257024, 0.        ,\n",
       "       0.        , 0.        , 0.        , 0.00257024, 0.00128512,\n",
       "       0.        , 0.        , 0.00128512, 0.        , 0.        ,\n",
       "       0.        , 0.00128512, 0.        , 0.        , 0.00257024,\n",
       "       0.00128512, 0.00128512, 0.00128512, 0.00128512, 0.        ,\n",
       "       0.00128512, 0.        , 0.        , 0.        , 0.        ,\n",
       "       0.        , 0.        , 0.        , 0.        , 0.00128512,\n",
       "       0.        , 0.        ], dtype=float32)"
      ]
     },
     "execution_count": 151,
     "metadata": {},
     "output_type": "execute_result"
    }
   ],
   "source": [
    "import pickle as pkl\n",
    "\n",
    "alldocdic = {\n",
    "    \"山月記\":c0all,\n",
    "    \"智恵子抄\":c1all,2:羅生門、3:蜘蛛の糸\n",
    "}"
   ]
  },
  {
   "cell_type": "markdown",
   "id": "e1e1243b-583e-437d-a18f-2ead7f63624b",
   "metadata": {},
   "source": [
    "#### 文書間類似度"
   ]
  },
  {
   "cell_type": "code",
   "execution_count": 67,
   "id": "6837fcde-a6e6-4808-aa19-14cfebcff75d",
   "metadata": {},
   "outputs": [],
   "source": [
    "def calcAllpairSimilarities(vecs):\n",
    "    x = np.array(vecs)\n",
    "    sims = cosine_similarity(x,x)\n",
    "    \n",
    "    return sims"
   ]
  },
  {
   "cell_type": "code",
   "execution_count": 68,
   "id": "4acbda28-3460-4580-b008-eb9b0921e59e",
   "metadata": {},
   "outputs": [],
   "source": [
    "sims = calcAllpairSimilarities([c0vec,c1vec,c2vec,c3vec])"
   ]
  },
  {
   "cell_type": "code",
   "execution_count": 69,
   "id": "77864826-ed20-4a37-8ff1-f8479fc11635",
   "metadata": {},
   "outputs": [
    {
     "data": {
      "text/plain": [
       "array([[0.99999887, 0.7153637 , 0.91075224, 0.8825206 ],\n",
       "       [0.7153637 , 1.0000013 , 0.6773334 , 0.762849  ],\n",
       "       [0.91075224, 0.6773334 , 1.0000012 , 0.8838668 ],\n",
       "       [0.8825206 , 0.762849  , 0.8838668 , 1.0000006 ]], dtype=float32)"
      ]
     },
     "execution_count": 69,
     "metadata": {},
     "output_type": "execute_result"
    }
   ],
   "source": [
    "#idx 0: 山月記、1: 智恵子抄、2:羅生門、3:蜘蛛の糸\n",
    "sims"
   ]
  },
  {
   "cell_type": "code",
   "execution_count": 70,
   "id": "e37c5063-45bb-4d9d-9464-30d4c5754d35",
   "metadata": {},
   "outputs": [
    {
     "name": "stdout",
     "output_type": "stream",
     "text": [
      "山月記ー智恵子抄:0.715\n",
      "山月記ー羅生門:0.911\n",
      "山月記ー蜘蛛の糸:0.883\n",
      "智恵子抄ー羅生門:0.677\n",
      "智恵子抄ー蜘蛛の糸:0.763\n",
      "羅生門ー蜘蛛の糸:0.884\n"
     ]
    }
   ],
   "source": [
    "print(f\"山月記ー智恵子抄:{sims[0,1]:.3f}\")\n",
    "print(f\"山月記ー羅生門:{sims[0,2]:.3f}\")\n",
    "print(f\"山月記ー蜘蛛の糸:{sims[0,3]:.3f}\")\n",
    "print(f\"智恵子抄ー羅生門:{sims[1,2]:.3f}\")\n",
    "print(f\"智恵子抄ー蜘蛛の糸:{sims[1,3]:.3f}\")\n",
    "print(f\"羅生門ー蜘蛛の糸:{sims[2,3]:.3f}\")"
   ]
  },
  {
   "cell_type": "markdown",
   "id": "2644597d-b132-40f6-9d00-8252d58efaad",
   "metadata": {},
   "source": [
    "山月記(c0)は智恵子抄(c1)には0.72の類似度、羅生門(c2)には0.91の類似度なので、羅生門に似ているという結果"
   ]
  },
  {
   "cell_type": "markdown",
   "id": "25b39bc4-b8ef-487d-9fbf-1ab56d799b6a",
   "metadata": {},
   "source": [
    "### 頻度上位２５語でのコサイン類似度の比較"
   ]
  },
  {
   "cell_type": "markdown",
   "id": "913d0b81-3f5b-45f8-8e32-4fd71cf44940",
   "metadata": {},
   "source": [
    "#### 語彙抽出"
   ]
  },
  {
   "cell_type": "code",
   "execution_count": 71,
   "id": "9c542a0a-d2ec-4bd8-b60c-00bc0b82ba39",
   "metadata": {},
   "outputs": [
    {
     "name": "stdout",
     "output_type": "stream",
     "text": [
      "Ranking,Word,Count\n",
      "1,、,60\n",
      "2,の,43\n",
      "3,に,38\n",
      "4,た,30\n",
      "5,。,25\n",
      "6,は,24\n",
      "7,を,21\n",
      "8,て,16\n",
      "9,が,13\n",
      "10,と,11\n",
      "11,し,11\n",
      "12,も,9\n",
      "13,徴,7\n",
      "14,で,7\n",
      "15,李,6\n",
      "16,中,6\n",
      "17,袁,6\n",
      "18,から,5\n",
      "19,ない,5\n",
      "20,か,5\n",
      "21,年,4\n",
      "22,なかっ,4\n",
      "23,なっ,4\n",
      "24,として,4\n",
      "25,その,4\n",
      "Ranking,Word,Count\n",
      "1,の,46\n",
      "2,に,27\n",
      "3,を,23\n",
      "4,は,20\n",
      "5,て,15\n",
      "6,、,15\n",
      "7,が,13\n",
      "8,な,12\n",
      "9,こころ,9\n",
      "10,――,8\n",
      "11,あなた,7\n",
      "12,人,6\n",
      "13,つ,6\n",
      "14,やう,6\n",
      "15,ゆく,6\n",
      "16,よ,6\n",
      "17,です,5\n",
      "18,り,5\n",
      "19,も,5\n",
      "20,ん,4\n",
      "21,で,4\n",
      "22,と,4\n",
      "23,さ,4\n",
      "24,へ,4\n",
      "25,ます,4\n",
      "Ranking,Word,Count\n",
      "1,、,61\n",
      "2,の,37\n",
      "3,。,27\n",
      "4,が,27\n",
      "5,た,27\n",
      "6,に,26\n",
      "7,て,24\n",
      "8,を,19\n",
      "9,は,19\n",
      "10,と,12\n",
      "11,ある,11\n",
      "12,で,11\n",
      "13,い,9\n",
      "14,も,9\n",
      "15,この,8\n",
      "16,ない,8\n",
      "17,下人,7\n",
      "18,雨,7\n",
      "19,その,7\n",
      "20,云う,6\n",
      "21,一,5\n",
      "22,門,5\n",
      "23,し,5\n",
      "24,事,4\n",
      "25,やみ,4\n",
      "Ranking,Word,Count\n",
      "1,、,48\n",
      "2,の,47\n",
      "3,に,29\n",
      "4,を,25\n",
      "5,て,20\n",
      "6,。,19\n",
      "7,は,19\n",
      "8,と,17\n",
      "9,た,16\n",
      "10,ます,15\n",
      "11,が,15\n",
      "12,で,12\n",
      "13,御,12\n",
      "14,ござい,10\n",
      "15,その,9\n",
      "16,まし,8\n",
      "17,ある,7\n",
      "18,から,7\n",
      "19,一,6\n",
      "20,よう,6\n",
      "21,地獄,6\n",
      "22,事,5\n",
      "23,な,5\n",
      "24,この,5\n",
      "25,陀多,5\n"
     ]
    }
   ],
   "source": [
    "c0top = calcTopFreqWord(c0wc,n=25)\n",
    "c1top = calcTopFreqWord(c1wc,n=25)\n",
    "c2top = calcTopFreqWord(c2wc,n=25)\n",
    "c3top = calcTopFreqWord(c3wc,n=25)"
   ]
  },
  {
   "cell_type": "code",
   "execution_count": 72,
   "id": "d0e4f0f2-4bec-4565-a750-0366de32bfe6",
   "metadata": {},
   "outputs": [],
   "source": [
    "vocab = sorted(list(set(c0top.keys()) | set(c1top.keys()) | set(c2top.keys()) | set(c3top.keys())))"
   ]
  },
  {
   "cell_type": "code",
   "execution_count": 73,
   "id": "cb3882b8-c9a9-45b8-aa1b-8818c9eea570",
   "metadata": {
    "scrolled": true
   },
   "outputs": [
    {
     "data": {
      "text/plain": [
       "['――',\n",
       " '、',\n",
       " '。',\n",
       " 'あなた',\n",
       " 'ある',\n",
       " 'い',\n",
       " 'か',\n",
       " 'から',\n",
       " 'が',\n",
       " 'こころ',\n",
       " 'この',\n",
       " 'ござい',\n",
       " 'さ',\n",
       " 'し',\n",
       " 'その',\n",
       " 'た',\n",
       " 'つ',\n",
       " 'て',\n",
       " 'で',\n",
       " 'です',\n",
       " 'と',\n",
       " 'として',\n",
       " 'な',\n",
       " 'ない',\n",
       " 'なかっ',\n",
       " 'なっ',\n",
       " 'に',\n",
       " 'の',\n",
       " 'は',\n",
       " 'へ',\n",
       " 'まし',\n",
       " 'ます',\n",
       " 'も',\n",
       " 'やう',\n",
       " 'やみ',\n",
       " 'ゆく',\n",
       " 'よ',\n",
       " 'よう',\n",
       " 'り',\n",
       " 'を',\n",
       " 'ん',\n",
       " '一',\n",
       " '下人',\n",
       " '中',\n",
       " '事',\n",
       " '云う',\n",
       " '人',\n",
       " '地獄',\n",
       " '年',\n",
       " '御',\n",
       " '徴',\n",
       " '李',\n",
       " '袁',\n",
       " '門',\n",
       " '陀多',\n",
       " '雨']"
      ]
     },
     "execution_count": 73,
     "metadata": {},
     "output_type": "execute_result"
    }
   ],
   "source": [
    "vocab"
   ]
  },
  {
   "cell_type": "code",
   "execution_count": 74,
   "id": "720d63e9-54c5-4f3d-9ddb-55ed803920e3",
   "metadata": {},
   "outputs": [
    {
     "data": {
      "text/plain": [
       "56"
      ]
     },
     "execution_count": 74,
     "metadata": {},
     "output_type": "execute_result"
    }
   ],
   "source": [
    "len(vocab)"
   ]
  },
  {
   "cell_type": "code",
   "execution_count": 75,
   "id": "041f3682-24a3-4176-935e-98d5279d4498",
   "metadata": {},
   "outputs": [],
   "source": [
    "c0vec = vectolizer(c0top, vocab)\n",
    "c1vec = vectolizer(c1top, vocab)\n",
    "c2vec = vectolizer(c2top, vocab)\n",
    "c3vec = vectolizer(c3top, vocab)"
   ]
  },
  {
   "cell_type": "code",
   "execution_count": 76,
   "id": "aea2f57a-3119-4e87-9f67-95cf47b9527f",
   "metadata": {},
   "outputs": [],
   "source": [
    "sims = calcAllpairSimilarities([c0vec,c1vec,c2vec,c3vec])"
   ]
  },
  {
   "cell_type": "code",
   "execution_count": 77,
   "id": "a9804445-7d27-43d1-89e1-ba6de595890c",
   "metadata": {},
   "outputs": [
    {
     "data": {
      "text/plain": [
       "array([[1.0000001 , 0.7367335 , 0.9371616 , 0.90622336],\n",
       "       [0.7367335 , 1.0000001 , 0.6916702 , 0.79409117],\n",
       "       [0.9371616 , 0.6916702 , 0.99999994, 0.9056444 ],\n",
       "       [0.90622336, 0.79409117, 0.9056444 , 0.99999994]], dtype=float32)"
      ]
     },
     "execution_count": 77,
     "metadata": {},
     "output_type": "execute_result"
    }
   ],
   "source": [
    "#idx 0: 山月記、1: 智恵子抄、2:羅生門、3:蜘蛛の糸\n",
    "sims"
   ]
  },
  {
   "cell_type": "code",
   "execution_count": 78,
   "id": "6b485cd6-3ea1-457d-9fcd-3b7bcdbc40d8",
   "metadata": {},
   "outputs": [
    {
     "name": "stdout",
     "output_type": "stream",
     "text": [
      "山月記ー智恵子抄:0.737\n",
      "山月記ー羅生門:0.937\n",
      "山月記ー蜘蛛の糸:0.906\n",
      "智恵子抄ー羅生門:0.692\n",
      "智恵子抄ー蜘蛛の糸:0.794\n",
      "羅生門ー蜘蛛の糸:0.906\n"
     ]
    }
   ],
   "source": [
    "print(f\"山月記ー智恵子抄:{sims[0,1]:.3f}\")\n",
    "print(f\"山月記ー羅生門:{sims[0,2]:.3f}\")\n",
    "print(f\"山月記ー蜘蛛の糸:{sims[0,3]:.3f}\")\n",
    "print(f\"智恵子抄ー羅生門:{sims[1,2]:.3f}\")\n",
    "print(f\"智恵子抄ー蜘蛛の糸:{sims[1,3]:.3f}\")\n",
    "print(f\"羅生門ー蜘蛛の糸:{sims[2,3]:.3f}\")"
   ]
  },
  {
   "cell_type": "markdown",
   "id": "74fdb26c-faec-40a2-aeef-ed8a97aebd99",
   "metadata": {},
   "source": [
    "山月記(c0)は智恵子抄(c1)には0.74の類似度、羅生門(c2)には0.94の類似度なので、羅生門に似ているという結果"
   ]
  },
  {
   "cell_type": "markdown",
   "id": "38a32e0f-153b-492a-862e-a21b860d14c4",
   "metadata": {},
   "source": [
    "### ストップワード"
   ]
  },
  {
   "cell_type": "code",
   "execution_count": 79,
   "id": "c5d308a9-e798-4ef9-97f4-3501a2142cec",
   "metadata": {},
   "outputs": [
    {
     "name": "stderr",
     "output_type": "stream",
     "text": [
      "[nltk_data] Downloading package stopwords to /home/jovyan/nltk_data...\n",
      "[nltk_data]   Unzipping corpora/stopwords.zip.\n"
     ]
    },
    {
     "data": {
      "text/plain": [
       "True"
      ]
     },
     "execution_count": 79,
     "metadata": {},
     "output_type": "execute_result"
    }
   ],
   "source": [
    "from nltk.corpus import stopwords\n",
    "nltk.download('stopwords')"
   ]
  },
  {
   "cell_type": "code",
   "execution_count": 80,
   "id": "6fc5b438-ae17-426d-8dc2-ba9f30a89126",
   "metadata": {},
   "outputs": [],
   "source": [
    "#stopwords.words('english')"
   ]
  },
  {
   "cell_type": "code",
   "execution_count": 81,
   "id": "b23c759a-43f0-4c08-bb21-0045fd79a2d5",
   "metadata": {},
   "outputs": [],
   "source": [
    "# 個別に設定してみる\n",
    "def elimStopWord(wc):\n",
    "    sel_wc = {}\n",
    "    for (w,c) in wc.items():\n",
    "        if w in \"、。てにをはの\":\n",
    "            continue\n",
    "        else:\n",
    "            sel_wc[w] = c\n",
    "    \n",
    "    return sel_wc"
   ]
  },
  {
   "cell_type": "code",
   "execution_count": 82,
   "id": "3de9f00d-c7cc-432a-b963-d4b91c97aae0",
   "metadata": {},
   "outputs": [],
   "source": [
    "c0stop = elimStopWord(c0wc)\n",
    "c1stop = elimStopWord(c1wc)\n",
    "c2stop = elimStopWord(c2wc)\n",
    "c3stop = elimStopWord(c3wc)"
   ]
  },
  {
   "cell_type": "code",
   "execution_count": 83,
   "id": "b9a5a876-769b-443e-83d4-853447665701",
   "metadata": {},
   "outputs": [
    {
     "data": {
      "text/plain": [
       "{'隴西': 1,\n",
       " '李': 6,\n",
       " '徴': 7,\n",
       " '博学': 1,\n",
       " '才': 1,\n",
       " '穎': 1,\n",
       " '天宝': 1,\n",
       " '末': 1,\n",
       " '年': 4,\n",
       " '若くして': 1,\n",
       " '名': 2,\n",
       " '虎': 2,\n",
       " '榜': 1,\n",
       " '連ね': 1,\n",
       " 'ついで': 1,\n",
       " '江南': 1,\n",
       " '尉': 1,\n",
       " '補せ': 1,\n",
       " 'られ': 1,\n",
       " 'た': 30,\n",
       " 'が': 13,\n",
       " '性': 2,\n",
       " '狷介': 1,\n",
       " '自ら': 1,\n",
       " '恃': 2,\n",
       " 'むところ': 1,\n",
       " '頗る': 1,\n",
       " '厚く': 1,\n",
       " '賤吏': 1,\n",
       " '甘んずる': 1,\n",
       " '潔し': 1,\n",
       " 'と': 11,\n",
       " 'し': 11,\n",
       " 'なかっ': 4,\n",
       " 'いくばく': 1,\n",
       " 'も': 9,\n",
       " 'なく': 1,\n",
       " '官': 1,\n",
       " '退い': 1,\n",
       " '後': 3,\n",
       " '故山': 1,\n",
       " '略': 1,\n",
       " '帰臥': 1,\n",
       " '人': 2,\n",
       " '交': 1,\n",
       " '絶っ': 1,\n",
       " 'ひたすら': 1,\n",
       " '詩作': 1,\n",
       " '耽っ': 1,\n",
       " '下': 2,\n",
       " '吏': 3,\n",
       " 'なっ': 4,\n",
       " '長く': 1,\n",
       " '膝': 1,\n",
       " '俗悪': 1,\n",
       " 'な': 3,\n",
       " '大官': 1,\n",
       " '前': 1,\n",
       " '屈する': 1,\n",
       " 'より': 1,\n",
       " '詩家': 1,\n",
       " 'として': 4,\n",
       " '死後': 1,\n",
       " '百': 1,\n",
       " '遺そ': 1,\n",
       " 'う': 3,\n",
       " 'で': 7,\n",
       " 'ある': 2,\n",
       " 'しかし': 2,\n",
       " '文名': 1,\n",
       " '容易': 1,\n",
       " '揚ら': 1,\n",
       " 'ず': 3,\n",
       " '生活': 1,\n",
       " '日': 1,\n",
       " '逐う': 1,\n",
       " '苦しく': 1,\n",
       " 'なる': 1,\n",
       " '漸く': 1,\n",
       " '焦躁': 1,\n",
       " '駆ら': 1,\n",
       " 'れ': 2,\n",
       " '来': 2,\n",
       " 'この': 1,\n",
       " '頃': 2,\n",
       " 'から': 5,\n",
       " 'その': 4,\n",
       " '容貌': 1,\n",
       " '峭刻': 1,\n",
       " 'なり': 1,\n",
       " '肉': 1,\n",
       " '落ち': 1,\n",
       " '骨': 1,\n",
       " '秀で': 1,\n",
       " '眼光': 1,\n",
       " 'のみ': 1,\n",
       " '徒': 1,\n",
       " 'ら': 1,\n",
       " '炯々': 1,\n",
       " '曾': 2,\n",
       " '進士': 2,\n",
       " '登': 1,\n",
       " '第': 2,\n",
       " '豊頬': 1,\n",
       " '美少年': 1,\n",
       " '俤': 1,\n",
       " '何処': 1,\n",
       " '求め': 1,\n",
       " 'よう': 1,\n",
       " 'ない': 5,\n",
       " '数': 1,\n",
       " '貧窮': 1,\n",
       " '堪え': 1,\n",
       " '妻子': 1,\n",
       " '衣食': 1,\n",
       " 'ため': 2,\n",
       " '遂に': 2,\n",
       " '節': 1,\n",
       " '屈し': 1,\n",
       " '再び': 1,\n",
       " '東': 1,\n",
       " 'へ': 2,\n",
       " '赴き': 1,\n",
       " '一': 3,\n",
       " '地方': 1,\n",
       " '官吏': 1,\n",
       " '職': 1,\n",
       " '奉ずる': 1,\n",
       " 'こと': 4,\n",
       " '一方': 1,\n",
       " 'これ': 1,\n",
       " '己': 1,\n",
       " '詩': 1,\n",
       " '業': 1,\n",
       " '半ば': 1,\n",
       " '絶望': 1,\n",
       " '同輩': 1,\n",
       " '既に': 1,\n",
       " '遥か': 1,\n",
       " '高位': 1,\n",
       " '進み': 1,\n",
       " '彼': 4,\n",
       " '昔': 1,\n",
       " '鈍物': 1,\n",
       " '歯牙': 1,\n",
       " 'かけ': 1,\n",
       " '連中': 1,\n",
       " '下命': 1,\n",
       " '拝': 1,\n",
       " 'さ': 1,\n",
       " 'ね': 1,\n",
       " 'ば': 2,\n",
       " 'なら': 1,\n",
       " 'ぬ': 2,\n",
       " '往年': 1,\n",
       " '儁才李': 1,\n",
       " '自尊心': 1,\n",
       " '如何': 1,\n",
       " '傷': 1,\n",
       " 'けた': 1,\n",
       " 'か': 5,\n",
       " '想像': 1,\n",
       " '難く': 2,\n",
       " '怏々': 1,\n",
       " '楽しま': 1,\n",
       " '狂': 1,\n",
       " '悖': 1,\n",
       " '愈々': 1,\n",
       " '抑え': 1,\n",
       " '公用': 1,\n",
       " '旅': 1,\n",
       " '出': 1,\n",
       " '汝': 1,\n",
       " '水': 1,\n",
       " 'ほとり': 1,\n",
       " '宿っ': 2,\n",
       " '時': 2,\n",
       " '発狂': 1,\n",
       " '或': 1,\n",
       " '夜半': 1,\n",
       " '急': 1,\n",
       " '顔色': 1,\n",
       " '変え': 1,\n",
       " '寝床': 1,\n",
       " '起': 1,\n",
       " '上る': 1,\n",
       " '何': 2,\n",
       " '訳': 1,\n",
       " '分ら': 1,\n",
       " '叫び': 1,\n",
       " 'つつ': 1,\n",
       " 'そのまま': 1,\n",
       " 'とび': 1,\n",
       " '下り': 1,\n",
       " '闇': 1,\n",
       " '中': 6,\n",
       " '駈': 1,\n",
       " '出し': 1,\n",
       " '二度と': 1,\n",
       " '戻っ': 1,\n",
       " '附近': 1,\n",
       " '山野': 1,\n",
       " '捜索': 1,\n",
       " '手掛り': 1,\n",
       " 'その後': 1,\n",
       " 'どう': 1,\n",
       " '知る': 1,\n",
       " '者': 2,\n",
       " '誰': 1,\n",
       " '翌年': 1,\n",
       " '監察': 1,\n",
       " '御': 1,\n",
       " '史': 1,\n",
       " '陳': 1,\n",
       " '郡': 1,\n",
       " '袁': 6,\n",
       " 'という': 1,\n",
       " '勅命': 1,\n",
       " '奉じ': 1,\n",
       " '嶺': 1,\n",
       " '南': 1,\n",
       " '使': 1,\n",
       " '途': 1,\n",
       " '商': 1,\n",
       " '於': 1,\n",
       " '地': 1,\n",
       " '次': 1,\n",
       " '朝': 2,\n",
       " '未だ': 1,\n",
       " '暗い': 1,\n",
       " '出発': 2,\n",
       " 'しよ': 1,\n",
       " 'ところ': 2,\n",
       " '駅': 2,\n",
       " '言う': 1,\n",
       " 'これから': 1,\n",
       " '先': 1,\n",
       " '道': 1,\n",
       " '喰虎': 1,\n",
       " '出る': 1,\n",
       " '故': 1,\n",
       " '旅人': 1,\n",
       " '白昼': 1,\n",
       " 'なけれ': 1,\n",
       " '通れ': 1,\n",
       " '今': 2,\n",
       " 'まだ': 1,\n",
       " '早い': 1,\n",
       " '少し': 1,\n",
       " '待た': 1,\n",
       " '宜しい': 1,\n",
       " 'でしょ': 1,\n",
       " '供廻り': 1,\n",
       " '多勢': 1,\n",
       " 'み': 1,\n",
       " '言葉': 1,\n",
       " '斥け': 1,\n",
       " '残月': 1,\n",
       " '光': 1,\n",
       " 'たより': 1,\n",
       " '林': 1,\n",
       " '草地': 1,\n",
       " '通っ': 1,\n",
       " '行っ': 1,\n",
       " '果して': 1,\n",
       " '匹': 1,\n",
       " '猛虎': 1,\n",
       " '叢': 3,\n",
       " '躍り出': 1,\n",
       " 'あわや': 1,\n",
       " '躍りかかる': 1,\n",
       " '見え': 1,\n",
       " '忽ち': 1,\n",
       " '身': 1,\n",
       " '飜': 1,\n",
       " '元': 1,\n",
       " '隠れ': 1,\n",
       " '人間': 1,\n",
       " '声': 3,\n",
       " '「': 2,\n",
       " 'あぶない': 1,\n",
       " 'だっ': 1,\n",
       " '」': 2,\n",
       " '繰返し': 1,\n",
       " '呟く': 1,\n",
       " '聞え': 1,\n",
       " '聞き': 1,\n",
       " '憶え': 1,\n",
       " 'あっ': 2,\n",
       " '驚': 1,\n",
       " '懼': 1,\n",
       " '咄嗟': 1,\n",
       " '思いあたっ': 1,\n",
       " '叫ん': 1,\n",
       " 'だ': 1,\n",
       " '我が': 1,\n",
       " '友': 2,\n",
       " '子': 1,\n",
       " '？': 1,\n",
       " '同年': 1,\n",
       " '登り': 1,\n",
       " '友人': 1,\n",
       " '少かっ': 1,\n",
       " 'にとって': 1,\n",
       " '最も': 1,\n",
       " '親しい': 1,\n",
       " '温和': 1,\n",
       " '性格': 1}"
      ]
     },
     "execution_count": 83,
     "metadata": {},
     "output_type": "execute_result"
    }
   ],
   "source": [
    "c0stop"
   ]
  },
  {
   "cell_type": "code",
   "execution_count": 84,
   "id": "1e4e183a-1ef1-417e-86c3-7a5df5457052",
   "metadata": {},
   "outputs": [],
   "source": [
    "vocab = sorted(list(set(c0stop.keys()) | set(c1stop.keys()) | set(c2stop.keys()) | set(c3stop.keys())))"
   ]
  },
  {
   "cell_type": "code",
   "execution_count": 85,
   "id": "661e344b-3fe8-4eaf-bf06-e31d011e8511",
   "metadata": {},
   "outputs": [
    {
     "data": {
      "text/plain": [
       "860"
      ]
     },
     "execution_count": 85,
     "metadata": {},
     "output_type": "execute_result"
    }
   ],
   "source": [
    "len(vocab)"
   ]
  },
  {
   "cell_type": "code",
   "execution_count": 86,
   "id": "8966ad9f-92e7-4db6-9ac7-c34ee906193b",
   "metadata": {},
   "outputs": [],
   "source": [
    "c0vec = vectolizer(c0stop, vocab)\n",
    "c1vec = vectolizer(c1stop, vocab)\n",
    "c2vec = vectolizer(c2stop, vocab)\n",
    "c3vec = vectolizer(c3stop, vocab)"
   ]
  },
  {
   "cell_type": "code",
   "execution_count": 87,
   "id": "adea8534-de41-4a34-adb0-b109710efa90",
   "metadata": {},
   "outputs": [],
   "source": [
    "sims = calcAllpairSimilarities([c0vec,c1vec,c2vec,c3vec])"
   ]
  },
  {
   "cell_type": "code",
   "execution_count": 88,
   "id": "5cd8e187-725b-4648-a057-cba3915decf8",
   "metadata": {},
   "outputs": [
    {
     "data": {
      "text/plain": [
       "array([[0.9999996 , 0.30404103, 0.68382126, 0.5380345 ],\n",
       "       [0.30404103, 0.9999995 , 0.38068253, 0.36025995],\n",
       "       [0.68382126, 0.38068253, 1.0000004 , 0.6285678 ],\n",
       "       [0.5380345 , 0.36025995, 0.6285678 , 1.0000004 ]], dtype=float32)"
      ]
     },
     "execution_count": 88,
     "metadata": {},
     "output_type": "execute_result"
    }
   ],
   "source": [
    "#idx 0: 山月記、1: 智恵子抄、2:羅生門、3:蜘蛛の糸\n",
    "sims"
   ]
  },
  {
   "cell_type": "code",
   "execution_count": 89,
   "id": "509dfc0a-beb6-4e6d-a37f-f4964ffe4e96",
   "metadata": {},
   "outputs": [
    {
     "name": "stdout",
     "output_type": "stream",
     "text": [
      "山月記ー智恵子抄:0.304\n",
      "山月記ー羅生門:0.684\n",
      "山月記ー蜘蛛の糸:0.538\n",
      "智恵子抄ー羅生門:0.381\n",
      "智恵子抄ー蜘蛛の糸:0.360\n",
      "羅生門ー蜘蛛の糸:0.629\n"
     ]
    }
   ],
   "source": [
    "print(f\"山月記ー智恵子抄:{sims[0,1]:.3f}\")\n",
    "print(f\"山月記ー羅生門:{sims[0,2]:.3f}\")\n",
    "print(f\"山月記ー蜘蛛の糸:{sims[0,3]:.3f}\")\n",
    "print(f\"智恵子抄ー羅生門:{sims[1,2]:.3f}\")\n",
    "print(f\"智恵子抄ー蜘蛛の糸:{sims[1,3]:.3f}\")\n",
    "print(f\"羅生門ー蜘蛛の糸:{sims[2,3]:.3f}\")"
   ]
  },
  {
   "cell_type": "markdown",
   "id": "0e911270-1778-4b01-ac80-58dc2e58aada",
   "metadata": {},
   "source": [
    "## TF-IDFの計算\n",
    "#### tf-idfの説明\n",
    "- tf-idfは、文書中の単語に関する重みの一種であり、主に情報検索や文章要約などの分野で利用される。\n",
    "- tf-idfは、tf（英: Term Frequency、単語の出現頻度）とidf（英: Inverse Document Frequency、逆文書頻度）の二つの指標にもとづいて計算される。\n",
    "\n",
    "#### 式とその説明\n",
    "$$tfidf_{i,j}=tf_{i,j} \\cdot idf_{i}$$\n",
    "$$tf_{i,j}=\\frac{n_{i,j}}{\\sum_{k}n_{k,j}}$$\n",
    "$$idf_i = log \\frac{|D|}{|\\{d:d\\ni t_i\\}|}$$\n",
    "\n",
    "$n_{i,j}$は単語 $t_{i}$ の文書 $d_{j}$ における出現回数、 $\\sum _{k}n_{k,j}$ は文書 $d_{j}$ におけるすべての単語の出現回数の和、$|D|$ は総文書数、$|\\{d:d\\ni t_{i}\\}|$ は単語 $t_{i}$ を含む文書数である。そのため、idfは一種の一般語フィルタとして働き、多くの文書に出現する語（一般的な語）は重要度が下がり、特定の文書にしか出現しない単語の重要度を上げる役割を果たす。"
   ]
  },
  {
   "cell_type": "code",
   "execution_count": 90,
   "id": "f149dfe2-d1dc-4985-808c-d6e8fbc396f8",
   "metadata": {},
   "outputs": [],
   "source": [
    "def calc_tf(doc,dfDic):\n",
    "    tfDic = cl.defaultdict(float)\n",
    "    d_vocab = list(set(doc))\n",
    "    _sum = float(len(doc))\n",
    "    for w in d_vocab:\n",
    "        dfDic[w] += 1.0\n",
    "        \n",
    "    for w in doc:\n",
    "        tfDic[w] += 1.0/_sum\n",
    "        \n",
    "    return tfDic,dfDic\n",
    "    \n",
    "def calc_tfidf(vocab_list,docs):\n",
    "    import math\n",
    "    import collections as cl\n",
    "    # idf\n",
    "    idf = {}\n",
    "    D = len(docs) # 文書数\n",
    "\n",
    "    dfDic = cl.defaultdict(float)\n",
    "    \n",
    "    tfDics = []\n",
    "    for doc in docs:\n",
    "        tfDic,dfDic = calc_tf(doc,dfDic)\n",
    "        tfDics.append(tfDic)\n",
    "        \n",
    "    idfDic = {}\n",
    "    for w in vocab_list:\n",
    "        idfDic[w] = math.log((D+1) / (dfDic[w]+1))\n",
    "\n",
    "    #tfidf\n",
    "    tfidfDics = []\n",
    "    for i in range(len(docs)):\n",
    "        tfidfs = []\n",
    "        tfDic = tfDics[i]\n",
    "        tfidfDic = {}\n",
    "        for w in vocab_list:\n",
    "            tfidf = tfDic[w]*idfDic[w]\n",
    "            tfidfDic[w] = tfidf\n",
    "        \n",
    "        tfidfDics.append(tfidfDic)\n",
    "    \n",
    "    return tfidfDics, tfDics, idfDic"
   ]
  },
  {
   "cell_type": "code",
   "execution_count": 91,
   "id": "cbf0a7cd-02dd-4c9c-b51b-82731313af05",
   "metadata": {},
   "outputs": [],
   "source": [
    "docs = [c0ws, c1ws, c2ws, c3ws]"
   ]
  },
  {
   "cell_type": "code",
   "execution_count": 92,
   "id": "495a2670-56c4-4c64-a50b-0f1846b3d4e1",
   "metadata": {},
   "outputs": [],
   "source": [
    "vocab = sorted(list(set(c0ws+c1ws+c2ws+c3ws)))"
   ]
  },
  {
   "cell_type": "code",
   "execution_count": 93,
   "id": "4f8729a1-e860-4b4c-91e1-53c25a9a9155",
   "metadata": {},
   "outputs": [],
   "source": [
    "tfidfDics, tfDics, idfDic = calc_tfidf(vocab,docs)"
   ]
  },
  {
   "cell_type": "code",
   "execution_count": 94,
   "id": "917a5e11-ee52-4731-9890-f0ade9921c30",
   "metadata": {},
   "outputs": [],
   "source": [
    "def calcTopScoreWord(wcdic,n=None, is_ascend=False, is_print=True):\n",
    "    topdic = {}\n",
    "    if is_print is True:\n",
    "        print(\"Ranking,Word,Score\")\n",
    "\n",
    "    if is_ascend is True:\n",
    "        sortval = 1\n",
    "    else:\n",
    "        sortval = -1\n",
    "        \n",
    "    for i, (w, c) in enumerate(sorted(wcdic.items(), key=lambda x:sortval*x[1])):\n",
    "        if n is not None and i+1 > n:\n",
    "            break\n",
    "\n",
    "        topdic[w] = c\n",
    "        if is_print is True:\n",
    "            print(f\"{i+1},{w},{c:.6f}\")\n",
    "\n",
    "    return None"
   ]
  },
  {
   "cell_type": "code",
   "execution_count": 95,
   "id": "d5bd6ca0-440f-4188-8aa4-9c394e36d6e2",
   "metadata": {},
   "outputs": [
    {
     "name": "stdout",
     "output_type": "stream",
     "text": [
      "山月記\n",
      "Ranking,Word,Score\n",
      "1,、,0.084151\n",
      "2,の,0.060309\n",
      "3,に,0.053296\n",
      "4,た,0.042076\n",
      "5,。,0.035063\n",
      "6,は,0.033661\n",
      "7,を,0.029453\n",
      "8,て,0.022440\n",
      "9,が,0.018233\n",
      "10,と,0.015428\n",
      "11,し,0.015428\n",
      "12,も,0.012623\n",
      "13,徴,0.009818\n",
      "14,で,0.009818\n",
      "15,李,0.008415\n",
      "16,中,0.008415\n",
      "17,袁,0.008415\n",
      "18,から,0.007013\n",
      "19,ない,0.007013\n",
      "20,か,0.007013\n",
      "21,年,0.005610\n",
      "22,なかっ,0.005610\n",
      "23,なっ,0.005610\n",
      "24,として,0.005610\n",
      "25,その,0.005610\n",
      "智恵子抄\n",
      "Ranking,Word,Score\n",
      "1,の,0.075041\n",
      "2,に,0.044046\n",
      "3,を,0.037520\n",
      "4,は,0.032626\n",
      "5,て,0.024470\n",
      "6,、,0.024470\n",
      "7,が,0.021207\n",
      "8,な,0.019576\n",
      "9,こころ,0.014682\n",
      "10,――,0.013051\n",
      "11,あなた,0.011419\n",
      "12,人,0.009788\n",
      "13,つ,0.009788\n",
      "14,やう,0.009788\n",
      "15,ゆく,0.009788\n",
      "16,よ,0.009788\n",
      "17,です,0.008157\n",
      "18,り,0.008157\n",
      "19,も,0.008157\n",
      "20,ん,0.006525\n",
      "21,で,0.006525\n",
      "22,と,0.006525\n",
      "23,さ,0.006525\n",
      "24,へ,0.006525\n",
      "25,ます,0.006525\n",
      "羅生門\n",
      "Ranking,Word,Score\n",
      "1,、,0.088663\n",
      "2,の,0.053779\n",
      "3,。,0.039244\n",
      "4,が,0.039244\n",
      "5,た,0.039244\n",
      "6,に,0.037791\n",
      "7,て,0.034884\n",
      "8,を,0.027616\n",
      "9,は,0.027616\n",
      "10,と,0.017442\n",
      "11,ある,0.015988\n",
      "12,で,0.015988\n",
      "13,い,0.013081\n",
      "14,も,0.013081\n",
      "15,この,0.011628\n",
      "16,ない,0.011628\n",
      "17,下人,0.010174\n",
      "18,雨,0.010174\n",
      "19,その,0.010174\n",
      "20,云う,0.008721\n",
      "21,一,0.007267\n",
      "22,門,0.007267\n",
      "23,し,0.007267\n",
      "24,事,0.005814\n",
      "25,やみ,0.005814\n",
      "蜘蛛の糸\n",
      "Ranking,Word,Score\n",
      "1,、,0.072838\n",
      "2,の,0.071320\n",
      "3,に,0.044006\n",
      "4,を,0.037936\n",
      "5,て,0.030349\n",
      "6,。,0.028832\n",
      "7,は,0.028832\n",
      "8,と,0.025797\n",
      "9,た,0.024279\n",
      "10,ます,0.022762\n",
      "11,が,0.022762\n",
      "12,で,0.018209\n",
      "13,御,0.018209\n",
      "14,ござい,0.015175\n",
      "15,その,0.013657\n",
      "16,まし,0.012140\n",
      "17,ある,0.010622\n",
      "18,から,0.010622\n",
      "19,一,0.009105\n",
      "20,よう,0.009105\n",
      "21,地獄,0.009105\n",
      "22,事,0.007587\n",
      "23,な,0.007587\n",
      "24,この,0.007587\n",
      "25,陀多,0.007587\n"
     ]
    }
   ],
   "source": [
    "# tf上位\n",
    "print(\"山月記\")\n",
    "calcTopScoreWord(tfDics[0],n=25)\n",
    "print(\"智恵子抄\")\n",
    "calcTopScoreWord(tfDics[1],n=25)\n",
    "print(\"羅生門\")\n",
    "calcTopScoreWord(tfDics[2],n=25)\n",
    "print(\"蜘蛛の糸\")\n",
    "calcTopScoreWord(tfDics[3],n=25)"
   ]
  },
  {
   "cell_type": "code",
   "execution_count": 96,
   "id": "a12fe27b-d642-497b-8b44-0fdc4004bc33",
   "metadata": {},
   "outputs": [
    {
     "name": "stdout",
     "output_type": "stream",
     "text": [
      "Ranking,Word,Score\n",
      "1,、,0.000000\n",
      "2,う,0.000000\n",
      "3,から,0.000000\n",
      "4,が,0.000000\n",
      "5,し,0.000000\n",
      "6,その,0.000000\n",
      "7,た,0.000000\n",
      "8,て,0.000000\n",
      "9,で,0.000000\n",
      "10,と,0.000000\n",
      "11,な,0.000000\n",
      "12,ない,0.000000\n",
      "13,なら,0.000000\n",
      "14,に,0.000000\n",
      "15,の,0.000000\n",
      "16,は,0.000000\n",
      "17,ば,0.000000\n",
      "18,へ,0.000000\n",
      "19,も,0.000000\n",
      "20,を,0.000000\n",
      "21,一,0.000000\n",
      "22,人,0.000000\n",
      "23,何,0.000000\n",
      "24,。,0.223144\n",
      "25,「,0.223144\n"
     ]
    }
   ],
   "source": [
    "# idf下位\n",
    "calcTopScoreWord(idfDic,n=25,is_ascend=True)"
   ]
  },
  {
   "cell_type": "code",
   "execution_count": 97,
   "id": "78e5e23e-e0ac-43f3-9f85-ff44e3461d5c",
   "metadata": {
    "scrolled": true
   },
   "outputs": [
    {
     "name": "stdout",
     "output_type": "stream",
     "text": [
      "山月記\n",
      "Ranking,Word,Score\n",
      "1,徴,0.008996\n",
      "2,。,0.007824\n",
      "3,李,0.007711\n",
      "4,袁,0.007711\n",
      "5,こと,0.005140\n",
      "6,として,0.005140\n",
      "7,彼,0.005140\n",
      "8,中,0.004299\n",
      "9,叢,0.003855\n",
      "10,吏,0.003855\n",
      "11,声,0.003855\n",
      "12,後,0.003855\n",
      "13,なかっ,0.002866\n",
      "14,年,0.002866\n",
      "15,あっ,0.002570\n",
      "16,ため,0.002570\n",
      "17,ところ,0.002570\n",
      "18,ぬ,0.002570\n",
      "19,出発,0.002570\n",
      "20,友,0.002570\n",
      "21,名,0.002570\n",
      "22,宿っ,0.002570\n",
      "23,性,0.002570\n",
      "24,恃,0.002570\n",
      "25,曾,0.002570\n",
      "智恵子抄\n",
      "Ranking,Word,Score\n",
      "1,こころ,0.013453\n",
      "2,あなた,0.010463\n",
      "3,つ,0.008969\n",
      "4,やう,0.008969\n",
      "5,ゆく,0.008969\n",
      "6,よ,0.008969\n",
      "7,です,0.007474\n",
      "8,――,0.006667\n",
      "9,ひ,0.005979\n",
      "10,夜,0.005979\n",
      "11,がたく,0.004484\n",
      "12,しまふ,0.004484\n",
      "13,ち,0.004484\n",
      "14,なんて,0.004484\n",
      "15,私,0.004484\n",
      "16,り,0.004167\n",
      "17,ます,0.003333\n",
      "18,ん,0.003333\n",
      "19,様,0.003333\n",
      "20,あ,0.002990\n",
      "21,あの,0.002990\n",
      "22,お,0.002990\n",
      "23,さき,0.002990\n",
      "24,せ,0.002990\n",
      "25,といふ,0.002990\n",
      "羅生門\n",
      "Ranking,Word,Score\n",
      "1,下人,0.009323\n",
      "2,雨,0.009323\n",
      "3,。,0.008757\n",
      "4,門,0.006659\n",
      "5,とか,0.005327\n",
      "6,鴉,0.005327\n",
      "7,云う,0.004455\n",
      "8,主人,0.003995\n",
      "9,待っ,0.003995\n",
      "10,羅生門,0.003995\n",
      "11,ある,0.003568\n",
      "12,やみ,0.002970\n",
      "13,誰,0.002970\n",
      "14,い,0.002919\n",
      "15,つい,0.002664\n",
      "16,京都,0.002664\n",
      "17,出さ,0.002664\n",
      "18,出来,0.002664\n",
      "19,勿論,0.002664\n",
      "20,崩れ,0.002664\n",
      "21,所,0.002664\n",
      "22,所々,0.002664\n",
      "23,暇,0.002664\n",
      "24,書い,0.002664\n",
      "25,棲む,0.002664\n",
      "蜘蛛の糸\n",
      "Ranking,Word,Score\n",
      "1,ござい,0.013904\n",
      "2,ます,0.011627\n",
      "3,まし,0.011123\n",
      "4,御,0.009302\n",
      "5,地獄,0.008343\n",
      "6,蜘蛛,0.006952\n",
      "7,陀多,0.006952\n",
      "8,。,0.006434\n",
      "9,底,0.005562\n",
      "10,極楽,0.005562\n",
      "11,釈迦,0.005562\n",
      "12,丁度,0.004171\n",
      "13,居り,0.004171\n",
      "14,罪人,0.004171\n",
      "15,蓮,0.004171\n",
      "16,針,0.004171\n",
      "17,いる,0.003101\n",
      "18,様,0.003101\n",
      "19,あたり,0.002781\n",
      "20,しょ,0.002781\n",
      "21,ふち,0.002781\n",
      "22,云っ,0.002781\n",
      "23,助け,0.002781\n",
      "24,命,0.002781\n",
      "25,善い,0.002781\n"
     ]
    }
   ],
   "source": [
    "# tfidf上位\n",
    "print(\"山月記\")\n",
    "calcTopScoreWord(tfidfDics[0],n=25)\n",
    "print(\"智恵子抄\")\n",
    "calcTopScoreWord(tfidfDics[1],n=25)\n",
    "print(\"羅生門\")\n",
    "calcTopScoreWord(tfidfDics[2],n=25)\n",
    "print(\"蜘蛛の糸\")\n",
    "calcTopScoreWord(tfidfDics[3],n=25)"
   ]
  },
  {
   "cell_type": "markdown",
   "id": "42cf5360-febf-4ee5-91d9-fde6c5b39b32",
   "metadata": {},
   "source": [
    "### TF-IDF値で類似度を計算"
   ]
  },
  {
   "cell_type": "code",
   "execution_count": 98,
   "id": "97b68350-b160-4a1f-80b5-3f89c8557b47",
   "metadata": {},
   "outputs": [],
   "source": [
    "c0vec = vectolizer(tfidfDics[0], vocab)\n",
    "c1vec = vectolizer(tfidfDics[1], vocab)\n",
    "c2vec = vectolizer(tfidfDics[2], vocab)\n",
    "c3vec = vectolizer(tfidfDics[3], vocab)"
   ]
  },
  {
   "cell_type": "code",
   "execution_count": 99,
   "id": "a64ef234-70f6-4ba7-a470-a2e6d29a5c73",
   "metadata": {},
   "outputs": [],
   "source": [
    "sims = calcAllpairSimilarities([c0vec,c1vec,c2vec,c3vec])"
   ]
  },
  {
   "cell_type": "code",
   "execution_count": 100,
   "id": "d28e0d7b-512e-4b07-8ae1-e7eb5d9c20fa",
   "metadata": {},
   "outputs": [
    {
     "data": {
      "text/plain": [
       "array([[1.0000006 , 0.01062687, 0.10203643, 0.07130315],\n",
       "       [0.01062687, 0.99999946, 0.02594185, 0.04644287],\n",
       "       [0.10203643, 0.02594185, 1.0000005 , 0.10860541],\n",
       "       [0.07130315, 0.04644287, 0.10860541, 0.9999999 ]], dtype=float32)"
      ]
     },
     "execution_count": 100,
     "metadata": {},
     "output_type": "execute_result"
    }
   ],
   "source": [
    "#idx 0: 山月記、1: 智恵子抄、2:羅生門、3:蜘蛛の糸\n",
    "sims"
   ]
  },
  {
   "cell_type": "code",
   "execution_count": 101,
   "id": "93aaceea-1fa6-48bf-babd-ffed79789ed6",
   "metadata": {},
   "outputs": [
    {
     "name": "stdout",
     "output_type": "stream",
     "text": [
      "山月記ー智恵子抄:0.011\n",
      "山月記ー羅生門:0.102\n",
      "山月記ー蜘蛛の糸:0.071\n",
      "智恵子抄ー羅生門:0.026\n",
      "智恵子抄ー蜘蛛の糸:0.046\n",
      "羅生門ー蜘蛛の糸:0.109\n"
     ]
    }
   ],
   "source": [
    "print(f\"山月記ー智恵子抄:{sims[0,1]:.3f}\")\n",
    "print(f\"山月記ー羅生門:{sims[0,2]:.3f}\")\n",
    "print(f\"山月記ー蜘蛛の糸:{sims[0,3]:.3f}\")\n",
    "print(f\"智恵子抄ー羅生門:{sims[1,2]:.3f}\")\n",
    "print(f\"智恵子抄ー蜘蛛の糸:{sims[1,3]:.3f}\")\n",
    "print(f\"羅生門ー蜘蛛の糸:{sims[2,3]:.3f}\")"
   ]
  },
  {
   "cell_type": "markdown",
   "id": "0523c22c-d897-4f6d-b2fd-69f86013066d",
   "metadata": {},
   "source": [
    "## 特徴空間の距離\n",
    "- ユークリッド距離\n",
    "  - $d(\\boldsymbol{x},\\boldsymbol{y})=\\sqrt{\\Sigma_i (x_i-y_i)^2}$\n",
    "- マンハッタン距離\n",
    "  - $d(\\boldsymbol{x},\\boldsymbol{y})=\\Sigma_i \\lvert x_i-y_i \\lvert$\n",
    "- 最大距離\n",
    "  - $d(\\boldsymbol{x},\\boldsymbol{y})=\\max_i \\lvert x_i-y_i \\lvert$\n",
    "- マハラノビス距離\n",
    "  - $d(\\boldsymbol{x},\\boldsymbol{y})=\\sqrt{(\\boldsymbol{x}-\\boldsymbol{y})^T\\Sigma^{-1}(\\boldsymbol{x}-\\boldsymbol{y})}$"
   ]
  },
  {
   "cell_type": "markdown",
   "id": "116f5182-a1c2-498b-8710-920b84ae2e00",
   "metadata": {},
   "source": [
    "## 集合の距離\n",
    "- Jaccard係数\n",
    "  - $d(\\boldsymbol{X},\\boldsymbol{Y})=\\frac{\\lvert \\boldsymbol{X} \\cap \\boldsymbol{Y}\\lvert}{\\lvert \\boldsymbol{X} \\cup \\boldsymbol{Y}\\lvert}$\n",
    "- Dice係数\n",
    "  - $d(\\boldsymbol{X},\\boldsymbol{Y})=\\frac{2 \\lvert \\boldsymbol{X} \\cap \\boldsymbol{Y}\\lvert}{\\lvert \\boldsymbol{X} \\lvert + \\lvert\\boldsymbol{Y}\\lvert}$\n",
    "- シンプソン係数\n",
    "  - $d(\\boldsymbol{X},\\boldsymbol{Y})=\\frac{\\lvert \\boldsymbol{X} \\cap \\boldsymbol{Y}\\lvert}{\\min(\\lvert \\boldsymbol{X} \\lvert, \\lvert\\boldsymbol{Y}\\lvert)}$\n"
   ]
  },
  {
   "cell_type": "code",
   "execution_count": 102,
   "id": "e890ee51-ea2d-4f4e-b975-3dc4fcfddf4e",
   "metadata": {},
   "outputs": [],
   "source": [
    "def calc_jaccard(arg):\n",
    "    x,y = arg\n",
    "    waset = set(x)|set(y)\n",
    "    andset = set(x)&set(y)\n",
    "    coeff = len(andset)/len(waset)\n",
    "    return coeff"
   ]
  },
  {
   "cell_type": "code",
   "execution_count": 103,
   "id": "7a772e43-2dd5-45c8-a239-a8bb1a026cb6",
   "metadata": {},
   "outputs": [],
   "source": [
    "def calc_dice(arg):\n",
    "    x,y = arg\n",
    "    andset = set(x)&set(y)\n",
    "    coeff = 2*len(andset)/(len(set(x))+len(set(y)))\n",
    "    return coeff"
   ]
  },
  {
   "cell_type": "code",
   "execution_count": 104,
   "id": "0e6d2a49-a9a7-4da1-b95e-c75f04b0fdf5",
   "metadata": {},
   "outputs": [],
   "source": [
    "def calc_simpson(arg):\n",
    "    x,y = arg\n",
    "    andset = set(x)&set(y)\n",
    "    coeff = len(andset)/min(len(set(x)),len(set(y)))\n",
    "    return coeff"
   ]
  },
  {
   "cell_type": "code",
   "execution_count": 105,
   "id": "199a47da-be0d-469b-aaa9-12ae41fdb08c",
   "metadata": {},
   "outputs": [],
   "source": [
    "x=[1,2,3]\n",
    "y=[2,3,4,5,6,7,8,9]"
   ]
  },
  {
   "cell_type": "code",
   "execution_count": 106,
   "id": "1f381041-e63d-4a10-a271-8a82402024a8",
   "metadata": {},
   "outputs": [
    {
     "data": {
      "text/plain": [
       "0.2222222222222222"
      ]
     },
     "execution_count": 106,
     "metadata": {},
     "output_type": "execute_result"
    }
   ],
   "source": [
    "calc_jaccard([x,y])"
   ]
  },
  {
   "cell_type": "code",
   "execution_count": 107,
   "id": "9d67206a-5d8d-44ef-bec0-0a115f5b09a2",
   "metadata": {},
   "outputs": [
    {
     "data": {
      "text/plain": [
       "0.36363636363636365"
      ]
     },
     "execution_count": 107,
     "metadata": {},
     "output_type": "execute_result"
    }
   ],
   "source": [
    "calc_dice([x,y])"
   ]
  },
  {
   "cell_type": "code",
   "execution_count": 108,
   "id": "139efa95-9297-408b-af7a-9cb3814ed8f2",
   "metadata": {},
   "outputs": [
    {
     "data": {
      "text/plain": [
       "0.6666666666666666"
      ]
     },
     "execution_count": 108,
     "metadata": {},
     "output_type": "execute_result"
    }
   ],
   "source": [
    "calc_simpson([x,y])"
   ]
  },
  {
   "cell_type": "markdown",
   "id": "9805365b-2b5f-4137-925d-617bf1d84091",
   "metadata": {},
   "source": [
    "### 万博に対する感想を共起ネットワーク化してみよう\n",
    "- 万博を含む投稿BlueSkyから取得\n",
    "- Janomeで形態素解析を行い、固有名詞、一般名詞、ハッシュタグ、形容詞のみを取得\n",
    "- ２つの語が含まれる投稿ID群の集合距離を使って、閾値を決める\n",
    "- 共起ネットワークを書いてみる"
   ]
  },
  {
   "cell_type": "markdown",
   "id": "c3c28001-0953-4101-87c0-f9cf36d3d466",
   "metadata": {},
   "source": [
    "#### BlueSkyに接続＆検索(class03でやった内容)"
   ]
  },
  {
   "cell_type": "code",
   "execution_count": 109,
   "id": "dbbfac8d-7660-4f4e-a7dd-c5338b363455",
   "metadata": {},
   "outputs": [],
   "source": [
    "from atproto import Client\n",
    "import pandas as pd"
   ]
  },
  {
   "cell_type": "code",
   "execution_count": 110,
   "id": "d6247581-9d5d-4f24-b4fc-8142685e42e0",
   "metadata": {},
   "outputs": [],
   "source": [
    "import json\n",
    "\n",
    "with open(\"bsky_account.json\", 'r') as f:\n",
    "    acdic = json.load(f)"
   ]
  },
  {
   "cell_type": "code",
   "execution_count": 111,
   "id": "30c71578-e4f1-4091-8e0e-690b4cab1308",
   "metadata": {},
   "outputs": [
    {
     "data": {
      "text/plain": [
       "ProfileViewDetailed(did='did:plc:7sqtnkepsjplcvuqpvprsx52', handle='bcoredsclass0001.bsky.social', associated=ProfileAssociated(chat=None, feedgens=0, labeler=False, lists=0, starter_packs=0, py_type='app.bsky.actor.defs#profileAssociated'), avatar='https://cdn.bsky.app/img/avatar/plain/did:plc:7sqtnkepsjplcvuqpvprsx52/bafkreif4w23vqx2keibm2z665tm4i77kewnamclqtompktx6z6acdl2jdq@jpeg', banner=None, created_at='2025-04-10T00:59:16.772Z', description=None, display_name='', followers_count=20, follows_count=1, indexed_at='2025-04-10T00:59:16.772Z', joined_via_starter_pack=None, labels=[], pinned_post=None, posts_count=5, verification=None, viewer=ViewerState(blocked_by=False, blocking=None, blocking_by_list=None, followed_by=None, following=None, known_followers=None, muted=False, muted_by_list=None, py_type='app.bsky.actor.defs#viewerState'), py_type='app.bsky.actor.defs#profileViewDetailed')"
      ]
     },
     "execution_count": 111,
     "metadata": {},
     "output_type": "execute_result"
    }
   ],
   "source": [
    "client = Client(base_url='https://bsky.social')\n",
    "client.login(acdic[\"account\"], acdic[\"password\"])"
   ]
  },
  {
   "cell_type": "code",
   "execution_count": 112,
   "id": "11eab2a9-80b7-41a4-a8cf-d496e46e7d56",
   "metadata": {},
   "outputs": [],
   "source": [
    "res = client.app.bsky.feed.search_posts({\"q\":\"ミャクミャク\", \"sort\":\"top\", \"limit\":100, \"cursor\":None})"
   ]
  },
  {
   "cell_type": "code",
   "execution_count": 113,
   "id": "3d880cc0-5b7a-46b4-bdff-9f32232cdec3",
   "metadata": {},
   "outputs": [
    {
     "name": "stdout",
     "output_type": "stream",
     "text": [
      "100\n",
      "None\n"
     ]
    }
   ],
   "source": [
    "print(res.cursor)\n",
    "print(res.hits_total)\n",
    "\n",
    "rows = [[\"name\",\"text\"]]\n",
    "texts = []\n",
    "for post in res.posts:\n",
    "#    print(post.cid)\n",
    "#    print(post.author.did)\n",
    "#    print(post.author.handle)\n",
    "#    print(post.author.display_name)\n",
    "#    print(post.author.avatar)\n",
    "#    print(post.record.text)\n",
    "#    print(post.like_count)\n",
    "#    print(post.quote_count)\n",
    "#    print(post.reply_count)\n",
    "#    print(post.repost_count)\n",
    "#    print(post.uri)\n",
    "    name = post.author.display_name\n",
    "    text = post.record.text.strip()\n",
    "    row = [name, text]\n",
    "    texts.append(text)\n",
    "    rows.append(row)"
   ]
  },
  {
   "cell_type": "code",
   "execution_count": 114,
   "id": "171239b5-7992-459b-82ba-ad82882153fa",
   "metadata": {},
   "outputs": [],
   "source": [
    "#res = client.app.bsky.feed.get_likes({\"uri\":\"at://did:plc:djobdzddoqpwmjbay7prlk6z/app.bsky.feed.post/3lp4ewk453c2b\", \"limit\":100})"
   ]
  },
  {
   "cell_type": "code",
   "execution_count": 115,
   "id": "abe44eb3-52f5-4600-b6ed-9ff0e02831ba",
   "metadata": {},
   "outputs": [],
   "source": [
    "#res"
   ]
  },
  {
   "cell_type": "code",
   "execution_count": 116,
   "id": "6489efbe-ad11-4073-8e0d-ec22b1dd9f97",
   "metadata": {},
   "outputs": [],
   "source": [
    "#res = client.app.bsky.feed.get_reposted_by({\"uri\":\"at://did:plc:djobdzddoqpwmjbay7prlk6z/app.bsky.feed.post/3lp4ewk453c2b\", \"limit\":100})"
   ]
  },
  {
   "cell_type": "code",
   "execution_count": 117,
   "id": "2ad247e1-98c2-4c10-bf0f-9e67f8a3ff31",
   "metadata": {},
   "outputs": [],
   "source": [
    "#res"
   ]
  },
  {
   "cell_type": "code",
   "execution_count": 118,
   "id": "bfbc91f3-6d52-4ab0-8735-8fae733499e7",
   "metadata": {},
   "outputs": [],
   "source": [
    "#res = client.app.bsky.feed.get_reposted_by({\"uri\":\"at://did:plc:djobdzddoqpwmjbay7prlk6z/app.bsky.feed.post/3lp4ewk453c2b\", \"limit\":100})"
   ]
  },
  {
   "cell_type": "code",
   "execution_count": 119,
   "id": "5b73e147-4765-4fe6-a5d6-9164ac2c0199",
   "metadata": {},
   "outputs": [],
   "source": [
    "df = pd.DataFrame(rows[1:], columns=rows[0])"
   ]
  },
  {
   "cell_type": "code",
   "execution_count": 120,
   "id": "50abdd0a-a6f9-4519-b5f4-667d551d4714",
   "metadata": {
    "scrolled": true
   },
   "outputs": [
    {
     "data": {
      "text/html": [
       "<div>\n",
       "<style scoped>\n",
       "    .dataframe tbody tr th:only-of-type {\n",
       "        vertical-align: middle;\n",
       "    }\n",
       "\n",
       "    .dataframe tbody tr th {\n",
       "        vertical-align: top;\n",
       "    }\n",
       "\n",
       "    .dataframe thead th {\n",
       "        text-align: right;\n",
       "    }\n",
       "</style>\n",
       "<table border=\"1\" class=\"dataframe\">\n",
       "  <thead>\n",
       "    <tr style=\"text-align: right;\">\n",
       "      <th></th>\n",
       "      <th>name</th>\n",
       "      <th>text</th>\n",
       "    </tr>\n",
       "  </thead>\n",
       "  <tbody>\n",
       "    <tr>\n",
       "      <th>0</th>\n",
       "      <td>すっぴぃ</td>\n",
       "      <td>ミャクミャクだよルビィちゃん</td>\n",
       "    </tr>\n",
       "    <tr>\n",
       "      <th>1</th>\n",
       "      <td>いしのこ</td>\n",
       "      <td>最近、赤と青の配色を見たらミャクミャク様を連想するようになってしまった…\\n\\n※この鳥さん...</td>\n",
       "    </tr>\n",
       "    <tr>\n",
       "      <th>2</th>\n",
       "      <td>まがみ🍡ティア東2せ47b</td>\n",
       "      <td>ミャクミャク、ウルトラ怪獣だったらこみゃくが集合してミャクミャクになりそうだし液状のものを噴...</td>\n",
       "    </tr>\n",
       "    <tr>\n",
       "      <th>3</th>\n",
       "      <td>Inu_Talo</td>\n",
       "      <td>いろんなミャクミャクが入ってるおせんべいもらった。\\nかわいくて食べられないけど。</td>\n",
       "    </tr>\n",
       "    <tr>\n",
       "      <th>4</th>\n",
       "      <td>サーファー襲撃ラッコ🎓🦦</td>\n",
       "      <td>政治的信条により万博に行くことはないけど、ミャクミャクはかわいい</td>\n",
       "    </tr>\n",
       "    <tr>\n",
       "      <th>...</th>\n",
       "      <td>...</td>\n",
       "      <td>...</td>\n",
       "    </tr>\n",
       "    <tr>\n",
       "      <th>95</th>\n",
       "      <td>ニドカオル(ツイノスミカ)</td>\n",
       "      <td>ウォータープラザで学童達にショーをして居るミャクミャクを遠巻きですが見れました。</td>\n",
       "    </tr>\n",
       "    <tr>\n",
       "      <th>96</th>\n",
       "      <td>ぺんまる@ﾎｺﾘﾀｹ🍄</td>\n",
       "      <td>てやホリのステッカー！\\n冷蔵庫の顔に仲間入り。\\nミャクミャク様も一緒に\\n#てやホリ</td>\n",
       "    </tr>\n",
       "    <tr>\n",
       "      <th>97</th>\n",
       "      <td>あい@アニメメメ→ピジョン💙ちゃやまち推しフェスティバル→時透無一郎</td>\n",
       "      <td>万博の会場へ来たセミファイナルメンバー(スパロー、キャット、ナズナ、ジャニス)できあがり❤️...</td>\n",
       "    </tr>\n",
       "    <tr>\n",
       "      <th>98</th>\n",
       "      <td>ぺんまる@ﾎｺﾘﾀｹ🍄</td>\n",
       "      <td>お出迎えミャクミャクさんはお尻も見てね</td>\n",
       "    </tr>\n",
       "    <tr>\n",
       "      <th>99</th>\n",
       "      <td>キノハ✒︎</td>\n",
       "      <td>夫、出張から帰宅\\nミャクミャク様のお土産もらった</td>\n",
       "    </tr>\n",
       "  </tbody>\n",
       "</table>\n",
       "<p>100 rows × 2 columns</p>\n",
       "</div>"
      ],
      "text/plain": [
       "                                  name  \\\n",
       "0                                 すっぴぃ   \n",
       "1                                 いしのこ   \n",
       "2                        まがみ🍡ティア東2せ47b   \n",
       "3                             Inu_Talo   \n",
       "4                         サーファー襲撃ラッコ🎓🦦   \n",
       "..                                 ...   \n",
       "95                       ニドカオル(ツイノスミカ)   \n",
       "96                         ぺんまる@ﾎｺﾘﾀｹ🍄   \n",
       "97  あい@アニメメメ→ピジョン💙ちゃやまち推しフェスティバル→時透無一郎   \n",
       "98                         ぺんまる@ﾎｺﾘﾀｹ🍄   \n",
       "99                               キノハ✒︎   \n",
       "\n",
       "                                                 text  \n",
       "0                                      ミャクミャクだよルビィちゃん  \n",
       "1   最近、赤と青の配色を見たらミャクミャク様を連想するようになってしまった…\\n\\n※この鳥さん...  \n",
       "2   ミャクミャク、ウルトラ怪獣だったらこみゃくが集合してミャクミャクになりそうだし液状のものを噴...  \n",
       "3           いろんなミャクミャクが入ってるおせんべいもらった。\\nかわいくて食べられないけど。  \n",
       "4                    政治的信条により万博に行くことはないけど、ミャクミャクはかわいい  \n",
       "..                                                ...  \n",
       "95           ウォータープラザで学童達にショーをして居るミャクミャクを遠巻きですが見れました。  \n",
       "96       てやホリのステッカー！\\n冷蔵庫の顔に仲間入り。\\nミャクミャク様も一緒に\\n#てやホリ  \n",
       "97  万博の会場へ来たセミファイナルメンバー(スパロー、キャット、ナズナ、ジャニス)できあがり❤️...  \n",
       "98                                お出迎えミャクミャクさんはお尻も見てね  \n",
       "99                          夫、出張から帰宅\\nミャクミャク様のお土産もらった  \n",
       "\n",
       "[100 rows x 2 columns]"
      ]
     },
     "execution_count": 120,
     "metadata": {},
     "output_type": "execute_result"
    }
   ],
   "source": [
    "df"
   ]
  },
  {
   "cell_type": "code",
   "execution_count": 121,
   "id": "6adf8e66-492d-4c60-9fce-80a93e3dd4e5",
   "metadata": {},
   "outputs": [],
   "source": [
    "#texts"
   ]
  },
  {
   "cell_type": "code",
   "execution_count": 122,
   "id": "a5901cc9-9055-428e-af5c-d296e45af984",
   "metadata": {},
   "outputs": [],
   "source": [
    "import re\n",
    "\n",
    "def clean_text(text):\n",
    "    # ハッシュタグ取得\n",
    "    hashtags = re.findall(r'#\\w+', text)\n",
    "\n",
    "    # ハッシュタグ削除\n",
    "    text = re.sub(r'#\\S+', '', text)\n",
    "    \n",
    "    # メンション（@username）を削除\n",
    "    text = re.sub(r'@\\S+', '', text)\n",
    "    \n",
    "    # URLを削除（http/www ありの場合と、ドメイン直書きの場合両方対応）\n",
    "    url_pattern = r'(http[s]?://\\S+|www\\.\\S+|\\w+\\.(com|jp|net|org|co|info|io)\\S*)'\n",
    "    text = re.sub(url_pattern, '', text)\n",
    "\n",
    "    # 改行、タブ、半角スペースを削除\n",
    "    text = re.sub(r'\\s+', '', text)\n",
    "\n",
    "    # 顔文字、記号、絵文字削除（日本語、英数字以外を削除）\n",
    "    text = re.sub(r'[^\\u3040-\\u30FF\\u4E00-\\u9FFF\\uFF10-\\uFF19\\uFF21-\\uFF3A\\uFF41-\\uFF5A0-9a-zA-Z]', '', text)\n",
    "\n",
    "    return text, hashtags"
   ]
  },
  {
   "cell_type": "code",
   "execution_count": 123,
   "id": "0b9d8ac3-ee3e-407c-8e2b-3807dc288970",
   "metadata": {},
   "outputs": [],
   "source": [
    "c_texts = []\n",
    "all_hashtags = []\n",
    "for text in texts:\n",
    "    new_text, hashtags = clean_text(text)\n",
    "    c_texts.append(new_text)\n",
    "    all_hashtags.append(hashtags)"
   ]
  },
  {
   "cell_type": "code",
   "execution_count": 124,
   "id": "7292e91f-9ed4-4c0e-a7a1-cfa00c622386",
   "metadata": {},
   "outputs": [],
   "source": [
    "#c_texts"
   ]
  },
  {
   "cell_type": "code",
   "execution_count": 125,
   "id": "df0867cd-9f2c-4a62-9cbc-ba92316ef21b",
   "metadata": {},
   "outputs": [],
   "source": [
    "#all_hashtags"
   ]
  },
  {
   "cell_type": "code",
   "execution_count": 126,
   "id": "ab5ff85d-6f31-4e3a-8fcb-5dca750a7972",
   "metadata": {},
   "outputs": [],
   "source": [
    "# 形態素解析を行なって、固有名詞と形容詞だけ取得\n",
    "t = Tokenizer()\n",
    "\n",
    "def getNNAdj(text):\n",
    "    ws = []\n",
    "    for token in t.tokenize(text):\n",
    "        w = token.surface\n",
    "        poses = token.part_of_speech.split(',')\n",
    "        if poses[1] in [\"固有名詞\",\"一般\"] or poses[0] == \"形容詞\":\n",
    "            ws.append(w)\n",
    "        \n",
    "    return ws"
   ]
  },
  {
   "cell_type": "code",
   "execution_count": 127,
   "id": "64f0d714-0804-4b3d-834e-7075a74f48a6",
   "metadata": {},
   "outputs": [],
   "source": [
    "all_ws = []\n",
    "for text in c_texts:\n",
    "    ws = getNNAdj(text)\n",
    "    all_ws.append(ws)"
   ]
  },
  {
   "cell_type": "code",
   "execution_count": 128,
   "id": "85a5a35f-ac7d-46cb-9a51-caa147248e62",
   "metadata": {},
   "outputs": [],
   "source": [
    "#all_ws"
   ]
  },
  {
   "cell_type": "code",
   "execution_count": 129,
   "id": "68c9c9c6-1af6-4131-96d1-8df68d41040a",
   "metadata": {},
   "outputs": [],
   "source": [
    "all_words = []\n",
    "vocab = set([])\n",
    "for i in range(len(all_ws)):\n",
    "    ws = all_ws[i]\n",
    "    hashtags = all_hashtags[i]\n",
    "    words = ws + hashtags\n",
    "    all_words.append(words)\n",
    "    vocab |= set(words)\n",
    "\n",
    "vocab_list = sorted(list(vocab))"
   ]
  },
  {
   "cell_type": "code",
   "execution_count": 130,
   "id": "9122429f-c2f7-44b9-960b-fbf83495c073",
   "metadata": {},
   "outputs": [
    {
     "data": {
      "text/plain": [
       "560"
      ]
     },
     "execution_count": 130,
     "metadata": {},
     "output_type": "execute_result"
    }
   ],
   "source": [
    "len(vocab_list)"
   ]
  },
  {
   "cell_type": "code",
   "execution_count": 131,
   "id": "26714a79-70e6-4ef2-aa35-8b7f8c570970",
   "metadata": {},
   "outputs": [],
   "source": [
    "#vocab_list"
   ]
  },
  {
   "cell_type": "code",
   "execution_count": 132,
   "id": "cc6bfe76-2649-439b-9b6d-12bd346eb8d4",
   "metadata": {},
   "outputs": [],
   "source": [
    "# 単語ごとに登場する投稿IDを集合にする\n",
    "\n",
    "import collections as cl\n",
    "\n",
    "widDic = cl.defaultdict(list)\n",
    "for i in range(len(all_words)):\n",
    "    # iは投稿(texts)のidx\n",
    "    words = all_words[i]\n",
    "    for w in words:\n",
    "        widDic[w].append(i)\n",
    "        "
   ]
  },
  {
   "cell_type": "code",
   "execution_count": 133,
   "id": "6d551e3a-e950-4025-94a7-232fb833ea41",
   "metadata": {},
   "outputs": [],
   "source": [
    "#widDic"
   ]
  },
  {
   "cell_type": "code",
   "execution_count": 134,
   "id": "d4f5a3f3-7ebc-4a55-b869-afa7a4f4b0b4",
   "metadata": {},
   "outputs": [],
   "source": [
    "#単語間の係数を計算（語彙数x語彙数の計算が必要なので並列化）\n",
    "import multiprocessing as mp\n",
    "import itertools\n",
    "\n",
    "comb = itertools.combinations(vocab_list, 2)\n",
    "comb1,comb2 = itertools.tee(comb,2)\n",
    "\n",
    "p = mp.Pool()\n",
    "res = p.map(calc_dice, comb1)\n",
    "\n",
    "coeffDic = {}\n",
    "for i, (w1,w2) in enumerate(comb2):\n",
    "    w1list = widDic[w1]\n",
    "    w2list = widDic[w2]\n",
    "    coeff = res[i]\n",
    "    coeffDic[(w1,w2)]=coeff\n"
   ]
  },
  {
   "cell_type": "code",
   "execution_count": 135,
   "id": "8c1bf7c0-a450-477a-8684-5dc43df0782f",
   "metadata": {},
   "outputs": [
    {
     "data": {
      "text/plain": [
       "156520"
      ]
     },
     "execution_count": 135,
     "metadata": {},
     "output_type": "execute_result"
    }
   ],
   "source": [
    "len(coeffDic.keys())"
   ]
  },
  {
   "cell_type": "code",
   "execution_count": 136,
   "id": "96639a43-14f0-414f-a55a-7312ae0a3cc3",
   "metadata": {},
   "outputs": [],
   "source": [
    "#res"
   ]
  },
  {
   "cell_type": "code",
   "execution_count": 137,
   "id": "9bde0ce5-39bb-4c37-855c-330094ccbe1e",
   "metadata": {},
   "outputs": [],
   "source": [
    "import matplotlib.pyplot as plt\n",
    "import japanize_matplotlib"
   ]
  },
  {
   "cell_type": "code",
   "execution_count": 138,
   "id": "48327ec1-11f7-4d85-a311-79ab2a37fe93",
   "metadata": {},
   "outputs": [
    {
     "data": {
      "image/png": "[encoded data removed]",
      "text/plain": [
       "<Figure size 640x480 with 1 Axes>"
      ]
     },
     "metadata": {},
     "output_type": "display_data"
    }
   ],
   "source": [
    "fig = plt.figure()\n",
    "fig.subplots_adjust(hspace=0.5)\n",
    "#fig.suptitle(\"all graph\")\n",
    "\n",
    "ax1 = fig.add_subplot(111, title=\"係数の分布\",xlabel=\"Coeff.\", ylabel=\"Count\", yscale=\"log\")\n",
    "ax1.hist(res, bins=50)\n",
    "\n",
    "fig.show()"
   ]
  },
  {
   "cell_type": "code",
   "execution_count": 139,
   "id": "7f3aa16e-e3c1-44e0-a3c1-16d07d3c83cc",
   "metadata": {},
   "outputs": [],
   "source": [
    "import statistics\n",
    "\n",
    "pos_vals = [v for v in res if v>0]\n",
    "\n",
    "#四分位数を計算\n",
    "q1, q2, q3 = statistics.quantiles(pos_vals, n=4)\n",
    "\n",
    "#coeff_th = q3\n",
    "coeff_th = 0.2"
   ]
  },
  {
   "cell_type": "code",
   "execution_count": 140,
   "id": "a25cda08-e558-48d5-9e40-a1ae3570d0c6",
   "metadata": {},
   "outputs": [
    {
     "data": {
      "text/plain": [
       "0.2"
      ]
     },
     "execution_count": 140,
     "metadata": {},
     "output_type": "execute_result"
    }
   ],
   "source": [
    "coeff_th"
   ]
  },
  {
   "cell_type": "markdown",
   "id": "0100ee23-4e41-414f-8d1d-d41ed70bd4d7",
   "metadata": {},
   "source": [
    "### ネットワーク化＆可視化"
   ]
  },
  {
   "cell_type": "code",
   "execution_count": 141,
   "id": "123e153f-76b4-4198-96a5-8a5f7e43b6b3",
   "metadata": {},
   "outputs": [],
   "source": [
    "import networkx as nx\n",
    "import matplotlib"
   ]
  },
  {
   "cell_type": "code",
   "execution_count": 142,
   "id": "5cb36443-298d-465f-8eac-7de6687fa443",
   "metadata": {},
   "outputs": [],
   "source": [
    "G = nx.Graph()\n",
    "for (w1, w2),coeff in coeffDic.items():\n",
    "    if coeff > coeff_th:\n",
    "        G.add_edge(w1,w2)"
   ]
  },
  {
   "cell_type": "code",
   "execution_count": 143,
   "id": "89a31c4f-2e7a-481b-b91e-931e92b4c354",
   "metadata": {},
   "outputs": [
    {
     "data": {
      "text/plain": [
       "480"
      ]
     },
     "execution_count": 143,
     "metadata": {},
     "output_type": "execute_result"
    }
   ],
   "source": [
    "len(G.nodes())"
   ]
  },
  {
   "cell_type": "code",
   "execution_count": 144,
   "id": "b16a32b2-b90b-4dd0-b051-75ab50a54d20",
   "metadata": {},
   "outputs": [],
   "source": [
    "largest_cc = max(nx.connected_components(G), key=len)\n",
    "g = G.subgraph(largest_cc)"
   ]
  },
  {
   "cell_type": "code",
   "execution_count": 145,
   "id": "69ee124e-5bdf-42ab-a93e-fa0b15eb459e",
   "metadata": {},
   "outputs": [
    {
     "data": {
      "text/plain": [
       "440"
      ]
     },
     "execution_count": 145,
     "metadata": {},
     "output_type": "execute_result"
    }
   ],
   "source": [
    "len(g.nodes())"
   ]
  },
  {
   "cell_type": "code",
   "execution_count": 146,
   "id": "5240b624-549c-4db4-b13b-c98cfcdf77bb",
   "metadata": {},
   "outputs": [],
   "source": [
    "pos = nx.spring_layout(g)"
   ]
  },
  {
   "cell_type": "code",
   "execution_count": 147,
   "id": "f34d007a-5ee5-4cc4-809b-3925a2e8abc4",
   "metadata": {},
   "outputs": [
    {
     "data": {
      "image/png": "[encoded data removed]",
      "text/plain": [
       "<Figure size 1500x1500 with 1 Axes>"
      ]
     },
     "metadata": {},
     "output_type": "display_data"
    }
   ],
   "source": [
    "# グラフを描画\n",
    "# 日本語表示\n",
    "from matplotlib.font_manager import FontProperties\n",
    "font_path = \"/usr/share/fonts/truetype/fonts-japanese-gothic.ttf\"\n",
    "font_prop = FontProperties(fname=font_path)\n",
    "matplotlib.rcParams[\"font.family\"] = font_prop.get_name()\n",
    "\n",
    "\n",
    "plt.figure(figsize=(15,15))\n",
    "nx.draw_networkx(g, pos, with_labels=True, node_size=1,node_shape='.', width=0.3, font_size=9, font_family=font_prop.get_name())\n",
    "plt.axis(\"off\")\n",
    "plt.show()"
   ]
  },
  {
   "cell_type": "code",
   "execution_count": 148,
   "id": "cc76f1f9-7695-40f0-a42b-06fa1bccdf1c",
   "metadata": {},
   "outputs": [
    {
     "data": {
      "text/plain": [
       "'IPAGothic'"
      ]
     },
     "execution_count": 148,
     "metadata": {},
     "output_type": "execute_result"
    }
   ],
   "source": [
    "font_prop.get_name()"
   ]
  },
  {
   "cell_type": "code",
   "execution_count": null,
   "id": "cbf3ea72-231b-4dd0-a5e0-4a9f645fe850",
   "metadata": {},
   "outputs": [],
   "source": []
  },
  {
   "cell_type": "code",
   "execution_count": null,
   "id": "371b2694-b3c7-469f-a799-2a5f69122751",
   "metadata": {},
   "outputs": [],
   "source": []
  },
  {
   "cell_type": "code",
   "execution_count": null,
   "id": "863fb7b5-007e-4d0d-b738-956890a3cf64",
   "metadata": {},
   "outputs": [],
   "source": []
  },
  {
   "cell_type": "code",
   "execution_count": null,
   "id": "195a7b0b-83a1-4096-9841-83306022e984",
   "metadata": {},
   "outputs": [],
   "source": []
  },
  {
   "cell_type": "code",
   "execution_count": null,
   "id": "8cd37be8-b69d-4e0c-a75a-c57d55ea5958",
   "metadata": {},
   "outputs": [],
   "source": []
  },
  {
   "cell_type": "code",
   "execution_count": null,
   "id": "dde6d174-36eb-41f0-913f-8f76a6b66ef7",
   "metadata": {},
   "outputs": [],
   "source": []
  },
  {
   "cell_type": "code",
   "execution_count": null,
   "id": "62c9b09b-ea10-45f5-a083-c5a9934d4ddb",
   "metadata": {},
   "outputs": [],
   "source": []
  },
  {
   "cell_type": "code",
   "execution_count": null,
   "id": "1eb20b0e-3761-4ce3-92f6-ea94552c28da",
   "metadata": {},
   "outputs": [],
   "source": []
  },
  {
   "cell_type": "code",
   "execution_count": null,
   "id": "0d8e1e39-cbb2-4a88-9237-61580ab5ec70",
   "metadata": {},
   "outputs": [],
   "source": []
  }
 ],
 "metadata": {
  "kernelspec": {
   "display_name": "Python 3 (ipykernel)",
   "language": "python",
   "name": "python3"
  },
  "language_info": {
   "codemirror_mode": {
    "name": "ipython",
    "version": 3
   },
   "file_extension": ".py",
   "mimetype": "text/x-python",
   "name": "python",
   "nbconvert_exporter": "python",
   "pygments_lexer": "ipython3",
   "version": "3.11.6"
  }
 },
 "nbformat": 4,
 "nbformat_minor": 5
}
