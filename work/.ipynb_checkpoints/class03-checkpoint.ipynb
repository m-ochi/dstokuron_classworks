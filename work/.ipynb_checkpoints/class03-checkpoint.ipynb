{
 "cells": [
  {
   "cell_type": "markdown",
   "id": "4e4058f9-3abd-4a68-9208-6af308dad2cd",
   "metadata": {},
   "source": [
    "# 第３回"
   ]
  },
  {
   "cell_type": "markdown",
   "id": "329d5905-8a07-48c1-a95e-cd144297760b",
   "metadata": {},
   "source": [
    "##  xpathを使ったウェブスクレイピング"
   ]
  },
  {
   "cell_type": "code",
   "execution_count": 1,
   "id": "8924b2e2-de52-4e73-b432-cf9f9bf92a26",
   "metadata": {},
   "outputs": [
    {
     "name": "stdout",
     "output_type": "stream",
     "text": [
      "\n",
      "こんにちは世界\n",
      "\n"
     ]
    }
   ],
   "source": [
    "from lxml import html\n",
    "\n",
    "with open(\"./c3.html\", 'r') as f:\n",
    "    fstr = f.read()\n",
    "\n",
    "# lxmlでHTMLを解析\n",
    "tree = html.fromstring(fstr)\n",
    "\n",
    "# XPathでニュースタイトルを取得（GoogleChrome上の）\n",
    "\n",
    "# どちらでも取れるのを確認\n",
    "#titles = tree.xpath('/html/body/div/text()')\n",
    "titles = tree.xpath('//div/text()')\n",
    "\n",
    "# 結果を出力\n",
    "for title in titles:\n",
    "    print(title)"
   ]
  },
  {
   "cell_type": "code",
   "execution_count": 2,
   "id": "915ac51c-0ba9-4717-b3f4-a3366a0746cf",
   "metadata": {},
   "outputs": [],
   "source": [
    "#response.content"
   ]
  },
  {
   "cell_type": "markdown",
   "id": "e4e70db5-bdc6-4cd2-8138-65a3441a02cf",
   "metadata": {},
   "source": [
    "## クローリング"
   ]
  },
  {
   "cell_type": "markdown",
   "id": "447bf439-bfe0-4cbe-9b8f-f076548259cf",
   "metadata": {},
   "source": [
    "### APIの例（郵便番号検索API）"
   ]
  },
  {
   "cell_type": "code",
   "execution_count": 3,
   "id": "3a47192d-1d0c-4c48-9317-99f982bef8f7",
   "metadata": {},
   "outputs": [],
   "source": [
    "import requests"
   ]
  },
  {
   "cell_type": "code",
   "execution_count": 4,
   "id": "403f4570-e75c-44cf-b919-8b196a64def8",
   "metadata": {},
   "outputs": [],
   "source": [
    "res = requests.get(\"https://zipcloud.ibsnet.co.jp/api/search\", params={'zipcode': '8701124'})"
   ]
  },
  {
   "cell_type": "code",
   "execution_count": 5,
   "id": "4324039f-dc35-417d-920c-c78ab8ebf255",
   "metadata": {},
   "outputs": [],
   "source": [
    "resDic = res.json()"
   ]
  },
  {
   "cell_type": "code",
   "execution_count": 6,
   "id": "b17e2baa-025e-45f3-ac86-e368d8a6d14b",
   "metadata": {},
   "outputs": [
    {
     "data": {
      "text/plain": [
       "{'message': None,\n",
       " 'results': [{'address1': '大分県',\n",
       "   'address2': '大分市',\n",
       "   'address3': '旦野原',\n",
       "   'kana1': 'ｵｵｲﾀｹﾝ',\n",
       "   'kana2': 'ｵｵｲﾀｼ',\n",
       "   'kana3': 'ﾀﾞﾝﾉﾊﾙ',\n",
       "   'prefcode': '44',\n",
       "   'zipcode': '8701124'}],\n",
       " 'status': 200}"
      ]
     },
     "execution_count": 6,
     "metadata": {},
     "output_type": "execute_result"
    }
   ],
   "source": [
    "resDic"
   ]
  },
  {
   "cell_type": "code",
   "execution_count": 7,
   "id": "b4d98c95-2bd9-4cf7-86d8-a0b0b7a7694d",
   "metadata": {},
   "outputs": [],
   "source": [
    "adDic1 = resDic[\"results\"][0]"
   ]
  },
  {
   "cell_type": "code",
   "execution_count": 8,
   "id": "9836ced7-df5d-4192-907e-07496bb44440",
   "metadata": {},
   "outputs": [
    {
     "name": "stdout",
     "output_type": "stream",
     "text": [
      "大分県大分市旦野原\n"
     ]
    }
   ],
   "source": [
    "print(f\"{adDic1['address1']}{adDic1['address2']}{adDic1['address3']}\")"
   ]
  },
  {
   "cell_type": "markdown",
   "id": "fc65cc21-c158-4709-9a4f-18a8f713366a",
   "metadata": {},
   "source": [
    "### クローリング演習"
   ]
  },
  {
   "cell_type": "markdown",
   "id": "ba12b07a-7ee9-4ee6-aba4-6639ab31f37c",
   "metadata": {},
   "source": [
    "#### 食べログ飲食店データ取得"
   ]
  },
  {
   "cell_type": "markdown",
   "id": "06af2d20-c767-49c8-bdc7-59fbddb40154",
   "metadata": {},
   "source": [
    "##### 1. 取得したいレビューのURLの取得"
   ]
  },
  {
   "cell_type": "code",
   "execution_count": 9,
   "id": "1099fb11-d197-44f2-8547-06110a668a3a",
   "metadata": {},
   "outputs": [],
   "source": [
    "baseurl = \"https://tabelog.com\"\n",
    "URL=baseurl+\"/oita/A4402/A440202/44005660/dtlrvwlst/\""
   ]
  },
  {
   "cell_type": "code",
   "execution_count": 10,
   "id": "de7337bd-4017-43ef-9802-6e4a8ea89b9d",
   "metadata": {},
   "outputs": [
    {
     "data": {
      "text/plain": [
       "'https://tabelog.com/oita/A4402/A440202/44005660/dtlrvwlst/'"
      ]
     },
     "execution_count": 10,
     "metadata": {},
     "output_type": "execute_result"
    }
   ],
   "source": [
    "URL"
   ]
  },
  {
   "cell_type": "code",
   "execution_count": 11,
   "id": "ef30606e-9a05-414a-b465-a410221b27e4",
   "metadata": {},
   "outputs": [],
   "source": [
    "res = requests.get(URL)"
   ]
  },
  {
   "cell_type": "code",
   "execution_count": 12,
   "id": "27e33383-05a5-466e-ba69-484393aec6ff",
   "metadata": {},
   "outputs": [],
   "source": [
    "tree = html.fromstring(res.content)"
   ]
  },
  {
   "cell_type": "code",
   "execution_count": 13,
   "id": "26672654-de4b-49bb-bd4d-4e116d1b5d63",
   "metadata": {},
   "outputs": [],
   "source": [
    "eles = tree.xpath(\"//a[@class='rvw-item__title-target']\")"
   ]
  },
  {
   "cell_type": "code",
   "execution_count": 14,
   "id": "0ae7cb1c-a654-4138-b26d-7c5f48ef86d7",
   "metadata": {},
   "outputs": [],
   "source": [
    "reviewurls = []\n",
    "for ele in eles:\n",
    "    aurl = baseurl+ele.get(\"href\")\n",
    "    reviewurls.append(aurl)"
   ]
  },
  {
   "cell_type": "code",
   "execution_count": 15,
   "id": "04fbcfee-2690-4a06-9173-824376e5aff3",
   "metadata": {},
   "outputs": [
    {
     "data": {
      "text/plain": [
       "{'https://tabelog.com/oita/A4402/A440202/44005660/dtlrvwlst/B111965666/?use_type=0&smp=1',\n",
       " 'https://tabelog.com/oita/A4402/A440202/44005660/dtlrvwlst/B382464585/?use_type=0&smp=1',\n",
       " 'https://tabelog.com/oita/A4402/A440202/44005660/dtlrvwlst/B417580252/?use_type=0&smp=1',\n",
       " 'https://tabelog.com/oita/A4402/A440202/44005660/dtlrvwlst/B440585631/?use_type=0&smp=1',\n",
       " 'https://tabelog.com/oita/A4402/A440202/44005660/dtlrvwlst/B440868409/?use_type=0&smp=1',\n",
       " 'https://tabelog.com/oita/A4402/A440202/44005660/dtlrvwlst/B453057681/?use_type=0&smp=1',\n",
       " 'https://tabelog.com/oita/A4402/A440202/44005660/dtlrvwlst/B458471005/?use_type=0&smp=1',\n",
       " 'https://tabelog.com/oita/A4402/A440202/44005660/dtlrvwlst/B478849487/?use_type=0&smp=1',\n",
       " 'https://tabelog.com/oita/A4402/A440202/44005660/dtlrvwlst/B482850549/?use_type=0&smp=1',\n",
       " 'https://tabelog.com/oita/A4402/A440202/44005660/dtlrvwlst/B494269956/?use_type=0&smp=1',\n",
       " 'https://tabelog.com/oita/A4402/A440202/44005660/dtlrvwlst/B84684293/?use_type=0&smp=1'}"
      ]
     },
     "execution_count": 15,
     "metadata": {},
     "output_type": "execute_result"
    }
   ],
   "source": [
    "set(reviewurls)"
   ]
  },
  {
   "cell_type": "markdown",
   "id": "59bcb58b-8241-4f4e-a7f8-4931edda4425",
   "metadata": {},
   "source": [
    "#### 2. 各レビューから取得したい内容のみを取得\n",
    "- userid, name, rating, title, review\n",
    "- 1つのURLでやってみる"
   ]
  },
  {
   "cell_type": "code",
   "execution_count": 16,
   "id": "b1b479e9-f1f4-4974-85cb-6fb0a0bc9269",
   "metadata": {},
   "outputs": [],
   "source": [
    "rurl = reviewurls[0]\n",
    "res = requests.get(rurl)\n",
    "tree = html.fromstring(res.content)"
   ]
  },
  {
   "cell_type": "code",
   "execution_count": 17,
   "id": "a84dfe24-e697-4d97-99cb-b2fedc578440",
   "metadata": {},
   "outputs": [],
   "source": [
    "#res.content"
   ]
  },
  {
   "cell_type": "code",
   "execution_count": 18,
   "id": "9c501acc-f256-4943-b34a-f8ec24395fd9",
   "metadata": {},
   "outputs": [],
   "source": [
    "# User id/ Name\n",
    "eles = tree.xpath(\"//a[@class='rvw-item__rvwr-name']\")"
   ]
  },
  {
   "cell_type": "code",
   "execution_count": 19,
   "id": "d16ed603-a048-4150-b69d-800c1635979b",
   "metadata": {},
   "outputs": [
    {
     "data": {
      "text/plain": [
       "'/rvwr/025510967/'"
      ]
     },
     "execution_count": 19,
     "metadata": {},
     "output_type": "execute_result"
    }
   ],
   "source": [
    "eles[0].get(\"href\")"
   ]
  },
  {
   "cell_type": "code",
   "execution_count": 20,
   "id": "5e6fff59-c77e-4dec-8c69-7fa8dbbb4340",
   "metadata": {},
   "outputs": [
    {
     "data": {
      "text/plain": [
       "'べっぴぃえんちゃん'"
      ]
     },
     "execution_count": 20,
     "metadata": {},
     "output_type": "execute_result"
    }
   ],
   "source": [
    "eles[0].getchildren()[0].text"
   ]
  },
  {
   "cell_type": "code",
   "execution_count": 21,
   "id": "a3a4b4c2-29fd-4cad-8426-074e1d091b64",
   "metadata": {},
   "outputs": [],
   "source": [
    "# rating\n",
    "eles = tree.xpath(\"//div[@class='rvw-item__rvw-info']//b\")"
   ]
  },
  {
   "cell_type": "code",
   "execution_count": 22,
   "id": "4e884c8b-eb5a-4f52-9055-fd0b1a86665c",
   "metadata": {},
   "outputs": [
    {
     "data": {
      "text/plain": [
       "'4.0'"
      ]
     },
     "execution_count": 22,
     "metadata": {},
     "output_type": "execute_result"
    }
   ],
   "source": [
    "eles[0].text"
   ]
  },
  {
   "cell_type": "code",
   "execution_count": 23,
   "id": "85c6083c-4bbf-42df-9e65-6c8a4ad2ca6b",
   "metadata": {},
   "outputs": [],
   "source": [
    "#title\n",
    "eles = tree.xpath(\"//p[@class='rvw-item__title']/strong\")"
   ]
  },
  {
   "cell_type": "code",
   "execution_count": 24,
   "id": "59b40f1e-e390-46ee-a690-2d3f926f3a29",
   "metadata": {},
   "outputs": [
    {
     "data": {
      "text/plain": [
       "'いつも新たな出会いのあるお店'"
      ]
     },
     "execution_count": 24,
     "metadata": {},
     "output_type": "execute_result"
    }
   ],
   "source": [
    "eles[0].text"
   ]
  },
  {
   "cell_type": "code",
   "execution_count": 25,
   "id": "71e62bdb-b93c-4f6e-b8f6-a413c1bf06b8",
   "metadata": {},
   "outputs": [],
   "source": [
    "# review\n",
    "#eles = tree.xpath(\"//div[@class='rvw-item__rvw-comment']\")\n",
    "#eles = tree.xpath(\"//div[contains(@class, 'rvw-item') and contains(@class, 'rvw-comment')]\")\n",
    "eles = tree.xpath(\"//div[contains(@class, 'rvw-comment')]/p\")"
   ]
  },
  {
   "cell_type": "code",
   "execution_count": 26,
   "id": "da10c18c-f925-4759-8076-38862fb74884",
   "metadata": {},
   "outputs": [
    {
     "data": {
      "text/plain": [
       "[<Element p at 0xffff783a4e10>, <Element p at 0xffff783a4dc0>]"
      ]
     },
     "execution_count": 26,
     "metadata": {},
     "output_type": "execute_result"
    }
   ],
   "source": [
    "eles"
   ]
  },
  {
   "cell_type": "code",
   "execution_count": 27,
   "id": "b3a2559e-2ac3-444c-8ca2-7582ee02f079",
   "metadata": {},
   "outputs": [],
   "source": [
    "rawreview = eles[0].xpath(\"string()\")"
   ]
  },
  {
   "cell_type": "code",
   "execution_count": 28,
   "id": "e388fe44-b86a-4100-903c-ebcf1d63134f",
   "metadata": {},
   "outputs": [
    {
     "data": {
      "text/plain": [
       "'\\n          3ヶ月ぶりの『トムヤムクン。』。お伺いするのは5、6回目だと思うが、来る度に新しい料理との出会いがある。メニューがなく、その時々の旬のもの、美味しいものを出してくれるシェフのおかげだ。アペリティフからして超独創的。こんな冷麺、見たことも食べたこともない。アジ、サバ、アサリの出汁に、新生姜とガスパチョ風のキュウリ。これだけでも斬新だが、ホタテの醤油漬けと一緒に食べると、あら不思議。塩ラーメンが一転醤油ラーメンに。本当に初めての味わいだ。次はクロダイのサラダ。コリンキーやズッキーニ、トマトはピクルスに。そして水菜、パクチーなど他の野菜やクロダイと一緒にキウイフルーツのソースで食べる。こんな発想聞いたことがない。魚は、一皿めはヘダイ。揚げたヘダイにとうもろこしのソース。とうもろこしが甘い。二皿めはイトヨリダイ。1番下に新タマネギのシャリアピンソース。魚の上には細かく刻んだナスとつるむらさき。オレガノも載っている。おそらくこれが味の決め手だろう。最後になって漸くタイ料理らしくなってきた（笑）まず看板料理のプーパッポンカリー。〆はエビのレッドカレー。レアなエビが美味しい。個人的にはもう少し辛くても良いが。まだまだ食べ足りない気もするが、ワインも空いたことだし、今日はここまで。ご馳走さまでした。今度は7皿でお願いするぞ〜\\n        '"
      ]
     },
     "execution_count": 28,
     "metadata": {},
     "output_type": "execute_result"
    }
   ],
   "source": [
    "rawreview"
   ]
  },
  {
   "cell_type": "code",
   "execution_count": 29,
   "id": "0b49a211-2fcc-4abe-a54c-04a53c60d087",
   "metadata": {},
   "outputs": [],
   "source": [
    "review = rawreview.strip()"
   ]
  },
  {
   "cell_type": "code",
   "execution_count": 30,
   "id": "0c5c3beb-96e3-4069-9933-0ff6b259a565",
   "metadata": {},
   "outputs": [],
   "source": [
    "# ここまでの内容を関数化\n",
    "def scraper(rurl):\n",
    "    res = requests.get(rurl)\n",
    "    tree = html.fromstring(res.content)\n",
    "    # User id/ Name\n",
    "    eles = tree.xpath(\"//a[@class='rvw-item__rvwr-name']\")\n",
    "    uid = eles[0].get(\"href\")\n",
    "    name = eles[0].getchildren()[0].text\n",
    "    # rating\n",
    "    eles = tree.xpath(\"//div[@class='rvw-item__rvw-info']//b\")\n",
    "    rating = eles[0].text\n",
    "    #title\n",
    "    eles = tree.xpath(\"//p[@class='rvw-item__title']/strong\")\n",
    "    title = eles[0].text\n",
    "    # review\n",
    "    #eles = tree.xpath(\"//div[@class='rvw-item__rvw-comment']\")\n",
    "    #eles = tree.xpath(\"//div[contains(@class, 'rvw-item') and contains(@class, 'rvw-comment')]\")\n",
    "    eles = tree.xpath(\"//div[contains(@class, 'rvw-comment')]/p\")\n",
    "    rawreview = eles[0].xpath(\"string()\")\n",
    "    review = rawreview.strip()\n",
    "    \n",
    "    return uid, name, rating, title, review"
   ]
  },
  {
   "cell_type": "code",
   "execution_count": 31,
   "id": "67a98944-b76b-4f2b-b52d-926a866f498e",
   "metadata": {},
   "outputs": [],
   "source": [
    "rows = [[\"uid\",\"name\",\"rating\", \"title\", \"review\"]]\n",
    "for rurl in list(set(reviewurls)):\n",
    "    row = scraper(rurl)\n",
    "    rows.append(row)"
   ]
  },
  {
   "cell_type": "code",
   "execution_count": 32,
   "id": "0e15880c-6a9a-4dc4-b241-d24dc143ed5a",
   "metadata": {},
   "outputs": [],
   "source": [
    "import pandas as pd\n",
    "pd.options.display.max_colwidth = 250\n",
    "\n",
    "df = pd.DataFrame(rows[1:],columns=rows[0])"
   ]
  },
  {
   "cell_type": "code",
   "execution_count": 33,
   "id": "4dd0efb6-60d3-4e38-8cf9-a554b2e64ae3",
   "metadata": {},
   "outputs": [
    {
     "data": {
      "text/html": [
       "<div>\n",
       "<style scoped>\n",
       "    .dataframe tbody tr th:only-of-type {\n",
       "        vertical-align: middle;\n",
       "    }\n",
       "\n",
       "    .dataframe tbody tr th {\n",
       "        vertical-align: top;\n",
       "    }\n",
       "\n",
       "    .dataframe thead th {\n",
       "        text-align: right;\n",
       "    }\n",
       "</style>\n",
       "<table border=\"1\" class=\"dataframe\">\n",
       "  <thead>\n",
       "    <tr style=\"text-align: right;\">\n",
       "      <th></th>\n",
       "      <th>uid</th>\n",
       "      <th>name</th>\n",
       "      <th>rating</th>\n",
       "      <th>title</th>\n",
       "      <th>review</th>\n",
       "    </tr>\n",
       "  </thead>\n",
       "  <tbody>\n",
       "    <tr>\n",
       "      <th>0</th>\n",
       "      <td>/rvwr/025510967/</td>\n",
       "      <td>べっぴぃえんちゃん</td>\n",
       "      <td>4.0</td>\n",
       "      <td>いつも新たな出会いのあるお店</td>\n",
       "      <td>3ヶ月ぶりの『トムヤムクン。』。お伺いするのは5、6回目だと思うが、来る度に新しい料理との出会いがある。メニューがなく、その時々の旬のもの、美味しいものを出してくれるシェフのおかげだ。アペリティフからして超独創的。こんな冷麺、見たことも食べたこともない。アジ、サバ、アサリの出汁に、新生姜とガスパチョ風のキュウリ。これだけでも斬新だが、ホタテの醤油漬けと一緒に食べると、あら不思議。塩ラーメンが一転醤油ラーメンに。本当に初めての味わいだ。次はクロダイのサラダ。コリンキーやズッキーニ、トマトは...</td>\n",
       "    </tr>\n",
       "    <tr>\n",
       "      <th>1</th>\n",
       "      <td>/rvwr/000617475/</td>\n",
       "      <td>☆中隊長☆</td>\n",
       "      <td>3.9</td>\n",
       "      <td>【泰上々颱風】都会よりも洗練されたモダンタイランドは湯の街に♪</td>\n",
       "      <td>2021年長月だいぶ昔に行った時とは、完全にスタイルが変わってしまったコチラのお店！良い意味で洗練された料理を提供で【1日/1組のみの完全予約制】！？興味ワキワキだけどなかなか行く機会無かったが偶然の賜物で行けたよwwそして無茶ぶりの被害者がまた出た模様だけど！？（謎）【ディナーコースSPver(10000円）】※事前に食材をグレードアップ。〇長崎県産灸鰹の塩タタキと大分県産地野菜のピクルス人参のドレッシング様〇大分和牛もも肉のラープヌア大分県産雲丹乗せ様〇高知県産ノドグロの白ワイン蒸し...</td>\n",
       "    </tr>\n",
       "    <tr>\n",
       "      <th>2</th>\n",
       "      <td>/rvwr/001861477/</td>\n",
       "      <td>ぴんころ地蔵</td>\n",
       "      <td>5.0</td>\n",
       "      <td>別府の鬼才 トムヤンクン＼(^o^)／</td>\n",
       "      <td>さて、トムヤンクンさん。この日は奈々人さん夫妻と友人と4人で訪問。にこやかにマスターが迎え入れてくださる。この日は6品のコースです。前回同様独創力に長けたタイ料理。そこに様々な食の遊びを施すのがトムヤンクン流。 食材のコンビネーション、調味料。おっ！と刮目する料理がコースの中に散りばめられている。 こういう料理が別府で食べられることが奇跡であり、幸せでもある。また来年も１つよろしくお願いします。総括別府の鬼才 トムヤンクン</td>\n",
       "    </tr>\n",
       "    <tr>\n",
       "      <th>3</th>\n",
       "      <td>/rvwr/polpol/</td>\n",
       "      <td>polpol</td>\n",
       "      <td>4.5</td>\n",
       "      <td>別府でタイヌーベルキューイジーヌ、素晴らしい品々を</td>\n",
       "      <td>￼マイル消化で夫婦1泊2日の大分旅行を決め、別府温泉へ￼別府温泉には約50年ぶりの訪問。宿泊は温泉旅館￼だったので、晩御飯は旅館にて。と言うわけで、お昼に何かおいしいものを食べようと検索、￼こちらのお店に巡り会いました。大分の郷土料理も良いのですが、タイ料理をしばらく食べてなかったなぁと思ったので。レビューを読むと、シェフお1人で切り盛りされているとの事。￼先月1日1組の向ヶ丘遊園のイタリアンに行ったばかり、￼その魅力（シェフの考える世界の具現化）を知ってしまったので、とても興味を持ち予...</td>\n",
       "    </tr>\n",
       "    <tr>\n",
       "      <th>4</th>\n",
       "      <td>/rvwr/003971849/</td>\n",
       "      <td>しばきち</td>\n",
       "      <td>3.8</td>\n",
       "      <td>別府のタイ料理店。日本人向けのタイ料理を堪能出来て満足。</td>\n",
       "      <td>大分県別府市浜脇にあるタイ料理専門店。以前から行きたかったお店でようやく初訪問。完全予約制との事だったので事前に予約してからの訪問。店主は日本人。別府は多国籍な料理が多くその国の人が経営してることが多い。なので、こういうお店で日本人の店主というのは珍しく感じるね。色々なタイ料理を注文してシェア。中でも気に入ったのはガパオライスと海老の入ったタイ風焼飯。ガパオライスはナンプラーの風味も良くスパイシーな感じはあまりなくマイルド。挽肉はたっぷり。肉感が十分に感じられて美味しい。日本向けのガパオ...</td>\n",
       "    </tr>\n",
       "    <tr>\n",
       "      <th>5</th>\n",
       "      <td>/rvwr/000057392/</td>\n",
       "      <td>fujimo123</td>\n",
       "      <td>4.0</td>\n",
       "      <td>湯の街に佇む本場以上にハイレベルなタイ料理</td>\n",
       "      <td>理別府に来てます。今宵ディナーはこちらで予約。地元人でも有名な浜脇温泉地区に位置する料理タイ料理専門店。オーナーが1人で切り盛りしているため1日昼・夜各１組限定の完全予約制なので、今では2～3か月先しか取れないほど人気。メニューはお任せコースのみで、料金は品数で変わるシステム。再訪で今回も5品（４０００円）と、スパークリングワイン銘柄お任せでフルボトル１本を４人でシェアー。（計５５００円強）店内は１卓のみのこじんまりも相変わらず。まずはスパークリングワインで喉を潤してからコーススタート。...</td>\n",
       "    </tr>\n",
       "    <tr>\n",
       "      <th>6</th>\n",
       "      <td>/rvwr/010815537/</td>\n",
       "      <td>ALUCARD</td>\n",
       "      <td>4.5</td>\n",
       "      <td>今月２度目です</td>\n",
       "      <td>今夜は７皿の料理でオーダー昼からウイスキー空にしてたのに元気よかった＾＾</td>\n",
       "    </tr>\n",
       "    <tr>\n",
       "      <th>7</th>\n",
       "      <td>/rvwr/kumachelin/</td>\n",
       "      <td>クマシュラン</td>\n",
       "      <td>4.6</td>\n",
       "      <td>ヌーベルタイジーヌ</td>\n",
       "      <td>福岡の天ぷら屋の大将に勧められて訪問。一日に昼か夜の一組。これはタイ料理なのか？と驚く素晴らしい繊細な料理ばかり。シェフも楽しい方で、色々お話していただけた。旨くて楽しくて、また絶対に行きたいお店。</td>\n",
       "    </tr>\n",
       "    <tr>\n",
       "      <th>8</th>\n",
       "      <td>/rvwr/019641192/</td>\n",
       "      <td>かめすけもち</td>\n",
       "      <td>5.0</td>\n",
       "      <td>ワインもおすすめ！料理は当たり前においしい！！</td>\n",
       "      <td>1年ぶり3回目です。今回の九州旅行の目的のお店です。自分が目的の料理のために別府まで足を伸ばすなんて、と驚きつつ、やっぱりお邪魔してしまいます。今回はワインも堪能したいので、ホテルは駅近にしました。温泉に浸かりつつまったりしてしまい、ホテルに戻らずそのまま、入店です。すいません、すっぴんでとお詫びしつつ、さっぱりして、おいしいご飯です。ビール、ロゼ、赤のボトルと頂きつつ、毎回びっくりするお味とオーナーのトークです。今回はオーナーも慣れてくださったのか？トークもノリノリでした。お料理はビジ...</td>\n",
       "    </tr>\n",
       "    <tr>\n",
       "      <th>9</th>\n",
       "      <td>/rvwr/005332034/</td>\n",
       "      <td>フラワ田</td>\n",
       "      <td>3.9</td>\n",
       "      <td>サスティナブルなスタイル</td>\n",
       "      <td>・冷麺　海老の頭や鰹、浅利などから出汁原木椎茸は含め煮に　つるむらさき　木耳甘いトマトのピューレ・クログジ 3日熟成、あかもく野菜のコンビネーションサラダ新生姜、コリンキーのソース・ガパオライスコロッケ黄身ソース、海老のトマトソース・ヤマトカマス　玉蜀黍　ココナッツミルクのピューレ、里芋の揚げ餅・ソフトシェルクラブのプーパッポンカリー・2日マリネしたみつせ鶏のコンフィ青唐辛子のハリッサとミントのソース・グリーンカレー　サザエの肝ソースのリゾット　ゴールデンフェニックス新牛蒡とサザエ　メバ...</td>\n",
       "    </tr>\n",
       "    <tr>\n",
       "      <th>10</th>\n",
       "      <td>/rvwr/obatablog/</td>\n",
       "      <td>③オバタ</td>\n",
       "      <td>5.0</td>\n",
       "      <td>大分県は別府市にやって来ました！✧\\(&gt;o&lt;)ﾉ✧</td>\n",
       "      <td>グルメな御方のレビューを見て、ソッコーその御方にお願いして一緒に行ってもらいました✧\\(&gt;o&lt;)ﾉ✧間を開けない再訪問にも快く同行して頂いてありがとうございます！ಥ‿ಥてか別府市って本当ディープですね〜海辺の街ではありますが、海鮮より多国籍料理の方が興味津々です⊙.☉ま、海鮮も行きたいところはあるんですがね(◍•ᴗ•◍)ここに来る前に、すでにコリアン立飲みで引っ掛けてたので軽くほろ酔い気味ですよಥ‿ಥコースは貸し切りなのでレスポンスよく始まります♪どれもレベルが高く、皿のバランスも素晴ら...</td>\n",
       "    </tr>\n",
       "  </tbody>\n",
       "</table>\n",
       "</div>"
      ],
      "text/plain": [
       "                  uid       name rating                            title  \\\n",
       "0    /rvwr/025510967/  べっぴぃえんちゃん    4.0                   いつも新たな出会いのあるお店   \n",
       "1    /rvwr/000617475/      ☆中隊長☆    3.9  【泰上々颱風】都会よりも洗練されたモダンタイランドは湯の街に♪   \n",
       "2    /rvwr/001861477/     ぴんころ地蔵    5.0              別府の鬼才 トムヤンクン＼(^o^)／   \n",
       "3       /rvwr/polpol/     polpol    4.5        別府でタイヌーベルキューイジーヌ、素晴らしい品々を   \n",
       "4    /rvwr/003971849/       しばきち    3.8     別府のタイ料理店。日本人向けのタイ料理を堪能出来て満足。   \n",
       "5    /rvwr/000057392/  fujimo123    4.0            湯の街に佇む本場以上にハイレベルなタイ料理   \n",
       "6    /rvwr/010815537/    ALUCARD    4.5                          今月２度目です   \n",
       "7   /rvwr/kumachelin/     クマシュラン    4.6                        ヌーベルタイジーヌ   \n",
       "8    /rvwr/019641192/     かめすけもち    5.0          ワインもおすすめ！料理は当たり前においしい！！   \n",
       "9    /rvwr/005332034/       フラワ田    3.9                     サスティナブルなスタイル   \n",
       "10   /rvwr/obatablog/       ③オバタ    5.0        大分県は別府市にやって来ました！✧\\(>o<)ﾉ✧   \n",
       "\n",
       "                                                                                                                                                                                                                                                       review  \n",
       "0   3ヶ月ぶりの『トムヤムクン。』。お伺いするのは5、6回目だと思うが、来る度に新しい料理との出会いがある。メニューがなく、その時々の旬のもの、美味しいものを出してくれるシェフのおかげだ。アペリティフからして超独創的。こんな冷麺、見たことも食べたこともない。アジ、サバ、アサリの出汁に、新生姜とガスパチョ風のキュウリ。これだけでも斬新だが、ホタテの醤油漬けと一緒に食べると、あら不思議。塩ラーメンが一転醤油ラーメンに。本当に初めての味わいだ。次はクロダイのサラダ。コリンキーやズッキーニ、トマトは...  \n",
       "1   2021年長月だいぶ昔に行った時とは、完全にスタイルが変わってしまったコチラのお店！良い意味で洗練された料理を提供で【1日/1組のみの完全予約制】！？興味ワキワキだけどなかなか行く機会無かったが偶然の賜物で行けたよwwそして無茶ぶりの被害者がまた出た模様だけど！？（謎）【ディナーコースSPver(10000円）】※事前に食材をグレードアップ。〇長崎県産灸鰹の塩タタキと大分県産地野菜のピクルス人参のドレッシング様〇大分和牛もも肉のラープヌア大分県産雲丹乗せ様〇高知県産ノドグロの白ワイン蒸し...  \n",
       "2                                       さて、トムヤンクンさん。この日は奈々人さん夫妻と友人と4人で訪問。にこやかにマスターが迎え入れてくださる。この日は6品のコースです。前回同様独創力に長けたタイ料理。そこに様々な食の遊びを施すのがトムヤンクン流。 食材のコンビネーション、調味料。おっ！と刮目する料理がコースの中に散りばめられている。 こういう料理が別府で食べられることが奇跡であり、幸せでもある。また来年も１つよろしくお願いします。総括別府の鬼才 トムヤンクン  \n",
       "3   ￼マイル消化で夫婦1泊2日の大分旅行を決め、別府温泉へ￼別府温泉には約50年ぶりの訪問。宿泊は温泉旅館￼だったので、晩御飯は旅館にて。と言うわけで、お昼に何かおいしいものを食べようと検索、￼こちらのお店に巡り会いました。大分の郷土料理も良いのですが、タイ料理をしばらく食べてなかったなぁと思ったので。レビューを読むと、シェフお1人で切り盛りされているとの事。￼先月1日1組の向ヶ丘遊園のイタリアンに行ったばかり、￼その魅力（シェフの考える世界の具現化）を知ってしまったので、とても興味を持ち予...  \n",
       "4   大分県別府市浜脇にあるタイ料理専門店。以前から行きたかったお店でようやく初訪問。完全予約制との事だったので事前に予約してからの訪問。店主は日本人。別府は多国籍な料理が多くその国の人が経営してることが多い。なので、こういうお店で日本人の店主というのは珍しく感じるね。色々なタイ料理を注文してシェア。中でも気に入ったのはガパオライスと海老の入ったタイ風焼飯。ガパオライスはナンプラーの風味も良くスパイシーな感じはあまりなくマイルド。挽肉はたっぷり。肉感が十分に感じられて美味しい。日本向けのガパオ...  \n",
       "5   理別府に来てます。今宵ディナーはこちらで予約。地元人でも有名な浜脇温泉地区に位置する料理タイ料理専門店。オーナーが1人で切り盛りしているため1日昼・夜各１組限定の完全予約制なので、今では2～3か月先しか取れないほど人気。メニューはお任せコースのみで、料金は品数で変わるシステム。再訪で今回も5品（４０００円）と、スパークリングワイン銘柄お任せでフルボトル１本を４人でシェアー。（計５５００円強）店内は１卓のみのこじんまりも相変わらず。まずはスパークリングワインで喉を潤してからコーススタート。...  \n",
       "6                                                                                                                                                                                                                        今夜は７皿の料理でオーダー昼からウイスキー空にしてたのに元気よかった＾＾  \n",
       "7                                                                                                                                                         福岡の天ぷら屋の大将に勧められて訪問。一日に昼か夜の一組。これはタイ料理なのか？と驚く素晴らしい繊細な料理ばかり。シェフも楽しい方で、色々お話していただけた。旨くて楽しくて、また絶対に行きたいお店。  \n",
       "8   1年ぶり3回目です。今回の九州旅行の目的のお店です。自分が目的の料理のために別府まで足を伸ばすなんて、と驚きつつ、やっぱりお邪魔してしまいます。今回はワインも堪能したいので、ホテルは駅近にしました。温泉に浸かりつつまったりしてしまい、ホテルに戻らずそのまま、入店です。すいません、すっぴんでとお詫びしつつ、さっぱりして、おいしいご飯です。ビール、ロゼ、赤のボトルと頂きつつ、毎回びっくりするお味とオーナーのトークです。今回はオーナーも慣れてくださったのか？トークもノリノリでした。お料理はビジ...  \n",
       "9   ・冷麺　海老の頭や鰹、浅利などから出汁原木椎茸は含め煮に　つるむらさき　木耳甘いトマトのピューレ・クログジ 3日熟成、あかもく野菜のコンビネーションサラダ新生姜、コリンキーのソース・ガパオライスコロッケ黄身ソース、海老のトマトソース・ヤマトカマス　玉蜀黍　ココナッツミルクのピューレ、里芋の揚げ餅・ソフトシェルクラブのプーパッポンカリー・2日マリネしたみつせ鶏のコンフィ青唐辛子のハリッサとミントのソース・グリーンカレー　サザエの肝ソースのリゾット　ゴールデンフェニックス新牛蒡とサザエ　メバ...  \n",
       "10  グルメな御方のレビューを見て、ソッコーその御方にお願いして一緒に行ってもらいました✧\\(>o<)ﾉ✧間を開けない再訪問にも快く同行して頂いてありがとうございます！ಥ‿ಥてか別府市って本当ディープですね〜海辺の街ではありますが、海鮮より多国籍料理の方が興味津々です⊙.☉ま、海鮮も行きたいところはあるんですがね(◍•ᴗ•◍)ここに来る前に、すでにコリアン立飲みで引っ掛けてたので軽くほろ酔い気味ですよಥ‿ಥコースは貸し切りなのでレスポンスよく始まります♪どれもレベルが高く、皿のバランスも素晴ら...  "
      ]
     },
     "execution_count": 33,
     "metadata": {},
     "output_type": "execute_result"
    }
   ],
   "source": [
    "df"
   ]
  },
  {
   "cell_type": "markdown",
   "id": "5a5a7538-b65b-4427-b743-f76195081781",
   "metadata": {},
   "source": [
    "### BlueSkyデータの取得（API）"
   ]
  },
  {
   "cell_type": "markdown",
   "id": "df5d9fb4-72b4-4ed5-ae9e-572cc0f342e6",
   "metadata": {},
   "source": [
    "#### APIから投稿してみる"
   ]
  },
  {
   "cell_type": "code",
   "execution_count": 34,
   "id": "44c72c31-cf9e-4c92-88bb-c4fb656cf458",
   "metadata": {},
   "outputs": [],
   "source": [
    "from atproto import Client\n",
    "import pandas as pd"
   ]
  },
  {
   "cell_type": "code",
   "execution_count": 35,
   "id": "ab164d9f-d2c0-4781-931e-a87b7d3f0993",
   "metadata": {},
   "outputs": [],
   "source": [
    "import json\n",
    "\n",
    "with open(\"bsky_account.json\", 'r') as f:\n",
    "    acdic = json.load(f)"
   ]
  },
  {
   "cell_type": "code",
   "execution_count": 36,
   "id": "1ae07c7e-3029-41b7-b3e1-6011420a85b5",
   "metadata": {},
   "outputs": [
    {
     "data": {
      "text/plain": [
       "ProfileViewDetailed(did='did:plc:7sqtnkepsjplcvuqpvprsx52', handle='bcoredsclass0001.bsky.social', associated=ProfileAssociated(chat=None, feedgens=0, labeler=False, lists=0, starter_packs=0, py_type='app.bsky.actor.defs#profileAssociated'), avatar='https://cdn.bsky.app/img/avatar/plain/did:plc:7sqtnkepsjplcvuqpvprsx52/bafkreif4w23vqx2keibm2z665tm4i77kewnamclqtompktx6z6acdl2jdq@jpeg', banner=None, created_at='2025-04-10T00:59:16.772Z', description=None, display_name='', followers_count=1, follows_count=1, indexed_at='2025-04-10T00:59:16.772Z', joined_via_starter_pack=None, labels=[], pinned_post=None, posts_count=4, viewer=ViewerState(blocked_by=False, blocking=None, blocking_by_list=None, followed_by=None, following=None, known_followers=None, muted=False, muted_by_list=None, py_type='app.bsky.actor.defs#viewerState'), py_type='app.bsky.actor.defs#profileViewDetailed')"
      ]
     },
     "execution_count": 36,
     "metadata": {},
     "output_type": "execute_result"
    }
   ],
   "source": [
    "client = Client(base_url='https://bsky.social')\n",
    "client.login(acdic[\"account\"], acdic[\"password\"])"
   ]
  },
  {
   "cell_type": "code",
   "execution_count": 37,
   "id": "9a946d4d-b1f9-42d4-856c-3410dab8591d",
   "metadata": {},
   "outputs": [
    {
     "data": {
      "text/plain": [
       "CreateRecordResponse(uri='at://did:plc:7sqtnkepsjplcvuqpvprsx52/app.bsky.feed.post/3lo3zdhbhii24', cid='bafyreiayigcsnwc47cptlrb24du2xcilcsashtddxc3vzik3an33asghou')"
      ]
     },
     "execution_count": 37,
     "metadata": {},
     "output_type": "execute_result"
    }
   ],
   "source": [
    "client.send_post(\"今日はB-Coreで授業です\")"
   ]
  },
  {
   "cell_type": "markdown",
   "id": "e5149ecd-0e75-4b8b-99e1-46d0603e2641",
   "metadata": {},
   "source": [
    "#### キーワード検索"
   ]
  },
  {
   "cell_type": "code",
   "execution_count": 38,
   "id": "19885319-4e49-4e3a-bfe6-a546b8ec36ab",
   "metadata": {},
   "outputs": [],
   "source": [
    "res = client.app.bsky.feed.search_posts({\"q\":\"ミャクミャク\", \"sort\":\"top\", \"limit\":100, \"cursor\":None})"
   ]
  },
  {
   "cell_type": "code",
   "execution_count": 39,
   "id": "95673535-ca99-43f5-bb39-dc4a9281209e",
   "metadata": {},
   "outputs": [
    {
     "name": "stdout",
     "output_type": "stream",
     "text": [
      "100\n",
      "None\n"
     ]
    }
   ],
   "source": [
    "print(res.cursor)\n",
    "print(res.hits_total)\n",
    "\n",
    "rows = [[\"name\",\"text\"]]\n",
    "for post in res.posts:\n",
    "#    print(post.cid)\n",
    "#    print(post.author.did)\n",
    "#    print(post.author.handle)\n",
    "#    print(post.author.display_name)\n",
    "#    print(post.author.avatar)\n",
    "#    print(post.record.text)\n",
    "#    print(post.like_count)\n",
    "#    print(post.quote_count)\n",
    "#    print(post.reply_count)\n",
    "#    print(post.repost_count)\n",
    "#    print(post.uri)\n",
    "    name = post.author.display_name\n",
    "    text = post.record.text.strip()\n",
    "    row = [name, text]\n",
    "    rows.append(row)"
   ]
  },
  {
   "cell_type": "code",
   "execution_count": 40,
   "id": "1319a821-f2ac-45e6-bacc-35cb554eee3b",
   "metadata": {},
   "outputs": [],
   "source": [
    "df = pd.DataFrame(rows[1:], columns=rows[0])"
   ]
  },
  {
   "cell_type": "code",
   "execution_count": 41,
   "id": "edecdb31-87dc-4f59-bd7a-927b0f4fa331",
   "metadata": {},
   "outputs": [
    {
     "data": {
      "text/html": [
       "<div>\n",
       "<style scoped>\n",
       "    .dataframe tbody tr th:only-of-type {\n",
       "        vertical-align: middle;\n",
       "    }\n",
       "\n",
       "    .dataframe tbody tr th {\n",
       "        vertical-align: top;\n",
       "    }\n",
       "\n",
       "    .dataframe thead th {\n",
       "        text-align: right;\n",
       "    }\n",
       "</style>\n",
       "<table border=\"1\" class=\"dataframe\">\n",
       "  <thead>\n",
       "    <tr style=\"text-align: right;\">\n",
       "      <th></th>\n",
       "      <th>name</th>\n",
       "      <th>text</th>\n",
       "    </tr>\n",
       "  </thead>\n",
       "  <tbody>\n",
       "    <tr>\n",
       "      <th>0</th>\n",
       "      <td>へぼらん</td>\n",
       "      <td>キモかわいいやつ買った\\n𐔌ᵔ｡◎⊙‎ࠏ⦿‪° ꒱\\n#万博 #ミャクミャク</td>\n",
       "    </tr>\n",
       "    <tr>\n",
       "      <th>1</th>\n",
       "      <td>いしのこ</td>\n",
       "      <td>されちゃったの！？「寄生」！！\\n\\nクラフトホリック×ミャクミャク様コラボのスロース（くま）\\nまさか岡山の店舗で手に入るとは思っていなかったので、お迎えできて嬉しい😆\\nちなみに万博会場限定のぬいはTシャツを来てるみたいです👕\\n\\n#ぬいぐるみ #クラフトホリック\\n#スロース #ミャクミャク #万博\\n#ミャクミャクなりきりマスコットチャーム</td>\n",
       "    </tr>\n",
       "    <tr>\n",
       "      <th>2</th>\n",
       "      <td>鹿野ケル_Skeb募集中</td>\n",
       "      <td>ミャクミャクぽい子\\n#illustration #イラスト</td>\n",
       "    </tr>\n",
       "    <tr>\n",
       "      <th>3</th>\n",
       "      <td>Sheep🐑</td>\n",
       "      <td>つい先程酔っぱらいながら描いたミャクミャク擬人化♀\\n#イラスト #大阪・関西万博 #ミャクミャク</td>\n",
       "    </tr>\n",
       "    <tr>\n",
       "      <th>4</th>\n",
       "      <td>mimi🌷</td>\n",
       "      <td>ミャクミャク焼きついに！</td>\n",
       "    </tr>\n",
       "    <tr>\n",
       "      <th>...</th>\n",
       "      <td>...</td>\n",
       "      <td>...</td>\n",
       "    </tr>\n",
       "    <tr>\n",
       "      <th>95</th>\n",
       "      <td>蓮花茶</td>\n",
       "      <td>昨日、長男氏が万博行ってきたんだけど、噂の数百人待ちのスシローでお寿司食べてきたそう。整理券だけ午前中にもらって午後に行ったら、整理券さえあれば順番無しで入れてくれた模様（来ない人もいっぱいいるんだろうね）\\nパピリオン予約は全滅だったけど、予約なしの海外パビリオンを結構堪能してきたみたい。もともと海外情報大好きな人なので万博楽しかったらしい\\nそしてマシュマロ付きのミャクミャク貯金箱買ってきたんだけどそこそこ大きくて、どこに置くんだこれ…と家族会議中ｗ</td>\n",
       "    </tr>\n",
       "    <tr>\n",
       "      <th>96</th>\n",
       "      <td>トミーサンダー</td>\n",
       "      <td>おかしのまちおか、ローソン、ファミマ、セブンと回ったけど、ちいかわロリポップなかった…🍭\\nその代わりと言っては何やけど、探しても見つからなかった貯金箱見つけた‼️\\nしかもちいかわとハチワレが来ました☺️\\n事務所に置いてスタッフに募金してもらおう😏\\n\\nついでに地元で開催されてるマスコットキャラのミャクミャクもいたので撮りました📷</td>\n",
       "    </tr>\n",
       "    <tr>\n",
       "      <th>97</th>\n",
       "      <td>hoshi</td>\n",
       "      <td>万博の展示とかにはあまり興味が無いもののミャクミャクのぬいがほしくて……</td>\n",
       "    </tr>\n",
       "    <tr>\n",
       "      <th>98</th>\n",
       "      <td>マ ス ター・ジョン ソン・ワッショイ</td>\n",
       "      <td>ミャクミャクのビロビロって触るとペットリしてそう</td>\n",
       "    </tr>\n",
       "    <tr>\n",
       "      <th>99</th>\n",
       "      <td>るちあーの＠iDoll名古屋B25</td>\n",
       "      <td>休憩！\\nペンギンさんから差し入れでいただいたフルーツケーキ😋うまうま✨\\nところでミャクミャクって尻尾あるんだな。\\nドラえもんみたいだな🤔\\n#ねんどろいどどーる #ねんどり #nendroid #青空おやつ部</td>\n",
       "    </tr>\n",
       "  </tbody>\n",
       "</table>\n",
       "<p>100 rows × 2 columns</p>\n",
       "</div>"
      ],
      "text/plain": [
       "                   name  \\\n",
       "0                  へぼらん   \n",
       "1                  いしのこ   \n",
       "2          鹿野ケル_Skeb募集中   \n",
       "3                Sheep🐑   \n",
       "4                 mimi🌷   \n",
       "..                  ...   \n",
       "95                  蓮花茶   \n",
       "96              トミーサンダー   \n",
       "97                hoshi   \n",
       "98  マ ス ター・ジョン ソン・ワッショイ   \n",
       "99    るちあーの＠iDoll名古屋B25   \n",
       "\n",
       "                                                                                                                                                                                                                                     text  \n",
       "0                                                                                                                                                                                                  キモかわいいやつ買った\\n𐔌ᵔ｡◎⊙‎ࠏ⦿‪° ꒱\\n#万博 #ミャクミャク  \n",
       "1                                                        されちゃったの！？「寄生」！！\\n\\nクラフトホリック×ミャクミャク様コラボのスロース（くま）\\nまさか岡山の店舗で手に入るとは思っていなかったので、お迎えできて嬉しい😆\\nちなみに万博会場限定のぬいはTシャツを来てるみたいです👕\\n\\n#ぬいぐるみ #クラフトホリック\\n#スロース #ミャクミャク #万博\\n#ミャクミャクなりきりマスコットチャーム  \n",
       "2                                                                                                                                                                                                          ミャクミャクぽい子\\n#illustration #イラスト  \n",
       "3                                                                                                                                                                                       つい先程酔っぱらいながら描いたミャクミャク擬人化♀\\n#イラスト #大阪・関西万博 #ミャクミャク  \n",
       "4                                                                                                                                                                                                                            ミャクミャク焼きついに！  \n",
       "..                                                                                                                                                                                                                                    ...  \n",
       "95  昨日、長男氏が万博行ってきたんだけど、噂の数百人待ちのスシローでお寿司食べてきたそう。整理券だけ午前中にもらって午後に行ったら、整理券さえあれば順番無しで入れてくれた模様（来ない人もいっぱいいるんだろうね）\\nパピリオン予約は全滅だったけど、予約なしの海外パビリオンを結構堪能してきたみたい。もともと海外情報大好きな人なので万博楽しかったらしい\\nそしてマシュマロ付きのミャクミャク貯金箱買ってきたんだけどそこそこ大きくて、どこに置くんだこれ…と家族会議中ｗ  \n",
       "96                                                              おかしのまちおか、ローソン、ファミマ、セブンと回ったけど、ちいかわロリポップなかった…🍭\\nその代わりと言っては何やけど、探しても見つからなかった貯金箱見つけた‼️\\nしかもちいかわとハチワレが来ました☺️\\n事務所に置いてスタッフに募金してもらおう😏\\n\\nついでに地元で開催されてるマスコットキャラのミャクミャクもいたので撮りました📷  \n",
       "97                                                                                                                                                                                                   万博の展示とかにはあまり興味が無いもののミャクミャクのぬいがほしくて……  \n",
       "98                                                                                                                                                                                                               ミャクミャクのビロビロって触るとペットリしてそう  \n",
       "99                                                                                                                            休憩！\\nペンギンさんから差し入れでいただいたフルーツケーキ😋うまうま✨\\nところでミャクミャクって尻尾あるんだな。\\nドラえもんみたいだな🤔\\n#ねんどろいどどーる #ねんどり #nendroid #青空おやつ部  \n",
       "\n",
       "[100 rows x 2 columns]"
      ]
     },
     "execution_count": 41,
     "metadata": {},
     "output_type": "execute_result"
    }
   ],
   "source": [
    "df"
   ]
  },
  {
   "cell_type": "markdown",
   "id": "f2b6ab77-902c-4786-b46a-1a9410425558",
   "metadata": {},
   "source": [
    "### ES基盤から検索してみる（研究室のサーバに負荷がかかるので注意）"
   ]
  },
  {
   "cell_type": "code",
   "execution_count": 42,
   "id": "031f0833-28ca-4bfe-a6b3-5c4a3819ae6e",
   "metadata": {},
   "outputs": [],
   "source": [
    "from elasticsearch import Elasticsearch\n",
    "import datetime as dt\n",
    "from dateutil.relativedelta import relativedelta"
   ]
  },
  {
   "cell_type": "code",
   "execution_count": 43,
   "id": "343698d1-095e-40af-81de-81b22057b950",
   "metadata": {},
   "outputs": [],
   "source": [
    "# Elasticsearch の接続先\n",
    "es = Elasticsearch(\"http://cicero.csis.oita-u.ac.jp:9200\")"
   ]
  },
  {
   "cell_type": "code",
   "execution_count": 76,
   "id": "632cbfdb-fdec-440f-b030-4d542bec688a",
   "metadata": {},
   "outputs": [],
   "source": [
    "def get_post_uris(query, start, end):\n",
    "    # クエリ条件に合致する投稿を取得（例では commit.record.text に対して match クエリ）\n",
    "    body = {\n",
    "        \"size\": 1000,  # 必要件数に応じて調整\n",
    "        \"timeout\": \"1m\",\n",
    "        \"query\": {\n",
    "            \"bool\": {\n",
    "                \"must\": [\n",
    "                    {\"match\": {\"commit.record.text\": query}},\n",
    "                    {\"range\": {\"commit.record.createdAt\": {\"gte\": start, \"lte\": end}}}\n",
    "                ]\n",
    "            }\n",
    "        }\n",
    "    }\n",
    "    res =  es.options(request_timeout=60).search(index=\"postindex-*\", body=body)\n",
    "    posts = []  # 各投稿の情報（URI やテキストなど）\n",
    "    uris = []   # 再構築した URI のリスト\n",
    "    for hit in res[\"hits\"][\"hits\"]:\n",
    "        src = hit[\"_source\"]\n",
    "        try:\n",
    "            did  = src[\"did\"]\n",
    "            coll = src[\"commit\"][\"collection\"]\n",
    "            rkey = src[\"commit\"][\"rkey\"]\n",
    "            # URI を \"at://{did}/{collection}/{rkey}\" として再構築\n",
    "            uri = f\"at://{did}/{coll}/{rkey}\"\n",
    "            uris.append(uri)\n",
    "            # ここではテキスト（全文の一部など）も取得しておく（任意）\n",
    "            text = src[\"commit\"][\"record\"].get(\"text\", \"\")\n",
    "            posts.append({\"uri\": uri, \"text\": text})\n",
    "        except Exception as e:\n",
    "            continue\n",
    "    return posts, uris"
   ]
  },
  {
   "cell_type": "code",
   "execution_count": 77,
   "id": "020871f0-4c53-4c72-97dc-e228de724595",
   "metadata": {},
   "outputs": [],
   "source": [
    "def get_like_ranking(query, start, end):\n",
    "    posts, uris = get_post_uris(query, start, end)\n",
    "    if not uris:\n",
    "        return pd.DataFrame()\n",
    "\n",
    "    body = {\n",
    "        \"size\": 0,\n",
    "        \"timeout\": \"1m\",\n",
    "        \"query\": {\n",
    "            \"bool\": {\n",
    "                \"filter\": [\n",
    "                    {\"terms\": {\"commit.record.subject.uri\": uris}},\n",
    "                    {\"term\": {\"commit.operation\": \"create\"}},\n",
    "                    {\"range\": {\"commit.record.createdAt\": {\"gte\": start, \"lte\": end}}}\n",
    "                ]\n",
    "            }\n",
    "        },\n",
    "        \"aggs\": {\n",
    "            \"post_likes\": {\n",
    "                \"terms\": {\n",
    "                    \"field\": \"commit.record.subject.uri\",\n",
    "                    \"size\": len(uris)\n",
    "                }\n",
    "            }\n",
    "        }\n",
    "    }\n",
    "    res = es.options(request_timeout=60).search(index=\"likeindex-*\", body=body)\n",
    "    buckets = res[\"aggregations\"][\"post_likes\"][\"buckets\"]\n",
    "    df_aggs = pd.DataFrame([{\"uri\": b[\"key\"], \"like_count\": b[\"doc_count\"]} for b in buckets])\n",
    "    posts_df = pd.DataFrame(posts)\n",
    "#    st.dataframe(posts_df)\n",
    "    merged = pd.merge(posts_df, df_aggs, on=\"uri\", how=\"left\").fillna(0)\n",
    "    merged[\"like_count\"] = merged[\"like_count\"].astype(int)\n",
    "    merged = merged.sort_values(\"like_count\", ascending=False)\n",
    "    return merged"
   ]
  },
  {
   "cell_type": "code",
   "execution_count": 78,
   "id": "a167b5bc-bf04-44f2-ac6f-5c62bce1a0c7",
   "metadata": {},
   "outputs": [],
   "source": [
    "today = dt.date.today()"
   ]
  },
  {
   "cell_type": "code",
   "execution_count": 79,
   "id": "798ebd25-2d45-4604-a87c-690c9ad5859d",
   "metadata": {},
   "outputs": [],
   "source": [
    "start_date = today + relativedelta(days=-2)"
   ]
  },
  {
   "cell_type": "code",
   "execution_count": 80,
   "id": "7d754974-7002-4de3-8a5f-52c5d2b64fb4",
   "metadata": {},
   "outputs": [
    {
     "data": {
      "text/plain": [
       "datetime.date(2025, 4, 29)"
      ]
     },
     "execution_count": 80,
     "metadata": {},
     "output_type": "execute_result"
    }
   ],
   "source": [
    "start_date"
   ]
  },
  {
   "cell_type": "code",
   "execution_count": 81,
   "id": "7dbc40c9-9b75-47c5-a842-d0cb1c486fd3",
   "metadata": {},
   "outputs": [],
   "source": [
    "start_date_str = start_date.strftime(\"%Y-%m-%dT00:00:00Z\")"
   ]
  },
  {
   "cell_type": "code",
   "execution_count": 82,
   "id": "d587b2cd-b160-46a2-8267-37bf49195dce",
   "metadata": {},
   "outputs": [
    {
     "data": {
      "text/plain": [
       "'2025-04-29T00:00:00Z'"
      ]
     },
     "execution_count": 82,
     "metadata": {},
     "output_type": "execute_result"
    }
   ],
   "source": [
    "start_date_str"
   ]
  },
  {
   "cell_type": "code",
   "execution_count": 83,
   "id": "97b4e497-2e46-460f-900a-eb2a9f0cb79f",
   "metadata": {},
   "outputs": [],
   "source": [
    "end_date_str = today.strftime(\"%Y-%m-%dT23:59:59Z\")"
   ]
  },
  {
   "cell_type": "code",
   "execution_count": 84,
   "id": "ddc7eea3-7647-43bc-821e-90ca62ba4172",
   "metadata": {},
   "outputs": [],
   "source": [
    "df = get_like_ranking(query=\"ミャクミャク\", start=start_date_str, end=end_date_str)"
   ]
  },
  {
   "cell_type": "code",
   "execution_count": 85,
   "id": "ce4850cd-a847-42a1-8155-4220a9975630",
   "metadata": {},
   "outputs": [
    {
     "data": {
      "text/html": [
       "<div>\n",
       "<style scoped>\n",
       "    .dataframe tbody tr th:only-of-type {\n",
       "        vertical-align: middle;\n",
       "    }\n",
       "\n",
       "    .dataframe tbody tr th {\n",
       "        vertical-align: top;\n",
       "    }\n",
       "\n",
       "    .dataframe thead th {\n",
       "        text-align: right;\n",
       "    }\n",
       "</style>\n",
       "<table border=\"1\" class=\"dataframe\">\n",
       "  <thead>\n",
       "    <tr style=\"text-align: right;\">\n",
       "      <th></th>\n",
       "      <th>uri</th>\n",
       "      <th>text</th>\n",
       "      <th>like_count</th>\n",
       "    </tr>\n",
       "  </thead>\n",
       "  <tbody>\n",
       "    <tr>\n",
       "      <th>79</th>\n",
       "      <td>at://did:plc:vtfpzbaahklcnmesip25tbam/app.bsky.feed.post/3lnxdzx47oc2v</td>\n",
       "      <td>されちゃったの！？「寄生」！！\\n\\nクラフトホリック×ミャクミャク様コラボのスロース（くま）\\nまさか岡山の店舗で手に入るとは思っていなかったので、お迎えできて嬉しい😆\\nちなみに万博会場限定のぬいはTシャツを来てるみたいです👕\\n\\n#ぬいぐるみ #クラフトホリック\\n#スロース #ミャクミャク #万博\\n#ミャクミャクなりきりマスコットチャーム</td>\n",
       "      <td>62</td>\n",
       "    </tr>\n",
       "    <tr>\n",
       "      <th>173</th>\n",
       "      <td>at://did:plc:3xyvfyoe56cqmnizvz5cr27l/app.bsky.feed.post/3lo2xajtd7c25</td>\n",
       "      <td>\\ Hello ♡𝑴𝒂𝒚🎏/\\n\\n今日から5月ですね～✿\\nはやっ( °_° )\\n\\n4月もたくさんのご予約\\n本当にありがとうございました😘\\n\\n本日は15:00-21:30\\n☞☞17:30～ご案内🉑です🤍ྀི\\n\\nご予約、お問い合わせ✉️\\nお待ちしておりますね‪·͜·♡\\n\\nゴールデンウィーク\\n皆様は何する予定❓\\n\\n私はとりあえず万博のID登録しました😊ミャクミャクのくじびきもしに行かなきゃな～🎶</td>\n",
       "      <td>28</td>\n",
       "    </tr>\n",
       "    <tr>\n",
       "      <th>41</th>\n",
       "      <td>at://did:plc:ioa6s6toxsiu3j6d5gtrgwue/app.bsky.feed.post/3lnzjyphzxc2h</td>\n",
       "      <td>キモかわいいやつ買った\\n𐔌ᵔ｡◎⊙‎ࠏ⦿‪° ꒱\\n#万博 #ミャクミャク</td>\n",
       "      <td>28</td>\n",
       "    </tr>\n",
       "    <tr>\n",
       "      <th>15</th>\n",
       "      <td>at://did:plc:n73azim7irnlcxibu5a5j5jk/app.bsky.feed.post/3lnwxbxygbc2x</td>\n",
       "      <td>ミャクミャク焼きですよ、ミミ…</td>\n",
       "      <td>18</td>\n",
       "    </tr>\n",
       "    <tr>\n",
       "      <th>163</th>\n",
       "      <td>at://did:plc:k3mvjdukr66iasname4jtj5t/app.bsky.feed.post/3lo2x34ewvk2t</td>\n",
       "      <td>おはようございます🌞\\n今日から5月！\\nじわじわと、関西万博に行きたくなってきた。これまでは興味なかったのにね、行かなかったらきっと50年は後悔しそう。\\n\\nさて、このアゲートの中にミャクミャクは隠れているでしょうか？\\n\\nブラジル産 アゲート\\n\\n#Bluesky鉱物部</td>\n",
       "      <td>17</td>\n",
       "    </tr>\n",
       "    <tr>\n",
       "      <th>...</th>\n",
       "      <td>...</td>\n",
       "      <td>...</td>\n",
       "      <td>...</td>\n",
       "    </tr>\n",
       "    <tr>\n",
       "      <th>116</th>\n",
       "      <td>at://did:plc:2c2w4ckipog5uhqbynnfr5ix/app.bsky.feed.post/3lnwp2ebkfc2f</td>\n",
       "      <td>期待はずれてちゃんとミャクミャク。\\nただ、きんつばで再現する必要があったのかってぐらいわかりづらい</td>\n",
       "      <td>0</td>\n",
       "    </tr>\n",
       "    <tr>\n",
       "      <th>63</th>\n",
       "      <td>at://did:plc:4rffyanupza3s5nxz6t3rvm4/app.bsky.feed.post/3lnzbsos67f2p</td>\n",
       "      <td>鬼とミャクミャクが共演するGW夜の異色イベントを見逃すな！ #ミャクミャク #大江山酒呑童子 #鬼のまち\\n\\n2025年5月3日、京都府福知山市で開催される「大江山酒呑百鬼夜行」。万博公式キャラクター・ミャクミャクと鬼たちの共演が実現！</td>\n",
       "      <td>0</td>\n",
       "    </tr>\n",
       "    <tr>\n",
       "      <th>64</th>\n",
       "      <td>at://did:plc:lrslnrarlaszeil7zjw5enfd/app.bsky.feed.post/3lo3awkhqm224</td>\n",
       "      <td>好好笑世界觀混亂😍\\nミャクミャク對霍格華茲來說顏色太飽和了！</td>\n",
       "      <td>0</td>\n",
       "    </tr>\n",
       "    <tr>\n",
       "      <th>113</th>\n",
       "      <td>at://did:plc:2eo6cpmgps6mmweul56vsyab/app.bsky.feed.post/3lnwolza2w22k</td>\n",
       "      <td>いやほんまにミャクミャクくじのお得さ、ぬいぐるみの良さをわかってくれる人おってよかった</td>\n",
       "      <td>0</td>\n",
       "    </tr>\n",
       "    <tr>\n",
       "      <th>51</th>\n",
       "      <td>at://did:plc:lw6cacj7s3qdtrnomuufqc6z/app.bsky.feed.post/3lnynfyjd2s27</td>\n",
       "      <td>【新商品情報】大阪・関西万博公式グッズ「EXPO2025 ミャクミャク ハンディファン」登場！｜ヘソプロダクション\\n\\n■プレスリリース配信元-株式会社ヘソプロダクション\\ncompanydata.tsujigawa.com/company/4120...\\n\\n#ミャクミャク #EXPO2025 #万博 #プレスリリース #PressRelease #企業情報</td>\n",
       "      <td>0</td>\n",
       "    </tr>\n",
       "  </tbody>\n",
       "</table>\n",
       "<p>178 rows × 3 columns</p>\n",
       "</div>"
      ],
      "text/plain": [
       "                                                                        uri  \\\n",
       "79   at://did:plc:vtfpzbaahklcnmesip25tbam/app.bsky.feed.post/3lnxdzx47oc2v   \n",
       "173  at://did:plc:3xyvfyoe56cqmnizvz5cr27l/app.bsky.feed.post/3lo2xajtd7c25   \n",
       "41   at://did:plc:ioa6s6toxsiu3j6d5gtrgwue/app.bsky.feed.post/3lnzjyphzxc2h   \n",
       "15   at://did:plc:n73azim7irnlcxibu5a5j5jk/app.bsky.feed.post/3lnwxbxygbc2x   \n",
       "163  at://did:plc:k3mvjdukr66iasname4jtj5t/app.bsky.feed.post/3lo2x34ewvk2t   \n",
       "..                                                                      ...   \n",
       "116  at://did:plc:2c2w4ckipog5uhqbynnfr5ix/app.bsky.feed.post/3lnwp2ebkfc2f   \n",
       "63   at://did:plc:4rffyanupza3s5nxz6t3rvm4/app.bsky.feed.post/3lnzbsos67f2p   \n",
       "64   at://did:plc:lrslnrarlaszeil7zjw5enfd/app.bsky.feed.post/3lo3awkhqm224   \n",
       "113  at://did:plc:2eo6cpmgps6mmweul56vsyab/app.bsky.feed.post/3lnwolza2w22k   \n",
       "51   at://did:plc:lw6cacj7s3qdtrnomuufqc6z/app.bsky.feed.post/3lnynfyjd2s27   \n",
       "\n",
       "                                                                                                                                                                                                                     text  \\\n",
       "79                                       されちゃったの！？「寄生」！！\\n\\nクラフトホリック×ミャクミャク様コラボのスロース（くま）\\nまさか岡山の店舗で手に入るとは思っていなかったので、お迎えできて嬉しい😆\\nちなみに万博会場限定のぬいはTシャツを来てるみたいです👕\\n\\n#ぬいぐるみ #クラフトホリック\\n#スロース #ミャクミャク #万博\\n#ミャクミャクなりきりマスコットチャーム   \n",
       "173  \\ Hello ♡𝑴𝒂𝒚🎏/\\n\\n今日から5月ですね～✿\\nはやっ( °_° )\\n\\n4月もたくさんのご予約\\n本当にありがとうございました😘\\n\\n本日は15:00-21:30\\n☞☞17:30～ご案内🉑です🤍ྀི\\n\\nご予約、お問い合わせ✉️\\nお待ちしておりますね‪·͜·♡\\n\\nゴールデンウィーク\\n皆様は何する予定❓\\n\\n私はとりあえず万博のID登録しました😊ミャクミャクのくじびきもしに行かなきゃな～🎶   \n",
       "41                                                                                                                                                                                 キモかわいいやつ買った\\n𐔌ᵔ｡◎⊙‎ࠏ⦿‪° ꒱\\n#万博 #ミャクミャク   \n",
       "15                                                                                                                                                                                                        ミャクミャク焼きですよ、ミミ…   \n",
       "163                                                                          おはようございます🌞\\n今日から5月！\\nじわじわと、関西万博に行きたくなってきた。これまでは興味なかったのにね、行かなかったらきっと50年は後悔しそう。\\n\\nさて、このアゲートの中にミャクミャクは隠れているでしょうか？\\n\\nブラジル産 アゲート\\n\\n#Bluesky鉱物部   \n",
       "..                                                                                                                                                                                                                    ...   \n",
       "116                                                                                                                                                                    期待はずれてちゃんとミャクミャク。\\nただ、きんつばで再現する必要があったのかってぐらいわかりづらい   \n",
       "63                                                                                                鬼とミャクミャクが共演するGW夜の異色イベントを見逃すな！ #ミャクミャク #大江山酒呑童子 #鬼のまち\\n\\n2025年5月3日、京都府福知山市で開催される「大江山酒呑百鬼夜行」。万博公式キャラクター・ミャクミャクと鬼たちの共演が実現！   \n",
       "64                                                                                                                                                                                        好好笑世界觀混亂😍\\nミャクミャク對霍格華茲來說顏色太飽和了！   \n",
       "113                                                                                                                                                                           いやほんまにミャクミャクくじのお得さ、ぬいぐるみの良さをわかってくれる人おってよかった   \n",
       "51                                【新商品情報】大阪・関西万博公式グッズ「EXPO2025 ミャクミャク ハンディファン」登場！｜ヘソプロダクション\\n\\n■プレスリリース配信元-株式会社ヘソプロダクション\\ncompanydata.tsujigawa.com/company/4120...\\n\\n#ミャクミャク #EXPO2025 #万博 #プレスリリース #PressRelease #企業情報   \n",
       "\n",
       "     like_count  \n",
       "79           62  \n",
       "173          28  \n",
       "41           28  \n",
       "15           18  \n",
       "163          17  \n",
       "..          ...  \n",
       "116           0  \n",
       "63            0  \n",
       "64            0  \n",
       "113           0  \n",
       "51            0  \n",
       "\n",
       "[178 rows x 3 columns]"
      ]
     },
     "execution_count": 85,
     "metadata": {},
     "output_type": "execute_result"
    }
   ],
   "source": [
    "df"
   ]
  },
  {
   "cell_type": "code",
   "execution_count": null,
   "id": "ccee0c62-5ad7-44af-a045-aa8b73f39551",
   "metadata": {},
   "outputs": [],
   "source": []
  },
  {
   "cell_type": "code",
   "execution_count": null,
   "id": "32e1673a-8823-4a87-be2a-44dca08e639a",
   "metadata": {},
   "outputs": [],
   "source": []
  }
 ],
 "metadata": {
  "kernelspec": {
   "display_name": "Python 3 (ipykernel)",
   "language": "python",
   "name": "python3"
  },
  "language_info": {
   "codemirror_mode": {
    "name": "ipython",
    "version": 3
   },
   "file_extension": ".py",
   "mimetype": "text/x-python",
   "name": "python",
   "nbconvert_exporter": "python",
   "pygments_lexer": "ipython3",
   "version": "3.11.6"
  }
 },
 "nbformat": 4,
 "nbformat_minor": 5
}
