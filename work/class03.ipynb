{
 "cells": [
  {
   "cell_type": "markdown",
   "id": "4e4058f9-3abd-4a68-9208-6af308dad2cd",
   "metadata": {},
   "source": [
    "# 第３回"
   ]
  },
  {
   "cell_type": "markdown",
   "id": "329d5905-8a07-48c1-a95e-cd144297760b",
   "metadata": {},
   "source": [
    "##  xpathを使ったウェブスクレイピング"
   ]
  },
  {
   "cell_type": "code",
   "execution_count": 28,
   "id": "8924b2e2-de52-4e73-b432-cf9f9bf92a26",
   "metadata": {},
   "outputs": [
    {
     "name": "stdout",
     "output_type": "stream",
     "text": [
      "\n",
      "こんにちは世界\n",
      "\n"
     ]
    }
   ],
   "source": [
    "from lxml import html\n",
    "\n",
    "with open(\"./c3.html\", 'r') as f:\n",
    "    fstr = f.read()\n",
    "\n",
    "# lxmlでHTMLを解析\n",
    "tree = html.fromstring(fstr)\n",
    "\n",
    "# XPathでニュースタイトルを取得（GoogleChrome上の）\n",
    "\n",
    "# どちらでも取れるのを確認\n",
    "#titles = tree.xpath('/html/body/div/text()')\n",
    "titles = tree.xpath('//div/text()')\n",
    "\n",
    "# 結果を出力\n",
    "for title in titles:\n",
    "    print(title)"
   ]
  },
  {
   "cell_type": "code",
   "execution_count": 19,
   "id": "915ac51c-0ba9-4717-b3f4-a3366a0746cf",
   "metadata": {},
   "outputs": [],
   "source": [
    "#response.content"
   ]
  },
  {
   "cell_type": "markdown",
   "id": "e4e70db5-bdc6-4cd2-8138-65a3441a02cf",
   "metadata": {},
   "source": [
    "## クローリング"
   ]
  },
  {
   "cell_type": "markdown",
   "id": "447bf439-bfe0-4cbe-9b8f-f076548259cf",
   "metadata": {},
   "source": [
    "### APIの例（郵便番号検索API）"
   ]
  },
  {
   "cell_type": "code",
   "execution_count": 83,
   "id": "3a47192d-1d0c-4c48-9317-99f982bef8f7",
   "metadata": {},
   "outputs": [],
   "source": [
    "import requests"
   ]
  },
  {
   "cell_type": "code",
   "execution_count": 84,
   "id": "403f4570-e75c-44cf-b919-8b196a64def8",
   "metadata": {},
   "outputs": [],
   "source": [
    "res = requests.get(\"https://zipcloud.ibsnet.co.jp/api/search\", params={'zipcode': '8701124'})"
   ]
  },
  {
   "cell_type": "code",
   "execution_count": 86,
   "id": "4324039f-dc35-417d-920c-c78ab8ebf255",
   "metadata": {},
   "outputs": [],
   "source": [
    "resDic = res.json()"
   ]
  },
  {
   "cell_type": "code",
   "execution_count": 87,
   "id": "b17e2baa-025e-45f3-ac86-e368d8a6d14b",
   "metadata": {},
   "outputs": [
    {
     "data": {
      "text/plain": [
       "{'message': None,\n",
       " 'results': [{'address1': '大分県',\n",
       "   'address2': '大分市',\n",
       "   'address3': '旦野原',\n",
       "   'kana1': 'ｵｵｲﾀｹﾝ',\n",
       "   'kana2': 'ｵｵｲﾀｼ',\n",
       "   'kana3': 'ﾀﾞﾝﾉﾊﾙ',\n",
       "   'prefcode': '44',\n",
       "   'zipcode': '8701124'}],\n",
       " 'status': 200}"
      ]
     },
     "execution_count": 87,
     "metadata": {},
     "output_type": "execute_result"
    }
   ],
   "source": [
    "resDic"
   ]
  },
  {
   "cell_type": "code",
   "execution_count": 88,
   "id": "b4d98c95-2bd9-4cf7-86d8-a0b0b7a7694d",
   "metadata": {},
   "outputs": [],
   "source": [
    "adDic1 = resDic[\"results\"][0]"
   ]
  },
  {
   "cell_type": "code",
   "execution_count": 93,
   "id": "9836ced7-df5d-4192-907e-07496bb44440",
   "metadata": {},
   "outputs": [
    {
     "name": "stdout",
     "output_type": "stream",
     "text": [
      "大分県大分市旦野原\n"
     ]
    }
   ],
   "source": [
    "print(f\"{adDic1['address1']}{adDic1['address2']}{adDic1['address3']}\")"
   ]
  },
  {
   "cell_type": "markdown",
   "id": "fc65cc21-c158-4709-9a4f-18a8f713366a",
   "metadata": {},
   "source": [
    "### クローリング演習"
   ]
  },
  {
   "cell_type": "markdown",
   "id": "ba12b07a-7ee9-4ee6-aba4-6639ab31f37c",
   "metadata": {},
   "source": [
    "#### 食べログ飲食店データ取得"
   ]
  },
  {
   "cell_type": "markdown",
   "id": "06af2d20-c767-49c8-bdc7-59fbddb40154",
   "metadata": {},
   "source": [
    "##### 1. 取得したいレビューのURLの取得"
   ]
  },
  {
   "cell_type": "code",
   "execution_count": 105,
   "id": "1099fb11-d197-44f2-8547-06110a668a3a",
   "metadata": {},
   "outputs": [],
   "source": [
    "baseurl = \"https://tabelog.com\"\n",
    "URL=baseurl+\"/oita/A4402/A440202/44005660/dtlrvwlst/\""
   ]
  },
  {
   "cell_type": "code",
   "execution_count": 112,
   "id": "de7337bd-4017-43ef-9802-6e4a8ea89b9d",
   "metadata": {},
   "outputs": [
    {
     "data": {
      "text/plain": [
       "'https://tabelog.com/oita/A4402/A440202/44005660/dtlrvwlst/'"
      ]
     },
     "execution_count": 112,
     "metadata": {},
     "output_type": "execute_result"
    }
   ],
   "source": [
    "URL"
   ]
  },
  {
   "cell_type": "code",
   "execution_count": 106,
   "id": "ef30606e-9a05-414a-b465-a410221b27e4",
   "metadata": {},
   "outputs": [],
   "source": [
    "res = requests.get(URL)"
   ]
  },
  {
   "cell_type": "code",
   "execution_count": 107,
   "id": "27e33383-05a5-466e-ba69-484393aec6ff",
   "metadata": {},
   "outputs": [],
   "source": [
    "tree = html.fromstring(res.content)"
   ]
  },
  {
   "cell_type": "code",
   "execution_count": 108,
   "id": "26672654-de4b-49bb-bd4d-4e116d1b5d63",
   "metadata": {},
   "outputs": [],
   "source": [
    "eles = tree.xpath(\"//a[@class='rvw-item__title-target']\")"
   ]
  },
  {
   "cell_type": "code",
   "execution_count": 110,
   "id": "0ae7cb1c-a654-4138-b26d-7c5f48ef86d7",
   "metadata": {},
   "outputs": [],
   "source": [
    "reviewurls = []\n",
    "for ele in eles:\n",
    "    aurl = baseurl+ele.get(\"href\")\n",
    "    reviewurls.append(aurl)"
   ]
  },
  {
   "cell_type": "code",
   "execution_count": 261,
   "id": "04fbcfee-2690-4a06-9173-824376e5aff3",
   "metadata": {},
   "outputs": [
    {
     "data": {
      "text/plain": [
       "{'https://tabelog.com/oita/A4402/A440202/44005660/dtlrvwlst/B111965666/?use_type=0&smp=1',\n",
       " 'https://tabelog.com/oita/A4402/A440202/44005660/dtlrvwlst/B382464585/?use_type=0&smp=1',\n",
       " 'https://tabelog.com/oita/A4402/A440202/44005660/dtlrvwlst/B417580252/?use_type=0&smp=1',\n",
       " 'https://tabelog.com/oita/A4402/A440202/44005660/dtlrvwlst/B440585631/?use_type=0&smp=1',\n",
       " 'https://tabelog.com/oita/A4402/A440202/44005660/dtlrvwlst/B440868409/?use_type=0&smp=1',\n",
       " 'https://tabelog.com/oita/A4402/A440202/44005660/dtlrvwlst/B453057681/?use_type=0&smp=1',\n",
       " 'https://tabelog.com/oita/A4402/A440202/44005660/dtlrvwlst/B458471005/?use_type=0&smp=1',\n",
       " 'https://tabelog.com/oita/A4402/A440202/44005660/dtlrvwlst/B478849487/?use_type=0&smp=1',\n",
       " 'https://tabelog.com/oita/A4402/A440202/44005660/dtlrvwlst/B482850549/?use_type=0&smp=1',\n",
       " 'https://tabelog.com/oita/A4402/A440202/44005660/dtlrvwlst/B494269956/?use_type=0&smp=1',\n",
       " 'https://tabelog.com/oita/A4402/A440202/44005660/dtlrvwlst/B84684293/?use_type=0&smp=1'}"
      ]
     },
     "execution_count": 261,
     "metadata": {},
     "output_type": "execute_result"
    }
   ],
   "source": [
    "set(reviewurls)"
   ]
  },
  {
   "cell_type": "markdown",
   "id": "59bcb58b-8241-4f4e-a7f8-4931edda4425",
   "metadata": {},
   "source": [
    "#### 2. 各レビューから取得したい内容のみを取得\n",
    "- userid, name, rating, title, review\n",
    "- 1つのURLでやってみる"
   ]
  },
  {
   "cell_type": "code",
   "execution_count": 155,
   "id": "b1b479e9-f1f4-4974-85cb-6fb0a0bc9269",
   "metadata": {},
   "outputs": [],
   "source": [
    "rurl = reviewurls[0]\n",
    "res = requests.get(rurl)\n",
    "tree = html.fromstring(res.content)"
   ]
  },
  {
   "cell_type": "code",
   "execution_count": 156,
   "id": "a84dfe24-e697-4d97-99cb-b2fedc578440",
   "metadata": {},
   "outputs": [],
   "source": [
    "#res.content"
   ]
  },
  {
   "cell_type": "code",
   "execution_count": 212,
   "id": "9c501acc-f256-4943-b34a-f8ec24395fd9",
   "metadata": {},
   "outputs": [],
   "source": [
    "# User id/ Name\n",
    "eles = tree.xpath(\"//a[@class='rvw-item__rvwr-name']\")"
   ]
  },
  {
   "cell_type": "code",
   "execution_count": 213,
   "id": "d16ed603-a048-4150-b69d-800c1635979b",
   "metadata": {},
   "outputs": [
    {
     "data": {
      "text/plain": [
       "'/rvwr/025510967/'"
      ]
     },
     "execution_count": 213,
     "metadata": {},
     "output_type": "execute_result"
    }
   ],
   "source": [
    "eles[0].get(\"href\")"
   ]
  },
  {
   "cell_type": "code",
   "execution_count": 214,
   "id": "5e6fff59-c77e-4dec-8c69-7fa8dbbb4340",
   "metadata": {},
   "outputs": [
    {
     "data": {
      "text/plain": [
       "'べっぴぃえんちゃん'"
      ]
     },
     "execution_count": 214,
     "metadata": {},
     "output_type": "execute_result"
    }
   ],
   "source": [
    "eles[0].getchildren()[0].text"
   ]
  },
  {
   "cell_type": "code",
   "execution_count": 215,
   "id": "a3a4b4c2-29fd-4cad-8426-074e1d091b64",
   "metadata": {},
   "outputs": [],
   "source": [
    "# rating\n",
    "eles = tree.xpath(\"//div[@class='rvw-item__rvw-info']//b\")"
   ]
  },
  {
   "cell_type": "code",
   "execution_count": 216,
   "id": "4e884c8b-eb5a-4f52-9055-fd0b1a86665c",
   "metadata": {},
   "outputs": [
    {
     "data": {
      "text/plain": [
       "'4.0'"
      ]
     },
     "execution_count": 216,
     "metadata": {},
     "output_type": "execute_result"
    }
   ],
   "source": [
    "eles[0].text"
   ]
  },
  {
   "cell_type": "code",
   "execution_count": 217,
   "id": "85c6083c-4bbf-42df-9e65-6c8a4ad2ca6b",
   "metadata": {},
   "outputs": [],
   "source": [
    "#title\n",
    "eles = tree.xpath(\"//p[@class='rvw-item__title']/strong\")"
   ]
  },
  {
   "cell_type": "code",
   "execution_count": 218,
   "id": "59b40f1e-e390-46ee-a690-2d3f926f3a29",
   "metadata": {},
   "outputs": [
    {
     "data": {
      "text/plain": [
       "'いつも新たな出会いのあるお店'"
      ]
     },
     "execution_count": 218,
     "metadata": {},
     "output_type": "execute_result"
    }
   ],
   "source": [
    "eles[0].text"
   ]
  },
  {
   "cell_type": "code",
   "execution_count": 242,
   "id": "71e62bdb-b93c-4f6e-b8f6-a413c1bf06b8",
   "metadata": {},
   "outputs": [],
   "source": [
    "# review\n",
    "#eles = tree.xpath(\"//div[@class='rvw-item__rvw-comment']\")\n",
    "#eles = tree.xpath(\"//div[contains(@class, 'rvw-item') and contains(@class, 'rvw-comment')]\")\n",
    "eles = tree.xpath(\"//div[contains(@class, 'rvw-comment')]/p\")"
   ]
  },
  {
   "cell_type": "code",
   "execution_count": 243,
   "id": "da10c18c-f925-4759-8076-38862fb74884",
   "metadata": {},
   "outputs": [
    {
     "data": {
      "text/plain": [
       "[<Element p at 0xffff4708d3b0>, <Element p at 0xffff46fe2cb0>]"
      ]
     },
     "execution_count": 243,
     "metadata": {},
     "output_type": "execute_result"
    }
   ],
   "source": [
    "eles"
   ]
  },
  {
   "cell_type": "code",
   "execution_count": 246,
   "id": "b3a2559e-2ac3-444c-8ca2-7582ee02f079",
   "metadata": {},
   "outputs": [],
   "source": [
    "rawreview = eles[0].xpath(\"string()\")"
   ]
  },
  {
   "cell_type": "code",
   "execution_count": 247,
   "id": "e388fe44-b86a-4100-903c-ebcf1d63134f",
   "metadata": {},
   "outputs": [
    {
     "data": {
      "text/plain": [
       "'\\n          3ヶ月ぶりの『トムヤムクン。』。お伺いするのは5、6回目だと思うが、来る度に新しい料理との出会いがある。メニューがなく、その時々の旬のもの、美味しいものを出してくれるシェフのおかげだ。アペリティフからして超独創的。こんな冷麺、見たことも食べたこともない。アジ、サバ、アサリの出汁に、新生姜とガスパチョ風のキュウリ。これだけでも斬新だが、ホタテの醤油漬けと一緒に食べると、あら不思議。塩ラーメンが一転醤油ラーメンに。本当に初めての味わいだ。次はクロダイのサラダ。コリンキーやズッキーニ、トマトはピクルスに。そして水菜、パクチーなど他の野菜やクロダイと一緒にキウイフルーツのソースで食べる。こんな発想聞いたことがない。魚は、一皿めはヘダイ。揚げたヘダイにとうもろこしのソース。とうもろこしが甘い。二皿めはイトヨリダイ。1番下に新タマネギのシャリアピンソース。魚の上には細かく刻んだナスとつるむらさき。オレガノも載っている。おそらくこれが味の決め手だろう。最後になって漸くタイ料理らしくなってきた（笑）まず看板料理のプーパッポンカリー。〆はエビのレッドカレー。レアなエビが美味しい。個人的にはもう少し辛くても良いが。まだまだ食べ足りない気もするが、ワインも空いたことだし、今日はここまで。ご馳走さまでした。今度は7皿でお願いするぞ〜\\n        '"
      ]
     },
     "execution_count": 247,
     "metadata": {},
     "output_type": "execute_result"
    }
   ],
   "source": [
    "rawreview"
   ]
  },
  {
   "cell_type": "code",
   "execution_count": 249,
   "id": "0b49a211-2fcc-4abe-a54c-04a53c60d087",
   "metadata": {},
   "outputs": [],
   "source": [
    "review = rawreview.strip()"
   ]
  },
  {
   "cell_type": "code",
   "execution_count": 250,
   "id": "0c5c3beb-96e3-4069-9933-0ff6b259a565",
   "metadata": {},
   "outputs": [],
   "source": [
    "# ここまでの内容を関数化\n",
    "def scraper(rurl):\n",
    "    res = requests.get(rurl)\n",
    "    tree = html.fromstring(res.content)\n",
    "    # User id/ Name\n",
    "    eles = tree.xpath(\"//a[@class='rvw-item__rvwr-name']\")\n",
    "    uid = eles[0].get(\"href\")\n",
    "    name = eles[0].getchildren()[0].text\n",
    "    # rating\n",
    "    eles = tree.xpath(\"//div[@class='rvw-item__rvw-info']//b\")\n",
    "    rating = eles[0].text\n",
    "    #title\n",
    "    eles = tree.xpath(\"//p[@class='rvw-item__title']/strong\")\n",
    "    title = eles[0].text\n",
    "    # review\n",
    "    #eles = tree.xpath(\"//div[@class='rvw-item__rvw-comment']\")\n",
    "    #eles = tree.xpath(\"//div[contains(@class, 'rvw-item') and contains(@class, 'rvw-comment')]\")\n",
    "    eles = tree.xpath(\"//div[contains(@class, 'rvw-comment')]/p\")\n",
    "    rawreview = eles[0].xpath(\"string()\")\n",
    "    review = rawreview.strip()\n",
    "    \n",
    "    return uid, name, rating, title, review"
   ]
  },
  {
   "cell_type": "code",
   "execution_count": 262,
   "id": "67a98944-b76b-4f2b-b52d-926a866f498e",
   "metadata": {},
   "outputs": [],
   "source": [
    "rows = [[\"uid\",\"name\",\"rating\", \"title\", \"review\"]]\n",
    "for rurl in list(set(reviewurls)):\n",
    "    row = scraper(rurl)\n",
    "    rows.append(row)"
   ]
  },
  {
   "cell_type": "code",
   "execution_count": 367,
   "id": "0e15880c-6a9a-4dc4-b241-d24dc143ed5a",
   "metadata": {},
   "outputs": [],
   "source": [
    "import pandas as pd\n",
    "pd.options.display.max_colwidth = 250\n",
    "\n",
    "df = pd.DataFrame(rows[1:],columns=rows[0])"
   ]
  },
  {
   "cell_type": "code",
   "execution_count": 368,
   "id": "4dd0efb6-60d3-4e38-8cf9-a554b2e64ae3",
   "metadata": {},
   "outputs": [
    {
     "data": {
      "text/html": [
       "<div>\n",
       "<style scoped>\n",
       "    .dataframe tbody tr th:only-of-type {\n",
       "        vertical-align: middle;\n",
       "    }\n",
       "\n",
       "    .dataframe tbody tr th {\n",
       "        vertical-align: top;\n",
       "    }\n",
       "\n",
       "    .dataframe thead th {\n",
       "        text-align: right;\n",
       "    }\n",
       "</style>\n",
       "<table border=\"1\" class=\"dataframe\">\n",
       "  <thead>\n",
       "    <tr style=\"text-align: right;\">\n",
       "      <th></th>\n",
       "      <th>name</th>\n",
       "      <th>text</th>\n",
       "    </tr>\n",
       "  </thead>\n",
       "  <tbody>\n",
       "    <tr>\n",
       "      <th>0</th>\n",
       "      <td>いしのこ</td>\n",
       "      <td>大昔に買ったマスキングテープがミャクミャクカラーだったw\\n\\n#ミャクミャク #フィギュア #ガチャ</td>\n",
       "    </tr>\n",
       "    <tr>\n",
       "      <th>1</th>\n",
       "      <td>イトヲ</td>\n",
       "      <td>ミャクミャク様500円交換してきた</td>\n",
       "    </tr>\n",
       "    <tr>\n",
       "      <th>2</th>\n",
       "      <td>ぼのsky</td>\n",
       "      <td>万博のテストラン、色んなミャクミャクさまが見れてそれだけで大はしゃぎだった。かわいい。</td>\n",
       "    </tr>\n",
       "    <tr>\n",
       "      <th>3</th>\n",
       "      <td>にょろぴよ</td>\n",
       "      <td>これはトレーナーが仕事中に郵便局へ走って取り替えてもらったミャクミャク様記念硬貨だよ\\n\\nつついちゃダメよ</td>\n",
       "    </tr>\n",
       "    <tr>\n",
       "      <th>4</th>\n",
       "      <td>町田奈桜</td>\n",
       "      <td>ミャクミャク様硬貨を引き換えました。</td>\n",
       "    </tr>\n",
       "    <tr>\n",
       "      <th>...</th>\n",
       "      <td>...</td>\n",
       "      <td>...</td>\n",
       "    </tr>\n",
       "    <tr>\n",
       "      <th>95</th>\n",
       "      <td>サキツルギ𓅯</td>\n",
       "      <td>屋根裏部屋みたいなカフェで店のミャクミャク様と相席されている</td>\n",
       "    </tr>\n",
       "    <tr>\n",
       "      <th>96</th>\n",
       "      <td>えぃばる</td>\n",
       "      <td>3/20☀️\\n能勢電鉄🚃滝山〜絹延橋🚉撮って出し(1/3)です😋\\n能勢電鉄の運用が良かったので撮影に🤭\\n1757Fの祝電に5146Fさくら🌸ヘッドマークに5148Fさくら🌸ヘッドマーク付きは何故か回送で🤔\\nそして、ミャクミャク7200Fです🤗</td>\n",
       "    </tr>\n",
       "    <tr>\n",
       "      <th>97</th>\n",
       "      <td>もんもん@12・18大安</td>\n",
       "      <td>ミャクミャク様のフレーム可愛いwww</td>\n",
       "    </tr>\n",
       "    <tr>\n",
       "      <th>98</th>\n",
       "      <td>はなみ 茉莉@4月は創作スローペース</td>\n",
       "      <td>リリーちゃん、ミャクミャクさまだよ\\nミャクミャクさま、リリーちゃんだよ</td>\n",
       "    </tr>\n",
       "    <tr>\n",
       "      <th>99</th>\n",
       "      <td>⛩️ひかる⛓️</td>\n",
       "      <td>先日ミャクミャク様とツーショットを撮りました、とても良かったですがわたしは頭の目の向きを逆にしてしまいました。かなしい</td>\n",
       "    </tr>\n",
       "  </tbody>\n",
       "</table>\n",
       "<p>100 rows × 2 columns</p>\n",
       "</div>"
      ],
      "text/plain": [
       "                  name  \\\n",
       "0                 いしのこ   \n",
       "1                  イトヲ   \n",
       "2                ぼのsky   \n",
       "3                にょろぴよ   \n",
       "4                 町田奈桜   \n",
       "..                 ...   \n",
       "95              サキツルギ𓅯   \n",
       "96                えぃばる   \n",
       "97        もんもん@12・18大安   \n",
       "98  はなみ 茉莉@4月は創作スローペース   \n",
       "99             ⛩️ひかる⛓️   \n",
       "\n",
       "                                                                                                                             text  \n",
       "0                                                                             大昔に買ったマスキングテープがミャクミャクカラーだったw\\n\\n#ミャクミャク #フィギュア #ガチャ  \n",
       "1                                                                                                               ミャクミャク様500円交換してきた  \n",
       "2                                                                                     万博のテストラン、色んなミャクミャクさまが見れてそれだけで大はしゃぎだった。かわいい。  \n",
       "3                                                                          これはトレーナーが仕事中に郵便局へ走って取り替えてもらったミャクミャク様記念硬貨だよ\\n\\nつついちゃダメよ  \n",
       "4                                                                                                              ミャクミャク様硬貨を引き換えました。  \n",
       "..                                                                                                                            ...  \n",
       "95                                                                                                 屋根裏部屋みたいなカフェで店のミャクミャク様と相席されている  \n",
       "96  3/20☀️\\n能勢電鉄🚃滝山〜絹延橋🚉撮って出し(1/3)です😋\\n能勢電鉄の運用が良かったので撮影に🤭\\n1757Fの祝電に5146Fさくら🌸ヘッドマークに5148Fさくら🌸ヘッドマーク付きは何故か回送で🤔\\nそして、ミャクミャク7200Fです🤗  \n",
       "97                                                                                                             ミャクミャク様のフレーム可愛いwww  \n",
       "98                                                                                           リリーちゃん、ミャクミャクさまだよ\\nミャクミャクさま、リリーちゃんだよ  \n",
       "99                                                                    先日ミャクミャク様とツーショットを撮りました、とても良かったですがわたしは頭の目の向きを逆にしてしまいました。かなしい  \n",
       "\n",
       "[100 rows x 2 columns]"
      ]
     },
     "execution_count": 368,
     "metadata": {},
     "output_type": "execute_result"
    }
   ],
   "source": [
    "df"
   ]
  },
  {
   "cell_type": "markdown",
   "id": "5a5a7538-b65b-4427-b743-f76195081781",
   "metadata": {},
   "source": [
    "### BlueSkyデータの取得（API）"
   ]
  },
  {
   "cell_type": "markdown",
   "id": "df5d9fb4-72b4-4ed5-ae9e-572cc0f342e6",
   "metadata": {},
   "source": [
    "#### APIから投稿してみる"
   ]
  },
  {
   "cell_type": "code",
   "execution_count": 14,
   "id": "44c72c31-cf9e-4c92-88bb-c4fb656cf458",
   "metadata": {},
   "outputs": [],
   "source": [
    "from atproto import Client\n",
    "import pandas as pd"
   ]
  },
  {
   "cell_type": "code",
   "execution_count": 8,
   "id": "ab164d9f-d2c0-4781-931e-a87b7d3f0993",
   "metadata": {},
   "outputs": [],
   "source": [
    "import json\n",
    "\n",
    "with open(\"bsky_account.json\", 'r') as f:\n",
    "    acdic = json.load(f)"
   ]
  },
  {
   "cell_type": "code",
   "execution_count": 9,
   "id": "1ae07c7e-3029-41b7-b3e1-6011420a85b5",
   "metadata": {},
   "outputs": [
    {
     "data": {
      "text/plain": [
       "ProfileViewDetailed(did='did:plc:7sqtnkepsjplcvuqpvprsx52', handle='bcoredsclass0001.bsky.social', associated=ProfileAssociated(chat=None, feedgens=0, labeler=False, lists=0, starter_packs=0, py_type='app.bsky.actor.defs#profileAssociated'), avatar='https://cdn.bsky.app/img/avatar/plain/did:plc:7sqtnkepsjplcvuqpvprsx52/bafkreif4w23vqx2keibm2z665tm4i77kewnamclqtompktx6z6acdl2jdq@jpeg', banner=None, created_at='2025-04-10T00:59:16.772Z', description=None, display_name='', followers_count=0, follows_count=1, indexed_at='2025-04-10T00:59:16.772Z', joined_via_starter_pack=None, labels=[], pinned_post=None, posts_count=1, viewer=ViewerState(blocked_by=False, blocking=None, blocking_by_list=None, followed_by=None, following=None, known_followers=None, muted=False, muted_by_list=None, py_type='app.bsky.actor.defs#viewerState'), py_type='app.bsky.actor.defs#profileViewDetailed')"
      ]
     },
     "execution_count": 9,
     "metadata": {},
     "output_type": "execute_result"
    }
   ],
   "source": [
    "client = Client(base_url='https://bsky.social')\n",
    "client.login(acdic[\"account\"], acdic[\"password\"])"
   ]
  },
  {
   "cell_type": "code",
   "execution_count": 10,
   "id": "9a946d4d-b1f9-42d4-856c-3410dab8591d",
   "metadata": {},
   "outputs": [
    {
     "data": {
      "text/plain": [
       "CreateRecordResponse(uri='at://did:plc:7sqtnkepsjplcvuqpvprsx52/app.bsky.feed.post/3lnuk6ozjqv2b', cid='bafyreidrml22pxd4npkpykzwzs5gmqiu2xdspd7spmaasnavowx7funbga')"
      ]
     },
     "execution_count": 10,
     "metadata": {},
     "output_type": "execute_result"
    }
   ],
   "source": [
    "client.send_post(\"世界の国から、こんにちは\")"
   ]
  },
  {
   "cell_type": "markdown",
   "id": "e5149ecd-0e75-4b8b-99e1-46d0603e2641",
   "metadata": {},
   "source": [
    "#### キーワード検索"
   ]
  },
  {
   "cell_type": "code",
   "execution_count": 11,
   "id": "19885319-4e49-4e3a-bfe6-a546b8ec36ab",
   "metadata": {},
   "outputs": [],
   "source": [
    "res = client.app.bsky.feed.search_posts({\"q\":\"ミャクミャク\", \"sort\":\"top\", \"limit\":100, \"cursor\":None})"
   ]
  },
  {
   "cell_type": "code",
   "execution_count": 12,
   "id": "95673535-ca99-43f5-bb39-dc4a9281209e",
   "metadata": {},
   "outputs": [
    {
     "name": "stdout",
     "output_type": "stream",
     "text": [
      "100\n",
      "None\n"
     ]
    }
   ],
   "source": [
    "print(res.cursor)\n",
    "print(res.hits_total)\n",
    "\n",
    "rows = [[\"name\",\"text\"]]\n",
    "for post in res.posts:\n",
    "#    print(post.cid)\n",
    "#    print(post.author.did)\n",
    "#    print(post.author.handle)\n",
    "#    print(post.author.display_name)\n",
    "#    print(post.author.avatar)\n",
    "#    print(post.record.text)\n",
    "#    print(post.like_count)\n",
    "#    print(post.quote_count)\n",
    "#    print(post.reply_count)\n",
    "#    print(post.repost_count)\n",
    "#    print(post.uri)\n",
    "    name = post.author.display_name\n",
    "    text = post.record.text.strip()\n",
    "    row = [name, text]\n",
    "    rows.append(row)"
   ]
  },
  {
   "cell_type": "code",
   "execution_count": 15,
   "id": "1319a821-f2ac-45e6-bacc-35cb554eee3b",
   "metadata": {},
   "outputs": [],
   "source": [
    "df = pd.DataFrame(rows[1:], columns=rows[0])"
   ]
  },
  {
   "cell_type": "code",
   "execution_count": 16,
   "id": "edecdb31-87dc-4f59-bd7a-927b0f4fa331",
   "metadata": {},
   "outputs": [
    {
     "data": {
      "text/html": [
       "<div>\n",
       "<style scoped>\n",
       "    .dataframe tbody tr th:only-of-type {\n",
       "        vertical-align: middle;\n",
       "    }\n",
       "\n",
       "    .dataframe tbody tr th {\n",
       "        vertical-align: top;\n",
       "    }\n",
       "\n",
       "    .dataframe thead th {\n",
       "        text-align: right;\n",
       "    }\n",
       "</style>\n",
       "<table border=\"1\" class=\"dataframe\">\n",
       "  <thead>\n",
       "    <tr style=\"text-align: right;\">\n",
       "      <th></th>\n",
       "      <th>name</th>\n",
       "      <th>text</th>\n",
       "    </tr>\n",
       "  </thead>\n",
       "  <tbody>\n",
       "    <tr>\n",
       "      <th>0</th>\n",
       "      <td>Sheep🐑</td>\n",
       "      <td>つい先程酔っぱらいながら描いたミャクミャク擬人化♀\\n#イラスト #大阪・関西万博 #ミャクミャク</td>\n",
       "    </tr>\n",
       "    <tr>\n",
       "      <th>1</th>\n",
       "      <td>鹿野ケル_Skeb募集中</td>\n",
       "      <td>ミャクミャクぽい子\\n#illustration #イラスト</td>\n",
       "    </tr>\n",
       "    <tr>\n",
       "      <th>2</th>\n",
       "      <td>赤リス/Akarisu</td>\n",
       "      <td>ミャクミャクちゃーん</td>\n",
       "    </tr>\n",
       "    <tr>\n",
       "      <th>3</th>\n",
       "      <td>ガンギマリちゃん</td>\n",
       "      <td>ミャクミャク様、雑魚側なの…ｗ</td>\n",
       "    </tr>\n",
       "    <tr>\n",
       "      <th>4</th>\n",
       "      <td>青空ニュース🦋</td>\n",
       "      <td>【コラボ】『北斗の拳』原哲夫氏、万博ステージで「ケンシロウ×ミャクミャク」描く\\nnews....</td>\n",
       "    </tr>\n",
       "    <tr>\n",
       "      <th>...</th>\n",
       "      <td>...</td>\n",
       "      <td>...</td>\n",
       "    </tr>\n",
       "    <tr>\n",
       "      <th>95</th>\n",
       "      <td>稔さんは日本語ﾁｮﾄﾜｶﾙ</td>\n",
       "      <td>むっちりしたミャクミャク様がほしい</td>\n",
       "    </tr>\n",
       "    <tr>\n",
       "      <th>96</th>\n",
       "      <td>繭良</td>\n",
       "      <td>情報番組見てたらミャクミャク様とサンリオのコラボぬいぐるみがチラっと映って良いな欲しなと思っ...</td>\n",
       "    </tr>\n",
       "    <tr>\n",
       "      <th>97</th>\n",
       "      <td>YMC🦪（ﾁﾙ）ゆる断酒day58</td>\n",
       "      <td>年長さんくらいの子どもつれた親が子どもと同じくらいのサイズのミャクミャクぬいを抱っこして電車...</td>\n",
       "    </tr>\n",
       "    <tr>\n",
       "      <th>98</th>\n",
       "      <td>青空ニュース🦋</td>\n",
       "      <td>【発表】大阪・関西万博、来場者が100万人突破 開幕11日目で達成\\nnews.livedo...</td>\n",
       "    </tr>\n",
       "    <tr>\n",
       "      <th>99</th>\n",
       "      <td>I.A℗(提督兼指揮官兼先生兼マスター兼指揮官)</td>\n",
       "      <td>そして、JR西日本のオフィシャルストアで購入した、抹茶味のミャクミャクもなかアイスを食べまし...</td>\n",
       "    </tr>\n",
       "  </tbody>\n",
       "</table>\n",
       "<p>100 rows × 2 columns</p>\n",
       "</div>"
      ],
      "text/plain": [
       "                        name  \\\n",
       "0                     Sheep🐑   \n",
       "1               鹿野ケル_Skeb募集中   \n",
       "2                赤リス/Akarisu   \n",
       "3                   ガンギマリちゃん   \n",
       "4                    青空ニュース🦋   \n",
       "..                       ...   \n",
       "95             稔さんは日本語ﾁｮﾄﾜｶﾙ   \n",
       "96                        繭良   \n",
       "97         YMC🦪（ﾁﾙ）ゆる断酒day58   \n",
       "98                   青空ニュース🦋   \n",
       "99  I.A℗(提督兼指揮官兼先生兼マスター兼指揮官)   \n",
       "\n",
       "                                                 text  \n",
       "0   つい先程酔っぱらいながら描いたミャクミャク擬人化♀\\n#イラスト #大阪・関西万博 #ミャクミャク  \n",
       "1                      ミャクミャクぽい子\\n#illustration #イラスト  \n",
       "2                                          ミャクミャクちゃーん  \n",
       "3                                     ミャクミャク様、雑魚側なの…ｗ  \n",
       "4   【コラボ】『北斗の拳』原哲夫氏、万博ステージで「ケンシロウ×ミャクミャク」描く\\nnews....  \n",
       "..                                                ...  \n",
       "95                                  むっちりしたミャクミャク様がほしい  \n",
       "96  情報番組見てたらミャクミャク様とサンリオのコラボぬいぐるみがチラっと映って良いな欲しなと思っ...  \n",
       "97  年長さんくらいの子どもつれた親が子どもと同じくらいのサイズのミャクミャクぬいを抱っこして電車...  \n",
       "98  【発表】大阪・関西万博、来場者が100万人突破 開幕11日目で達成\\nnews.livedo...  \n",
       "99  そして、JR西日本のオフィシャルストアで購入した、抹茶味のミャクミャクもなかアイスを食べまし...  \n",
       "\n",
       "[100 rows x 2 columns]"
      ]
     },
     "execution_count": 16,
     "metadata": {},
     "output_type": "execute_result"
    }
   ],
   "source": [
    "df"
   ]
  },
  {
   "cell_type": "markdown",
   "id": "f2b6ab77-902c-4786-b46a-1a9410425558",
   "metadata": {},
   "source": [
    "### ES基盤から検索してみる（研究室のサーバに負荷がかかるので注意）"
   ]
  },
  {
   "cell_type": "code",
   "execution_count": 345,
   "id": "031f0833-28ca-4bfe-a6b3-5c4a3819ae6e",
   "metadata": {},
   "outputs": [],
   "source": [
    "from elasticsearch import Elasticsearch\n",
    "import datetime as dt\n",
    "from dateutil.relativedelta import relativedelta"
   ]
  },
  {
   "cell_type": "code",
   "execution_count": 346,
   "id": "343698d1-095e-40af-81de-81b22057b950",
   "metadata": {},
   "outputs": [],
   "source": [
    "# Elasticsearch の接続先\n",
    "es = Elasticsearch(\"http://cicero.csis.oita-u.ac.jp:9200\")"
   ]
  },
  {
   "cell_type": "code",
   "execution_count": 355,
   "id": "632cbfdb-fdec-440f-b030-4d542bec688a",
   "metadata": {},
   "outputs": [],
   "source": [
    "def get_post_uris(query, start, end):\n",
    "    # クエリ条件に合致する投稿を取得（例では commit.record.text に対して match クエリ）\n",
    "    body = {\n",
    "        \"size\": 1000,  # 必要件数に応じて調整\n",
    "        \"query\": {\n",
    "            \"bool\": {\n",
    "                \"must\": [\n",
    "                    {\"match\": {\"commit.record.text\": query}},\n",
    "                    {\"range\": {\"commit.record.createdAt\": {\"gte\": start, \"lte\": end}}}\n",
    "                ]\n",
    "            }\n",
    "        }\n",
    "    }\n",
    "    res = es.search(index=\"postindex-*\", body=body)\n",
    "    posts = []  # 各投稿の情報（URI やテキストなど）\n",
    "    uris = []   # 再構築した URI のリスト\n",
    "    for hit in res[\"hits\"][\"hits\"]:\n",
    "        src = hit[\"_source\"]\n",
    "        try:\n",
    "            did  = src[\"did\"]\n",
    "            coll = src[\"commit\"][\"collection\"]\n",
    "            rkey = src[\"commit\"][\"rkey\"]\n",
    "            # URI を \"at://{did}/{collection}/{rkey}\" として再構築\n",
    "            uri = f\"at://{did}/{coll}/{rkey}\"\n",
    "            uris.append(uri)\n",
    "            # ここではテキスト（全文の一部など）も取得しておく（任意）\n",
    "            text = src[\"commit\"][\"record\"].get(\"text\", \"\")\n",
    "            posts.append({\"uri\": uri, \"text\": text})\n",
    "        except Exception as e:\n",
    "            continue\n",
    "    return posts, uris"
   ]
  },
  {
   "cell_type": "code",
   "execution_count": 356,
   "id": "020871f0-4c53-4c72-97dc-e228de724595",
   "metadata": {},
   "outputs": [],
   "source": [
    "def get_like_ranking(query, start, end):\n",
    "    posts, uris = get_post_uris(query, start, end)\n",
    "    if not uris:\n",
    "        return pd.DataFrame()\n",
    "\n",
    "    body = {\n",
    "        \"size\": 0,\n",
    "        \"query\": {\n",
    "            \"bool\": {\n",
    "                \"filter\": [\n",
    "                    {\"terms\": {\"commit.record.subject.uri\": uris}},\n",
    "                    {\"term\": {\"commit.operation\": \"create\"}},\n",
    "                    {\"range\": {\"commit.record.createdAt\": {\"gte\": start, \"lte\": end}}}\n",
    "                ]\n",
    "            }\n",
    "        },\n",
    "        \"aggs\": {\n",
    "            \"post_likes\": {\n",
    "                \"terms\": {\n",
    "                    \"field\": \"commit.record.subject.uri\",\n",
    "                    \"size\": len(uris)\n",
    "                }\n",
    "            }\n",
    "        }\n",
    "    }\n",
    "    res = es.search(index=\"likeindex-*\", body=body)\n",
    "    buckets = res[\"aggregations\"][\"post_likes\"][\"buckets\"]\n",
    "    df_aggs = pd.DataFrame([{\"uri\": b[\"key\"], \"like_count\": b[\"doc_count\"]} for b in buckets])\n",
    "    posts_df = pd.DataFrame(posts)\n",
    "#    st.dataframe(posts_df)\n",
    "    merged = pd.merge(posts_df, df_aggs, on=\"uri\", how=\"left\").fillna(0)\n",
    "    merged[\"like_count\"] = merged[\"like_count\"].astype(int)\n",
    "    merged = merged.sort_values(\"like_count\", ascending=False)\n",
    "    return merged"
   ]
  },
  {
   "cell_type": "code",
   "execution_count": 357,
   "id": "a167b5bc-bf04-44f2-ac6f-5c62bce1a0c7",
   "metadata": {},
   "outputs": [],
   "source": [
    "today = dt.date.today()"
   ]
  },
  {
   "cell_type": "code",
   "execution_count": 358,
   "id": "798ebd25-2d45-4604-a87c-690c9ad5859d",
   "metadata": {},
   "outputs": [],
   "source": [
    "start_date = today + relativedelta(days=-2)"
   ]
  },
  {
   "cell_type": "code",
   "execution_count": 359,
   "id": "7d754974-7002-4de3-8a5f-52c5d2b64fb4",
   "metadata": {},
   "outputs": [
    {
     "data": {
      "text/plain": [
       "datetime.date(2025, 4, 8)"
      ]
     },
     "execution_count": 359,
     "metadata": {},
     "output_type": "execute_result"
    }
   ],
   "source": [
    "start_date"
   ]
  },
  {
   "cell_type": "code",
   "execution_count": 360,
   "id": "7dbc40c9-9b75-47c5-a842-d0cb1c486fd3",
   "metadata": {},
   "outputs": [],
   "source": [
    "start_date_str = start_date.strftime(\"%Y-%m-%dT00:00:00Z\")"
   ]
  },
  {
   "cell_type": "code",
   "execution_count": 361,
   "id": "d587b2cd-b160-46a2-8267-37bf49195dce",
   "metadata": {},
   "outputs": [
    {
     "data": {
      "text/plain": [
       "'2025-04-08T00:00:00Z'"
      ]
     },
     "execution_count": 361,
     "metadata": {},
     "output_type": "execute_result"
    }
   ],
   "source": [
    "start_date_str"
   ]
  },
  {
   "cell_type": "code",
   "execution_count": 369,
   "id": "97b4e497-2e46-460f-900a-eb2a9f0cb79f",
   "metadata": {},
   "outputs": [],
   "source": [
    "end_date_str = today.strftime(\"%Y-%m-%dT23:59:59Z\")"
   ]
  },
  {
   "cell_type": "code",
   "execution_count": 370,
   "id": "ddc7eea3-7647-43bc-821e-90ca62ba4172",
   "metadata": {},
   "outputs": [],
   "source": [
    "df = get_like_ranking(query=\"ミャクミャク\", start=start_date_str, end=end_date_str)"
   ]
  },
  {
   "cell_type": "code",
   "execution_count": 371,
   "id": "ce4850cd-a847-42a1-8155-4220a9975630",
   "metadata": {},
   "outputs": [
    {
     "data": {
      "text/html": [
       "<div>\n",
       "<style scoped>\n",
       "    .dataframe tbody tr th:only-of-type {\n",
       "        vertical-align: middle;\n",
       "    }\n",
       "\n",
       "    .dataframe tbody tr th {\n",
       "        vertical-align: top;\n",
       "    }\n",
       "\n",
       "    .dataframe thead th {\n",
       "        text-align: right;\n",
       "    }\n",
       "</style>\n",
       "<table border=\"1\" class=\"dataframe\">\n",
       "  <thead>\n",
       "    <tr style=\"text-align: right;\">\n",
       "      <th></th>\n",
       "      <th>uri</th>\n",
       "      <th>text</th>\n",
       "      <th>like_count</th>\n",
       "    </tr>\n",
       "  </thead>\n",
       "  <tbody>\n",
       "    <tr>\n",
       "      <th>108</th>\n",
       "      <td>at://did:plc:tr6khfvp7au7ohtjw23gqm3k/app.bsky.feed.post/3lmbwlzbuh22s</td>\n",
       "      <td>いまのところ万博に行く予定はないけど、ミャクミャクさまが好きすぎるので500円もらってきた🙌\\n和暦音痴なので、今が令和7年ということを知れたのも大きな収穫だった😽\\n私が末代だけど、末代までの宝にします🙏</td>\n",
       "      <td>37</td>\n",
       "    </tr>\n",
       "    <tr>\n",
       "      <th>101</th>\n",
       "      <td>at://did:plc:oz7hng4vov6msiu7ghfw3ywk/app.bsky.feed.post/3lmduu467xs2t</td>\n",
       "      <td>万博記念500円硬貨が発行された様ですが…\\n\\n「私の場合ミャクミャクじゃなくて春麗の500円硬貨出てくれればグッズとして収集するから結果としてめっちゃお金貯まりそう…」\\n\\nと思いました。</td>\n",
       "      <td>26</td>\n",
       "    </tr>\n",
       "    <tr>\n",
       "      <th>115</th>\n",
       "      <td>at://did:plc:3mkpgdviy6ewosxgyqxlrh5u/app.bsky.feed.post/3lmek5alwws2s</td>\n",
       "      <td>４月５日６日に大阪万博テストランに参加して来ました😆\\n\\n西ゲートから東ゲートまで歩いてだいたい30分ぐらい😆\\n\\n１日目は西ゲートから入り\\n\\n入り口でお迎えミャクミャクがかわいい😆❤️またすぐ近くにアトムがありガンダムがー😆そしてテレビで見ていた大屋根リングが感動😆立派でした😆❤️\\n\\n日本からはヘルスケアパビリオンの未来の洗濯機や睡眠など見学😆\\n\\n①必ず行かれる方はパビリオンを予約して回ってください♪\\n\\n②全てキャッシュレスです。\\n\\n③手荷物検査などがありかなり...</td>\n",
       "      <td>11</td>\n",
       "    </tr>\n",
       "    <tr>\n",
       "      <th>106</th>\n",
       "      <td>at://did:plc:k4xxxaazxkuvykifslorcvli/app.bsky.feed.post/3lmba3mefzc22</td>\n",
       "      <td>郵便局でミャクミャク500円もらってきたよぉ🥺🪙\\n最悪並んでるかなと思ってたけど長閑なもんで誰もおらんかった🥺\\n隣の信用金庫（取り扱い店舗一覧に無いマイナーなやつ）にはじいさんが何人かいたのだけど🥺</td>\n",
       "      <td>10</td>\n",
       "    </tr>\n",
       "    <tr>\n",
       "      <th>80</th>\n",
       "      <td>at://did:plc:bhv4gtgm2tarqoiaxsxl6zyi/app.bsky.feed.post/3lmbv764l322t</td>\n",
       "      <td>ミャクミャク様は万博を内部崩壊させて、なにかべつのちゃんとしたアンバサダーキャラクターとして転生して欲しい (´･ω･`)</td>\n",
       "      <td>9</td>\n",
       "    </tr>\n",
       "    <tr>\n",
       "      <th>...</th>\n",
       "      <td>...</td>\n",
       "      <td>...</td>\n",
       "      <td>...</td>\n",
       "    </tr>\n",
       "    <tr>\n",
       "      <th>43</th>\n",
       "      <td>at://did:plc:urm5jkqllyhgwcfbhk6dxecu/app.bsky.feed.post/3lmbll6rts22f</td>\n",
       "      <td>ミャークミャクミャク！\\nきさまらじんるいをすべてミャクミャクにしてやるミャク！</td>\n",
       "      <td>0</td>\n",
       "    </tr>\n",
       "    <tr>\n",
       "      <th>42</th>\n",
       "      <td>at://did:plc:pxe7c67kc66xmmfm3khge53j/app.bsky.feed.post/3lme5bn2itc2c</td>\n",
       "      <td>ミャクミャクの500円玉のことすっかり頭から抜けてた、、、</td>\n",
       "      <td>0</td>\n",
       "    </tr>\n",
       "    <tr>\n",
       "      <th>40</th>\n",
       "      <td>at://did:plc:y6a2heya72tueenawefij3fm/app.bsky.feed.post/3lmcrgob77c2l</td>\n",
       "      <td>ミャクミャク様の500円無事ゲットできた✨✨\\nかわー😍</td>\n",
       "      <td>0</td>\n",
       "    </tr>\n",
       "    <tr>\n",
       "      <th>39</th>\n",
       "      <td>at://did:plc:ktkitaashhph3aaizrlshkdj/app.bsky.feed.post/3lmblrrhgb22w</td>\n",
       "      <td>x.com/suekichiii/s...\\nミライトワ・ソメイティとミャクミャクの共演。なんかかわいい。</td>\n",
       "      <td>0</td>\n",
       "    </tr>\n",
       "    <tr>\n",
       "      <th>117</th>\n",
       "      <td>at://did:plc:fejiavk4pprcozvhh7hh6nnx/app.bsky.feed.post/3lmf6tphuzba2</td>\n",
       "      <td>今日はかなり久しぶりに大阪市役所の前を通ることがあったので、負の遺産ミャクミャクを背景に写真を撮っておいた。\\n\\nおっさんの写真をそのままSNSに載せるのもなあと思ってChatGPTにジョジョ風のイラストを生成してもらうよう依頼したんだけど、さすがにこれはという内容のものが仕上がった（顔、帽子と髪が融合しているところ、学ランっぽい衣装は空条承太郎そのもので、ハートとLove &amp; Peaceのアクセサリは東方仗助そのもののように見える）ので、元になった私の写真と文字どおり〈ジョジョ風〉な...</td>\n",
       "      <td>0</td>\n",
       "    </tr>\n",
       "  </tbody>\n",
       "</table>\n",
       "<p>118 rows × 3 columns</p>\n",
       "</div>"
      ],
      "text/plain": [
       "                                                                        uri  \\\n",
       "108  at://did:plc:tr6khfvp7au7ohtjw23gqm3k/app.bsky.feed.post/3lmbwlzbuh22s   \n",
       "101  at://did:plc:oz7hng4vov6msiu7ghfw3ywk/app.bsky.feed.post/3lmduu467xs2t   \n",
       "115  at://did:plc:3mkpgdviy6ewosxgyqxlrh5u/app.bsky.feed.post/3lmek5alwws2s   \n",
       "106  at://did:plc:k4xxxaazxkuvykifslorcvli/app.bsky.feed.post/3lmba3mefzc22   \n",
       "80   at://did:plc:bhv4gtgm2tarqoiaxsxl6zyi/app.bsky.feed.post/3lmbv764l322t   \n",
       "..                                                                      ...   \n",
       "43   at://did:plc:urm5jkqllyhgwcfbhk6dxecu/app.bsky.feed.post/3lmbll6rts22f   \n",
       "42   at://did:plc:pxe7c67kc66xmmfm3khge53j/app.bsky.feed.post/3lme5bn2itc2c   \n",
       "40   at://did:plc:y6a2heya72tueenawefij3fm/app.bsky.feed.post/3lmcrgob77c2l   \n",
       "39   at://did:plc:ktkitaashhph3aaizrlshkdj/app.bsky.feed.post/3lmblrrhgb22w   \n",
       "117  at://did:plc:fejiavk4pprcozvhh7hh6nnx/app.bsky.feed.post/3lmf6tphuzba2   \n",
       "\n",
       "                                                                                                                                                                                                                                                          text  \\\n",
       "108                                                                                                                                                    いまのところ万博に行く予定はないけど、ミャクミャクさまが好きすぎるので500円もらってきた🙌\\n和暦音痴なので、今が令和7年ということを知れたのも大きな収穫だった😽\\n私が末代だけど、末代までの宝にします🙏   \n",
       "101                                                                                                                                                          万博記念500円硬貨が発行された様ですが…\\n\\n「私の場合ミャクミャクじゃなくて春麗の500円硬貨出てくれればグッズとして収集するから結果としてめっちゃお金貯まりそう…」\\n\\nと思いました。   \n",
       "115  ４月５日６日に大阪万博テストランに参加して来ました😆\\n\\n西ゲートから東ゲートまで歩いてだいたい30分ぐらい😆\\n\\n１日目は西ゲートから入り\\n\\n入り口でお迎えミャクミャクがかわいい😆❤️またすぐ近くにアトムがありガンダムがー😆そしてテレビで見ていた大屋根リングが感動😆立派でした😆❤️\\n\\n日本からはヘルスケアパビリオンの未来の洗濯機や睡眠など見学😆\\n\\n①必ず行かれる方はパビリオンを予約して回ってください♪\\n\\n②全てキャッシュレスです。\\n\\n③手荷物検査などがありかなり...   \n",
       "106                                                                                                                                                      郵便局でミャクミャク500円もらってきたよぉ🥺🪙\\n最悪並んでるかなと思ってたけど長閑なもんで誰もおらんかった🥺\\n隣の信用金庫（取り扱い店舗一覧に無いマイナーなやつ）にはじいさんが何人かいたのだけど🥺   \n",
       "80                                                                                                                                                                                               ミャクミャク様は万博を内部崩壊させて、なにかべつのちゃんとしたアンバサダーキャラクターとして転生して欲しい (´･ω･`)   \n",
       "..                                                                                                                                                                                                                                                         ...   \n",
       "43                                                                                                                                                                                                                    ミャークミャクミャク！\\nきさまらじんるいをすべてミャクミャクにしてやるミャク！   \n",
       "42                                                                                                                                                                                                                               ミャクミャクの500円玉のことすっかり頭から抜けてた、、、   \n",
       "40                                                                                                                                                                                                                                ミャクミャク様の500円無事ゲットできた✨✨\\nかわー😍   \n",
       "39                                                                                                                                                                                                       x.com/suekichiii/s...\\nミライトワ・ソメイティとミャクミャクの共演。なんかかわいい。   \n",
       "117  今日はかなり久しぶりに大阪市役所の前を通ることがあったので、負の遺産ミャクミャクを背景に写真を撮っておいた。\\n\\nおっさんの写真をそのままSNSに載せるのもなあと思ってChatGPTにジョジョ風のイラストを生成してもらうよう依頼したんだけど、さすがにこれはという内容のものが仕上がった（顔、帽子と髪が融合しているところ、学ランっぽい衣装は空条承太郎そのもので、ハートとLove & Peaceのアクセサリは東方仗助そのもののように見える）ので、元になった私の写真と文字どおり〈ジョジョ風〉な...   \n",
       "\n",
       "     like_count  \n",
       "108          37  \n",
       "101          26  \n",
       "115          11  \n",
       "106          10  \n",
       "80            9  \n",
       "..          ...  \n",
       "43            0  \n",
       "42            0  \n",
       "40            0  \n",
       "39            0  \n",
       "117           0  \n",
       "\n",
       "[118 rows x 3 columns]"
      ]
     },
     "execution_count": 371,
     "metadata": {},
     "output_type": "execute_result"
    }
   ],
   "source": [
    "df"
   ]
  },
  {
   "cell_type": "code",
   "execution_count": null,
   "id": "ccee0c62-5ad7-44af-a045-aa8b73f39551",
   "metadata": {},
   "outputs": [],
   "source": []
  }
 ],
 "metadata": {
  "kernelspec": {
   "display_name": "Python 3 (ipykernel)",
   "language": "python",
   "name": "python3"
  },
  "language_info": {
   "codemirror_mode": {
    "name": "ipython",
    "version": 3
   },
   "file_extension": ".py",
   "mimetype": "text/x-python",
   "name": "python",
   "nbconvert_exporter": "python",
   "pygments_lexer": "ipython3",
   "version": "3.11.6"
  }
 },
 "nbformat": 4,
 "nbformat_minor": 5
}
