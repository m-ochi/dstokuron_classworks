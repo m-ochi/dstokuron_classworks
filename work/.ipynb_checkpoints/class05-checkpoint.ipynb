{
 "cells": [
  {
   "cell_type": "markdown",
   "id": "619b89f1-fd68-43ae-8521-755e10f9bcd7",
   "metadata": {},
   "source": [
    "# 袋から取り出す問題でベイズ推定\n",
    "- 観測結果から袋の選好（どの袋を好んで選んでいるか）推定したい\n",
    "- 各袋の中身は、袋１：白玉１、赤玉４、袋２：白玉３、赤玉３、袋３：白玉４、赤玉２とする\n",
    "- 袋を選ぶ人は実は袋１だけをやたら選ぶ人だとして、観測結果からそれを推定してみよう\n",
    "- 重みつき乱数選択には、Walker's Alias Methodという効率の良い方法があります。興味があれば調べてみてください"
   ]
  },
  {
   "cell_type": "code",
   "execution_count": 59,
   "id": "58d5d13e-177f-42f9-b9f5-42808b93bddf",
   "metadata": {},
   "outputs": [],
   "source": [
    "# 真の選好（袋１だけ妙に好き）これを推定したい\n",
    "true_p_b = [1/3,1/3,1-2/3]"
   ]
  },
  {
   "cell_type": "code",
   "execution_count": 60,
   "id": "b8e027e2-f1a0-4cb5-8780-e6942c286b0d",
   "metadata": {},
   "outputs": [],
   "source": [
    "#事前確率（各袋を選ぶ確率、観測する前の思い込み）\n",
    "p_b = [1/3,1/3,1-2/3]"
   ]
  },
  {
   "cell_type": "code",
   "execution_count": 61,
   "id": "5659532c-c6df-4b0f-ac2b-1ec3e25887ab",
   "metadata": {},
   "outputs": [],
   "source": [
    "#条件付き確率(各袋で白玉が出る確率)\n",
    "p_c1_bs = [1/5,1/2,2/3] #袋１で白玉が出る確率・・・"
   ]
  },
  {
   "cell_type": "code",
   "execution_count": 62,
   "id": "3020a118-e593-4c0d-8e09-8cbeb896be07",
   "metadata": {},
   "outputs": [],
   "source": [
    "import random\n",
    "import numpy as np\n",
    "\n",
    "class SimpleChoiceByWeight():\n",
    "    def __init__(self, weights):\n",
    "        self.weights = np.array(weights)\n",
    "        self.weight_sum = sum(weights)\n",
    "        self.weights = self.weights / self.weight_sum\n",
    "\n",
    "    def choice(self):\n",
    "        r = random.random()\n",
    "\n",
    "        num = 0\n",
    "        for i, weight in enumerate(self.weights):\n",
    "            num += weight\n",
    "            if r <= num:\n",
    "                return i"
   ]
  },
  {
   "cell_type": "code",
   "execution_count": 63,
   "id": "8703647d-2748-4f30-a42c-8c6495bc7aea",
   "metadata": {},
   "outputs": [],
   "source": [
    "# 10回ばかり袋を選び、玉を取り出してみる"
   ]
  },
  {
   "cell_type": "code",
   "execution_count": 64,
   "id": "e3dc3d71-60cd-4fee-9f01-f8f738ae5b35",
   "metadata": {},
   "outputs": [],
   "source": [
    "bg_sel = SimpleChoiceByWeight(true_p_b) #袋の選択\n",
    "\n",
    "def ball_sampling():\n",
    "    # 袋を選んで、玉を取り出す\n",
    "    bag_id = bg_sel.choice()\n",
    "    p_c1_b = p_c1_bs[bag_id]\n",
    "    r = random.random()\n",
    "    if r < p_c1_b:\n",
    "        return '白玉'\n",
    "    else:\n",
    "        return '赤玉'  "
   ]
  },
  {
   "cell_type": "code",
   "execution_count": 65,
   "id": "038820cb-4a9c-4834-b9bd-887a6a75c02d",
   "metadata": {},
   "outputs": [],
   "source": [
    "results = []\n",
    "for i in range(10):\n",
    "    res = ball_sampling()\n",
    "    results.append(res)"
   ]
  },
  {
   "cell_type": "code",
   "execution_count": 66,
   "id": "a119d1cb-cf32-4c65-8414-d1dd34d851ce",
   "metadata": {},
   "outputs": [],
   "source": [
    "import pandas as pd\n",
    "df = pd.DataFrame(results)"
   ]
  },
  {
   "cell_type": "code",
   "execution_count": 67,
   "id": "9d211fd0-4475-4691-b00c-662a2c9e3dde",
   "metadata": {},
   "outputs": [
    {
     "data": {
      "text/html": [
       "<div>\n",
       "<style scoped>\n",
       "    .dataframe tbody tr th:only-of-type {\n",
       "        vertical-align: middle;\n",
       "    }\n",
       "\n",
       "    .dataframe tbody tr th {\n",
       "        vertical-align: top;\n",
       "    }\n",
       "\n",
       "    .dataframe thead th {\n",
       "        text-align: right;\n",
       "    }\n",
       "</style>\n",
       "<table border=\"1\" class=\"dataframe\">\n",
       "  <thead>\n",
       "    <tr style=\"text-align: right;\">\n",
       "      <th></th>\n",
       "      <th>0</th>\n",
       "    </tr>\n",
       "  </thead>\n",
       "  <tbody>\n",
       "    <tr>\n",
       "      <th>0</th>\n",
       "      <td>白玉</td>\n",
       "    </tr>\n",
       "    <tr>\n",
       "      <th>1</th>\n",
       "      <td>白玉</td>\n",
       "    </tr>\n",
       "    <tr>\n",
       "      <th>2</th>\n",
       "      <td>赤玉</td>\n",
       "    </tr>\n",
       "    <tr>\n",
       "      <th>3</th>\n",
       "      <td>赤玉</td>\n",
       "    </tr>\n",
       "    <tr>\n",
       "      <th>4</th>\n",
       "      <td>赤玉</td>\n",
       "    </tr>\n",
       "    <tr>\n",
       "      <th>5</th>\n",
       "      <td>赤玉</td>\n",
       "    </tr>\n",
       "    <tr>\n",
       "      <th>6</th>\n",
       "      <td>赤玉</td>\n",
       "    </tr>\n",
       "    <tr>\n",
       "      <th>7</th>\n",
       "      <td>赤玉</td>\n",
       "    </tr>\n",
       "    <tr>\n",
       "      <th>8</th>\n",
       "      <td>赤玉</td>\n",
       "    </tr>\n",
       "    <tr>\n",
       "      <th>9</th>\n",
       "      <td>白玉</td>\n",
       "    </tr>\n",
       "  </tbody>\n",
       "</table>\n",
       "</div>"
      ],
      "text/plain": [
       "    0\n",
       "0  白玉\n",
       "1  白玉\n",
       "2  赤玉\n",
       "3  赤玉\n",
       "4  赤玉\n",
       "5  赤玉\n",
       "6  赤玉\n",
       "7  赤玉\n",
       "8  赤玉\n",
       "9  白玉"
      ]
     },
     "execution_count": 67,
     "metadata": {},
     "output_type": "execute_result"
    }
   ],
   "source": [
    "df"
   ]
  },
  {
   "cell_type": "code",
   "execution_count": 68,
   "id": "9c79d2a7-9bb0-413a-9fdc-e51d56b17f26",
   "metadata": {},
   "outputs": [
    {
     "data": {
      "text/html": [
       "<div>\n",
       "<style scoped>\n",
       "    .dataframe tbody tr th:only-of-type {\n",
       "        vertical-align: middle;\n",
       "    }\n",
       "\n",
       "    .dataframe tbody tr th {\n",
       "        vertical-align: top;\n",
       "    }\n",
       "\n",
       "    .dataframe thead th {\n",
       "        text-align: right;\n",
       "    }\n",
       "</style>\n",
       "<table border=\"1\" class=\"dataframe\">\n",
       "  <thead>\n",
       "    <tr style=\"text-align: right;\">\n",
       "      <th></th>\n",
       "      <th>0</th>\n",
       "    </tr>\n",
       "  </thead>\n",
       "  <tbody>\n",
       "    <tr>\n",
       "      <th>count</th>\n",
       "      <td>10</td>\n",
       "    </tr>\n",
       "    <tr>\n",
       "      <th>unique</th>\n",
       "      <td>2</td>\n",
       "    </tr>\n",
       "    <tr>\n",
       "      <th>top</th>\n",
       "      <td>赤玉</td>\n",
       "    </tr>\n",
       "    <tr>\n",
       "      <th>freq</th>\n",
       "      <td>7</td>\n",
       "    </tr>\n",
       "  </tbody>\n",
       "</table>\n",
       "</div>"
      ],
      "text/plain": [
       "         0\n",
       "count   10\n",
       "unique   2\n",
       "top     赤玉\n",
       "freq     7"
      ]
     },
     "execution_count": 68,
     "metadata": {},
     "output_type": "execute_result"
    }
   ],
   "source": [
    "df.describe()"
   ]
  },
  {
   "cell_type": "markdown",
   "id": "dd2696fc-1d7c-46cd-a021-4619b6236cf3",
   "metadata": {},
   "source": [
    "## 観測結果をもとにベイズ推定してみる\n",
    "- $P(袋|観測された玉の色)=\\frac{P(観測された玉の色|袋)P(袋)}{P(観測された玉の色)} \\propto P(観測された玉の色|袋)P(袋)$"
   ]
  },
  {
   "cell_type": "code",
   "execution_count": 69,
   "id": "038f7b74-f96f-4db6-9da2-5e815866fcfc",
   "metadata": {},
   "outputs": [],
   "source": [
    "def bayesest(d,p_b):\n",
    "    p_b_posteriors = np.zeros(shape=len(p_b))\n",
    "    for i, p_b_i in enumerate(p_b):\n",
    "        # P(観測された玉の色|袋)\n",
    "        if d == \"白玉\":\n",
    "            p_c_b = p_c1_bs[i]\n",
    "        else:\n",
    "            p_c_b = 1 - p_c1_bs[i]\n",
    "            \n",
    "        # P(観測された玉の色|袋)P(袋)\n",
    "        p_b_data = p_c_b * p_b_i\n",
    "        p_b_posteriors[i] = p_b_data\n",
    "\n",
    "#    p_b_posteriors = p_b_posteriors / sum(p_b_posteriors)\n",
    "#    print(p_b_posteriors)\n",
    "#    for i in range(p_b_posteriors.shape[0]):\n",
    "#        print(i)\n",
    "#        p_b_p = p_b_posteriors[i]\n",
    "#        if p_b_p < 0.1:\n",
    "#            p_b_posteriors[i] = 0.1\n",
    "        \n",
    "    return p_b_posteriors/sum(p_b_posteriors)"
   ]
  },
  {
   "cell_type": "code",
   "execution_count": 70,
   "id": "2ff06111-5ddb-4f09-9d29-663ec4e57951",
   "metadata": {},
   "outputs": [
    {
     "data": {
      "text/plain": [
       "[0.2, 0.5, 0.6666666666666666]"
      ]
     },
     "execution_count": 70,
     "metadata": {},
     "output_type": "execute_result"
    }
   ],
   "source": [
    "p_c1_bs"
   ]
  },
  {
   "cell_type": "code",
   "execution_count": 71,
   "id": "3c780530-b477-4d90-8752-e736c83eb2a3",
   "metadata": {},
   "outputs": [
    {
     "name": "stdout",
     "output_type": "stream",
     "text": [
      "[0.3333333333333333, 0.3333333333333333, 0.33333333333333337]\n"
     ]
    }
   ],
   "source": [
    "print(p_b)"
   ]
  },
  {
   "cell_type": "code",
   "execution_count": 72,
   "id": "f9d8a8bd-0ccb-4c18-b1b7-472f76e4bbcd",
   "metadata": {},
   "outputs": [
    {
     "name": "stdout",
     "output_type": "stream",
     "text": [
      "[0.14634146 0.36585366 0.48780488]\n",
      "[0.05446293 0.34039334 0.60514372]\n",
      "[0.1048671  0.40963709 0.48549581]\n",
      "[0.18620522 0.4546026  0.35919218]\n",
      "[0.30033331 0.45827226 0.24139444]\n",
      "[0.43695364 0.41671147 0.14633489]\n",
      "[0.57617385 0.34342638 0.08039977]\n",
      "[0.6989727  0.26038762 0.04063968]\n",
      "[0.7955092  0.18521892 0.01927188]\n",
      "[0.6013846  0.35005191 0.04856349]\n"
     ]
    }
   ],
   "source": [
    "new_p_b = p_b\n",
    "for i, res in enumerate(results):\n",
    "    new_p_b = bayesest(res, new_p_b)\n",
    "    print(new_p_b)"
   ]
  },
  {
   "cell_type": "code",
   "execution_count": 73,
   "id": "3cddffec-d486-4418-afeb-f98a316b8d54",
   "metadata": {},
   "outputs": [
    {
     "data": {
      "text/plain": [
       "array([0.6013846 , 0.35005191, 0.04856349])"
      ]
     },
     "execution_count": 73,
     "metadata": {},
     "output_type": "execute_result"
    }
   ],
   "source": [
    "new_p_b"
   ]
  },
  {
   "cell_type": "code",
   "execution_count": 74,
   "id": "039fe1f1-514c-4420-b3d7-969555c9372e",
   "metadata": {},
   "outputs": [
    {
     "data": {
      "text/plain": [
       "[0.3333333333333333, 0.3333333333333333, 0.33333333333333337]"
      ]
     },
     "execution_count": 74,
     "metadata": {},
     "output_type": "execute_result"
    }
   ],
   "source": [
    "true_p_b"
   ]
  },
  {
   "cell_type": "code",
   "execution_count": 75,
   "id": "80211b58-b943-4a3c-bd2b-1f8035fcdfcf",
   "metadata": {},
   "outputs": [
    {
     "name": "stdout",
     "output_type": "stream",
     "text": [
      "[0.36705768 0.53413922 0.09880311]\n"
     ]
    }
   ],
   "source": [
    "new_p_b = bayesest('白玉', new_p_b)\n",
    "print(new_p_b)"
   ]
  },
  {
   "cell_type": "code",
   "execution_count": null,
   "id": "2a4eb558-7f14-42a8-b96f-9fe35dffc4c1",
   "metadata": {},
   "outputs": [],
   "source": []
  },
  {
   "cell_type": "code",
   "execution_count": null,
   "id": "a434d091-48a5-45e1-aed9-47fa4812807e",
   "metadata": {},
   "outputs": [],
   "source": []
  },
  {
   "cell_type": "code",
   "execution_count": null,
   "id": "f4d2b9b5-a539-4e1d-814d-79d0eda0812b",
   "metadata": {},
   "outputs": [],
   "source": []
  },
  {
   "cell_type": "code",
   "execution_count": null,
   "id": "bc7a4765-5bdd-4625-93ec-8b8ebbb6bd29",
   "metadata": {},
   "outputs": [],
   "source": []
  }
 ],
 "metadata": {
  "kernelspec": {
   "display_name": "Python 3 (ipykernel)",
   "language": "python",
   "name": "python3"
  },
  "language_info": {
   "codemirror_mode": {
    "name": "ipython",
    "version": 3
   },
   "file_extension": ".py",
   "mimetype": "text/x-python",
   "name": "python",
   "nbconvert_exporter": "python",
   "pygments_lexer": "ipython3",
   "version": "3.11.6"
  }
 },
 "nbformat": 4,
 "nbformat_minor": 5
}
