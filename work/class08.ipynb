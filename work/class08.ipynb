{
 "cells": [
  {
   "cell_type": "markdown",
   "id": "f37b5d72-daa9-456c-a18a-08c4f486bf59",
   "metadata": {},
   "source": [
    "## 線形回帰\n",
    "### 重回帰\n",
    "- $y = w_0x_0+w_1x_1+w_2x_2+...+w_Nx_N+\tb+ \\epsilon$\n",
    "### 単回帰\n",
    "- $y = wx+b+\\epsilon$\n",
    "\n",
    "少しこの式を行列表示にすると以下のように書ける\n",
    "\n",
    "- $y=f(x)+\\epsilon$\n",
    "- $f(x)=\\begin{pmatrix} w&b \\end{pmatrix}\\begin{pmatrix} x\\\\1 \\end{pmatrix}$\n",
    "\n",
    "$\\boldsymbol{w}=\\begin{pmatrix} w&b \\end{pmatrix}, \\boldsymbol{x}=\\begin{pmatrix} x&1 \\end{pmatrix}$とすると\n",
    "- $f(\\boldsymbol{x})=\\boldsymbol{w}\\cdot\\boldsymbol{x}^T$\n",
    "- $y=f(\\boldsymbol{x})+\\epsilon$\n",
    "\n",
    "と表すことができる。つまり、$\\boldsymbol{x}$はデータ、$\\boldsymbol{w}$は推定したいパラメータ、$y$は予測したい値（目的変数）となる"
   ]
  },
  {
   "cell_type": "markdown",
   "id": "a1e04830-a513-436f-8aa1-646f3f3ec656",
   "metadata": {},
   "source": [
    "##  単回帰モデルにおけるデータの生成とパラメータの推定\n",
    "$\\boldsymbol{w}=\\begin{pmatrix} 2&3 \\end{pmatrix},\\epsilon = \\mathcal{N}(\\mu=0,\\sigma^2=10)$ の乱数としたときにデータを生成し、データのみからパラメータ$\\boldsymbol{w}$を推定してみよう"
   ]
  },
  {
   "cell_type": "markdown",
   "id": "2225ac4e-0a6a-42f6-846e-f4e80d4d42db",
   "metadata": {},
   "source": [
    "### データの生成"
   ]
  },
  {
   "cell_type": "code",
   "execution_count": 1,
   "id": "7d7d96c5-7439-45f1-ae0c-9052e2493fe5",
   "metadata": {},
   "outputs": [],
   "source": [
    "import random\n",
    "import numpy as np"
   ]
  },
  {
   "cell_type": "code",
   "execution_count": 2,
   "id": "7675c91c-c070-4195-8d92-9958f26e4116",
   "metadata": {},
   "outputs": [],
   "source": [
    "# 生成するデータ数\n",
    "N = 1000\n",
    "w = np.array((2,3),dtype=np.float32)"
   ]
  },
  {
   "cell_type": "code",
   "execution_count": 3,
   "id": "f211e036-afe2-410f-b973-824d544675f2",
   "metadata": {},
   "outputs": [],
   "source": [
    "x = np.random.rand(N,2)*100\n",
    "x[:,1] = 1.0"
   ]
  },
  {
   "cell_type": "code",
   "execution_count": 4,
   "id": "f3e649a8-acac-4c58-8963-e0a4324a07a5",
   "metadata": {},
   "outputs": [
    {
     "data": {
      "text/plain": [
       "array([[69.23786471,  1.        ],\n",
       "       [23.00647111,  1.        ],\n",
       "       [17.66979499,  1.        ],\n",
       "       ...,\n",
       "       [13.99968543,  1.        ],\n",
       "       [92.02642728,  1.        ],\n",
       "       [10.96963987,  1.        ]])"
      ]
     },
     "execution_count": 4,
     "metadata": {},
     "output_type": "execute_result"
    }
   ],
   "source": [
    "x"
   ]
  },
  {
   "cell_type": "code",
   "execution_count": 5,
   "id": "d9f20063-5b1a-447b-b9da-89cd6929cf04",
   "metadata": {},
   "outputs": [],
   "source": [
    "y = np.dot(w,x.T) + np.random.normal(0,25,N)"
   ]
  },
  {
   "cell_type": "code",
   "execution_count": 6,
   "id": "e7ac8733-385d-4565-badd-06ef73c00127",
   "metadata": {},
   "outputs": [
    {
     "data": {
      "text/plain": [
       "(1000,)"
      ]
     },
     "execution_count": 6,
     "metadata": {},
     "output_type": "execute_result"
    }
   ],
   "source": [
    "y.shape"
   ]
  },
  {
   "cell_type": "code",
   "execution_count": 7,
   "id": "c78f2cad-59f4-4f3b-8cc8-9838591d1051",
   "metadata": {},
   "outputs": [
    {
     "data": {
      "image/png": "[encoded data removed]",
      "text/plain": [
       "<Figure size 640x480 with 1 Axes>"
      ]
     },
     "metadata": {},
     "output_type": "display_data"
    }
   ],
   "source": [
    "# x[:,0]とyのプロット\n",
    "import matplotlib.pyplot as plt\n",
    "import japanize_matplotlib\n",
    "\n",
    "fig = plt.figure()\n",
    "fig.subplots_adjust(hspace=0.5)\n",
    "#fig.suptitle(\"all graph\")\n",
    "\n",
    "ax1 = fig.add_subplot(211, title=\"x,yのデータの関係\",xlabel=\"x\", ylabel=\"y\")\n",
    "ax1.scatter(x[:,0], y, marker='.', s=3, c='blue')\n",
    "\n",
    "fig.show()\n"
   ]
  },
  {
   "cell_type": "markdown",
   "id": "a1d1ced0-e7a2-4725-8518-5455d5dc6ba9",
   "metadata": {},
   "source": [
    "### 最小二乗法によるパラメータの推定\n",
    "- ノイズの部分($\\mathcal{N}$)を無視すると、予測値は、$\\hat{y}=\\hat{f}(\\boldsymbol{x})$となる\n",
    "- 今、i番目のデータの予測値を$\\hat{y}^i$のように表すと、i番目の実際の値と予測値の差は$y^i-\\hat{y}^i$と計算できる\n",
    "- この予測値との差は大きめに予測したり、小さめに予測したりといったことがあり、正負となるため、単に二乗してすべて正として扱い、すべてのxでの合計を計算してみよう\n",
    "- $L=\\Sigma_i^N(y^i-\\hat{y}^i)^2$\n",
    "- この実際の値と予測値との差の２乗の合計を最小化するのが最小二乗法の考え方である\n",
    "- 実際に求めたいのは$\\boldsymbol{w}$なので、上の式を分解すると\n",
    "- $L(\\boldsymbol{w})=\\Sigma_i^N(y^i-\\boldsymbol{w}\\cdot\\boldsymbol{x}^i)^2$\n",
    "- $y^i, \\boldsymbol{x}^i$はデータ、求めたいのは$\\boldsymbol{w}=\\begin{pmatrix} w&b \\end{pmatrix}$であることに注意するとLは$\\boldsymbol{w}$の２次関数である。その意味を込めて、残差平方和$L$を$L(\\boldsymbol{w})$と書いた"
   ]
  },
  {
   "cell_type": "markdown",
   "id": "7c105f4e-caa1-4b6b-85f9-af1434c2a8dc",
   "metadata": {},
   "source": [
    "### （横道）Lとwの関係をグラフ化\n",
    "- b=3は既知ということで書いてみよう"
   ]
  },
  {
   "cell_type": "code",
   "execution_count": 8,
   "id": "a75cab98-180c-4c17-ab8e-e85feb4749df",
   "metadata": {},
   "outputs": [],
   "source": [
    "w0 = np.arange(-5,5,0.1)\n",
    "b = np.ones((w0.shape))*3"
   ]
  },
  {
   "cell_type": "code",
   "execution_count": 9,
   "id": "22416d13-558a-4e38-8af2-8be051c02a3c",
   "metadata": {},
   "outputs": [],
   "source": [
    "w = np.array((w0,b)).T"
   ]
  },
  {
   "cell_type": "code",
   "execution_count": 10,
   "id": "41b97c09-3db7-406b-9e1f-6b73fe363f7e",
   "metadata": {},
   "outputs": [],
   "source": [
    "y_hat = np.dot(w,x.T)"
   ]
  },
  {
   "cell_type": "code",
   "execution_count": 11,
   "id": "033e4fd9-9d54-4f4b-a093-f16ef87f8807",
   "metadata": {},
   "outputs": [
    {
     "data": {
      "text/plain": [
       "(100, 1000)"
      ]
     },
     "execution_count": 11,
     "metadata": {},
     "output_type": "execute_result"
    }
   ],
   "source": [
    "y_hat.shape"
   ]
  },
  {
   "cell_type": "code",
   "execution_count": 12,
   "id": "0699b4b3-9a98-4b30-814e-51220aaa5819",
   "metadata": {},
   "outputs": [
    {
     "data": {
      "text/plain": [
       "(1000,)"
      ]
     },
     "execution_count": 12,
     "metadata": {},
     "output_type": "execute_result"
    }
   ],
   "source": [
    "y.shape"
   ]
  },
  {
   "cell_type": "code",
   "execution_count": 13,
   "id": "79800069-1b9b-4474-9c04-15ba249100ab",
   "metadata": {},
   "outputs": [],
   "source": [
    "#y - y_hat[0,:]"
   ]
  },
  {
   "cell_type": "code",
   "execution_count": 14,
   "id": "53b9e796-c549-4654-8129-2eb2852fae45",
   "metadata": {},
   "outputs": [],
   "source": [
    "Lw = np.zeros(w0.shape[0])\n",
    "for i in range(w0.shape[0]):\n",
    "    la = y - y_hat[i,:]\n",
    "    L_i = np.dot(la,la)\n",
    "    Lw[i] = L_i"
   ]
  },
  {
   "cell_type": "code",
   "execution_count": 15,
   "id": "216897ee-3068-464c-b856-746ba9c88c7f",
   "metadata": {},
   "outputs": [
    {
     "data": {
      "image/png": "[encoded data removed]",
      "text/plain": [
       "<Figure size 640x480 with 1 Axes>"
      ]
     },
     "metadata": {},
     "output_type": "display_data"
    }
   ],
   "source": [
    "fig = plt.figure()\n",
    "fig.subplots_adjust(hspace=0.5)\n",
    "#fig.suptitle(\"all graph\")\n",
    "\n",
    "ax1 = fig.add_subplot(211, title=\"w,L(w)のデータの関係\",xlabel=\"w\", ylabel=\"L\")\n",
    "ax1.plot(w0, Lw, '-',c='blue')\n",
    "\n",
    "fig.show()"
   ]
  },
  {
   "cell_type": "markdown",
   "id": "83aa6a24-b2ce-4da2-90ad-f712d807c94e",
   "metadata": {},
   "source": [
    "- w=2のあたりで、Lが最小化することがわかる。これをwの実際の値を入れて調べるのではなく解析的に出したい"
   ]
  },
  {
   "cell_type": "markdown",
   "id": "9cb9a07c-da67-431b-8912-54647a32ec16",
   "metadata": {},
   "source": [
    "### 二次関数が最小となるwを求めたい=微分して傾きが0となるwを求める\n",
    "損失関数Lの式は、$\\boldsymbol{x}^i,y^i$をそれぞれN行ある行列として、$\\boldsymbol{X},\\boldsymbol{Y}$とすると\n",
    "- $L(\\boldsymbol{w})=\\Sigma_i^N(y^i-\\boldsymbol{w}\\cdot\\boldsymbol{x}^i)^2=(\\boldsymbol{Y}-\\boldsymbol{X}\\cdot\\boldsymbol{w})^2$\n",
    "と表すことができる．\n",
    "  \n",
    "- $\\frac{\\partial L}{\\partial w}=\\frac{\\partial}{\\partial w}(\\boldsymbol{Y}^T\\boldsymbol{Y}-2\\boldsymbol{w}^T\\boldsymbol{X}^T\\boldsymbol{Y}+\\boldsymbol{w}^T\\boldsymbol{w}\\boldsymbol{X}^T\\boldsymbol{X})=-2\\boldsymbol{X}^T\\boldsymbol{Y}+2w\\boldsymbol{X}^T\\boldsymbol{X}=0$\n",
    "- $w=(\\boldsymbol{X}^T\\boldsymbol{X})^{-1}\\boldsymbol{X}^T\\boldsymbol{Y}$"
   ]
  },
  {
   "cell_type": "code",
   "execution_count": 16,
   "id": "6ed9f1ad-b127-4296-9ba3-7ffc297d88ed",
   "metadata": {},
   "outputs": [
    {
     "data": {
      "text/plain": [
       "(1000, 2)"
      ]
     },
     "execution_count": 16,
     "metadata": {},
     "output_type": "execute_result"
    }
   ],
   "source": [
    "x.shape"
   ]
  },
  {
   "cell_type": "code",
   "execution_count": 17,
   "id": "50ff6c1e-69fa-4963-9da5-36a4bcf038e9",
   "metadata": {},
   "outputs": [],
   "source": [
    "xy = np.dot(x.T,y)"
   ]
  },
  {
   "cell_type": "code",
   "execution_count": 18,
   "id": "fa8a5b25-5e24-4bce-bc0e-cd27911b7b52",
   "metadata": {},
   "outputs": [],
   "source": [
    "xx_inv = np.linalg.inv(np.dot(x.T,x))"
   ]
  },
  {
   "cell_type": "code",
   "execution_count": 19,
   "id": "6629bfc5-0f7d-4481-bc5d-fca419a9dda6",
   "metadata": {},
   "outputs": [
    {
     "data": {
      "text/plain": [
       "(2,)"
      ]
     },
     "execution_count": 19,
     "metadata": {},
     "output_type": "execute_result"
    }
   ],
   "source": [
    "xy.shape"
   ]
  },
  {
   "cell_type": "code",
   "execution_count": 20,
   "id": "d22caec0-e885-4d18-ab76-878482562d51",
   "metadata": {},
   "outputs": [
    {
     "data": {
      "text/plain": [
       "(2, 2)"
      ]
     },
     "execution_count": 20,
     "metadata": {},
     "output_type": "execute_result"
    }
   ],
   "source": [
    "xx_inv.shape"
   ]
  },
  {
   "cell_type": "code",
   "execution_count": 21,
   "id": "db9be874-c90a-42de-a3e7-49dc2a504065",
   "metadata": {},
   "outputs": [],
   "source": [
    "w = np.dot(xx_inv,xy)"
   ]
  },
  {
   "cell_type": "code",
   "execution_count": 22,
   "id": "2656ec86-6663-4eb4-8e91-f27c43f04edb",
   "metadata": {},
   "outputs": [
    {
     "data": {
      "text/plain": [
       "array([1.99075583, 3.80571921])"
      ]
     },
     "execution_count": 22,
     "metadata": {},
     "output_type": "execute_result"
    }
   ],
   "source": [
    "w"
   ]
  },
  {
   "cell_type": "code",
   "execution_count": 23,
   "id": "aec8f8d4-1445-4a23-a3b8-563f56c65c43",
   "metadata": {},
   "outputs": [],
   "source": [
    "# wは2,3のあたりと推定されたことを確認！"
   ]
  },
  {
   "cell_type": "code",
   "execution_count": 24,
   "id": "89d80f8c-f91a-49a5-a986-f79777169728",
   "metadata": {},
   "outputs": [],
   "source": [
    "y_hat = np.dot(x,w)"
   ]
  },
  {
   "cell_type": "code",
   "execution_count": 25,
   "id": "afe9501a-e1ae-45aa-bf68-2f23b4386955",
   "metadata": {},
   "outputs": [
    {
     "data": {
      "image/png": "[encoded data removed]",
      "text/plain": [
       "<Figure size 640x480 with 1 Axes>"
      ]
     },
     "metadata": {},
     "output_type": "display_data"
    }
   ],
   "source": [
    "# x[:,0]とyのプロット\n",
    "import matplotlib.pyplot as plt\n",
    "import japanize_matplotlib\n",
    "\n",
    "fig = plt.figure()\n",
    "fig.subplots_adjust(hspace=0.5)\n",
    "#fig.suptitle(\"all graph\")\n",
    "\n",
    "ax1 = fig.add_subplot(211, title=\"x,yのデータの関係\",xlabel=\"x\", ylabel=\"y\")\n",
    "ax1.scatter(x[:,0], y, marker='.', s=3, c='blue')\n",
    "ax1.plot(x[:,0], y_hat, 'r-')\n",
    "\n",
    "fig.show()"
   ]
  },
  {
   "cell_type": "markdown",
   "id": "8f91eebf-ae61-4178-afee-cad32f36f70b",
   "metadata": {},
   "source": [
    "### 勾配降下法\n",
    "$L(w),w$のグラフを確認すると、wがある値$w_0$を持つ時に、その点でのL(w)の勾配$\\Delta L(w_0) = \\frac{\\partial L(w)}{\\partial w}|_{w=w_0}$を計算し、少しずつその方向にwを動かせば最小点に移動できそうだとわかる\n",
    "このとき、移動量を$\\eta$という所与の値（ハイパパラメータ）とすると、\n",
    "- $w_{new}=w-\\eta \\Delta L(w_0)$\n",
    "という形で繰り返し更新していくことで良い値を得ることができるだろう"
   ]
  },
  {
   "cell_type": "code",
   "execution_count": 26,
   "id": "d8da7937-6de1-4178-b99a-5674b01368fe",
   "metadata": {},
   "outputs": [],
   "source": [
    "import numpy as np\n",
    "import torch\n",
    "from torch.autograd import Variable"
   ]
  },
  {
   "cell_type": "code",
   "execution_count": 27,
   "id": "59d6c26d-09b7-40af-bbaf-0f7907e20e03",
   "metadata": {},
   "outputs": [],
   "source": [
    "class Model:\n",
    "    def __init__(self):\n",
    "        self.w = Variable(torch.as_tensor(np.array([1.,1.],dtype=np.float64)), requires_grad=True)\n",
    "\n",
    "    def __call__(self, x):\n",
    "        a_val = torch.matmul(self.w,x.T)\n",
    "        return a_val"
   ]
  },
  {
   "cell_type": "code",
   "execution_count": 28,
   "id": "265d40ad-e1e1-4ee3-8e1e-9bc2e7104b6f",
   "metadata": {},
   "outputs": [],
   "source": [
    "model = Model()"
   ]
  },
  {
   "cell_type": "code",
   "execution_count": 29,
   "id": "805fda06-186c-4177-bbc8-b7ea72fb3180",
   "metadata": {},
   "outputs": [],
   "source": [
    "def loss(y, y_hat):\n",
    "    return torch.square(y_hat - y).mean()"
   ]
  },
  {
   "cell_type": "code",
   "execution_count": 30,
   "id": "ddd45795-b87c-4ae0-825f-e5a750585266",
   "metadata": {},
   "outputs": [],
   "source": [
    "def train(model, x, y, lr=0.01):\n",
    "    current_loss = loss(y, model(x))\n",
    "    current_loss.backward()\n",
    "\n",
    "    with torch.no_grad():\n",
    "#        print(\"model.w\")\n",
    "#        print(model.w)\n",
    "#        print(\"model.w.grad.data*lr\")\n",
    "#        print(model.w.grad.data*lr)\n",
    "\n",
    "        model.w -= model.w.grad.data * lr\n",
    "#        print(\"new model.w\")\n",
    "#        print(model.w)\n",
    "\n",
    "    model.w.grad.data.zero_()\n"
   ]
  },
  {
   "cell_type": "code",
   "execution_count": 31,
   "id": "59d2ddd6-f4bb-4d96-b260-583b4ba90785",
   "metadata": {},
   "outputs": [],
   "source": [
    "tx = torch.from_numpy(x)\n",
    "ty = torch.from_numpy(y)"
   ]
  },
  {
   "cell_type": "code",
   "execution_count": 32,
   "id": "32db75e0-5922-4fc2-9202-b6b7203e7172",
   "metadata": {},
   "outputs": [],
   "source": [
    "current_loss = loss(ty, model(tx))"
   ]
  },
  {
   "cell_type": "code",
   "execution_count": 33,
   "id": "649e2f7e-f3e3-48c7-91f2-51b6216d1184",
   "metadata": {},
   "outputs": [
    {
     "name": "stdout",
     "output_type": "stream",
     "text": [
      "Epoch 0: Loss: 4051.497682355319\n",
      "Epoch 1: Loss: 1044.6589187217126\n",
      "Epoch 2: Loss: 665.4371599867068\n",
      "Epoch 3: Loss: 617.6096395541939\n",
      "Epoch 4: Loss: 611.577457263268\n",
      "Epoch 5: Loss: 610.8164900216673\n",
      "Epoch 6: Loss: 610.7203268004894\n",
      "Epoch 7: Loss: 610.7080084754408\n",
      "Epoch 8: Loss: 610.7062646627041\n",
      "Epoch 9: Loss: 610.7058545242907\n",
      "Epoch 10: Loss: 610.7056126085888\n",
      "Epoch 11: Loss: 610.7053919292025\n",
      "Epoch 12: Loss: 610.705173948251\n",
      "Epoch 13: Loss: 610.7049563277403\n",
      "Epoch 14: Loss: 610.7047387728013\n",
      "Epoch 15: Loss: 610.7045212462431\n",
      "Epoch 16: Loss: 610.704303743373\n",
      "Epoch 17: Loss: 610.7040862635971\n",
      "Epoch 18: Loss: 610.7038688068384\n",
      "Epoch 19: Loss: 610.7036513730851\n"
     ]
    }
   ],
   "source": [
    "epochs = 20\n",
    "tx = torch.from_numpy(x)\n",
    "for epoch in range(epochs):\n",
    "    with torch.no_grad():\n",
    "        current_loss = loss(ty, model(tx))\n",
    "        \n",
    "    train(model, tx, ty, lr=0.0001)\n",
    "    print(f\"Epoch {epoch}: Loss: {current_loss.numpy()}\")"
   ]
  },
  {
   "cell_type": "code",
   "execution_count": 34,
   "id": "2ee58822-344e-4c79-aef1-228bf3b5509d",
   "metadata": {},
   "outputs": [
    {
     "data": {
      "text/plain": [
       "tensor([2.0329, 1.0186], dtype=torch.float64, requires_grad=True)"
      ]
     },
     "execution_count": 34,
     "metadata": {},
     "output_type": "execute_result"
    }
   ],
   "source": [
    "model.w"
   ]
  },
  {
   "cell_type": "code",
   "execution_count": 35,
   "id": "398e3f9b-5913-4f1a-a5da-eaf2149671a7",
   "metadata": {},
   "outputs": [
    {
     "data": {
      "image/png": "[encoded data removed]",
      "text/plain": [
       "<Figure size 640x480 with 1 Axes>"
      ]
     },
     "metadata": {},
     "output_type": "display_data"
    }
   ],
   "source": [
    "import matplotlib.pyplot as plt\n",
    "import japanize_matplotlib\n",
    "\n",
    "fig = plt.figure()\n",
    "fig.subplots_adjust(hspace=0.5)\n",
    "#fig.suptitle(\"all graph\")\n",
    "y_hat = model(tx).detach()\n",
    "\n",
    "ax1 = fig.add_subplot(211, title=\"x,yのデータの関係\",xlabel=\"x\", ylabel=\"y\")\n",
    "ax1.scatter(x[:,0], y, marker='.', s=3, c='blue')\n",
    "ax1.plot(x[:,0], y_hat, 'r-')\n",
    "\n",
    "fig.show()"
   ]
  },
  {
   "cell_type": "markdown",
   "id": "0f84d512-c5af-4657-bbb9-51c78ceb4e5a",
   "metadata": {},
   "source": [
    "### 最尤法によるパラメータ推定\n",
    "- $\\boldsymbol{w}=\\begin{pmatrix} 2&3 \\end{pmatrix}$として、データyが平均$\\mu$、分散$\\sigma^2$の正規分布からサンプルされるデータととらえる\n",
    "- $y = \\mathcal{N}(\\mu=\\boldsymbol{w}\\cdot\\boldsymbol{x},\\sigma^2=10)$\n",
    "- このときデータ$y$がサンプル（生成）される確率$P(y|\\mathcal{N}(\\mu,\\sigma^2))$を尤度（そのデータの生成されやすさ）という\n",
    "- すべてのデータに対して尤度が最大となるような$\\mu, \\sigma^2$を求めることを最尤（推定）法という"
   ]
  },
  {
   "cell_type": "code",
   "execution_count": 36,
   "id": "9a079f65-66b8-491b-b6af-ecf706870725",
   "metadata": {},
   "outputs": [],
   "source": [
    "N = 1000\n",
    "x0 = np.random.rand(N, 1) * 100\n",
    "x = np.hstack([x0, np.ones((N, 1))])  # x: (N, 2), バイアス項を追加\n",
    "w_true = np.array([2, 3])\n",
    "y = np.dot(x, w_true) + np.random.normal(0, 10, N)"
   ]
  },
  {
   "cell_type": "code",
   "execution_count": 37,
   "id": "7f58069e-bdcf-4660-93a2-8c31cd94c8c9",
   "metadata": {},
   "outputs": [],
   "source": [
    "class Model:\n",
    "    def __init__(self):\n",
    "        self.w = Variable(torch.as_tensor(np.array([1.,1.,0.],dtype=np.float64)), requires_grad=True)\n",
    "\n",
    "    def __call__(self, x):\n",
    "        mean = torch.matmul(self.w[0:2],x.T)\n",
    "        std = torch.exp(self.w[2])\n",
    "        return mean, std"
   ]
  },
  {
   "cell_type": "code",
   "execution_count": 38,
   "id": "003bd074-4de3-4eeb-9ca1-0b2887b10c0c",
   "metadata": {},
   "outputs": [],
   "source": [
    "model = Model()"
   ]
  },
  {
   "cell_type": "code",
   "execution_count": 39,
   "id": "9bd4bc3b-4dbf-487f-876b-d31ce577d044",
   "metadata": {},
   "outputs": [],
   "source": [
    "def loss_fn(y,x):\n",
    "    mean, std = model(x)\n",
    "    dist = torch.distributions.Normal(mean, std)\n",
    "    return -torch.sum(dist.log_prob(y))"
   ]
  },
  {
   "cell_type": "code",
   "execution_count": 40,
   "id": "d57c07e3-f969-48d7-a7bb-6491d3392bae",
   "metadata": {},
   "outputs": [],
   "source": [
    "def train(model, x, y, lr=0.001, epochs=1000):\n",
    "    for epoch in range(epochs):\n",
    "        loss = loss_fn(y, x)\n",
    "        loss.backward()\n",
    "\n",
    "        with torch.no_grad():\n",
    "            model.w -= lr * model.w.grad\n",
    "            model.w.grad.zero_()\n",
    "\n",
    "        if epoch % 10000 == 0:\n",
    "            print(f\"Epoch {epoch}: loss = {loss.item():.2f}, w = {model.w.data[:2].numpy()}, std = {torch.nn.functional.softplus(model.w[2]).item():.2f}\")\n"
   ]
  },
  {
   "cell_type": "code",
   "execution_count": 41,
   "id": "dca6f3e6-e218-474a-a9f9-da19440737f0",
   "metadata": {},
   "outputs": [],
   "source": [
    "tx = torch.from_numpy(x).double()\n",
    "ty = torch.from_numpy(y).double()"
   ]
  },
  {
   "cell_type": "code",
   "execution_count": 42,
   "id": "488525fb-6990-45e8-b957-06f2a965fa3f",
   "metadata": {},
   "outputs": [
    {
     "name": "stdout",
     "output_type": "stream",
     "text": [
      "Epoch 0: loss = 1796229.24, w = [35.19407087  1.51226637], std = 35.90\n",
      "Epoch 10000: loss = 8910.66, w = [32.96140653  1.47901967], std = 7.49\n",
      "Epoch 20000: loss = 8793.70, w = [29.54576349  1.4281581 ], std = 7.38\n",
      "Epoch 30000: loss = 8640.82, w = [25.64287995  1.37004285], std = 7.22\n",
      "Epoch 40000: loss = 8419.69, w = [20.95559195  1.30025089], std = 7.00\n",
      "Epoch 50000: loss = 8014.67, w = [14.6476152   1.20633701], std = 6.60\n",
      "Epoch 60000: loss = 3755.80, w = [2.01782194 1.06177589], std = 2.43\n",
      "Epoch 70000: loss = 3755.23, w = [2.0142733  1.30003858], std = 2.43\n",
      "Epoch 80000: loss = 3754.87, w = [2.01147601 1.48785408], std = 2.43\n",
      "Epoch 90000: loss = 3754.65, w = [2.00927214 1.63582617], std = 2.43\n",
      "Epoch 100000: loss = 3754.52, w = [2.00753637 1.75236938], std = 2.43\n",
      "Epoch 110000: loss = 3754.43, w = [2.00616955 1.84414061], std = 2.43\n",
      "Epoch 120000: loss = 3754.38, w = [2.00509339 1.91639624], std = 2.43\n",
      "Epoch 130000: loss = 3754.35, w = [2.00424614 1.97328195], std = 2.43\n",
      "Epoch 140000: loss = 3754.33, w = [2.00357915 2.01806501], std = 2.43\n",
      "Epoch 150000: loss = 3754.31, w = [2.00305408 2.05331924], std = 2.43\n",
      "Epoch 160000: loss = 3754.31, w = [2.00264074 2.08107166], std = 2.43\n",
      "Epoch 170000: loss = 3754.30, w = [2.00231536 2.10291834], std = 2.43\n",
      "Epoch 180000: loss = 3754.30, w = [2.00205922 2.12011591], std = 2.43\n",
      "Epoch 190000: loss = 3754.30, w = [2.0018576  2.13365366], std = 2.43\n",
      "Epoch 200000: loss = 3754.29, w = [2.00169888 2.14431041], std = 2.43\n"
     ]
    }
   ],
   "source": [
    "# 学習開始\n",
    "train(model, tx, ty, lr=0.00001, epochs=200001)"
   ]
  },
  {
   "cell_type": "code",
   "execution_count": 48,
   "id": "8025b79c-3679-4871-8ff8-d37e966752ca",
   "metadata": {},
   "outputs": [
    {
     "data": {
      "image/png": "[encoded data removed]",
      "text/plain": [
       "<Figure size 640x480 with 1 Axes>"
      ]
     },
     "metadata": {},
     "output_type": "display_data"
    }
   ],
   "source": [
    "import matplotlib.pyplot as plt\n",
    "import japanize_matplotlib\n",
    "\n",
    "fig = plt.figure()\n",
    "fig.subplots_adjust(hspace=0.5)\n",
    "#fig.suptitle(\"all graph\")\n",
    "y_hat = torch.matmul(tx,model.w[0:2]).detach().numpy()\n",
    "\n",
    "ax1 = fig.add_subplot(211, title=\"x,yのデータの関係\",xlabel=\"x\", ylabel=\"y\")\n",
    "ax1.scatter(x[:,0], y, marker='.', s=3, c='blue')\n",
    "ax1.plot(x[:,0], y_hat, 'r-')\n",
    "\n",
    "fig.show()"
   ]
  },
  {
   "cell_type": "markdown",
   "id": "a8214d3e-307b-4e9c-b683-3a9863aec653",
   "metadata": {},
   "source": [
    "### sklearnで解く"
   ]
  },
  {
   "cell_type": "code",
   "execution_count": 51,
   "id": "33d9cbdd-8fa4-4dc4-979a-29ececbb79e5",
   "metadata": {},
   "outputs": [],
   "source": [
    "from sklearn.linear_model import LinearRegression"
   ]
  },
  {
   "cell_type": "code",
   "execution_count": 52,
   "id": "05363cfd-e9c7-494c-b40c-9c2b19791077",
   "metadata": {},
   "outputs": [],
   "source": [
    "model = LinearRegression()"
   ]
  },
  {
   "cell_type": "code",
   "execution_count": 53,
   "id": "9a170280-b0e5-4008-81b9-232b5410890c",
   "metadata": {},
   "outputs": [],
   "source": [
    "reg = model.fit(x, y)"
   ]
  },
  {
   "cell_type": "code",
   "execution_count": 54,
   "id": "6717d44f-8e01-4049-b9c8-c452e5acb742",
   "metadata": {},
   "outputs": [
    {
     "data": {
      "text/plain": [
       "array([2.00111178, 0.        ])"
      ]
     },
     "execution_count": 54,
     "metadata": {},
     "output_type": "execute_result"
    }
   ],
   "source": [
    "reg.coef_"
   ]
  },
  {
   "cell_type": "code",
   "execution_count": 55,
   "id": "0b0a8e5f-efe7-416d-a8b4-4b6a1413c66d",
   "metadata": {},
   "outputs": [
    {
     "data": {
      "text/plain": [
       "2.1837289167729352"
      ]
     },
     "execution_count": 55,
     "metadata": {},
     "output_type": "execute_result"
    }
   ],
   "source": [
    "reg.intercept_"
   ]
  },
  {
   "cell_type": "code",
   "execution_count": null,
   "id": "b740037c-c9fc-4bf1-9244-65be96b4dab6",
   "metadata": {},
   "outputs": [],
   "source": []
  }
 ],
 "metadata": {
  "kernelspec": {
   "display_name": "Python 3 (ipykernel)",
   "language": "python",
   "name": "python3"
  },
  "language_info": {
   "codemirror_mode": {
    "name": "ipython",
    "version": 3
   },
   "file_extension": ".py",
   "mimetype": "text/x-python",
   "name": "python",
   "nbconvert_exporter": "python",
   "pygments_lexer": "ipython3",
   "version": "3.11.6"
  }
 },
 "nbformat": 4,
 "nbformat_minor": 5
}
