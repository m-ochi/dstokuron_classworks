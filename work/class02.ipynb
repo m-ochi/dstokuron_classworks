{
 "cells": [
  {
   "cell_type": "markdown",
   "id": "f04f3302-6e35-4cbe-ad44-feca3fb1edb8",
   "metadata": {},
   "source": [
    "# 第２回"
   ]
  },
  {
   "cell_type": "markdown",
   "id": "ef23a52a-b089-4bd4-acdc-612ea2ed75e8",
   "metadata": {},
   "source": [
    "## 関数の定義"
   ]
  },
  {
   "cell_type": "code",
   "execution_count": 5,
   "id": "aaa6d1df-f2b6-40ba-a494-fc319eadd67f",
   "metadata": {},
   "outputs": [],
   "source": [
    "def factorial(x):\n",
    "    if x == 0:\n",
    "        return 1\n",
    "    else:\n",
    "        return x * factorial(x-1)"
   ]
  },
  {
   "cell_type": "code",
   "execution_count": 8,
   "id": "bef7e7cc-d510-464a-b272-a7a44ab4059e",
   "metadata": {},
   "outputs": [
    {
     "data": {
      "text/plain": [
       "24"
      ]
     },
     "execution_count": 8,
     "metadata": {},
     "output_type": "execute_result"
    }
   ],
   "source": [
    "factorial(4)"
   ]
  },
  {
   "cell_type": "markdown",
   "id": "def7384a-d16b-4f1a-9242-7d3768226eda",
   "metadata": {},
   "source": [
    "## Markdownの練習\n",
    "- 数式\n",
    "  - $N!=N \\times (N-1) \\times (N-2) \\cdots 2 \\times 1$\n",
    "  - 数式はTeX記法(Overleaf(Latex)で使います。論文書く時にほぼ必須のスキル)\n",
    "- 見出し\n",
    "  # 見出し1\n",
    "  ## 見出し2\n",
    "- 太字\n",
    "  - ここを**強調**します\n",
    "- 斜体\n",
    "  - 文字が*ナナメ*です\n",
    "- 太字＆斜体\n",
    "  - 強調***かつ***ナナメ\n",
    "- リンク\n",
    "  - [リンク](https://github.com/)します\n",
    "- 表もかける\n",
    "  | 教科       | A さん      | B さん       |\n",
    "|:-----------|------------:|:------------:|\n",
    "| 国語       | 80点        | 60点         |\n",
    "| 数学       | 85点        | 95点         |\n",
    "| 英語       | 75点        | 70点         |"
   ]
  },
  {
   "cell_type": "markdown",
   "id": "3e35cde8-f034-403d-8d2e-ee872b3a2cfb",
   "metadata": {},
   "source": [
    "## コードの実行"
   ]
  },
  {
   "cell_type": "code",
   "execution_count": 16,
   "id": "f505fc6a-66a0-400b-bcd6-6c12222eac98",
   "metadata": {},
   "outputs": [
    {
     "name": "stdout",
     "output_type": "stream",
     "text": [
      "コードは'Shift+Enter'で実行できます\n"
     ]
    }
   ],
   "source": [
    "print(\"コードは'Shift+Enter'で実行できます\")"
   ]
  },
  {
   "cell_type": "markdown",
   "id": "f4820983-373c-40a1-930d-e27eeb18c6a1",
   "metadata": {},
   "source": [
    "## モジュールのインストール"
   ]
  },
  {
   "cell_type": "code",
   "execution_count": 22,
   "id": "ad894dac-d7ea-4891-843b-619b53c66428",
   "metadata": {},
   "outputs": [
    {
     "ename": "ModuleNotFoundError",
     "evalue": "No module named 'lxml'",
     "output_type": "error",
     "traceback": [
      "\u001b[0;31m---------------------------------------------------------------------------\u001b[0m",
      "\u001b[0;31mModuleNotFoundError\u001b[0m                       Traceback (most recent call last)",
      "Cell \u001b[0;32mIn[22], line 1\u001b[0m\n\u001b[0;32m----> 1\u001b[0m \u001b[38;5;28;01mimport\u001b[39;00m \u001b[38;5;21;01mlxml\u001b[39;00m\n",
      "\u001b[0;31mModuleNotFoundError\u001b[0m: No module named 'lxml'"
     ]
    }
   ],
   "source": [
    "import lxml"
   ]
  },
  {
   "cell_type": "code",
   "execution_count": 23,
   "id": "21b03c2e-a5f2-416e-8f84-7131fbf823f5",
   "metadata": {},
   "outputs": [
    {
     "name": "stdout",
     "output_type": "stream",
     "text": [
      "Collecting lxml\n",
      "  Downloading lxml-5.3.1-cp311-cp311-manylinux_2_28_aarch64.whl.metadata (3.7 kB)\n",
      "Downloading lxml-5.3.1-cp311-cp311-manylinux_2_28_aarch64.whl (4.8 MB)\n",
      "\u001b[2K   \u001b[90m━━━━━━━━━━━━━━━━━━━━━━━━━━━━━━━━━━━━━━━━\u001b[0m \u001b[32m4.8/4.8 MB\u001b[0m \u001b[31m8.6 MB/s\u001b[0m eta \u001b[36m0:00:00\u001b[0m00:01\u001b[0m00:01\u001b[0m\n",
      "\u001b[?25hInstalling collected packages: lxml\n",
      "Successfully installed lxml-5.3.1\n"
     ]
    }
   ],
   "source": [
    "!pip install lxml"
   ]
  },
  {
   "cell_type": "markdown",
   "id": "cb755dee-de42-4819-b609-9c02778eb50b",
   "metadata": {},
   "source": [
    "## 型"
   ]
  },
  {
   "cell_type": "code",
   "execution_count": 27,
   "id": "23919fea-286a-43e9-94d5-04c14b988747",
   "metadata": {},
   "outputs": [
    {
     "data": {
      "text/plain": [
       "1"
      ]
     },
     "execution_count": 27,
     "metadata": {},
     "output_type": "execute_result"
    }
   ],
   "source": [
    "1 #整数"
   ]
  },
  {
   "cell_type": "code",
   "execution_count": 28,
   "id": "ce5fc30a-1d6a-4e07-9a9c-367864867ee1",
   "metadata": {},
   "outputs": [
    {
     "data": {
      "text/plain": [
       "1.0"
      ]
     },
     "execution_count": 28,
     "metadata": {},
     "output_type": "execute_result"
    }
   ],
   "source": [
    "1.0 #小数"
   ]
  },
  {
   "cell_type": "code",
   "execution_count": 29,
   "id": "756e4081-b879-41bc-b16a-e7d51001174b",
   "metadata": {},
   "outputs": [
    {
     "data": {
      "text/plain": [
       "2e-06"
      ]
     },
     "execution_count": 29,
     "metadata": {},
     "output_type": "execute_result"
    }
   ],
   "source": [
    "2e-6 #浮動小数点"
   ]
  },
  {
   "cell_type": "code",
   "execution_count": 30,
   "id": "3f12847c-db45-476d-9871-c885228299fe",
   "metadata": {},
   "outputs": [
    {
     "data": {
      "text/plain": [
       "1.000002"
      ]
     },
     "execution_count": 30,
     "metadata": {},
     "output_type": "execute_result"
    }
   ],
   "source": [
    "1+2e-6"
   ]
  },
  {
   "cell_type": "code",
   "execution_count": 31,
   "id": "7c1c6fa5-fa0b-4aad-bf47-f30076227b17",
   "metadata": {},
   "outputs": [
    {
     "data": {
      "text/plain": [
       "'1'"
      ]
     },
     "execution_count": 31,
     "metadata": {},
     "output_type": "execute_result"
    }
   ],
   "source": [
    "'1' #文字列"
   ]
  },
  {
   "cell_type": "code",
   "execution_count": 32,
   "id": "cb6bfea2-8d88-4a83-8ec4-50e258943f20",
   "metadata": {},
   "outputs": [
    {
     "ename": "TypeError",
     "evalue": "unsupported operand type(s) for +: 'int' and 'str'",
     "output_type": "error",
     "traceback": [
      "\u001b[0;31m---------------------------------------------------------------------------\u001b[0m",
      "\u001b[0;31mTypeError\u001b[0m                                 Traceback (most recent call last)",
      "Cell \u001b[0;32mIn[32], line 1\u001b[0m\n\u001b[0;32m----> 1\u001b[0m \u001b[38;5;241;43m1\u001b[39;49m\u001b[38;5;241;43m+\u001b[39;49m\u001b[38;5;124;43m'\u001b[39;49m\u001b[38;5;124;43m1\u001b[39;49m\u001b[38;5;124;43m'\u001b[39;49m\n",
      "\u001b[0;31mTypeError\u001b[0m: unsupported operand type(s) for +: 'int' and 'str'"
     ]
    }
   ],
   "source": [
    "1+'1'"
   ]
  },
  {
   "cell_type": "code",
   "execution_count": 36,
   "id": "e73a2a15-c755-46bf-9393-5ac205e49e86",
   "metadata": {},
   "outputs": [
    {
     "data": {
      "text/plain": [
       "True"
      ]
     },
     "execution_count": 36,
     "metadata": {},
     "output_type": "execute_result"
    }
   ],
   "source": [
    "True # 真偽値"
   ]
  },
  {
   "cell_type": "code",
   "execution_count": 34,
   "id": "47dcbb9b-81e5-4dd2-880c-bbfd5a600c6f",
   "metadata": {},
   "outputs": [
    {
     "data": {
      "text/plain": [
       "False"
      ]
     },
     "execution_count": 34,
     "metadata": {},
     "output_type": "execute_result"
    }
   ],
   "source": [
    "False"
   ]
  },
  {
   "cell_type": "code",
   "execution_count": 35,
   "id": "55005650-5a7a-49bb-97ac-80290e7b3236",
   "metadata": {},
   "outputs": [
    {
     "data": {
      "text/plain": [
       "True"
      ]
     },
     "execution_count": 35,
     "metadata": {},
     "output_type": "execute_result"
    }
   ],
   "source": [
    "True == 1"
   ]
  },
  {
   "cell_type": "code",
   "execution_count": 37,
   "id": "e17d3e34-3b28-4893-a17d-b0b245725b6e",
   "metadata": {},
   "outputs": [
    {
     "data": {
      "text/plain": [
       "True"
      ]
     },
     "execution_count": 37,
     "metadata": {},
     "output_type": "execute_result"
    }
   ],
   "source": [
    "False == 0"
   ]
  },
  {
   "cell_type": "markdown",
   "id": "d95f1f11-9e2a-445b-b37c-55f6ac84daf7",
   "metadata": {},
   "source": [
    "### リストとタプル（タプルはデータとしてのまとまりとして捉える）"
   ]
  },
  {
   "cell_type": "code",
   "execution_count": 41,
   "id": "5b41ba06-1f65-4072-9b73-7bb435450eba",
   "metadata": {},
   "outputs": [],
   "source": [
    "a = [1,2,3] #リスト"
   ]
  },
  {
   "cell_type": "code",
   "execution_count": 43,
   "id": "fe989a3b-aed0-46ad-b634-5faec0506321",
   "metadata": {},
   "outputs": [
    {
     "data": {
      "text/plain": [
       "[1, 2, 3]"
      ]
     },
     "execution_count": 43,
     "metadata": {},
     "output_type": "execute_result"
    }
   ],
   "source": [
    "a"
   ]
  },
  {
   "cell_type": "code",
   "execution_count": 42,
   "id": "9939f4e1-c8c1-46e4-b3be-55518e47f907",
   "metadata": {},
   "outputs": [],
   "source": [
    "b = (\"Taro\", \"Male\", 23) #タプル"
   ]
  },
  {
   "cell_type": "code",
   "execution_count": 44,
   "id": "dd1ae11a-3700-4cd8-84ae-daece60e95e1",
   "metadata": {},
   "outputs": [
    {
     "data": {
      "text/plain": [
       "('Taro', 'Male', 23)"
      ]
     },
     "execution_count": 44,
     "metadata": {},
     "output_type": "execute_result"
    }
   ],
   "source": [
    "b"
   ]
  },
  {
   "cell_type": "code",
   "execution_count": 45,
   "id": "c173382b-6251-412e-be9d-978890749924",
   "metadata": {},
   "outputs": [],
   "source": [
    "a[1] = 10 #リストの書き換え"
   ]
  },
  {
   "cell_type": "code",
   "execution_count": 46,
   "id": "51ab88ab-df5a-4916-bf3e-7efe3b5f85d5",
   "metadata": {},
   "outputs": [
    {
     "data": {
      "text/plain": [
       "[1, 10, 3]"
      ]
     },
     "execution_count": 46,
     "metadata": {},
     "output_type": "execute_result"
    }
   ],
   "source": [
    "a"
   ]
  },
  {
   "cell_type": "code",
   "execution_count": 48,
   "id": "359e7a26-a459-4eba-bec4-a687f0657b18",
   "metadata": {},
   "outputs": [
    {
     "ename": "TypeError",
     "evalue": "'tuple' object does not support item assignment",
     "output_type": "error",
     "traceback": [
      "\u001b[0;31m---------------------------------------------------------------------------\u001b[0m",
      "\u001b[0;31mTypeError\u001b[0m                                 Traceback (most recent call last)",
      "Cell \u001b[0;32mIn[48], line 1\u001b[0m\n\u001b[0;32m----> 1\u001b[0m \u001b[43mb\u001b[49m\u001b[43m[\u001b[49m\u001b[38;5;241;43m2\u001b[39;49m\u001b[43m]\u001b[49m \u001b[38;5;241m=\u001b[39m \u001b[38;5;124m\"\u001b[39m\u001b[38;5;124mFemale\u001b[39m\u001b[38;5;124m\"\u001b[39m \u001b[38;5;66;03m# タプルは書き換えられない\u001b[39;00m\n",
      "\u001b[0;31mTypeError\u001b[0m: 'tuple' object does not support item assignment"
     ]
    }
   ],
   "source": [
    "b[2] = \"Female\" # タプルは書き換えられない"
   ]
  },
  {
   "cell_type": "markdown",
   "id": "f12cf05c-439f-4668-b7e3-9c73099cfe9f",
   "metadata": {},
   "source": [
    "### 集合(set)"
   ]
  },
  {
   "cell_type": "code",
   "execution_count": 50,
   "id": "ba47029e-6862-4746-86f0-768fd80a4aa7",
   "metadata": {},
   "outputs": [],
   "source": [
    "mikan = set([\"yamada\",\"suzuki\",\"tanaka\"])\n",
    "ringo = set([\"sato\",\"suzuki\",\"tanaka\"])"
   ]
  },
  {
   "cell_type": "code",
   "execution_count": 52,
   "id": "93b1bcb0-7dcb-4c84-be75-d0c972179d95",
   "metadata": {},
   "outputs": [
    {
     "ename": "TypeError",
     "evalue": "'set' object is not subscriptable",
     "output_type": "error",
     "traceback": [
      "\u001b[0;31m---------------------------------------------------------------------------\u001b[0m",
      "\u001b[0;31mTypeError\u001b[0m                                 Traceback (most recent call last)",
      "Cell \u001b[0;32mIn[52], line 1\u001b[0m\n\u001b[0;32m----> 1\u001b[0m \u001b[43mmikan\u001b[49m\u001b[43m[\u001b[49m\u001b[38;5;241;43m1\u001b[39;49m\u001b[43m]\u001b[49m \u001b[38;5;66;03m# 集合には順序はない\u001b[39;00m\n",
      "\u001b[0;31mTypeError\u001b[0m: 'set' object is not subscriptable"
     ]
    }
   ],
   "source": [
    "mikan[1] # 集合には順序はない"
   ]
  },
  {
   "cell_type": "code",
   "execution_count": 53,
   "id": "de9ae36d-5bea-4f48-ac6e-0100ac577185",
   "metadata": {},
   "outputs": [
    {
     "data": {
      "text/plain": [
       "{'sato', 'suzuki', 'tanaka', 'yamada'}"
      ]
     },
     "execution_count": 53,
     "metadata": {},
     "output_type": "execute_result"
    }
   ],
   "source": [
    "mikan | ringo #和集合"
   ]
  },
  {
   "cell_type": "code",
   "execution_count": 54,
   "id": "3d8201b3-da78-45d3-9df4-7d2f3b7f1d4b",
   "metadata": {},
   "outputs": [
    {
     "data": {
      "text/plain": [
       "{'suzuki', 'tanaka'}"
      ]
     },
     "execution_count": 54,
     "metadata": {},
     "output_type": "execute_result"
    }
   ],
   "source": [
    "mikan & ringo #積集合"
   ]
  },
  {
   "cell_type": "code",
   "execution_count": 55,
   "id": "b038a397-adc1-4a32-aead-f1ba86f9bbd1",
   "metadata": {},
   "outputs": [
    {
     "data": {
      "text/plain": [
       "{'yamada'}"
      ]
     },
     "execution_count": 55,
     "metadata": {},
     "output_type": "execute_result"
    }
   ],
   "source": [
    "mikan - ringo #差集合"
   ]
  },
  {
   "cell_type": "code",
   "execution_count": 56,
   "id": "5c326788-ba3a-4d4b-8c83-6ea85701812d",
   "metadata": {},
   "outputs": [
    {
     "data": {
      "text/plain": [
       "{'sato', 'yamada'}"
      ]
     },
     "execution_count": 56,
     "metadata": {},
     "output_type": "execute_result"
    }
   ],
   "source": [
    "mikan ^ ringo #XOR"
   ]
  },
  {
   "cell_type": "markdown",
   "id": "2ebf3118-570c-4a47-be82-fdb91d603200",
   "metadata": {},
   "source": [
    "## 辞書"
   ]
  },
  {
   "cell_type": "code",
   "execution_count": 58,
   "id": "5c795126-87bc-4a18-a599-daefb9f3db7b",
   "metadata": {},
   "outputs": [],
   "source": [
    "zaikodic = {\"apple\":5, \"orange\":3, \"banana\":10}"
   ]
  },
  {
   "cell_type": "code",
   "execution_count": 59,
   "id": "bc95aa03-bf23-48a0-a901-8bdd911976a0",
   "metadata": {},
   "outputs": [
    {
     "data": {
      "text/plain": [
       "{'apple': 5, 'orange': 3, 'banana': 10}"
      ]
     },
     "execution_count": 59,
     "metadata": {},
     "output_type": "execute_result"
    }
   ],
   "source": [
    "zaikodic"
   ]
  },
  {
   "cell_type": "code",
   "execution_count": 60,
   "id": "35e065e2-1b55-42b5-998f-9efdaea5c7ee",
   "metadata": {},
   "outputs": [
    {
     "data": {
      "text/plain": [
       "10"
      ]
     },
     "execution_count": 60,
     "metadata": {},
     "output_type": "execute_result"
    }
   ],
   "source": [
    "zaikodic[\"banana\"]"
   ]
  },
  {
   "cell_type": "code",
   "execution_count": 66,
   "id": "0334439e-5073-4b17-86a9-25684d3d8671",
   "metadata": {},
   "outputs": [],
   "source": [
    "zaikodic[\"banana\"] = 100"
   ]
  },
  {
   "cell_type": "code",
   "execution_count": 67,
   "id": "67d34a47-8f5c-48e1-83e5-966814e966d0",
   "metadata": {},
   "outputs": [
    {
     "data": {
      "text/plain": [
       "{'apple': 5, 'orange': 3, 'banana': 100}"
      ]
     },
     "execution_count": 67,
     "metadata": {},
     "output_type": "execute_result"
    }
   ],
   "source": [
    "zaikodic"
   ]
  },
  {
   "cell_type": "code",
   "execution_count": 71,
   "id": "a95f89ae-e5c9-467c-9bf3-5030b93ffe3b",
   "metadata": {},
   "outputs": [
    {
     "name": "stdout",
     "output_type": "stream",
     "text": [
      "Ranking,Fruit,Count\n",
      "1,banana,100\n",
      "2,apple,5\n",
      "3,orange,3\n"
     ]
    }
   ],
   "source": [
    "print(\"Ranking,Fruit,Count\")\n",
    "for i, (fruit, c) in enumerate(sorted(zaikodic.items(), key=lambda x:-x[1])):\n",
    "    print(f\"{i+1},{fruit},{c}\")"
   ]
  },
  {
   "cell_type": "code",
   "execution_count": 73,
   "id": "93b8af7e-3b7b-48c7-9a77-8174ea4789db",
   "metadata": {},
   "outputs": [],
   "source": [
    "zaikodic[(\"フィリピン\",\"banana\")] = 1"
   ]
  },
  {
   "cell_type": "code",
   "execution_count": 74,
   "id": "94058194-06df-4a58-afa0-bcc357fa1ff1",
   "metadata": {},
   "outputs": [
    {
     "data": {
      "text/plain": [
       "{'apple': 5, 'orange': 3, 'banana': 100, ('フィリピン', 'banana'): 1}"
      ]
     },
     "execution_count": 74,
     "metadata": {},
     "output_type": "execute_result"
    }
   ],
   "source": [
    "zaikodic"
   ]
  },
  {
   "cell_type": "code",
   "execution_count": 75,
   "id": "fa6f05fb-bad8-45e9-9463-a2b7519d8f4e",
   "metadata": {},
   "outputs": [],
   "source": [
    "zaikodic[(\"フィリピン\",\"banana\")] = 5"
   ]
  },
  {
   "cell_type": "code",
   "execution_count": 76,
   "id": "217e0d46-97b5-4b43-9fae-8355553de5be",
   "metadata": {
    "scrolled": true
   },
   "outputs": [
    {
     "data": {
      "text/plain": [
       "{'apple': 5, 'orange': 3, 'banana': 100, ('フィリピン', 'banana'): 5}"
      ]
     },
     "execution_count": 76,
     "metadata": {},
     "output_type": "execute_result"
    }
   ],
   "source": [
    "zaikodic"
   ]
  },
  {
   "cell_type": "markdown",
   "id": "9646d8c3-dcae-4815-b737-3810baaa9405",
   "metadata": {},
   "source": [
    "# 演算子"
   ]
  },
  {
   "cell_type": "markdown",
   "id": "e0793b55-ed1b-431b-980b-2310e2ded0b8",
   "metadata": {},
   "source": [
    "### 算術演算子"
   ]
  },
  {
   "cell_type": "code",
   "execution_count": 81,
   "id": "29202991-32c5-4ab0-9afe-eaa98384ca53",
   "metadata": {},
   "outputs": [
    {
     "data": {
      "text/plain": [
       "1.6666666666666667"
      ]
     },
     "execution_count": 81,
     "metadata": {},
     "output_type": "execute_result"
    }
   ],
   "source": [
    "5/3"
   ]
  },
  {
   "cell_type": "code",
   "execution_count": 82,
   "id": "7c5fca47-3e10-4ca3-9bac-f36f0bb36c96",
   "metadata": {},
   "outputs": [
    {
     "data": {
      "text/plain": [
       "1"
      ]
     },
     "execution_count": 82,
     "metadata": {},
     "output_type": "execute_result"
    }
   ],
   "source": [
    "5//3"
   ]
  },
  {
   "cell_type": "code",
   "execution_count": 83,
   "id": "9d80583e-31c9-4444-aa1d-dffba42f2b0d",
   "metadata": {},
   "outputs": [
    {
     "data": {
      "text/plain": [
       "2"
      ]
     },
     "execution_count": 83,
     "metadata": {},
     "output_type": "execute_result"
    }
   ],
   "source": [
    "5%3"
   ]
  },
  {
   "cell_type": "code",
   "execution_count": 84,
   "id": "20ee5f93-b5a2-4fd4-a362-085fb6c822b8",
   "metadata": {},
   "outputs": [
    {
     "ename": "ZeroDivisionError",
     "evalue": "division by zero",
     "output_type": "error",
     "traceback": [
      "\u001b[0;31m---------------------------------------------------------------------------\u001b[0m",
      "\u001b[0;31mZeroDivisionError\u001b[0m                         Traceback (most recent call last)",
      "Cell \u001b[0;32mIn[84], line 1\u001b[0m\n\u001b[0;32m----> 1\u001b[0m \u001b[38;5;241;43m5\u001b[39;49m\u001b[38;5;241;43m/\u001b[39;49m\u001b[38;5;241;43m0\u001b[39;49m\n",
      "\u001b[0;31mZeroDivisionError\u001b[0m: division by zero"
     ]
    }
   ],
   "source": [
    "5/0"
   ]
  },
  {
   "cell_type": "code",
   "execution_count": 86,
   "id": "a70e3bfc-d366-4e96-a49e-587e88e5d1aa",
   "metadata": {},
   "outputs": [],
   "source": [
    "# Errorの回避\n",
    "try:\n",
    "    5/0\n",
    "except ZeroDivisionError as e:\n",
    "    None"
   ]
  },
  {
   "cell_type": "code",
   "execution_count": 88,
   "id": "1a7a9c72-e164-4813-b39c-f927eb7a6029",
   "metadata": {
    "scrolled": true
   },
   "outputs": [
    {
     "data": {
      "text/plain": [
       "10715086071862673209484250490600018105614048117055336074437503883703510511249361224931983788156958581275946729175531468251871452856923140435984577574698574803934567774824230985421074605062371141877954182153046474983581941267398767559165543946077062914571196477686542167660429831652624386837205668069376"
      ]
     },
     "execution_count": 88,
     "metadata": {},
     "output_type": "execute_result"
    }
   ],
   "source": [
    "2**1000"
   ]
  },
  {
   "cell_type": "markdown",
   "id": "8d52e69d-8d51-4f81-94e0-83ff5401bfc9",
   "metadata": {},
   "source": [
    "### 比較演算子"
   ]
  },
  {
   "cell_type": "code",
   "execution_count": 117,
   "id": "b732e6a5-0f05-4284-b0be-566ccf034662",
   "metadata": {},
   "outputs": [
    {
     "data": {
      "text/plain": [
       "True"
      ]
     },
     "execution_count": 117,
     "metadata": {},
     "output_type": "execute_result"
    }
   ],
   "source": [
    "1 == 1.0"
   ]
  },
  {
   "cell_type": "code",
   "execution_count": 118,
   "id": "e22a29f9-f200-474b-af6e-82ce6fdd3e2f",
   "metadata": {},
   "outputs": [
    {
     "data": {
      "text/plain": [
       "False"
      ]
     },
     "execution_count": 118,
     "metadata": {},
     "output_type": "execute_result"
    }
   ],
   "source": [
    "1 == '1'"
   ]
  },
  {
   "cell_type": "code",
   "execution_count": 120,
   "id": "fa87e62e-b398-48c7-9455-921fbf6d7d02",
   "metadata": {},
   "outputs": [
    {
     "data": {
      "text/plain": [
       "True"
      ]
     },
     "execution_count": 120,
     "metadata": {},
     "output_type": "execute_result"
    }
   ],
   "source": [
    "True == 1"
   ]
  },
  {
   "cell_type": "code",
   "execution_count": 122,
   "id": "8663d220-b187-44bc-80cf-e965cd15dc70",
   "metadata": {},
   "outputs": [
    {
     "data": {
      "text/plain": [
       "True"
      ]
     },
     "execution_count": 122,
     "metadata": {},
     "output_type": "execute_result"
    }
   ],
   "source": [
    "False == 0"
   ]
  },
  {
   "cell_type": "code",
   "execution_count": 125,
   "id": "974ab614-b774-4b9e-9332-3f38a0fffdb2",
   "metadata": {},
   "outputs": [
    {
     "data": {
      "text/plain": [
       "False"
      ]
     },
     "execution_count": 125,
     "metadata": {},
     "output_type": "execute_result"
    }
   ],
   "source": [
    "None == 0"
   ]
  },
  {
   "cell_type": "code",
   "execution_count": 110,
   "id": "5d3d89fc-421c-474d-80bb-00f7e82c6069",
   "metadata": {},
   "outputs": [],
   "source": [
    "alist = [i for i in range(0,1000,1)]\n",
    "aset = set(alist)"
   ]
  },
  {
   "cell_type": "code",
   "execution_count": 114,
   "id": "788bd5e8-6429-4d97-b99b-2c77bdb5cdba",
   "metadata": {},
   "outputs": [
    {
     "name": "stdout",
     "output_type": "stream",
     "text": [
      "2.23 µs ± 18.4 ns per loop (mean ± std. dev. of 7 runs, 100,000 loops each)\n"
     ]
    }
   ],
   "source": [
    "%%timeit\n",
    "500 in alist"
   ]
  },
  {
   "cell_type": "code",
   "execution_count": 115,
   "id": "d19c5492-8bc9-4af5-b29a-d0ba4d3efb1c",
   "metadata": {},
   "outputs": [
    {
     "name": "stdout",
     "output_type": "stream",
     "text": [
      "14.8 ns ± 0.0353 ns per loop (mean ± std. dev. of 7 runs, 100,000,000 loops each)\n"
     ]
    }
   ],
   "source": [
    "%%timeit\n",
    "500 in aset"
   ]
  },
  {
   "cell_type": "code",
   "execution_count": 77,
   "id": "410f754b-3ab7-4d6f-9668-9b420e2f41f2",
   "metadata": {},
   "outputs": [],
   "source": [
    "import pandas as pd"
   ]
  },
  {
   "cell_type": "markdown",
   "id": "33f0c76b-3e60-4310-9995-15fb596a1914",
   "metadata": {},
   "source": [
    "### 論理演算子で世界のナベアツ"
   ]
  },
  {
   "cell_type": "code",
   "execution_count": 128,
   "id": "d5f79657-6bba-48ae-a09a-6c1ffea6c141",
   "metadata": {},
   "outputs": [
    {
     "name": "stdout",
     "output_type": "stream",
     "text": [
      "1: 普通\n",
      "2: 普通\n",
      "3: アホ！\n",
      "4: 普通\n",
      "5: 普通\n",
      "6: アホ！\n",
      "7: 普通\n",
      "8: 普通\n",
      "9: アホ！\n",
      "10: 普通\n",
      "11: 普通\n",
      "12: アホ！\n",
      "13: アホ！\n",
      "14: 普通\n",
      "15: アホ！\n",
      "16: 普通\n",
      "17: 普通\n",
      "18: アホ！\n",
      "19: 普通\n",
      "20: 普通\n",
      "21: アホ！\n",
      "22: 普通\n",
      "23: アホ！\n",
      "24: アホ！\n",
      "25: 普通\n",
      "26: 普通\n",
      "27: アホ！\n",
      "28: 普通\n",
      "29: 普通\n",
      "30: アホ！\n",
      "31: アホ！\n",
      "32: アホ！\n",
      "33: アホ！\n",
      "34: アホ！\n",
      "35: アホ！\n",
      "36: アホ！\n",
      "37: アホ！\n",
      "38: アホ！\n",
      "39: アホ！\n",
      "40: 普通\n",
      "41: 普通\n",
      "42: アホ！\n",
      "43: アホ！\n",
      "44: 普通\n",
      "45: アホ！\n",
      "46: 普通\n",
      "47: 普通\n",
      "48: アホ！\n",
      "49: 普通\n",
      "50: 普通\n",
      "51: アホ！\n",
      "52: 普通\n",
      "53: アホ！\n",
      "54: アホ！\n",
      "55: 普通\n",
      "56: 普通\n",
      "57: アホ！\n",
      "58: 普通\n",
      "59: 普通\n",
      "60: アホ！\n",
      "61: 普通\n",
      "62: 普通\n",
      "63: アホ！\n",
      "64: 普通\n",
      "65: 普通\n",
      "66: アホ！\n",
      "67: 普通\n",
      "68: 普通\n",
      "69: アホ！\n",
      "70: 普通\n",
      "71: 普通\n",
      "72: アホ！\n",
      "73: アホ！\n",
      "74: 普通\n",
      "75: アホ！\n",
      "76: 普通\n",
      "77: 普通\n",
      "78: アホ！\n",
      "79: 普通\n",
      "80: 普通\n",
      "81: アホ！\n",
      "82: 普通\n",
      "83: アホ！\n",
      "84: アホ！\n",
      "85: 普通\n",
      "86: 普通\n",
      "87: アホ！\n",
      "88: 普通\n",
      "89: 普通\n",
      "90: アホ！\n",
      "91: 普通\n",
      "92: 普通\n",
      "93: アホ！\n",
      "94: 普通\n",
      "95: 普通\n",
      "96: アホ！\n",
      "97: 普通\n",
      "98: 普通\n",
      "99: アホ！\n",
      "100: 普通\n"
     ]
    }
   ],
   "source": [
    "for i in range(1, 101):  # 1から100までチェック\n",
    "    if i % 3 == 0 or '3' in str(i):\n",
    "        print(f\"{i}: アホ！\")\n",
    "    else:\n",
    "        print(f\"{i}: 普通\")"
   ]
  },
  {
   "cell_type": "markdown",
   "id": "d412fc07-1612-4125-89b1-7c341e38616f",
   "metadata": {},
   "source": [
    "###  ド・モルガンの法則\n",
    "- $\\overline{A \\cup B} = \\overline{A} \\cap \\overline{B}$"
   ]
  },
  {
   "cell_type": "code",
   "execution_count": 137,
   "id": "7536ee48-f96c-4bcd-a15e-0f8d07870ce6",
   "metadata": {},
   "outputs": [
    {
     "data": {
      "text/plain": [
       "True"
      ]
     },
     "execution_count": 137,
     "metadata": {},
     "output_type": "execute_result"
    }
   ],
   "source": [
    "not (1 or 2) == ((not 1) and (not 2))"
   ]
  },
  {
   "cell_type": "markdown",
   "id": "237eb64d-bd23-4677-a745-ed42865fa65b",
   "metadata": {},
   "source": [
    "## 関数とその他"
   ]
  },
  {
   "cell_type": "code",
   "execution_count": 138,
   "id": "32f9e7ed-6bf7-4993-8c3e-59693613edb3",
   "metadata": {},
   "outputs": [],
   "source": [
    "def add_def(a, b=1):\n",
    "    return a + b\n",
    "\n",
    "add_lambda = lambda a, b=1: a + b"
   ]
  },
  {
   "cell_type": "code",
   "execution_count": 139,
   "id": "5b4dbffa-fd44-4991-a3f0-a9e4e0f91b9d",
   "metadata": {},
   "outputs": [
    {
     "data": {
      "text/plain": [
       "7"
      ]
     },
     "execution_count": 139,
     "metadata": {},
     "output_type": "execute_result"
    }
   ],
   "source": [
    "add_def(3,4)"
   ]
  },
  {
   "cell_type": "code",
   "execution_count": 140,
   "id": "ed9bfa5d-7f4d-44ce-8642-fd8804f2bfc3",
   "metadata": {},
   "outputs": [
    {
     "data": {
      "text/plain": [
       "7"
      ]
     },
     "execution_count": 140,
     "metadata": {},
     "output_type": "execute_result"
    }
   ],
   "source": [
    "add_lambda(3,4)"
   ]
  },
  {
   "cell_type": "markdown",
   "id": "12e51f9f-53d2-43b5-ba90-e1f977c24f29",
   "metadata": {},
   "source": [
    "### Pickleで保存"
   ]
  },
  {
   "cell_type": "code",
   "execution_count": 141,
   "id": "41bf282b-938e-4010-99b4-63e3d6bac512",
   "metadata": {},
   "outputs": [],
   "source": [
    "import pickle"
   ]
  },
  {
   "cell_type": "code",
   "execution_count": 147,
   "id": "d036c17f-0b2a-4515-be26-ff102e8b997d",
   "metadata": {},
   "outputs": [],
   "source": [
    "with open(\"./work/test.pkl\", 'wb') as f:\n",
    "    pickle.dump(zaikodic,f)"
   ]
  },
  {
   "cell_type": "code",
   "execution_count": 148,
   "id": "ed08c506-48c1-4103-b368-3c628cefe2cc",
   "metadata": {},
   "outputs": [],
   "source": [
    "with open(\"./work/test.pkl\",\"rb\") as f:\n",
    "    picdic = pickle.load(f)"
   ]
  },
  {
   "cell_type": "code",
   "execution_count": 149,
   "id": "b7792a99-d849-459d-bb2a-f50212e5ae46",
   "metadata": {},
   "outputs": [
    {
     "data": {
      "text/plain": [
       "{'apple': 5, 'orange': 3, 'banana': 100, ('フィリピン', 'banana'): 5}"
      ]
     },
     "execution_count": 149,
     "metadata": {},
     "output_type": "execute_result"
    }
   ],
   "source": [
    "picdic"
   ]
  },
  {
   "cell_type": "markdown",
   "id": "3b5604ab-048a-4b36-a20a-0c22c9220da1",
   "metadata": {},
   "source": [
    "## Pandasの基本"
   ]
  },
  {
   "cell_type": "code",
   "execution_count": 273,
   "id": "6defada6-7dc2-4deb-b1fe-772084b5894e",
   "metadata": {},
   "outputs": [],
   "source": [
    "df = pd.read_table(\"./work/c2table.tsv\")"
   ]
  },
  {
   "cell_type": "markdown",
   "id": "930d0ffc-5de8-4e4e-a611-65565a5fa0fd",
   "metadata": {},
   "source": [
    "### SeriesとDataFrame"
   ]
  },
  {
   "cell_type": "code",
   "execution_count": 178,
   "id": "66f8dbae-4228-47b6-a6cb-e97be35db176",
   "metadata": {},
   "outputs": [
    {
     "data": {
      "text/html": [
       "<div>\n",
       "<style scoped>\n",
       "    .dataframe tbody tr th:only-of-type {\n",
       "        vertical-align: middle;\n",
       "    }\n",
       "\n",
       "    .dataframe tbody tr th {\n",
       "        vertical-align: top;\n",
       "    }\n",
       "\n",
       "    .dataframe thead th {\n",
       "        text-align: right;\n",
       "    }\n",
       "</style>\n",
       "<table border=\"1\" class=\"dataframe\">\n",
       "  <thead>\n",
       "    <tr style=\"text-align: right;\">\n",
       "      <th></th>\n",
       "      <th>番号</th>\n",
       "      <th>あだ名</th>\n",
       "      <th>人生最大の失敗</th>\n",
       "      <th>昨日拾った物</th>\n",
       "      <th>前世の職業</th>\n",
       "      <th>くだらないスコア</th>\n",
       "    </tr>\n",
       "  </thead>\n",
       "  <tbody>\n",
       "    <tr>\n",
       "      <th>0</th>\n",
       "      <td>1</td>\n",
       "      <td>ポテチ将軍</td>\n",
       "      <td>ポテチ全部床に落とす</td>\n",
       "      <td>チクワ</td>\n",
       "      <td>ゆで卵職人</td>\n",
       "      <td>87</td>\n",
       "    </tr>\n",
       "    <tr>\n",
       "      <th>1</th>\n",
       "      <td>2</td>\n",
       "      <td>チクワ伯爵</td>\n",
       "      <td>チクワを間違えてUSBに挿す</td>\n",
       "      <td>半分のポテチ袋</td>\n",
       "      <td>カニかま製造員</td>\n",
       "      <td>93</td>\n",
       "    </tr>\n",
       "    <tr>\n",
       "      <th>2</th>\n",
       "      <td>3</td>\n",
       "      <td>USB先輩</td>\n",
       "      <td>USBを洗濯機で洗う</td>\n",
       "      <td>謎のUSBメモリ</td>\n",
       "      <td>竹馬配達人</td>\n",
       "      <td>85</td>\n",
       "    </tr>\n",
       "    <tr>\n",
       "      <th>3</th>\n",
       "      <td>4</td>\n",
       "      <td>ねじれ男</td>\n",
       "      <td>ねじれた人生をまっすぐにできない</td>\n",
       "      <td>ねじれた針金</td>\n",
       "      <td>こんにゃく栽培農家</td>\n",
       "      <td>91</td>\n",
       "    </tr>\n",
       "    <tr>\n",
       "      <th>4</th>\n",
       "      <td>5</td>\n",
       "      <td>こんにゃく番長</td>\n",
       "      <td>こんにゃくゼリー一気食いでむせる</td>\n",
       "      <td>落ちてたチクワ</td>\n",
       "      <td>ろうそく点灯係</td>\n",
       "      <td>88</td>\n",
       "    </tr>\n",
       "    <tr>\n",
       "      <th>5</th>\n",
       "      <td>6</td>\n",
       "      <td>ろうそく戦士</td>\n",
       "      <td>誕生日会で火を消せず燃える</td>\n",
       "      <td>半分燃えたろうそく</td>\n",
       "      <td>羊数え屋</td>\n",
       "      <td>79</td>\n",
       "    </tr>\n",
       "    <tr>\n",
       "      <th>6</th>\n",
       "      <td>7</td>\n",
       "      <td>数えミス中尉</td>\n",
       "      <td>羊を100匹数えたつもりで98匹だった</td>\n",
       "      <td>ひつじの毛玉</td>\n",
       "      <td>前髪カット名人</td>\n",
       "      <td>82</td>\n",
       "    </tr>\n",
       "    <tr>\n",
       "      <th>7</th>\n",
       "      <td>8</td>\n",
       "      <td>カット職人</td>\n",
       "      <td>前髪を切りすぎてサランラップで代用</td>\n",
       "      <td>曲がったハサミ</td>\n",
       "      <td>ペンギン訓練士</td>\n",
       "      <td>95</td>\n",
       "    </tr>\n",
       "    <tr>\n",
       "      <th>8</th>\n",
       "      <td>9</td>\n",
       "      <td>はさみさん</td>\n",
       "      <td>授業中にハサミで消しゴム切る</td>\n",
       "      <td>落ちてたチクワ（再登場）</td>\n",
       "      <td>蚊帳設置士</td>\n",
       "      <td>89</td>\n",
       "    </tr>\n",
       "    <tr>\n",
       "      <th>9</th>\n",
       "      <td>10</td>\n",
       "      <td>消しゴム神</td>\n",
       "      <td>好きな人に借りた消しゴム食べる</td>\n",
       "      <td>食べかけのこんにゃくゼリー</td>\n",
       "      <td>とうふ角丸職人</td>\n",
       "      <td>96</td>\n",
       "    </tr>\n",
       "    <tr>\n",
       "      <th>10</th>\n",
       "      <td>11</td>\n",
       "      <td>角丸先生</td>\n",
       "      <td>四角いとうふを丸く削って怒られる</td>\n",
       "      <td>角の取れた石</td>\n",
       "      <td>モグラ穴掘り監督</td>\n",
       "      <td>84</td>\n",
       "    </tr>\n",
       "    <tr>\n",
       "      <th>11</th>\n",
       "      <td>12</td>\n",
       "      <td>石フェチくん</td>\n",
       "      <td>宝石と思って拾ったのがただの石</td>\n",
       "      <td>折れた竹馬</td>\n",
       "      <td>傘立て整理員</td>\n",
       "      <td>77</td>\n",
       "    </tr>\n",
       "    <tr>\n",
       "      <th>12</th>\n",
       "      <td>13</td>\n",
       "      <td>傘立てボーイ</td>\n",
       "      <td>傘を差してるのに濡れる</td>\n",
       "      <td>カビた傘</td>\n",
       "      <td>流しそうめん監視員</td>\n",
       "      <td>90</td>\n",
       "    </tr>\n",
       "    <tr>\n",
       "      <th>13</th>\n",
       "      <td>14</td>\n",
       "      <td>そうめん仙人</td>\n",
       "      <td>そうめんをストローで吸って窒息</td>\n",
       "      <td>乾いたバナナの皮</td>\n",
       "      <td>キリンの首伸ばし係</td>\n",
       "      <td>94</td>\n",
       "    </tr>\n",
       "    <tr>\n",
       "      <th>14</th>\n",
       "      <td>15</td>\n",
       "      <td>バナナ警備員</td>\n",
       "      <td>すべって転んで未来が変わった</td>\n",
       "      <td>滑り止めのないサンダル</td>\n",
       "      <td>ペンギン訓練士（再登場）</td>\n",
       "      <td>86</td>\n",
       "    </tr>\n",
       "    <tr>\n",
       "      <th>15</th>\n",
       "      <td>16</td>\n",
       "      <td>サンダル係長</td>\n",
       "      <td>左右違うサンダルで出社</td>\n",
       "      <td>濡れた軍手</td>\n",
       "      <td>うずら卵鑑定士</td>\n",
       "      <td>83</td>\n",
       "    </tr>\n",
       "    <tr>\n",
       "      <th>16</th>\n",
       "      <td>17</td>\n",
       "      <td>軍手マスター</td>\n",
       "      <td>軍手の中から恋文発見</td>\n",
       "      <td>ねじれたハサミ（再登場）</td>\n",
       "      <td>蚊帳設置士（再登場）</td>\n",
       "      <td>81</td>\n",
       "    </tr>\n",
       "    <tr>\n",
       "      <th>17</th>\n",
       "      <td>18</td>\n",
       "      <td>ゼリー中毒者</td>\n",
       "      <td>ゼリーだけで3日生活</td>\n",
       "      <td>ゼリーのふた</td>\n",
       "      <td>ゆで卵職人（再登場）</td>\n",
       "      <td>92</td>\n",
       "    </tr>\n",
       "    <tr>\n",
       "      <th>18</th>\n",
       "      <td>19</td>\n",
       "      <td>豆腐クラッシャー</td>\n",
       "      <td>豆腐を素手で潰す大会で優勝</td>\n",
       "      <td>つぶれたUSB</td>\n",
       "      <td>竹馬配達人（再登場）</td>\n",
       "      <td>80</td>\n",
       "    </tr>\n",
       "    <tr>\n",
       "      <th>19</th>\n",
       "      <td>20</td>\n",
       "      <td>影のチクワ</td>\n",
       "      <td>影にチクワを見た気がする</td>\n",
       "      <td>チクワ（これで3回目）</td>\n",
       "      <td>チクワ配達員（今世も）</td>\n",
       "      <td>100</td>\n",
       "    </tr>\n",
       "  </tbody>\n",
       "</table>\n",
       "</div>"
      ],
      "text/plain": [
       "    番号       あだ名              人生最大の失敗         昨日拾った物         前世の職業  くだらないスコア\n",
       "0    1     ポテチ将軍           ポテチ全部床に落とす            チクワ         ゆで卵職人        87\n",
       "1    2     チクワ伯爵       チクワを間違えてUSBに挿す        半分のポテチ袋       カニかま製造員        93\n",
       "2    3     USB先輩           USBを洗濯機で洗う       謎のUSBメモリ         竹馬配達人        85\n",
       "3    4      ねじれ男     ねじれた人生をまっすぐにできない         ねじれた針金     こんにゃく栽培農家        91\n",
       "4    5   こんにゃく番長     こんにゃくゼリー一気食いでむせる        落ちてたチクワ       ろうそく点灯係        88\n",
       "5    6    ろうそく戦士        誕生日会で火を消せず燃える      半分燃えたろうそく          羊数え屋        79\n",
       "6    7    数えミス中尉  羊を100匹数えたつもりで98匹だった         ひつじの毛玉       前髪カット名人        82\n",
       "7    8     カット職人    前髪を切りすぎてサランラップで代用        曲がったハサミ       ペンギン訓練士        95\n",
       "8    9     はさみさん       授業中にハサミで消しゴム切る   落ちてたチクワ（再登場）         蚊帳設置士        89\n",
       "9   10     消しゴム神      好きな人に借りた消しゴム食べる  食べかけのこんにゃくゼリー       とうふ角丸職人        96\n",
       "10  11      角丸先生     四角いとうふを丸く削って怒られる         角の取れた石      モグラ穴掘り監督        84\n",
       "11  12    石フェチくん      宝石と思って拾ったのがただの石          折れた竹馬        傘立て整理員        77\n",
       "12  13    傘立てボーイ          傘を差してるのに濡れる           カビた傘     流しそうめん監視員        90\n",
       "13  14    そうめん仙人      そうめんをストローで吸って窒息       乾いたバナナの皮     キリンの首伸ばし係        94\n",
       "14  15    バナナ警備員       すべって転んで未来が変わった    滑り止めのないサンダル  ペンギン訓練士（再登場）        86\n",
       "15  16    サンダル係長          左右違うサンダルで出社          濡れた軍手       うずら卵鑑定士        83\n",
       "16  17    軍手マスター           軍手の中から恋文発見   ねじれたハサミ（再登場）    蚊帳設置士（再登場）        81\n",
       "17  18    ゼリー中毒者           ゼリーだけで3日生活         ゼリーのふた    ゆで卵職人（再登場）        92\n",
       "18  19  豆腐クラッシャー        豆腐を素手で潰す大会で優勝        つぶれたUSB    竹馬配達人（再登場）        80\n",
       "19  20     影のチクワ         影にチクワを見た気がする    チクワ（これで3回目）   チクワ配達員（今世も）       100"
      ]
     },
     "execution_count": 178,
     "metadata": {},
     "output_type": "execute_result"
    }
   ],
   "source": [
    "df"
   ]
  },
  {
   "cell_type": "code",
   "execution_count": 167,
   "id": "40621ac5-11c6-4e1e-9cba-1a1ec89022f4",
   "metadata": {},
   "outputs": [
    {
     "data": {
      "text/plain": [
       "pandas.core.frame.DataFrame"
      ]
     },
     "execution_count": 167,
     "metadata": {},
     "output_type": "execute_result"
    }
   ],
   "source": [
    "type(df)"
   ]
  },
  {
   "cell_type": "code",
   "execution_count": 174,
   "id": "421ab469-6470-4baf-838d-f3b659d6bb85",
   "metadata": {},
   "outputs": [
    {
     "data": {
      "text/plain": [
       "pandas.core.series.Series"
      ]
     },
     "execution_count": 174,
     "metadata": {},
     "output_type": "execute_result"
    }
   ],
   "source": [
    "type(df.iloc[0,:])"
   ]
  },
  {
   "cell_type": "code",
   "execution_count": 177,
   "id": "a6b42a79-9a99-4bba-992c-990d9e2dba3a",
   "metadata": {},
   "outputs": [
    {
     "data": {
      "text/html": [
       "<div>\n",
       "<style scoped>\n",
       "    .dataframe tbody tr th:only-of-type {\n",
       "        vertical-align: middle;\n",
       "    }\n",
       "\n",
       "    .dataframe tbody tr th {\n",
       "        vertical-align: top;\n",
       "    }\n",
       "\n",
       "    .dataframe thead th {\n",
       "        text-align: right;\n",
       "    }\n",
       "</style>\n",
       "<table border=\"1\" class=\"dataframe\">\n",
       "  <thead>\n",
       "    <tr style=\"text-align: right;\">\n",
       "      <th></th>\n",
       "      <th>番号</th>\n",
       "      <th>くだらないスコア</th>\n",
       "    </tr>\n",
       "  </thead>\n",
       "  <tbody>\n",
       "    <tr>\n",
       "      <th>count</th>\n",
       "      <td>20.00000</td>\n",
       "      <td>20.000000</td>\n",
       "    </tr>\n",
       "    <tr>\n",
       "      <th>mean</th>\n",
       "      <td>10.50000</td>\n",
       "      <td>87.600000</td>\n",
       "    </tr>\n",
       "    <tr>\n",
       "      <th>std</th>\n",
       "      <td>5.91608</td>\n",
       "      <td>6.286159</td>\n",
       "    </tr>\n",
       "    <tr>\n",
       "      <th>min</th>\n",
       "      <td>1.00000</td>\n",
       "      <td>77.000000</td>\n",
       "    </tr>\n",
       "    <tr>\n",
       "      <th>25%</th>\n",
       "      <td>5.75000</td>\n",
       "      <td>82.750000</td>\n",
       "    </tr>\n",
       "    <tr>\n",
       "      <th>50%</th>\n",
       "      <td>10.50000</td>\n",
       "      <td>87.500000</td>\n",
       "    </tr>\n",
       "    <tr>\n",
       "      <th>75%</th>\n",
       "      <td>15.25000</td>\n",
       "      <td>92.250000</td>\n",
       "    </tr>\n",
       "    <tr>\n",
       "      <th>max</th>\n",
       "      <td>20.00000</td>\n",
       "      <td>100.000000</td>\n",
       "    </tr>\n",
       "  </tbody>\n",
       "</table>\n",
       "</div>"
      ],
      "text/plain": [
       "             番号    くだらないスコア\n",
       "count  20.00000   20.000000\n",
       "mean   10.50000   87.600000\n",
       "std     5.91608    6.286159\n",
       "min     1.00000   77.000000\n",
       "25%     5.75000   82.750000\n",
       "50%    10.50000   87.500000\n",
       "75%    15.25000   92.250000\n",
       "max    20.00000  100.000000"
      ]
     },
     "execution_count": 177,
     "metadata": {},
     "output_type": "execute_result"
    }
   ],
   "source": [
    "df.describe()"
   ]
  },
  {
   "cell_type": "code",
   "execution_count": 176,
   "id": "0429c62d-b942-45e8-a757-a4573f8e9e73",
   "metadata": {},
   "outputs": [
    {
     "data": {
      "text/plain": [
       "['番号', 'あだ名', '人生最大の失敗', '昨日拾った物', '前世の職業', 'くだらないスコア']"
      ]
     },
     "execution_count": 176,
     "metadata": {},
     "output_type": "execute_result"
    }
   ],
   "source": [
    "df.columns.to_list()"
   ]
  },
  {
   "cell_type": "markdown",
   "id": "844abcaf-64cf-41db-b8fb-b4f7a056f88d",
   "metadata": {},
   "source": [
    "### 番号が15より後ろでくだらないスコア90以上"
   ]
  },
  {
   "cell_type": "code",
   "execution_count": 179,
   "id": "ca35e996-b115-48d7-96a7-f0c5f2267dbe",
   "metadata": {},
   "outputs": [
    {
     "data": {
      "text/html": [
       "<div>\n",
       "<style scoped>\n",
       "    .dataframe tbody tr th:only-of-type {\n",
       "        vertical-align: middle;\n",
       "    }\n",
       "\n",
       "    .dataframe tbody tr th {\n",
       "        vertical-align: top;\n",
       "    }\n",
       "\n",
       "    .dataframe thead th {\n",
       "        text-align: right;\n",
       "    }\n",
       "</style>\n",
       "<table border=\"1\" class=\"dataframe\">\n",
       "  <thead>\n",
       "    <tr style=\"text-align: right;\">\n",
       "      <th></th>\n",
       "      <th>番号</th>\n",
       "      <th>あだ名</th>\n",
       "      <th>人生最大の失敗</th>\n",
       "      <th>昨日拾った物</th>\n",
       "      <th>前世の職業</th>\n",
       "      <th>くだらないスコア</th>\n",
       "    </tr>\n",
       "  </thead>\n",
       "  <tbody>\n",
       "    <tr>\n",
       "      <th>17</th>\n",
       "      <td>18</td>\n",
       "      <td>ゼリー中毒者</td>\n",
       "      <td>ゼリーだけで3日生活</td>\n",
       "      <td>ゼリーのふた</td>\n",
       "      <td>ゆで卵職人（再登場）</td>\n",
       "      <td>92</td>\n",
       "    </tr>\n",
       "    <tr>\n",
       "      <th>19</th>\n",
       "      <td>20</td>\n",
       "      <td>影のチクワ</td>\n",
       "      <td>影にチクワを見た気がする</td>\n",
       "      <td>チクワ（これで3回目）</td>\n",
       "      <td>チクワ配達員（今世も）</td>\n",
       "      <td>100</td>\n",
       "    </tr>\n",
       "  </tbody>\n",
       "</table>\n",
       "</div>"
      ],
      "text/plain": [
       "    番号     あだ名       人生最大の失敗       昨日拾った物        前世の職業  くだらないスコア\n",
       "17  18  ゼリー中毒者    ゼリーだけで3日生活       ゼリーのふた   ゆで卵職人（再登場）        92\n",
       "19  20   影のチクワ  影にチクワを見た気がする  チクワ（これで3回目）  チクワ配達員（今世も）       100"
      ]
     },
     "execution_count": 179,
     "metadata": {},
     "output_type": "execute_result"
    }
   ],
   "source": [
    "df[(df[\"番号\"]>15) & (df[\"くだらないスコア\"]>=90)]"
   ]
  },
  {
   "cell_type": "markdown",
   "id": "2c202ecd-3408-469a-af14-7c1a08d70705",
   "metadata": {},
   "source": [
    "## numpy基礎"
   ]
  },
  {
   "cell_type": "code",
   "execution_count": 180,
   "id": "fdde77af-88bb-4106-abf3-f58d0d4b76f3",
   "metadata": {},
   "outputs": [],
   "source": [
    "import numpy as np"
   ]
  },
  {
   "cell_type": "code",
   "execution_count": 181,
   "id": "3eacde9f-d7da-411d-b4ba-fa899db482e5",
   "metadata": {},
   "outputs": [],
   "source": [
    "a = np.array([1,2])\n",
    "b = np.array([3,4])"
   ]
  },
  {
   "cell_type": "markdown",
   "id": "4830b9e7-f0d7-4e97-94e8-c744f048b3da",
   "metadata": {},
   "source": [
    "$\\boldsymbol{a} \\cdot \\boldsymbol{b}$"
   ]
  },
  {
   "cell_type": "code",
   "execution_count": 188,
   "id": "56cc8f22-a764-4fb9-8e4d-71bfbd4012f6",
   "metadata": {},
   "outputs": [
    {
     "data": {
      "text/plain": [
       "11"
      ]
     },
     "execution_count": 188,
     "metadata": {},
     "output_type": "execute_result"
    }
   ],
   "source": [
    "np.dot(a,b.T) #内積 .Tは転値"
   ]
  },
  {
   "cell_type": "markdown",
   "id": "1f5deb55-439a-48c6-a0f6-62b5feaab504",
   "metadata": {},
   "source": [
    "$\\boldsymbol{a} \\circ \\boldsymbol{b}$"
   ]
  },
  {
   "cell_type": "code",
   "execution_count": 183,
   "id": "01f362fb-1138-4f3a-a37d-c6b254c7f5c2",
   "metadata": {},
   "outputs": [
    {
     "data": {
      "text/plain": [
       "array([3, 8])"
      ]
     },
     "execution_count": 183,
     "metadata": {},
     "output_type": "execute_result"
    }
   ],
   "source": [
    "a * b # 要素積"
   ]
  },
  {
   "cell_type": "code",
   "execution_count": 184,
   "id": "420a5f16-908f-430b-b145-2db9c4f86a47",
   "metadata": {},
   "outputs": [],
   "source": [
    "c = np.array([[5,6],[7,8]])"
   ]
  },
  {
   "cell_type": "code",
   "execution_count": 185,
   "id": "cb343d2f-f070-4f35-bef2-00f2b37e024c",
   "metadata": {},
   "outputs": [
    {
     "data": {
      "text/plain": [
       "array([[5, 6],\n",
       "       [7, 8]])"
      ]
     },
     "execution_count": 185,
     "metadata": {},
     "output_type": "execute_result"
    }
   ],
   "source": [
    "c"
   ]
  },
  {
   "cell_type": "code",
   "execution_count": 186,
   "id": "83ff756e-84f1-44ac-bde2-c2c3bae33bb6",
   "metadata": {},
   "outputs": [
    {
     "data": {
      "text/plain": [
       "(2, 2)"
      ]
     },
     "execution_count": 186,
     "metadata": {},
     "output_type": "execute_result"
    }
   ],
   "source": [
    "c.shape"
   ]
  },
  {
   "cell_type": "code",
   "execution_count": 190,
   "id": "d4b23810-92e1-4a6c-aa0e-00350e3ea12c",
   "metadata": {},
   "outputs": [
    {
     "data": {
      "text/plain": [
       "array([17, 23])"
      ]
     },
     "execution_count": 190,
     "metadata": {},
     "output_type": "execute_result"
    }
   ],
   "source": [
    "np.dot(a, c.T)"
   ]
  },
  {
   "cell_type": "code",
   "execution_count": 191,
   "id": "f74c9499-4d81-43ec-be96-f84e2eaacc71",
   "metadata": {
    "scrolled": true
   },
   "outputs": [
    {
     "data": {
      "text/plain": [
       "array([[ 5, 12],\n",
       "       [ 7, 16]])"
      ]
     },
     "execution_count": 191,
     "metadata": {},
     "output_type": "execute_result"
    }
   ],
   "source": [
    "a * c"
   ]
  },
  {
   "cell_type": "markdown",
   "id": "1f5d8c21-3ea1-4969-9d66-a4e4e1715ba3",
   "metadata": {},
   "source": [
    "### 連結"
   ]
  },
  {
   "cell_type": "code",
   "execution_count": 202,
   "id": "0e426a48-7b82-46cc-839b-80ff38d9d777",
   "metadata": {},
   "outputs": [],
   "source": [
    "d = np.vstack((a,b))"
   ]
  },
  {
   "cell_type": "code",
   "execution_count": 203,
   "id": "82e28a34-5368-434a-9623-059b4408e4ce",
   "metadata": {},
   "outputs": [
    {
     "data": {
      "text/plain": [
       "array([[1, 2],\n",
       "       [3, 4]])"
      ]
     },
     "execution_count": 203,
     "metadata": {},
     "output_type": "execute_result"
    }
   ],
   "source": [
    "d"
   ]
  },
  {
   "cell_type": "code",
   "execution_count": 206,
   "id": "80b8317f-d774-4b16-aae0-6139e881aab7",
   "metadata": {},
   "outputs": [
    {
     "data": {
      "text/plain": [
       "array([[1, 2, 5, 6],\n",
       "       [3, 4, 7, 8]])"
      ]
     },
     "execution_count": 206,
     "metadata": {},
     "output_type": "execute_result"
    }
   ],
   "source": [
    "np.hstack((d,c))"
   ]
  },
  {
   "cell_type": "markdown",
   "id": "c6d4b77c-f5fc-4951-89eb-a732755ffd8e",
   "metadata": {},
   "source": [
    "## Matplotlib基礎\n",
    "- 書き方が色々ありわかりにくいので以下を基本にしよう\n",
    "- fig を定義し、そこに必要な図(Axes)を足していく\n",
    "- add_subplotの最初の２つの数字は図の行数、列数を表し、３つ目はその何番目かを表す。今回は2行1列の図の１番目と２番目を描画している"
   ]
  },
  {
   "cell_type": "code",
   "execution_count": 270,
   "id": "086b8f6b-cc75-4098-969a-e0ec8916c87e",
   "metadata": {},
   "outputs": [],
   "source": [
    "import matplotlib.pyplot as plt\n",
    "import japanize_matplotlib"
   ]
  },
  {
   "cell_type": "code",
   "execution_count": 272,
   "id": "8372a82a-ceb9-4505-8a3d-7e30b260b738",
   "metadata": {},
   "outputs": [
    {
     "data": {
      "image/png": "[encoded data removed]",
      "text/plain": [
       "<Figure size 640x480 with 2 Axes>"
      ]
     },
     "metadata": {},
     "output_type": "display_data"
    }
   ],
   "source": [
    "def f(t):\n",
    "    return np.exp(-t) * np.cos(2*np.pi*t)\n",
    "\n",
    "t1 = np.arange(0.0, 5.0, 0.1)\n",
    "t2 = np.arange(0.0, 5.0, 0.02)\n",
    "\n",
    "fig = plt.figure()\n",
    "fig.subplots_adjust(hspace=0.5)\n",
    "fig.suptitle(\"all graph\")\n",
    "\n",
    "ax1 = fig.add_subplot(211, title=\"グラフ1\",xlabel=\"time\", ylabel=\"value\")\n",
    "ax1.plot(t1, f(t1), 'bo')\n",
    "\n",
    "ax2 = fig.add_subplot(212, title=\"グラフ2\",xlabel=\"time\", ylabel=\"value\")\n",
    "ax2.plot(t2, np.cos(2*np.pi*t2), 'r--')\n",
    "\n",
    "fig.show()"
   ]
  },
  {
   "cell_type": "code",
   "execution_count": null,
   "id": "0e4c011b-7171-404a-bc37-50f7ae0a0bf0",
   "metadata": {},
   "outputs": [],
   "source": []
  }
 ],
 "metadata": {
  "kernelspec": {
   "display_name": "Python 3 (ipykernel)",
   "language": "python",
   "name": "python3"
  },
  "language_info": {
   "codemirror_mode": {
    "name": "ipython",
    "version": 3
   },
   "file_extension": ".py",
   "mimetype": "text/x-python",
   "name": "python",
   "nbconvert_exporter": "python",
   "pygments_lexer": "ipython3",
   "version": "3.11.6"
  }
 },
 "nbformat": 4,
 "nbformat_minor": 5
}
