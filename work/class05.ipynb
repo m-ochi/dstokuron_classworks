{
 "cells": [
  {
   "cell_type": "markdown",
   "id": "619b89f1-fd68-43ae-8521-755e10f9bcd7",
   "metadata": {},
   "source": [
    "# 袋から取り出す問題でベイズ推定\n",
    "- 観測結果から袋の選好（どの袋を好んで選んでいるか）推定したい\n",
    "- 各袋の中身は、袋１：白玉１、赤玉９、袋２：白玉３、赤玉３、袋３：白玉９、赤玉１とする\n",
    "- 袋を選ぶ人は実は袋１だけをやたら選ぶ人だとして、観測結果からそれを推定してみよう\n",
    "- 重みつき乱数選択には、Walker's Alias Methodという効率の良い方法があります。興味があれば調べてみてください\n",
    "- 今回の手法は非常にナイーブな方法ですので実用的ではありません"
   ]
  },
  {
   "cell_type": "code",
   "execution_count": 1,
   "id": "58d5d13e-177f-42f9-b9f5-42808b93bddf",
   "metadata": {},
   "outputs": [],
   "source": [
    "# 真の選好（袋１だけ妙に好き）これを推定したい\n",
    "#true_p_b = [1/3,1/3,1-2/3]\n",
    "true_p_b = [0.7,0.2,0.1]"
   ]
  },
  {
   "cell_type": "code",
   "execution_count": 2,
   "id": "b8e027e2-f1a0-4cb5-8780-e6942c286b0d",
   "metadata": {},
   "outputs": [],
   "source": [
    "#事前確率（各袋を選ぶ確率、観測する前の思い込み）\n",
    "p_b = [1/3,1/3,1-2/3]"
   ]
  },
  {
   "cell_type": "code",
   "execution_count": 3,
   "id": "5659532c-c6df-4b0f-ac2b-1ec3e25887ab",
   "metadata": {},
   "outputs": [],
   "source": [
    "#条件付き確率(各袋で白玉が出る確率)\n",
    "p_c1_bs = [0.1,0.5,0.9] #袋１で白玉が出る確率・・・"
   ]
  },
  {
   "cell_type": "code",
   "execution_count": 4,
   "id": "3020a118-e593-4c0d-8e09-8cbeb896be07",
   "metadata": {},
   "outputs": [],
   "source": [
    "import random\n",
    "import numpy as np\n",
    "\n",
    "class SimpleChoiceByWeight():\n",
    "    def __init__(self, weights):\n",
    "        self.weights = np.array(weights)\n",
    "        self.weight_sum = sum(weights)\n",
    "        self.weights = self.weights / self.weight_sum\n",
    "\n",
    "    def choice(self):\n",
    "        r = random.random()\n",
    "\n",
    "        num = 0\n",
    "        for i, weight in enumerate(self.weights):\n",
    "            num += weight\n",
    "            if r <= num:\n",
    "                return i"
   ]
  },
  {
   "cell_type": "code",
   "execution_count": 5,
   "id": "8703647d-2748-4f30-a42c-8c6495bc7aea",
   "metadata": {},
   "outputs": [],
   "source": [
    "# 10回ばかり袋を選び、玉を取り出してみる"
   ]
  },
  {
   "cell_type": "code",
   "execution_count": 6,
   "id": "e3dc3d71-60cd-4fee-9f01-f8f738ae5b35",
   "metadata": {},
   "outputs": [],
   "source": [
    "bg_sel = SimpleChoiceByWeight(true_p_b) #袋の選択\n",
    "\n",
    "def ball_sampling():\n",
    "    # 袋を選んで、玉を取り出す\n",
    "    bag_id = bg_sel.choice()\n",
    "    p_c1_b = p_c1_bs[bag_id]\n",
    "    r = random.random()\n",
    "    if r < p_c1_b:\n",
    "        return '白玉'\n",
    "    else:\n",
    "        return '赤玉'  "
   ]
  },
  {
   "cell_type": "code",
   "execution_count": 7,
   "id": "038820cb-4a9c-4834-b9bd-887a6a75c02d",
   "metadata": {},
   "outputs": [],
   "source": [
    "results = []\n",
    "for i in range(10000):\n",
    "    res = ball_sampling()\n",
    "    results.append(res)"
   ]
  },
  {
   "cell_type": "code",
   "execution_count": 8,
   "id": "a119d1cb-cf32-4c65-8414-d1dd34d851ce",
   "metadata": {},
   "outputs": [],
   "source": [
    "import pandas as pd\n",
    "df = pd.DataFrame(results)"
   ]
  },
  {
   "cell_type": "code",
   "execution_count": 9,
   "id": "9d211fd0-4475-4691-b00c-662a2c9e3dde",
   "metadata": {},
   "outputs": [
    {
     "data": {
      "text/html": [
       "<div>\n",
       "<style scoped>\n",
       "    .dataframe tbody tr th:only-of-type {\n",
       "        vertical-align: middle;\n",
       "    }\n",
       "\n",
       "    .dataframe tbody tr th {\n",
       "        vertical-align: top;\n",
       "    }\n",
       "\n",
       "    .dataframe thead th {\n",
       "        text-align: right;\n",
       "    }\n",
       "</style>\n",
       "<table border=\"1\" class=\"dataframe\">\n",
       "  <thead>\n",
       "    <tr style=\"text-align: right;\">\n",
       "      <th></th>\n",
       "      <th>0</th>\n",
       "    </tr>\n",
       "  </thead>\n",
       "  <tbody>\n",
       "    <tr>\n",
       "      <th>0</th>\n",
       "      <td>白玉</td>\n",
       "    </tr>\n",
       "    <tr>\n",
       "      <th>1</th>\n",
       "      <td>赤玉</td>\n",
       "    </tr>\n",
       "    <tr>\n",
       "      <th>2</th>\n",
       "      <td>赤玉</td>\n",
       "    </tr>\n",
       "    <tr>\n",
       "      <th>3</th>\n",
       "      <td>赤玉</td>\n",
       "    </tr>\n",
       "    <tr>\n",
       "      <th>4</th>\n",
       "      <td>赤玉</td>\n",
       "    </tr>\n",
       "    <tr>\n",
       "      <th>...</th>\n",
       "      <td>...</td>\n",
       "    </tr>\n",
       "    <tr>\n",
       "      <th>9995</th>\n",
       "      <td>赤玉</td>\n",
       "    </tr>\n",
       "    <tr>\n",
       "      <th>9996</th>\n",
       "      <td>白玉</td>\n",
       "    </tr>\n",
       "    <tr>\n",
       "      <th>9997</th>\n",
       "      <td>赤玉</td>\n",
       "    </tr>\n",
       "    <tr>\n",
       "      <th>9998</th>\n",
       "      <td>白玉</td>\n",
       "    </tr>\n",
       "    <tr>\n",
       "      <th>9999</th>\n",
       "      <td>赤玉</td>\n",
       "    </tr>\n",
       "  </tbody>\n",
       "</table>\n",
       "<p>10000 rows × 1 columns</p>\n",
       "</div>"
      ],
      "text/plain": [
       "       0\n",
       "0     白玉\n",
       "1     赤玉\n",
       "2     赤玉\n",
       "3     赤玉\n",
       "4     赤玉\n",
       "...   ..\n",
       "9995  赤玉\n",
       "9996  白玉\n",
       "9997  赤玉\n",
       "9998  白玉\n",
       "9999  赤玉\n",
       "\n",
       "[10000 rows x 1 columns]"
      ]
     },
     "execution_count": 9,
     "metadata": {},
     "output_type": "execute_result"
    }
   ],
   "source": [
    "df"
   ]
  },
  {
   "cell_type": "code",
   "execution_count": 10,
   "id": "3bb92fa9-d7a7-4586-9273-1c257ae48c2b",
   "metadata": {},
   "outputs": [
    {
     "data": {
      "text/plain": [
       "7344"
      ]
     },
     "execution_count": 10,
     "metadata": {},
     "output_type": "execute_result"
    }
   ],
   "source": [
    "results.count(\"赤玉\")"
   ]
  },
  {
   "cell_type": "code",
   "execution_count": 11,
   "id": "9c79d2a7-9bb0-413a-9fdc-e51d56b17f26",
   "metadata": {},
   "outputs": [
    {
     "data": {
      "text/html": [
       "<div>\n",
       "<style scoped>\n",
       "    .dataframe tbody tr th:only-of-type {\n",
       "        vertical-align: middle;\n",
       "    }\n",
       "\n",
       "    .dataframe tbody tr th {\n",
       "        vertical-align: top;\n",
       "    }\n",
       "\n",
       "    .dataframe thead th {\n",
       "        text-align: right;\n",
       "    }\n",
       "</style>\n",
       "<table border=\"1\" class=\"dataframe\">\n",
       "  <thead>\n",
       "    <tr style=\"text-align: right;\">\n",
       "      <th></th>\n",
       "      <th>0</th>\n",
       "    </tr>\n",
       "  </thead>\n",
       "  <tbody>\n",
       "    <tr>\n",
       "      <th>count</th>\n",
       "      <td>10000</td>\n",
       "    </tr>\n",
       "    <tr>\n",
       "      <th>unique</th>\n",
       "      <td>2</td>\n",
       "    </tr>\n",
       "    <tr>\n",
       "      <th>top</th>\n",
       "      <td>赤玉</td>\n",
       "    </tr>\n",
       "    <tr>\n",
       "      <th>freq</th>\n",
       "      <td>7344</td>\n",
       "    </tr>\n",
       "  </tbody>\n",
       "</table>\n",
       "</div>"
      ],
      "text/plain": [
       "            0\n",
       "count   10000\n",
       "unique      2\n",
       "top        赤玉\n",
       "freq     7344"
      ]
     },
     "execution_count": 11,
     "metadata": {},
     "output_type": "execute_result"
    }
   ],
   "source": [
    "df.describe()"
   ]
  },
  {
   "cell_type": "markdown",
   "id": "dd2696fc-1d7c-46cd-a021-4619b6236cf3",
   "metadata": {},
   "source": [
    "## 観測結果をもとにベイズ推定してみる\n",
    "- $P(袋|観測された玉の色)=\\frac{P(観測された玉の色|袋)P(袋)}{P(観測された玉の色)} \\propto P(観測された玉の色|袋)P(袋)$"
   ]
  },
  {
   "cell_type": "code",
   "execution_count": 12,
   "id": "038f7b74-f96f-4db6-9da2-5e815866fcfc",
   "metadata": {},
   "outputs": [],
   "source": [
    "def bayesest(d,p_b):\n",
    "    p_b_posteriors = np.zeros(shape=len(p_b))\n",
    "    for i, p_b_i in enumerate(p_b):\n",
    "        # P(観測された玉の色|袋)\n",
    "        if d == \"白玉\":\n",
    "            p_c_b = p_c1_bs[i]\n",
    "        else:\n",
    "            p_c_b = 1 - p_c1_bs[i]\n",
    "            \n",
    "        # P(観測された玉の色|袋)P(袋)\n",
    "        p_b_data = p_c_b * p_b_i\n",
    "        p_b_posteriors[i] = p_b_data\n",
    "      \n",
    "    return p_b_posteriors/sum(p_b_posteriors)"
   ]
  },
  {
   "cell_type": "code",
   "execution_count": 13,
   "id": "2ff06111-5ddb-4f09-9d29-663ec4e57951",
   "metadata": {},
   "outputs": [
    {
     "data": {
      "text/plain": [
       "[0.1, 0.5, 0.9]"
      ]
     },
     "execution_count": 13,
     "metadata": {},
     "output_type": "execute_result"
    }
   ],
   "source": [
    "p_c1_bs"
   ]
  },
  {
   "cell_type": "code",
   "execution_count": 14,
   "id": "3c780530-b477-4d90-8752-e736c83eb2a3",
   "metadata": {},
   "outputs": [
    {
     "name": "stdout",
     "output_type": "stream",
     "text": [
      "[0.3333333333333333, 0.3333333333333333, 0.33333333333333337]\n"
     ]
    }
   ],
   "source": [
    "print(p_b)"
   ]
  },
  {
   "cell_type": "code",
   "execution_count": 15,
   "id": "f9d8a8bd-0ccb-4c18-b1b7-472f76e4bbcd",
   "metadata": {},
   "outputs": [],
   "source": [
    "cossims = []\n",
    "new_p_b = p_b\n",
    "for i, res in enumerate(results):\n",
    "    new_p_b = bayesest(res, new_p_b)\n",
    "#    print(new_p_b)\n",
    "    cos = np.dot(new_p_b, true_p_b)\n",
    "    cossims.append(cos)"
   ]
  },
  {
   "cell_type": "code",
   "execution_count": 16,
   "id": "3cddffec-d486-4418-afeb-f98a316b8d54",
   "metadata": {},
   "outputs": [
    {
     "data": {
      "text/plain": [
       "array([1.00000000e+00, 5.53418965e-19, 0.00000000e+00])"
      ]
     },
     "execution_count": 16,
     "metadata": {},
     "output_type": "execute_result"
    }
   ],
   "source": [
    "new_p_b"
   ]
  },
  {
   "cell_type": "code",
   "execution_count": 17,
   "id": "039fe1f1-514c-4420-b3d7-969555c9372e",
   "metadata": {},
   "outputs": [
    {
     "data": {
      "text/plain": [
       "[0.7, 0.2, 0.1]"
      ]
     },
     "execution_count": 17,
     "metadata": {},
     "output_type": "execute_result"
    }
   ],
   "source": [
    "true_p_b"
   ]
  },
  {
   "cell_type": "code",
   "execution_count": 18,
   "id": "1e849694-4f44-40d2-8b80-d618a4402529",
   "metadata": {
    "scrolled": true
   },
   "outputs": [
    {
     "data": {
      "image/png": "[encoded data removed]",
      "text/plain": [
       "<Figure size 640x480 with 1 Axes>"
      ]
     },
     "metadata": {},
     "output_type": "display_data"
    }
   ],
   "source": [
    "import matplotlib.pyplot as plt\n",
    "import japanize_matplotlib\n",
    "\n",
    "\n",
    "x = range(1,len(cossims)+1,1)\n",
    "\n",
    "fig = plt.figure()\n",
    "fig.subplots_adjust(hspace=0.5)\n",
    "#fig.suptitle(\"all graph\")\n",
    "\n",
    "ax1 = fig.add_subplot(211, title=\"コサイン類似度-観測回数\",xlabel=\"観測回数\", ylabel=\"コサイン類似度\")\n",
    "ax1.plot(x, cossims, 'b-')\n",
    "\n",
    "fig.show()\n"
   ]
  },
  {
   "cell_type": "markdown",
   "id": "a79daeb5-a8de-4873-8dce-3abfc2d28e71",
   "metadata": {},
   "source": [
    "- 逐次更新のやり方は始めは良いが、毎回入ってくる新しいデータを重視しすぎてしまい、うまくいかない\n",
    "- 観測データ全体を使って、更新する方が良い"
   ]
  },
  {
   "cell_type": "markdown",
   "id": "aa14f5f7-5a55-496b-a649-d2a07c9f9a4f",
   "metadata": {},
   "source": [
    "### バッチベイズ推定（データ全体を一括で推定）"
   ]
  },
  {
   "cell_type": "code",
   "execution_count": 19,
   "id": "bff0a0e5-b905-4501-b665-1121fb479b76",
   "metadata": {},
   "outputs": [],
   "source": [
    "def batch_bayes_estimate(d, p_b, p_c1_bs):\n",
    "    n_white = d.count(\"白玉\")\n",
    "    n_red = len(d) - n_white\n",
    "    p_b_posterior = np.zeros(len(p_b))\n",
    "    for i in range(len(p_b)):\n",
    "        # 各袋の尤度を計算\n",
    "        loglikelihood = (np.log(p_c1_bs[i]) * n_white) + (np.log(1 - p_c1_bs[i]) * n_red)\n",
    "        # 尤度x事前確率 =>事後確率\n",
    "        p_b_posterior[i] = np.exp(loglikelihood + np.log(p_b[i]))\n",
    "\n",
    "    # 正規化\n",
    "    return p_b_posterior / p_b_posterior.sum()"
   ]
  },
  {
   "cell_type": "code",
   "execution_count": 20,
   "id": "19860f94-f633-439a-b1b0-efbd7ed9135c",
   "metadata": {},
   "outputs": [
    {
     "name": "stdout",
     "output_type": "stream",
     "text": [
      "推定結果: [0.75700935 0.23364486 0.00934579]\n",
      "真の値: [0.7, 0.2, 0.1]\n"
     ]
    }
   ],
   "source": [
    "# 結果を確認\n",
    "new_p_b = batch_bayes_estimate(res, p_b, p_c1_bs)\n",
    "print(\"推定結果:\", new_p_b)\n",
    "print(\"真の値:\", true_p_b)"
   ]
  },
  {
   "cell_type": "markdown",
   "id": "6b01edfe-ba4f-4147-ad20-268390fef027",
   "metadata": {},
   "source": [
    "# アソシエーション分析"
   ]
  },
  {
   "cell_type": "code",
   "execution_count": 21,
   "id": "f4d2b9b5-a539-4e1d-814d-79d0eda0812b",
   "metadata": {},
   "outputs": [
    {
     "data": {
      "text/html": [
       "<div>\n",
       "<style scoped>\n",
       "    .dataframe tbody tr th:only-of-type {\n",
       "        vertical-align: middle;\n",
       "    }\n",
       "\n",
       "    .dataframe tbody tr th {\n",
       "        vertical-align: top;\n",
       "    }\n",
       "\n",
       "    .dataframe thead th {\n",
       "        text-align: right;\n",
       "    }\n",
       "</style>\n",
       "<table border=\"1\" class=\"dataframe\">\n",
       "  <thead>\n",
       "    <tr style=\"text-align: right;\">\n",
       "      <th></th>\n",
       "      <th>support</th>\n",
       "      <th>itemsets</th>\n",
       "    </tr>\n",
       "  </thead>\n",
       "  <tbody>\n",
       "    <tr>\n",
       "      <th>0</th>\n",
       "      <td>0.8</td>\n",
       "      <td>(Eggs)</td>\n",
       "    </tr>\n",
       "    <tr>\n",
       "      <th>1</th>\n",
       "      <td>1.0</td>\n",
       "      <td>(Kidney Beans)</td>\n",
       "    </tr>\n",
       "    <tr>\n",
       "      <th>2</th>\n",
       "      <td>0.6</td>\n",
       "      <td>(Milk)</td>\n",
       "    </tr>\n",
       "    <tr>\n",
       "      <th>3</th>\n",
       "      <td>0.6</td>\n",
       "      <td>(Onion)</td>\n",
       "    </tr>\n",
       "    <tr>\n",
       "      <th>4</th>\n",
       "      <td>0.6</td>\n",
       "      <td>(Yogurt)</td>\n",
       "    </tr>\n",
       "    <tr>\n",
       "      <th>5</th>\n",
       "      <td>0.8</td>\n",
       "      <td>(Kidney Beans, Eggs)</td>\n",
       "    </tr>\n",
       "    <tr>\n",
       "      <th>6</th>\n",
       "      <td>0.6</td>\n",
       "      <td>(Eggs, Onion)</td>\n",
       "    </tr>\n",
       "    <tr>\n",
       "      <th>7</th>\n",
       "      <td>0.6</td>\n",
       "      <td>(Milk, Kidney Beans)</td>\n",
       "    </tr>\n",
       "    <tr>\n",
       "      <th>8</th>\n",
       "      <td>0.6</td>\n",
       "      <td>(Kidney Beans, Onion)</td>\n",
       "    </tr>\n",
       "    <tr>\n",
       "      <th>9</th>\n",
       "      <td>0.6</td>\n",
       "      <td>(Yogurt, Kidney Beans)</td>\n",
       "    </tr>\n",
       "    <tr>\n",
       "      <th>10</th>\n",
       "      <td>0.6</td>\n",
       "      <td>(Kidney Beans, Eggs, Onion)</td>\n",
       "    </tr>\n",
       "  </tbody>\n",
       "</table>\n",
       "</div>"
      ],
      "text/plain": [
       "    support                     itemsets\n",
       "0       0.8                       (Eggs)\n",
       "1       1.0               (Kidney Beans)\n",
       "2       0.6                       (Milk)\n",
       "3       0.6                      (Onion)\n",
       "4       0.6                     (Yogurt)\n",
       "5       0.8         (Kidney Beans, Eggs)\n",
       "6       0.6                (Eggs, Onion)\n",
       "7       0.6         (Milk, Kidney Beans)\n",
       "8       0.6        (Kidney Beans, Onion)\n",
       "9       0.6       (Yogurt, Kidney Beans)\n",
       "10      0.6  (Kidney Beans, Eggs, Onion)"
      ]
     },
     "execution_count": 21,
     "metadata": {},
     "output_type": "execute_result"
    }
   ],
   "source": [
    "import pandas as pd\n",
    "from mlxtend.preprocessing import TransactionEncoder\n",
    "from mlxtend.frequent_patterns import apriori, fpmax, fpgrowth\n",
    "\n",
    "\n",
    "dataset = [['Milk', 'Onion', 'Nutmeg', 'Kidney Beans', 'Eggs', 'Yogurt'],\n",
    "           ['Dill', 'Onion', 'Nutmeg', 'Kidney Beans', 'Eggs', 'Yogurt'],\n",
    "           ['Milk', 'Apple', 'Kidney Beans', 'Eggs'],\n",
    "           ['Milk', 'Unicorn', 'Corn', 'Kidney Beans', 'Yogurt'],\n",
    "           ['Corn', 'Onion', 'Onion', 'Kidney Beans', 'Ice cream', 'Eggs']]\n",
    "\n",
    "te = TransactionEncoder()\n",
    "te_ary = te.fit(dataset).transform(dataset)\n",
    "df = pd.DataFrame(te_ary, columns=te.columns_)\n",
    "\n",
    "#frequent_itemsets = fpgrowth(df, min_support=0.6, use_colnames=True)\n",
    "### alternatively:\n",
    "frequent_itemsets = apriori(df, min_support=0.6, use_colnames=True)\n",
    "#frequent_itemsets = fpmax(df, min_support=0.6, use_colnames=True)\n",
    "\n",
    "frequent_itemsets"
   ]
  },
  {
   "cell_type": "code",
   "execution_count": 22,
   "id": "d78c8235-2354-413c-b493-bf9d300e7e14",
   "metadata": {},
   "outputs": [
    {
     "data": {
      "text/html": [
       "<div>\n",
       "<style scoped>\n",
       "    .dataframe tbody tr th:only-of-type {\n",
       "        vertical-align: middle;\n",
       "    }\n",
       "\n",
       "    .dataframe tbody tr th {\n",
       "        vertical-align: top;\n",
       "    }\n",
       "\n",
       "    .dataframe thead th {\n",
       "        text-align: right;\n",
       "    }\n",
       "</style>\n",
       "<table border=\"1\" class=\"dataframe\">\n",
       "  <thead>\n",
       "    <tr style=\"text-align: right;\">\n",
       "      <th></th>\n",
       "      <th>antecedents</th>\n",
       "      <th>consequents</th>\n",
       "      <th>antecedent support</th>\n",
       "      <th>consequent support</th>\n",
       "      <th>support</th>\n",
       "      <th>confidence</th>\n",
       "      <th>lift</th>\n",
       "      <th>representativity</th>\n",
       "      <th>leverage</th>\n",
       "      <th>conviction</th>\n",
       "      <th>zhangs_metric</th>\n",
       "      <th>jaccard</th>\n",
       "      <th>certainty</th>\n",
       "      <th>kulczynski</th>\n",
       "    </tr>\n",
       "  </thead>\n",
       "  <tbody>\n",
       "    <tr>\n",
       "      <th>0</th>\n",
       "      <td>(Eggs)</td>\n",
       "      <td>(Onion)</td>\n",
       "      <td>0.8</td>\n",
       "      <td>0.6</td>\n",
       "      <td>0.6</td>\n",
       "      <td>0.75</td>\n",
       "      <td>1.25</td>\n",
       "      <td>1.0</td>\n",
       "      <td>0.12</td>\n",
       "      <td>1.6</td>\n",
       "      <td>1.0</td>\n",
       "      <td>0.75</td>\n",
       "      <td>0.375</td>\n",
       "      <td>0.875</td>\n",
       "    </tr>\n",
       "    <tr>\n",
       "      <th>1</th>\n",
       "      <td>(Onion)</td>\n",
       "      <td>(Eggs)</td>\n",
       "      <td>0.6</td>\n",
       "      <td>0.8</td>\n",
       "      <td>0.6</td>\n",
       "      <td>1.00</td>\n",
       "      <td>1.25</td>\n",
       "      <td>1.0</td>\n",
       "      <td>0.12</td>\n",
       "      <td>inf</td>\n",
       "      <td>0.5</td>\n",
       "      <td>0.75</td>\n",
       "      <td>1.000</td>\n",
       "      <td>0.875</td>\n",
       "    </tr>\n",
       "    <tr>\n",
       "      <th>2</th>\n",
       "      <td>(Eggs, Kidney Beans)</td>\n",
       "      <td>(Onion)</td>\n",
       "      <td>0.8</td>\n",
       "      <td>0.6</td>\n",
       "      <td>0.6</td>\n",
       "      <td>0.75</td>\n",
       "      <td>1.25</td>\n",
       "      <td>1.0</td>\n",
       "      <td>0.12</td>\n",
       "      <td>1.6</td>\n",
       "      <td>1.0</td>\n",
       "      <td>0.75</td>\n",
       "      <td>0.375</td>\n",
       "      <td>0.875</td>\n",
       "    </tr>\n",
       "    <tr>\n",
       "      <th>3</th>\n",
       "      <td>(Kidney Beans, Onion)</td>\n",
       "      <td>(Eggs)</td>\n",
       "      <td>0.6</td>\n",
       "      <td>0.8</td>\n",
       "      <td>0.6</td>\n",
       "      <td>1.00</td>\n",
       "      <td>1.25</td>\n",
       "      <td>1.0</td>\n",
       "      <td>0.12</td>\n",
       "      <td>inf</td>\n",
       "      <td>0.5</td>\n",
       "      <td>0.75</td>\n",
       "      <td>1.000</td>\n",
       "      <td>0.875</td>\n",
       "    </tr>\n",
       "    <tr>\n",
       "      <th>4</th>\n",
       "      <td>(Eggs)</td>\n",
       "      <td>(Kidney Beans, Onion)</td>\n",
       "      <td>0.8</td>\n",
       "      <td>0.6</td>\n",
       "      <td>0.6</td>\n",
       "      <td>0.75</td>\n",
       "      <td>1.25</td>\n",
       "      <td>1.0</td>\n",
       "      <td>0.12</td>\n",
       "      <td>1.6</td>\n",
       "      <td>1.0</td>\n",
       "      <td>0.75</td>\n",
       "      <td>0.375</td>\n",
       "      <td>0.875</td>\n",
       "    </tr>\n",
       "    <tr>\n",
       "      <th>5</th>\n",
       "      <td>(Onion)</td>\n",
       "      <td>(Eggs, Kidney Beans)</td>\n",
       "      <td>0.6</td>\n",
       "      <td>0.8</td>\n",
       "      <td>0.6</td>\n",
       "      <td>1.00</td>\n",
       "      <td>1.25</td>\n",
       "      <td>1.0</td>\n",
       "      <td>0.12</td>\n",
       "      <td>inf</td>\n",
       "      <td>0.5</td>\n",
       "      <td>0.75</td>\n",
       "      <td>1.000</td>\n",
       "      <td>0.875</td>\n",
       "    </tr>\n",
       "  </tbody>\n",
       "</table>\n",
       "</div>"
      ],
      "text/plain": [
       "             antecedents            consequents  antecedent support  \\\n",
       "0                 (Eggs)                (Onion)                 0.8   \n",
       "1                (Onion)                 (Eggs)                 0.6   \n",
       "2   (Eggs, Kidney Beans)                (Onion)                 0.8   \n",
       "3  (Kidney Beans, Onion)                 (Eggs)                 0.6   \n",
       "4                 (Eggs)  (Kidney Beans, Onion)                 0.8   \n",
       "5                (Onion)   (Eggs, Kidney Beans)                 0.6   \n",
       "\n",
       "   consequent support  support  confidence  lift  representativity  leverage  \\\n",
       "0                 0.6      0.6        0.75  1.25               1.0      0.12   \n",
       "1                 0.8      0.6        1.00  1.25               1.0      0.12   \n",
       "2                 0.6      0.6        0.75  1.25               1.0      0.12   \n",
       "3                 0.8      0.6        1.00  1.25               1.0      0.12   \n",
       "4                 0.6      0.6        0.75  1.25               1.0      0.12   \n",
       "5                 0.8      0.6        1.00  1.25               1.0      0.12   \n",
       "\n",
       "   conviction  zhangs_metric  jaccard  certainty  kulczynski  \n",
       "0         1.6            1.0     0.75      0.375       0.875  \n",
       "1         inf            0.5     0.75      1.000       0.875  \n",
       "2         1.6            1.0     0.75      0.375       0.875  \n",
       "3         inf            0.5     0.75      1.000       0.875  \n",
       "4         1.6            1.0     0.75      0.375       0.875  \n",
       "5         inf            0.5     0.75      1.000       0.875  "
      ]
     },
     "execution_count": 22,
     "metadata": {},
     "output_type": "execute_result"
    }
   ],
   "source": [
    "from mlxtend.frequent_patterns import association_rules\n",
    "\n",
    "rules = association_rules(frequent_itemsets, metric=\"lift\", min_threshold=1.2)\n",
    "rules"
   ]
  },
  {
   "cell_type": "markdown",
   "id": "d92623e2-fb36-4b21-8126-5c516c224430",
   "metadata": {},
   "source": [
    "# 共役事前分布（ベータ分布の例）"
   ]
  },
  {
   "cell_type": "markdown",
   "id": "1a6104d7-f100-44ed-afc8-4c919857963a",
   "metadata": {},
   "source": [
    "## 二項分布"
   ]
  },
  {
   "cell_type": "code",
   "execution_count": 30,
   "id": "004c7ff9-080a-45b5-accb-8295f22f411c",
   "metadata": {},
   "outputs": [
    {
     "data": {
      "text/plain": [
       "<BarContainer object of 100 artists>"
      ]
     },
     "execution_count": 30,
     "metadata": {},
     "output_type": "execute_result"
    },
    {
     "data": {
      "image/png": "[encoded data removed]",
      "text/plain": [
       "<Figure size 640x480 with 1 Axes>"
      ]
     },
     "metadata": {},
     "output_type": "display_data"
    }
   ],
   "source": [
    "from scipy.stats import binom\n",
    "import matplotlib.pyplot as plt\n",
    "\n",
    "## 計算\n",
    "n = 100  #試行回数\n",
    "mu = 0.3 #成功確率\n",
    "x = range(n)    #x軸\n",
    "f = binom(n, mu) #確率分布\n",
    "y = f.pmf(x)    #y軸\n",
    "\n",
    "\n",
    "fig = plt.figure()\n",
    "fig.subplots_adjust(hspace=0.5)\n",
    "#fig.suptitle(\"all graph\")\n",
    "ax1 = fig.add_subplot(211, title=\"表がでにくいコイントス(二項分布)\",xlabel=\"試行回数\", ylabel=\"表が出た回数\")\n",
    "ax1.bar(x, y)"
   ]
  },
  {
   "cell_type": "markdown",
   "id": "f05ae90b-16da-45eb-86b5-ebff76f1613f",
   "metadata": {},
   "source": [
    "## ベータ分布（表が出る確率p(\\mu)を決定する確率分布）"
   ]
  },
  {
   "cell_type": "code",
   "execution_count": 40,
   "id": "b504a57a-fb64-49e3-851f-d802cd327cfd",
   "metadata": {},
   "outputs": [
    {
     "name": "stderr",
     "output_type": "stream",
     "text": [
      "<>:11: DeprecationWarning: invalid escape sequence '\\m'\n",
      "<>:11: DeprecationWarning: invalid escape sequence '\\m'\n",
      "<>:11: DeprecationWarning: invalid escape sequence '\\m'\n",
      "<>:11: DeprecationWarning: invalid escape sequence '\\m'\n",
      "/tmp/ipykernel_72339/478844126.py:11: DeprecationWarning: invalid escape sequence '\\m'\n",
      "  ax1 = fig.add_subplot(211, title=f\"ベータ分布 a={a},b={b}\",xlabel=\"$\\mu$\", ylabel=\"$p(\\mu)$\")\n",
      "/tmp/ipykernel_72339/478844126.py:11: DeprecationWarning: invalid escape sequence '\\m'\n",
      "  ax1 = fig.add_subplot(211, title=f\"ベータ分布 a={a},b={b}\",xlabel=\"$\\mu$\", ylabel=\"$p(\\mu)$\")\n"
     ]
    },
    {
     "data": {
      "text/plain": [
       "[<matplotlib.lines.Line2D at 0xffff191d5bd0>]"
      ]
     },
     "execution_count": 40,
     "metadata": {},
     "output_type": "execute_result"
    },
    {
     "data": {
      "image/png": "[encoded data removed]",
      "text/plain": [
       "<Figure size 640x480 with 1 Axes>"
      ]
     },
     "metadata": {},
     "output_type": "display_data"
    }
   ],
   "source": [
    "from scipy.stats import beta\n",
    "\n",
    "a = 5\n",
    "b = 10\n",
    "x = np.linspace(0, 1, 100) #x軸\n",
    "y = beta.pdf(x, a, b)      #y軸\n",
    "\n",
    "fig = plt.figure()\n",
    "fig.subplots_adjust(hspace=0.5)\n",
    "#fig.suptitle(\"all graph\")\n",
    "ax1 = fig.add_subplot(211, title=f\"ベータ分布 a={a},b={b}\",xlabel=\"$\\mu$\", ylabel=\"$p(\\mu)$\")\n",
    "ax1.plot(x, y, 'b-')"
   ]
  },
  {
   "cell_type": "markdown",
   "id": "e81b1a81-0aa1-4cdf-b5d4-337c862e3320",
   "metadata": {},
   "source": [
    "## 事後分布を計算 100回試行して30回表が出たとしよう"
   ]
  },
  {
   "cell_type": "code",
   "execution_count": 42,
   "id": "16a08cfc-c58c-4eef-ac59-34e6a6681863",
   "metadata": {},
   "outputs": [
    {
     "name": "stderr",
     "output_type": "stream",
     "text": [
      "<>:14: DeprecationWarning: invalid escape sequence '\\m'\n",
      "<>:14: DeprecationWarning: invalid escape sequence '\\m'\n",
      "<>:14: DeprecationWarning: invalid escape sequence '\\m'\n",
      "<>:14: DeprecationWarning: invalid escape sequence '\\m'\n",
      "/tmp/ipykernel_72339/2635418699.py:14: DeprecationWarning: invalid escape sequence '\\m'\n",
      "  ax1 = fig.add_subplot(211, title=f\"事後ベータ分布 a={new_a},b={new_b}\",xlabel=\"$\\mu$\", ylabel=\"$p(\\mu)$\")\n",
      "/tmp/ipykernel_72339/2635418699.py:14: DeprecationWarning: invalid escape sequence '\\m'\n",
      "  ax1 = fig.add_subplot(211, title=f\"事後ベータ分布 a={new_a},b={new_b}\",xlabel=\"$\\mu$\", ylabel=\"$p(\\mu)$\")\n"
     ]
    },
    {
     "data": {
      "text/plain": [
       "[<matplotlib.lines.Line2D at 0xffff190efa50>]"
      ]
     },
     "execution_count": 42,
     "metadata": {},
     "output_type": "execute_result"
    },
    {
     "data": {
      "image/png": "[encoded data removed]",
      "text/plain": [
       "<Figure size 640x480 with 1 Axes>"
      ]
     },
     "metadata": {},
     "output_type": "display_data"
    }
   ],
   "source": [
    "from scipy.stats import beta\n",
    "\n",
    "N=100\n",
    "m=30\n",
    "\n",
    "new_a = m + a\n",
    "new_b = N - m + b\n",
    "x = np.linspace(0, 1, 100) #x軸\n",
    "y = beta.pdf(x, new_a, new_b)      #y軸\n",
    "\n",
    "fig = plt.figure()\n",
    "fig.subplots_adjust(hspace=0.5)\n",
    "#fig.suptitle(\"all graph\")\n",
    "ax1 = fig.add_subplot(211, title=f\"事後ベータ分布 a={new_a},b={new_b}\",xlabel=\"$\\mu$\", ylabel=\"$p(\\mu)$\")\n",
    "ax1.plot(x, y, 'b-')"
   ]
  },
  {
   "cell_type": "code",
   "execution_count": null,
   "id": "a255a2d5-7f81-484b-aac8-1aa0305a481b",
   "metadata": {},
   "outputs": [],
   "source": []
  },
  {
   "cell_type": "code",
   "execution_count": null,
   "id": "57055351-f152-4bb1-9c56-42d16cc09149",
   "metadata": {},
   "outputs": [],
   "source": []
  }
 ],
 "metadata": {
  "kernelspec": {
   "display_name": "Python 3 (ipykernel)",
   "language": "python",
   "name": "python3"
  },
  "language_info": {
   "codemirror_mode": {
    "name": "ipython",
    "version": 3
   },
   "file_extension": ".py",
   "mimetype": "text/x-python",
   "name": "python",
   "nbconvert_exporter": "python",
   "pygments_lexer": "ipython3",
   "version": "3.11.6"
  }
 },
 "nbformat": 4,
 "nbformat_minor": 5
}
