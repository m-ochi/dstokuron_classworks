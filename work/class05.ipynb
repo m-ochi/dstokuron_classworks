{
 "cells": [
  {
   "cell_type": "markdown",
   "id": "619b89f1-fd68-43ae-8521-755e10f9bcd7",
   "metadata": {},
   "source": [
    "# 袋から取り出す問題でベイズ推定\n",
    "- 観測結果から袋の選好（どの袋を好んで選んでいるか）推定したい\n",
    "- 各袋の中身は、袋１：白玉１、赤玉９、袋２：白玉３、赤玉３、袋３：白玉９、赤玉１とする\n",
    "- 袋を選ぶ人は実は袋１だけをやたら選ぶ人だとして、観測結果からそれを推定してみよう\n",
    "- 重みつき乱数選択には、Walker's Alias Methodという効率の良い方法があります。興味があれば調べてみてください\n",
    "- 今回の手法は非常にナイーブな方法ですので実用的ではありません"
   ]
  },
  {
   "cell_type": "code",
   "execution_count": 1,
   "id": "58d5d13e-177f-42f9-b9f5-42808b93bddf",
   "metadata": {},
   "outputs": [],
   "source": [
    "# 真の選好（袋１だけ妙に好き）これを推定したい\n",
    "#true_p_b = [1/3,1/3,1-2/3]\n",
    "true_p_b = [0.7,0.2,0.1]"
   ]
  },
  {
   "cell_type": "code",
   "execution_count": 2,
   "id": "b8e027e2-f1a0-4cb5-8780-e6942c286b0d",
   "metadata": {},
   "outputs": [],
   "source": [
    "#事前確率（各袋を選ぶ確率、観測する前の思い込み）\n",
    "p_b = [1/3,1/3,1-2/3]"
   ]
  },
  {
   "cell_type": "code",
   "execution_count": 3,
   "id": "5659532c-c6df-4b0f-ac2b-1ec3e25887ab",
   "metadata": {},
   "outputs": [],
   "source": [
    "#条件付き確率(各袋で白玉が出る確率)\n",
    "p_c1_bs = [0.1,0.5,0.9] #袋１で白玉が出る確率・・・"
   ]
  },
  {
   "cell_type": "code",
   "execution_count": 4,
   "id": "3020a118-e593-4c0d-8e09-8cbeb896be07",
   "metadata": {},
   "outputs": [],
   "source": [
    "import random\n",
    "import numpy as np\n",
    "\n",
    "class SimpleChoiceByWeight():\n",
    "    def __init__(self, weights):\n",
    "        self.weights = np.array(weights)\n",
    "        self.weight_sum = sum(weights)\n",
    "        self.weights = self.weights / self.weight_sum\n",
    "\n",
    "    def choice(self):\n",
    "        r = random.random()\n",
    "\n",
    "        num = 0\n",
    "        for i, weight in enumerate(self.weights):\n",
    "            num += weight\n",
    "            if r <= num:\n",
    "                return i"
   ]
  },
  {
   "cell_type": "code",
   "execution_count": 5,
   "id": "8703647d-2748-4f30-a42c-8c6495bc7aea",
   "metadata": {},
   "outputs": [],
   "source": [
    "# 10回ばかり袋を選び、玉を取り出してみる"
   ]
  },
  {
   "cell_type": "code",
   "execution_count": 6,
   "id": "e3dc3d71-60cd-4fee-9f01-f8f738ae5b35",
   "metadata": {},
   "outputs": [],
   "source": [
    "bg_sel = SimpleChoiceByWeight(true_p_b) #袋の選択\n",
    "\n",
    "def ball_sampling():\n",
    "    # 袋を選んで、玉を取り出す\n",
    "    bag_id = bg_sel.choice()\n",
    "    p_c1_b = p_c1_bs[bag_id]\n",
    "    r = random.random()\n",
    "    if r < p_c1_b:\n",
    "        return '白玉'\n",
    "    else:\n",
    "        return '赤玉'  "
   ]
  },
  {
   "cell_type": "code",
   "execution_count": 7,
   "id": "038820cb-4a9c-4834-b9bd-887a6a75c02d",
   "metadata": {},
   "outputs": [],
   "source": [
    "results = []\n",
    "for i in range(10000):\n",
    "    res = ball_sampling()\n",
    "    results.append(res)"
   ]
  },
  {
   "cell_type": "code",
   "execution_count": 8,
   "id": "a119d1cb-cf32-4c65-8414-d1dd34d851ce",
   "metadata": {},
   "outputs": [],
   "source": [
    "import pandas as pd\n",
    "df = pd.DataFrame(results)"
   ]
  },
  {
   "cell_type": "code",
   "execution_count": 9,
   "id": "9d211fd0-4475-4691-b00c-662a2c9e3dde",
   "metadata": {},
   "outputs": [
    {
     "data": {
      "text/html": [
       "<div>\n",
       "<style scoped>\n",
       "    .dataframe tbody tr th:only-of-type {\n",
       "        vertical-align: middle;\n",
       "    }\n",
       "\n",
       "    .dataframe tbody tr th {\n",
       "        vertical-align: top;\n",
       "    }\n",
       "\n",
       "    .dataframe thead th {\n",
       "        text-align: right;\n",
       "    }\n",
       "</style>\n",
       "<table border=\"1\" class=\"dataframe\">\n",
       "  <thead>\n",
       "    <tr style=\"text-align: right;\">\n",
       "      <th></th>\n",
       "      <th>0</th>\n",
       "    </tr>\n",
       "  </thead>\n",
       "  <tbody>\n",
       "    <tr>\n",
       "      <th>0</th>\n",
       "      <td>白玉</td>\n",
       "    </tr>\n",
       "    <tr>\n",
       "      <th>1</th>\n",
       "      <td>赤玉</td>\n",
       "    </tr>\n",
       "    <tr>\n",
       "      <th>2</th>\n",
       "      <td>赤玉</td>\n",
       "    </tr>\n",
       "    <tr>\n",
       "      <th>3</th>\n",
       "      <td>白玉</td>\n",
       "    </tr>\n",
       "    <tr>\n",
       "      <th>4</th>\n",
       "      <td>赤玉</td>\n",
       "    </tr>\n",
       "    <tr>\n",
       "      <th>...</th>\n",
       "      <td>...</td>\n",
       "    </tr>\n",
       "    <tr>\n",
       "      <th>9995</th>\n",
       "      <td>赤玉</td>\n",
       "    </tr>\n",
       "    <tr>\n",
       "      <th>9996</th>\n",
       "      <td>赤玉</td>\n",
       "    </tr>\n",
       "    <tr>\n",
       "      <th>9997</th>\n",
       "      <td>赤玉</td>\n",
       "    </tr>\n",
       "    <tr>\n",
       "      <th>9998</th>\n",
       "      <td>赤玉</td>\n",
       "    </tr>\n",
       "    <tr>\n",
       "      <th>9999</th>\n",
       "      <td>赤玉</td>\n",
       "    </tr>\n",
       "  </tbody>\n",
       "</table>\n",
       "<p>10000 rows × 1 columns</p>\n",
       "</div>"
      ],
      "text/plain": [
       "       0\n",
       "0     白玉\n",
       "1     赤玉\n",
       "2     赤玉\n",
       "3     白玉\n",
       "4     赤玉\n",
       "...   ..\n",
       "9995  赤玉\n",
       "9996  赤玉\n",
       "9997  赤玉\n",
       "9998  赤玉\n",
       "9999  赤玉\n",
       "\n",
       "[10000 rows x 1 columns]"
      ]
     },
     "execution_count": 9,
     "metadata": {},
     "output_type": "execute_result"
    }
   ],
   "source": [
    "df"
   ]
  },
  {
   "cell_type": "code",
   "execution_count": 10,
   "id": "3bb92fa9-d7a7-4586-9273-1c257ae48c2b",
   "metadata": {},
   "outputs": [
    {
     "data": {
      "text/plain": [
       "7454"
      ]
     },
     "execution_count": 10,
     "metadata": {},
     "output_type": "execute_result"
    }
   ],
   "source": [
    "results.count(\"赤玉\")"
   ]
  },
  {
   "cell_type": "code",
   "execution_count": 11,
   "id": "9c79d2a7-9bb0-413a-9fdc-e51d56b17f26",
   "metadata": {},
   "outputs": [
    {
     "data": {
      "text/html": [
       "<div>\n",
       "<style scoped>\n",
       "    .dataframe tbody tr th:only-of-type {\n",
       "        vertical-align: middle;\n",
       "    }\n",
       "\n",
       "    .dataframe tbody tr th {\n",
       "        vertical-align: top;\n",
       "    }\n",
       "\n",
       "    .dataframe thead th {\n",
       "        text-align: right;\n",
       "    }\n",
       "</style>\n",
       "<table border=\"1\" class=\"dataframe\">\n",
       "  <thead>\n",
       "    <tr style=\"text-align: right;\">\n",
       "      <th></th>\n",
       "      <th>0</th>\n",
       "    </tr>\n",
       "  </thead>\n",
       "  <tbody>\n",
       "    <tr>\n",
       "      <th>count</th>\n",
       "      <td>10000</td>\n",
       "    </tr>\n",
       "    <tr>\n",
       "      <th>unique</th>\n",
       "      <td>2</td>\n",
       "    </tr>\n",
       "    <tr>\n",
       "      <th>top</th>\n",
       "      <td>赤玉</td>\n",
       "    </tr>\n",
       "    <tr>\n",
       "      <th>freq</th>\n",
       "      <td>7454</td>\n",
       "    </tr>\n",
       "  </tbody>\n",
       "</table>\n",
       "</div>"
      ],
      "text/plain": [
       "            0\n",
       "count   10000\n",
       "unique      2\n",
       "top        赤玉\n",
       "freq     7454"
      ]
     },
     "execution_count": 11,
     "metadata": {},
     "output_type": "execute_result"
    }
   ],
   "source": [
    "df.describe()"
   ]
  },
  {
   "cell_type": "markdown",
   "id": "dd2696fc-1d7c-46cd-a021-4619b6236cf3",
   "metadata": {},
   "source": [
    "## 観測結果をもとにベイズ推定してみる\n",
    "- $P(袋|観測された玉の色)=\\frac{P(観測された玉の色|袋)P(袋)}{P(観測された玉の色)} \\propto P(観測された玉の色|袋)P(袋)$"
   ]
  },
  {
   "cell_type": "code",
   "execution_count": 12,
   "id": "038f7b74-f96f-4db6-9da2-5e815866fcfc",
   "metadata": {},
   "outputs": [],
   "source": [
    "def bayesest(d,p_b):\n",
    "    p_b_posteriors = np.zeros(shape=len(p_b))\n",
    "    for i, p_b_i in enumerate(p_b):\n",
    "        # P(観測された玉の色|袋)\n",
    "        if d == \"白玉\":\n",
    "            p_c_b = p_c1_bs[i]\n",
    "        else:\n",
    "            p_c_b = 1 - p_c1_bs[i]\n",
    "            \n",
    "        # P(観測された玉の色|袋)P(袋)\n",
    "        p_b_data = p_c_b * p_b_i\n",
    "        p_b_posteriors[i] = p_b_data\n",
    "      \n",
    "    return p_b_posteriors/sum(p_b_posteriors)"
   ]
  },
  {
   "cell_type": "code",
   "execution_count": 13,
   "id": "2ff06111-5ddb-4f09-9d29-663ec4e57951",
   "metadata": {},
   "outputs": [
    {
     "data": {
      "text/plain": [
       "[0.1, 0.5, 0.9]"
      ]
     },
     "execution_count": 13,
     "metadata": {},
     "output_type": "execute_result"
    }
   ],
   "source": [
    "p_c1_bs"
   ]
  },
  {
   "cell_type": "code",
   "execution_count": 14,
   "id": "3c780530-b477-4d90-8752-e736c83eb2a3",
   "metadata": {},
   "outputs": [
    {
     "name": "stdout",
     "output_type": "stream",
     "text": [
      "[0.3333333333333333, 0.3333333333333333, 0.33333333333333337]\n"
     ]
    }
   ],
   "source": [
    "print(p_b)"
   ]
  },
  {
   "cell_type": "code",
   "execution_count": 15,
   "id": "f9d8a8bd-0ccb-4c18-b1b7-472f76e4bbcd",
   "metadata": {},
   "outputs": [],
   "source": [
    "cossims = []\n",
    "new_p_b = p_b\n",
    "for i, res in enumerate(results):\n",
    "    new_p_b = bayesest(res, new_p_b)\n",
    "#    print(new_p_b)\n",
    "    cos = np.dot(new_p_b, true_p_b)\n",
    "    cossims.append(cos)"
   ]
  },
  {
   "cell_type": "code",
   "execution_count": 16,
   "id": "3cddffec-d486-4418-afeb-f98a316b8d54",
   "metadata": {},
   "outputs": [
    {
     "data": {
      "text/plain": [
       "array([1.00000000e+000, 5.97555158e-124, 0.00000000e+000])"
      ]
     },
     "execution_count": 16,
     "metadata": {},
     "output_type": "execute_result"
    }
   ],
   "source": [
    "new_p_b"
   ]
  },
  {
   "cell_type": "code",
   "execution_count": 17,
   "id": "039fe1f1-514c-4420-b3d7-969555c9372e",
   "metadata": {},
   "outputs": [
    {
     "data": {
      "text/plain": [
       "[0.7, 0.2, 0.1]"
      ]
     },
     "execution_count": 17,
     "metadata": {},
     "output_type": "execute_result"
    }
   ],
   "source": [
    "true_p_b"
   ]
  },
  {
   "cell_type": "code",
   "execution_count": 18,
   "id": "1e849694-4f44-40d2-8b80-d618a4402529",
   "metadata": {
    "scrolled": true
   },
   "outputs": [
    {
     "data": {
      "image/png": "[encoded data removed]",
      "text/plain": [
       "<Figure size 640x480 with 1 Axes>"
      ]
     },
     "metadata": {},
     "output_type": "display_data"
    }
   ],
   "source": [
    "import matplotlib.pyplot as plt\n",
    "import japanize_matplotlib\n",
    "\n",
    "\n",
    "x = range(1,len(cossims)+1,1)\n",
    "\n",
    "fig = plt.figure()\n",
    "fig.subplots_adjust(hspace=0.5)\n",
    "#fig.suptitle(\"all graph\")\n",
    "\n",
    "ax1 = fig.add_subplot(211, title=\"コサイン類似度-観測回数\",xlabel=\"観測回数\", ylabel=\"コサイン類似度\")\n",
    "ax1.plot(x, cossims, 'b-')\n",
    "\n",
    "fig.show()\n"
   ]
  },
  {
   "cell_type": "markdown",
   "id": "a79daeb5-a8de-4873-8dce-3abfc2d28e71",
   "metadata": {},
   "source": [
    "- 逐次更新のやり方は始めは良いが、毎回入ってくる新しいデータを重視しすぎてしまい、うまくいかない\n",
    "- 観測データ全体を使って、更新する方が良い"
   ]
  },
  {
   "cell_type": "code",
   "execution_count": 19,
   "id": "bff0a0e5-b905-4501-b665-1121fb479b76",
   "metadata": {},
   "outputs": [],
   "source": [
    "# バッチベイズ推定（データ全体を一括で推定）\n",
    "def batch_bayes_estimate(d, p_b, p_c1_bs):\n",
    "    n_white = d.count(\"白玉\")\n",
    "    n_red = len(d) - n_white\n",
    "    p_b_posterior = np.zeros(len(p_b))\n",
    "    for i in range(len(p_b)):\n",
    "        # 各袋の尤度を計算\n",
    "        loglikelihood = (np.log(p_c1_bs[i]) * n_white) + (np.log(1 - p_c1_bs[i]) * n_red)\n",
    "        # 尤度x事前確率 =>事後確率\n",
    "        p_b_posterior[i] = np.exp(loglikelihood + np.log(p_b[i]))\n",
    "\n",
    "    # 正規化\n",
    "    return p_b_posterior / p_b_posterior.sum()"
   ]
  },
  {
   "cell_type": "code",
   "execution_count": 20,
   "id": "19860f94-f633-439a-b1b0-efbd7ed9135c",
   "metadata": {},
   "outputs": [
    {
     "name": "stdout",
     "output_type": "stream",
     "text": [
      "推定結果: [0.75700935 0.23364486 0.00934579]\n",
      "真の値: [0.7, 0.2, 0.1]\n"
     ]
    }
   ],
   "source": [
    "# 結果を確認\n",
    "new_p_b = batch_bayes_estimate(res, p_b, p_c1_bs)\n",
    "print(\"推定結果:\", new_p_b)\n",
    "print(\"真の値:\", true_p_b)"
   ]
  },
  {
   "cell_type": "markdown",
   "id": "6b01edfe-ba4f-4147-ad20-268390fef027",
   "metadata": {},
   "source": [
    "# アソシエーション分析"
   ]
  },
  {
   "cell_type": "code",
   "execution_count": 21,
   "id": "f4d2b9b5-a539-4e1d-814d-79d0eda0812b",
   "metadata": {},
   "outputs": [
    {
     "data": {
      "text/html": [
       "<div>\n",
       "<style scoped>\n",
       "    .dataframe tbody tr th:only-of-type {\n",
       "        vertical-align: middle;\n",
       "    }\n",
       "\n",
       "    .dataframe tbody tr th {\n",
       "        vertical-align: top;\n",
       "    }\n",
       "\n",
       "    .dataframe thead th {\n",
       "        text-align: right;\n",
       "    }\n",
       "</style>\n",
       "<table border=\"1\" class=\"dataframe\">\n",
       "  <thead>\n",
       "    <tr style=\"text-align: right;\">\n",
       "      <th></th>\n",
       "      <th>support</th>\n",
       "      <th>itemsets</th>\n",
       "    </tr>\n",
       "  </thead>\n",
       "  <tbody>\n",
       "    <tr>\n",
       "      <th>0</th>\n",
       "      <td>0.8</td>\n",
       "      <td>(Eggs)</td>\n",
       "    </tr>\n",
       "    <tr>\n",
       "      <th>1</th>\n",
       "      <td>1.0</td>\n",
       "      <td>(Kidney Beans)</td>\n",
       "    </tr>\n",
       "    <tr>\n",
       "      <th>2</th>\n",
       "      <td>0.6</td>\n",
       "      <td>(Milk)</td>\n",
       "    </tr>\n",
       "    <tr>\n",
       "      <th>3</th>\n",
       "      <td>0.6</td>\n",
       "      <td>(Onion)</td>\n",
       "    </tr>\n",
       "    <tr>\n",
       "      <th>4</th>\n",
       "      <td>0.6</td>\n",
       "      <td>(Yogurt)</td>\n",
       "    </tr>\n",
       "    <tr>\n",
       "      <th>5</th>\n",
       "      <td>0.8</td>\n",
       "      <td>(Eggs, Kidney Beans)</td>\n",
       "    </tr>\n",
       "    <tr>\n",
       "      <th>6</th>\n",
       "      <td>0.6</td>\n",
       "      <td>(Onion, Eggs)</td>\n",
       "    </tr>\n",
       "    <tr>\n",
       "      <th>7</th>\n",
       "      <td>0.6</td>\n",
       "      <td>(Kidney Beans, Milk)</td>\n",
       "    </tr>\n",
       "    <tr>\n",
       "      <th>8</th>\n",
       "      <td>0.6</td>\n",
       "      <td>(Onion, Kidney Beans)</td>\n",
       "    </tr>\n",
       "    <tr>\n",
       "      <th>9</th>\n",
       "      <td>0.6</td>\n",
       "      <td>(Kidney Beans, Yogurt)</td>\n",
       "    </tr>\n",
       "    <tr>\n",
       "      <th>10</th>\n",
       "      <td>0.6</td>\n",
       "      <td>(Onion, Eggs, Kidney Beans)</td>\n",
       "    </tr>\n",
       "  </tbody>\n",
       "</table>\n",
       "</div>"
      ],
      "text/plain": [
       "    support                     itemsets\n",
       "0       0.8                       (Eggs)\n",
       "1       1.0               (Kidney Beans)\n",
       "2       0.6                       (Milk)\n",
       "3       0.6                      (Onion)\n",
       "4       0.6                     (Yogurt)\n",
       "5       0.8         (Eggs, Kidney Beans)\n",
       "6       0.6                (Onion, Eggs)\n",
       "7       0.6         (Kidney Beans, Milk)\n",
       "8       0.6        (Onion, Kidney Beans)\n",
       "9       0.6       (Kidney Beans, Yogurt)\n",
       "10      0.6  (Onion, Eggs, Kidney Beans)"
      ]
     },
     "execution_count": 21,
     "metadata": {},
     "output_type": "execute_result"
    }
   ],
   "source": [
    "import pandas as pd\n",
    "from mlxtend.preprocessing import TransactionEncoder\n",
    "from mlxtend.frequent_patterns import apriori, fpmax, fpgrowth\n",
    "\n",
    "\n",
    "dataset = [['Milk', 'Onion', 'Nutmeg', 'Kidney Beans', 'Eggs', 'Yogurt'],\n",
    "           ['Dill', 'Onion', 'Nutmeg', 'Kidney Beans', 'Eggs', 'Yogurt'],\n",
    "           ['Milk', 'Apple', 'Kidney Beans', 'Eggs'],\n",
    "           ['Milk', 'Unicorn', 'Corn', 'Kidney Beans', 'Yogurt'],\n",
    "           ['Corn', 'Onion', 'Onion', 'Kidney Beans', 'Ice cream', 'Eggs']]\n",
    "\n",
    "te = TransactionEncoder()\n",
    "te_ary = te.fit(dataset).transform(dataset)\n",
    "df = pd.DataFrame(te_ary, columns=te.columns_)\n",
    "\n",
    "#frequent_itemsets = fpgrowth(df, min_support=0.6, use_colnames=True)\n",
    "### alternatively:\n",
    "frequent_itemsets = apriori(df, min_support=0.6, use_colnames=True)\n",
    "#frequent_itemsets = fpmax(df, min_support=0.6, use_colnames=True)\n",
    "\n",
    "frequent_itemsets"
   ]
  },
  {
   "cell_type": "code",
   "execution_count": 22,
   "id": "d78c8235-2354-413c-b493-bf9d300e7e14",
   "metadata": {},
   "outputs": [
    {
     "ename": "NameError",
     "evalue": "name 'association_rules' is not defined",
     "output_type": "error",
     "traceback": [
      "\u001b[0;31m---------------------------------------------------------------------------\u001b[0m",
      "\u001b[0;31mNameError\u001b[0m                                 Traceback (most recent call last)",
      "Cell \u001b[0;32mIn[22], line 1\u001b[0m\n\u001b[0;32m----> 1\u001b[0m rules \u001b[38;5;241m=\u001b[39m \u001b[43massociation_rules\u001b[49m(frequent_itemsets, metric\u001b[38;5;241m=\u001b[39m\u001b[38;5;124m\"\u001b[39m\u001b[38;5;124mlift\u001b[39m\u001b[38;5;124m\"\u001b[39m, min_threshold\u001b[38;5;241m=\u001b[39m\u001b[38;5;241m1.2\u001b[39m)\n\u001b[1;32m      2\u001b[0m rules\n",
      "\u001b[0;31mNameError\u001b[0m: name 'association_rules' is not defined"
     ]
    }
   ],
   "source": [
    "rules = association_rules(frequent_itemsets, metric=\"lift\", min_threshold=1.2)\n",
    "rules"
   ]
  },
  {
   "cell_type": "code",
   "execution_count": null,
   "id": "e4187c26-be47-4c6f-bbab-205c34480c9a",
   "metadata": {},
   "outputs": [],
   "source": []
  },
  {
   "cell_type": "code",
   "execution_count": null,
   "id": "004c7ff9-080a-45b5-accb-8295f22f411c",
   "metadata": {},
   "outputs": [],
   "source": []
  },
  {
   "cell_type": "code",
   "execution_count": null,
   "id": "5ca38a0e-611f-450a-8c3b-0e8ca310e22c",
   "metadata": {},
   "outputs": [],
   "source": []
  }
 ],
 "metadata": {
  "kernelspec": {
   "display_name": "Python 3 (ipykernel)",
   "language": "python",
   "name": "python3"
  },
  "language_info": {
   "codemirror_mode": {
    "name": "ipython",
    "version": 3
   },
   "file_extension": ".py",
   "mimetype": "text/x-python",
   "name": "python",
   "nbconvert_exporter": "python",
   "pygments_lexer": "ipython3",
   "version": "3.11.6"
  }
 },
 "nbformat": 4,
 "nbformat_minor": 5
}
